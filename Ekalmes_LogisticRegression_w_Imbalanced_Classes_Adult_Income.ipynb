{
  "nbformat": 4,
  "nbformat_minor": 0,
  "metadata": {
    "colab": {
      "name": "Zeke Kalmes 12.0.2.5 Classification - Logistic Regression w Imbalanced Classes - Exercise Adult Income.ipynb",
      "provenance": [],
      "collapsed_sections": [],
      "toc_visible": true,
      "include_colab_link": true
    },
    "kernelspec": {
      "name": "python3",
      "display_name": "Python 3"
    },
    "widgets": {
      "application/vnd.jupyter.widget-state+json": {
        "0df0b1e815814cecb9f1b09a8a6bfacd": {
          "model_module": "@jupyter-widgets/controls",
          "model_name": "TextModel",
          "state": {
            "_view_name": "TextView",
            "style": "IPY_MODEL_9d120033f1474b8da9762254bd6fc535",
            "_dom_classes": [],
            "description": "",
            "_model_name": "TextModel",
            "placeholder": "Enter your first name here",
            "_view_module": "@jupyter-widgets/controls",
            "_model_module_version": "1.5.0",
            "value": "Zeke",
            "_view_count": null,
            "disabled": false,
            "_view_module_version": "1.5.0",
            "continuous_update": true,
            "description_tooltip": null,
            "_model_module": "@jupyter-widgets/controls",
            "layout": "IPY_MODEL_4b9c433e1a2f4b3a8e7dd07e7b0ffe60"
          },
          "model_module_version": "1.5.0"
        },
        "9d120033f1474b8da9762254bd6fc535": {
          "model_module": "@jupyter-widgets/controls",
          "model_name": "DescriptionStyleModel",
          "state": {
            "_view_name": "StyleView",
            "_model_name": "DescriptionStyleModel",
            "description_width": "",
            "_view_module": "@jupyter-widgets/base",
            "_model_module_version": "1.5.0",
            "_view_count": null,
            "_view_module_version": "1.2.0",
            "_model_module": "@jupyter-widgets/controls"
          },
          "model_module_version": "1.5.0"
        },
        "4b9c433e1a2f4b3a8e7dd07e7b0ffe60": {
          "model_module": "@jupyter-widgets/base",
          "model_name": "LayoutModel",
          "state": {
            "_view_name": "LayoutView",
            "grid_template_rows": null,
            "right": null,
            "justify_content": null,
            "_view_module": "@jupyter-widgets/base",
            "overflow": null,
            "_model_module_version": "1.2.0",
            "_view_count": null,
            "flex_flow": null,
            "width": null,
            "min_width": null,
            "border": null,
            "align_items": null,
            "bottom": null,
            "_model_module": "@jupyter-widgets/base",
            "top": null,
            "grid_column": null,
            "overflow_y": null,
            "overflow_x": null,
            "grid_auto_flow": null,
            "grid_area": null,
            "grid_template_columns": null,
            "flex": null,
            "_model_name": "LayoutModel",
            "justify_items": null,
            "grid_row": null,
            "max_height": null,
            "align_content": null,
            "visibility": null,
            "align_self": null,
            "height": null,
            "min_height": null,
            "padding": null,
            "grid_auto_rows": null,
            "grid_gap": null,
            "max_width": null,
            "order": null,
            "_view_module_version": "1.2.0",
            "grid_template_areas": null,
            "object_position": null,
            "object_fit": null,
            "grid_auto_columns": null,
            "margin": null,
            "display": null,
            "left": null
          },
          "model_module_version": "1.2.0"
        },
        "02013652289d4247b4d181052387dc47": {
          "model_module": "@jupyter-widgets/controls",
          "model_name": "TextModel",
          "state": {
            "_view_name": "TextView",
            "style": "IPY_MODEL_f0c6d921939d4702b538f3569bfea1b2",
            "_dom_classes": [],
            "description": "",
            "_model_name": "TextModel",
            "placeholder": "Enter your last name here",
            "_view_module": "@jupyter-widgets/controls",
            "_model_module_version": "1.5.0",
            "value": "Kalmes",
            "_view_count": null,
            "disabled": false,
            "_view_module_version": "1.5.0",
            "continuous_update": true,
            "description_tooltip": null,
            "_model_module": "@jupyter-widgets/controls",
            "layout": "IPY_MODEL_1298b02cdfb6425d9ba3474a12370bee"
          },
          "model_module_version": "1.5.0"
        },
        "f0c6d921939d4702b538f3569bfea1b2": {
          "model_module": "@jupyter-widgets/controls",
          "model_name": "DescriptionStyleModel",
          "state": {
            "_view_name": "StyleView",
            "_model_name": "DescriptionStyleModel",
            "description_width": "",
            "_view_module": "@jupyter-widgets/base",
            "_model_module_version": "1.5.0",
            "_view_count": null,
            "_view_module_version": "1.2.0",
            "_model_module": "@jupyter-widgets/controls"
          },
          "model_module_version": "1.5.0"
        },
        "1298b02cdfb6425d9ba3474a12370bee": {
          "model_module": "@jupyter-widgets/base",
          "model_name": "LayoutModel",
          "state": {
            "_view_name": "LayoutView",
            "grid_template_rows": null,
            "right": null,
            "justify_content": null,
            "_view_module": "@jupyter-widgets/base",
            "overflow": null,
            "_model_module_version": "1.2.0",
            "_view_count": null,
            "flex_flow": null,
            "width": null,
            "min_width": null,
            "border": null,
            "align_items": null,
            "bottom": null,
            "_model_module": "@jupyter-widgets/base",
            "top": null,
            "grid_column": null,
            "overflow_y": null,
            "overflow_x": null,
            "grid_auto_flow": null,
            "grid_area": null,
            "grid_template_columns": null,
            "flex": null,
            "_model_name": "LayoutModel",
            "justify_items": null,
            "grid_row": null,
            "max_height": null,
            "align_content": null,
            "visibility": null,
            "align_self": null,
            "height": null,
            "min_height": null,
            "padding": null,
            "grid_auto_rows": null,
            "grid_gap": null,
            "max_width": null,
            "order": null,
            "_view_module_version": "1.2.0",
            "grid_template_areas": null,
            "object_position": null,
            "object_fit": null,
            "grid_auto_columns": null,
            "margin": null,
            "display": null,
            "left": null
          },
          "model_module_version": "1.2.0"
        },
        "cd4ac61d8aa54e1da75fc4ba07c5d2c1": {
          "model_module": "@jupyter-widgets/controls",
          "model_name": "ToggleButtonsModel",
          "state": {
            "_options_labels": [
              "Very Easy",
              "Somewhat Easy",
              "Neutral",
              "Somewhat Difficult",
              "Very Difficult"
            ],
            "_view_name": "ToggleButtonsView",
            "style": "IPY_MODEL_fcde198d73694b058da6129e54c2d994",
            "_dom_classes": [],
            "description": "",
            "_model_name": "ToggleButtonsModel",
            "tooltips": [],
            "index": 3,
            "button_style": "warning",
            "_view_module": "@jupyter-widgets/controls",
            "_model_module_version": "1.5.0",
            "_view_count": null,
            "disabled": false,
            "_view_module_version": "1.5.0",
            "icons": [],
            "description_tooltip": null,
            "_model_module": "@jupyter-widgets/controls",
            "layout": "IPY_MODEL_ea9f776d1b6d4b7f8b231817fb224cea"
          },
          "model_module_version": "1.5.0"
        },
        "fcde198d73694b058da6129e54c2d994": {
          "model_module": "@jupyter-widgets/controls",
          "model_name": "ToggleButtonsStyleModel",
          "state": {
            "_view_name": "StyleView",
            "button_width": "",
            "_model_name": "ToggleButtonsStyleModel",
            "description_width": "",
            "_view_module": "@jupyter-widgets/base",
            "_model_module_version": "1.5.0",
            "_view_count": null,
            "font_weight": "",
            "_view_module_version": "1.2.0",
            "_model_module": "@jupyter-widgets/controls"
          },
          "model_module_version": "1.5.0"
        },
        "ea9f776d1b6d4b7f8b231817fb224cea": {
          "model_module": "@jupyter-widgets/base",
          "model_name": "LayoutModel",
          "state": {
            "_view_name": "LayoutView",
            "grid_template_rows": null,
            "right": null,
            "justify_content": null,
            "_view_module": "@jupyter-widgets/base",
            "overflow": null,
            "_model_module_version": "1.2.0",
            "_view_count": null,
            "flex_flow": null,
            "width": null,
            "min_width": null,
            "border": null,
            "align_items": null,
            "bottom": null,
            "_model_module": "@jupyter-widgets/base",
            "top": null,
            "grid_column": null,
            "overflow_y": null,
            "overflow_x": null,
            "grid_auto_flow": null,
            "grid_area": null,
            "grid_template_columns": null,
            "flex": null,
            "_model_name": "LayoutModel",
            "justify_items": null,
            "grid_row": null,
            "max_height": null,
            "align_content": null,
            "visibility": null,
            "align_self": null,
            "height": null,
            "min_height": null,
            "padding": null,
            "grid_auto_rows": null,
            "grid_gap": null,
            "max_width": null,
            "order": null,
            "_view_module_version": "1.2.0",
            "grid_template_areas": null,
            "object_position": null,
            "object_fit": null,
            "grid_auto_columns": null,
            "margin": null,
            "display": null,
            "left": null
          },
          "model_module_version": "1.2.0"
        },
        "6814aab6eeee4158a848992e2d5f6aae": {
          "model_module": "@jupyter-widgets/controls",
          "model_name": "ToggleButtonsModel",
          "state": {
            "_options_labels": [
              "30 min or less",
              "31-60 min",
              "61-90 min",
              "91-120 min",
              "More than 2 hours"
            ],
            "_view_name": "ToggleButtonsView",
            "style": "IPY_MODEL_896cbe6e5c1a4d83b52a8e671448abdd",
            "_dom_classes": [],
            "description": "",
            "_model_name": "ToggleButtonsModel",
            "tooltips": [],
            "index": 4,
            "button_style": "warning",
            "_view_module": "@jupyter-widgets/controls",
            "_model_module_version": "1.5.0",
            "_view_count": null,
            "disabled": false,
            "_view_module_version": "1.5.0",
            "icons": [],
            "description_tooltip": null,
            "_model_module": "@jupyter-widgets/controls",
            "layout": "IPY_MODEL_a81b8db49f024606adca678d69a83e69"
          },
          "model_module_version": "1.5.0"
        },
        "896cbe6e5c1a4d83b52a8e671448abdd": {
          "model_module": "@jupyter-widgets/controls",
          "model_name": "ToggleButtonsStyleModel",
          "state": {
            "_view_name": "StyleView",
            "button_width": "",
            "_model_name": "ToggleButtonsStyleModel",
            "description_width": "",
            "_view_module": "@jupyter-widgets/base",
            "_model_module_version": "1.5.0",
            "_view_count": null,
            "font_weight": "",
            "_view_module_version": "1.2.0",
            "_model_module": "@jupyter-widgets/controls"
          },
          "model_module_version": "1.5.0"
        },
        "a81b8db49f024606adca678d69a83e69": {
          "model_module": "@jupyter-widgets/base",
          "model_name": "LayoutModel",
          "state": {
            "_view_name": "LayoutView",
            "grid_template_rows": null,
            "right": null,
            "justify_content": null,
            "_view_module": "@jupyter-widgets/base",
            "overflow": null,
            "_model_module_version": "1.2.0",
            "_view_count": null,
            "flex_flow": null,
            "width": null,
            "min_width": null,
            "border": null,
            "align_items": null,
            "bottom": null,
            "_model_module": "@jupyter-widgets/base",
            "top": null,
            "grid_column": null,
            "overflow_y": null,
            "overflow_x": null,
            "grid_auto_flow": null,
            "grid_area": null,
            "grid_template_columns": null,
            "flex": null,
            "_model_name": "LayoutModel",
            "justify_items": null,
            "grid_row": null,
            "max_height": null,
            "align_content": null,
            "visibility": null,
            "align_self": null,
            "height": null,
            "min_height": null,
            "padding": null,
            "grid_auto_rows": null,
            "grid_gap": null,
            "max_width": null,
            "order": null,
            "_view_module_version": "1.2.0",
            "grid_template_areas": null,
            "object_position": null,
            "object_fit": null,
            "grid_auto_columns": null,
            "margin": null,
            "display": null,
            "left": null
          },
          "model_module_version": "1.2.0"
        },
        "99a7cf1895e54824997079b888fe460f": {
          "model_module": "@jupyter-widgets/controls",
          "model_name": "TextareaModel",
          "state": {
            "_view_name": "TextareaView",
            "style": "IPY_MODEL_4bf6df2ce9fd48e08f6121e071fcf9f2",
            "rows": null,
            "_dom_classes": [],
            "description": "",
            "_model_name": "TextareaModel",
            "placeholder": "Enter your response here",
            "_view_module": "@jupyter-widgets/controls",
            "_model_module_version": "1.5.0",
            "value": "all of them",
            "_view_count": null,
            "disabled": false,
            "_view_module_version": "1.5.0",
            "continuous_update": true,
            "description_tooltip": null,
            "_model_module": "@jupyter-widgets/controls",
            "layout": "IPY_MODEL_a3d5af81c1a347e6846c257406c040fd"
          },
          "model_module_version": "1.5.0"
        },
        "4bf6df2ce9fd48e08f6121e071fcf9f2": {
          "model_module": "@jupyter-widgets/controls",
          "model_name": "DescriptionStyleModel",
          "state": {
            "_view_name": "StyleView",
            "_model_name": "DescriptionStyleModel",
            "description_width": "",
            "_view_module": "@jupyter-widgets/base",
            "_model_module_version": "1.5.0",
            "_view_count": null,
            "_view_module_version": "1.2.0",
            "_model_module": "@jupyter-widgets/controls"
          },
          "model_module_version": "1.5.0"
        },
        "a3d5af81c1a347e6846c257406c040fd": {
          "model_module": "@jupyter-widgets/base",
          "model_name": "LayoutModel",
          "state": {
            "_view_name": "LayoutView",
            "grid_template_rows": null,
            "right": null,
            "justify_content": null,
            "_view_module": "@jupyter-widgets/base",
            "overflow": null,
            "_model_module_version": "1.2.0",
            "_view_count": null,
            "flex_flow": null,
            "width": null,
            "min_width": null,
            "border": null,
            "align_items": null,
            "bottom": null,
            "_model_module": "@jupyter-widgets/base",
            "top": null,
            "grid_column": null,
            "overflow_y": null,
            "overflow_x": null,
            "grid_auto_flow": null,
            "grid_area": null,
            "grid_template_columns": null,
            "flex": null,
            "_model_name": "LayoutModel",
            "justify_items": null,
            "grid_row": null,
            "max_height": null,
            "align_content": null,
            "visibility": null,
            "align_self": null,
            "height": null,
            "min_height": null,
            "padding": null,
            "grid_auto_rows": null,
            "grid_gap": null,
            "max_width": null,
            "order": null,
            "_view_module_version": "1.2.0",
            "grid_template_areas": null,
            "object_position": null,
            "object_fit": null,
            "grid_auto_columns": null,
            "margin": null,
            "display": null,
            "left": null
          },
          "model_module_version": "1.2.0"
        },
        "3bd5426957474469a3be21fadc3d5c33": {
          "model_module": "@jupyter-widgets/controls",
          "model_name": "TextareaModel",
          "state": {
            "_view_name": "TextareaView",
            "style": "IPY_MODEL_92c0d670db9c43cbb748f2f63becc5cb",
            "rows": null,
            "_dom_classes": [],
            "description": "",
            "_model_name": "TextareaModel",
            "placeholder": "Enter your response here",
            "_view_module": "@jupyter-widgets/controls",
            "_model_module_version": "1.5.0",
            "value": "maybe understanding a bit more how to collapse columns. Don't know if I quite did it right. ",
            "_view_count": null,
            "disabled": false,
            "_view_module_version": "1.5.0",
            "continuous_update": true,
            "description_tooltip": null,
            "_model_module": "@jupyter-widgets/controls",
            "layout": "IPY_MODEL_0e15f0c49f964902becb5fd711578cf8"
          },
          "model_module_version": "1.5.0"
        },
        "92c0d670db9c43cbb748f2f63becc5cb": {
          "model_module": "@jupyter-widgets/controls",
          "model_name": "DescriptionStyleModel",
          "state": {
            "_view_name": "StyleView",
            "_model_name": "DescriptionStyleModel",
            "description_width": "",
            "_view_module": "@jupyter-widgets/base",
            "_model_module_version": "1.5.0",
            "_view_count": null,
            "_view_module_version": "1.2.0",
            "_model_module": "@jupyter-widgets/controls"
          },
          "model_module_version": "1.5.0"
        },
        "0e15f0c49f964902becb5fd711578cf8": {
          "model_module": "@jupyter-widgets/base",
          "model_name": "LayoutModel",
          "state": {
            "_view_name": "LayoutView",
            "grid_template_rows": null,
            "right": null,
            "justify_content": null,
            "_view_module": "@jupyter-widgets/base",
            "overflow": null,
            "_model_module_version": "1.2.0",
            "_view_count": null,
            "flex_flow": null,
            "width": null,
            "min_width": null,
            "border": null,
            "align_items": null,
            "bottom": null,
            "_model_module": "@jupyter-widgets/base",
            "top": null,
            "grid_column": null,
            "overflow_y": null,
            "overflow_x": null,
            "grid_auto_flow": null,
            "grid_area": null,
            "grid_template_columns": null,
            "flex": null,
            "_model_name": "LayoutModel",
            "justify_items": null,
            "grid_row": null,
            "max_height": null,
            "align_content": null,
            "visibility": null,
            "align_self": null,
            "height": null,
            "min_height": null,
            "padding": null,
            "grid_auto_rows": null,
            "grid_gap": null,
            "max_width": null,
            "order": null,
            "_view_module_version": "1.2.0",
            "grid_template_areas": null,
            "object_position": null,
            "object_fit": null,
            "grid_auto_columns": null,
            "margin": null,
            "display": null,
            "left": null
          },
          "model_module_version": "1.2.0"
        },
        "b126a45db43d4dc0aef36ccdb2a60e11": {
          "model_module": "@jupyter-widgets/controls",
          "model_name": "TextareaModel",
          "state": {
            "_view_name": "TextareaView",
            "style": "IPY_MODEL_bf1cbe9e27694c3f8908c58f3ce1a29c",
            "rows": null,
            "_dom_classes": [],
            "description": "",
            "_model_name": "TextareaModel",
            "placeholder": "Enter your response here",
            "_view_module": "@jupyter-widgets/controls",
            "_model_module_version": "1.5.0",
            "value": "N/A",
            "_view_count": null,
            "disabled": false,
            "_view_module_version": "1.5.0",
            "continuous_update": true,
            "description_tooltip": null,
            "_model_module": "@jupyter-widgets/controls",
            "layout": "IPY_MODEL_dfa6715baaf84091998873ceace8698c"
          },
          "model_module_version": "1.5.0"
        },
        "bf1cbe9e27694c3f8908c58f3ce1a29c": {
          "model_module": "@jupyter-widgets/controls",
          "model_name": "DescriptionStyleModel",
          "state": {
            "_view_name": "StyleView",
            "_model_name": "DescriptionStyleModel",
            "description_width": "",
            "_view_module": "@jupyter-widgets/base",
            "_model_module_version": "1.5.0",
            "_view_count": null,
            "_view_module_version": "1.2.0",
            "_model_module": "@jupyter-widgets/controls"
          },
          "model_module_version": "1.5.0"
        },
        "dfa6715baaf84091998873ceace8698c": {
          "model_module": "@jupyter-widgets/base",
          "model_name": "LayoutModel",
          "state": {
            "_view_name": "LayoutView",
            "grid_template_rows": null,
            "right": null,
            "justify_content": null,
            "_view_module": "@jupyter-widgets/base",
            "overflow": null,
            "_model_module_version": "1.2.0",
            "_view_count": null,
            "flex_flow": null,
            "width": null,
            "min_width": null,
            "border": null,
            "align_items": null,
            "bottom": null,
            "_model_module": "@jupyter-widgets/base",
            "top": null,
            "grid_column": null,
            "overflow_y": null,
            "overflow_x": null,
            "grid_auto_flow": null,
            "grid_area": null,
            "grid_template_columns": null,
            "flex": null,
            "_model_name": "LayoutModel",
            "justify_items": null,
            "grid_row": null,
            "max_height": null,
            "align_content": null,
            "visibility": null,
            "align_self": null,
            "height": null,
            "min_height": null,
            "padding": null,
            "grid_auto_rows": null,
            "grid_gap": null,
            "max_width": null,
            "order": null,
            "_view_module_version": "1.2.0",
            "grid_template_areas": null,
            "object_position": null,
            "object_fit": null,
            "grid_auto_columns": null,
            "margin": null,
            "display": null,
            "left": null
          },
          "model_module_version": "1.2.0"
        },
        "53ea78c48634470dad6cf452ace8c255": {
          "model_module": "@jupyter-widgets/controls",
          "model_name": "TextareaModel",
          "state": {
            "_view_name": "TextareaView",
            "style": "IPY_MODEL_c160759e90124b0a96988353fa41295a",
            "rows": null,
            "_dom_classes": [],
            "description": "",
            "_model_name": "TextareaModel",
            "placeholder": "Enter your response here",
            "_view_module": "@jupyter-widgets/controls",
            "_model_module_version": "1.5.0",
            "value": "N/A",
            "_view_count": null,
            "disabled": false,
            "_view_module_version": "1.5.0",
            "continuous_update": true,
            "description_tooltip": null,
            "_model_module": "@jupyter-widgets/controls",
            "layout": "IPY_MODEL_3b2fbaee772a46d691a37c55f8f6b750"
          },
          "model_module_version": "1.5.0"
        },
        "c160759e90124b0a96988353fa41295a": {
          "model_module": "@jupyter-widgets/controls",
          "model_name": "DescriptionStyleModel",
          "state": {
            "_view_name": "StyleView",
            "_model_name": "DescriptionStyleModel",
            "description_width": "",
            "_view_module": "@jupyter-widgets/base",
            "_model_module_version": "1.5.0",
            "_view_count": null,
            "_view_module_version": "1.2.0",
            "_model_module": "@jupyter-widgets/controls"
          },
          "model_module_version": "1.5.0"
        },
        "3b2fbaee772a46d691a37c55f8f6b750": {
          "model_module": "@jupyter-widgets/base",
          "model_name": "LayoutModel",
          "state": {
            "_view_name": "LayoutView",
            "grid_template_rows": null,
            "right": null,
            "justify_content": null,
            "_view_module": "@jupyter-widgets/base",
            "overflow": null,
            "_model_module_version": "1.2.0",
            "_view_count": null,
            "flex_flow": null,
            "width": null,
            "min_width": null,
            "border": null,
            "align_items": null,
            "bottom": null,
            "_model_module": "@jupyter-widgets/base",
            "top": null,
            "grid_column": null,
            "overflow_y": null,
            "overflow_x": null,
            "grid_auto_flow": null,
            "grid_area": null,
            "grid_template_columns": null,
            "flex": null,
            "_model_name": "LayoutModel",
            "justify_items": null,
            "grid_row": null,
            "max_height": null,
            "align_content": null,
            "visibility": null,
            "align_self": null,
            "height": null,
            "min_height": null,
            "padding": null,
            "grid_auto_rows": null,
            "grid_gap": null,
            "max_width": null,
            "order": null,
            "_view_module_version": "1.2.0",
            "grid_template_areas": null,
            "object_position": null,
            "object_fit": null,
            "grid_auto_columns": null,
            "margin": null,
            "display": null,
            "left": null
          },
          "model_module_version": "1.2.0"
        },
        "381ed0f7519c4511976618d947b9f965": {
          "model_module": "@jupyter-widgets/controls",
          "model_name": "TextareaModel",
          "state": {
            "_view_name": "TextareaView",
            "style": "IPY_MODEL_8544bd66655f41d7b9aa5952feaaeb04",
            "rows": null,
            "_dom_classes": [],
            "description": "",
            "_model_name": "TextareaModel",
            "placeholder": "Enter your response here",
            "_view_module": "@jupyter-widgets/controls",
            "_model_module_version": "1.5.0",
            "value": "https://colab.research.google.com/drive/1pxjwJMTGP-3stp3NRPOv8MQV3fBwN_La?usp=sharing",
            "_view_count": null,
            "disabled": false,
            "_view_module_version": "1.5.0",
            "continuous_update": true,
            "description_tooltip": null,
            "_model_module": "@jupyter-widgets/controls",
            "layout": "IPY_MODEL_d1ed051e9d834548a9ab1dd941a65f8c"
          },
          "model_module_version": "1.5.0"
        },
        "8544bd66655f41d7b9aa5952feaaeb04": {
          "model_module": "@jupyter-widgets/controls",
          "model_name": "DescriptionStyleModel",
          "state": {
            "_view_name": "StyleView",
            "_model_name": "DescriptionStyleModel",
            "description_width": "",
            "_view_module": "@jupyter-widgets/base",
            "_model_module_version": "1.5.0",
            "_view_count": null,
            "_view_module_version": "1.2.0",
            "_model_module": "@jupyter-widgets/controls"
          },
          "model_module_version": "1.5.0"
        },
        "d1ed051e9d834548a9ab1dd941a65f8c": {
          "model_module": "@jupyter-widgets/base",
          "model_name": "LayoutModel",
          "state": {
            "_view_name": "LayoutView",
            "grid_template_rows": null,
            "right": null,
            "justify_content": null,
            "_view_module": "@jupyter-widgets/base",
            "overflow": null,
            "_model_module_version": "1.2.0",
            "_view_count": null,
            "flex_flow": null,
            "width": null,
            "min_width": null,
            "border": null,
            "align_items": null,
            "bottom": null,
            "_model_module": "@jupyter-widgets/base",
            "top": null,
            "grid_column": null,
            "overflow_y": null,
            "overflow_x": null,
            "grid_auto_flow": null,
            "grid_area": null,
            "grid_template_columns": null,
            "flex": null,
            "_model_name": "LayoutModel",
            "justify_items": null,
            "grid_row": null,
            "max_height": null,
            "align_content": null,
            "visibility": null,
            "align_self": null,
            "height": null,
            "min_height": null,
            "padding": null,
            "grid_auto_rows": null,
            "grid_gap": null,
            "max_width": null,
            "order": null,
            "_view_module_version": "1.2.0",
            "grid_template_areas": null,
            "object_position": null,
            "object_fit": null,
            "grid_auto_columns": null,
            "margin": null,
            "display": null,
            "left": null
          },
          "model_module_version": "1.2.0"
        }
      }
    }
  },
  "cells": [
    {
      "cell_type": "markdown",
      "metadata": {
        "id": "view-in-github",
        "colab_type": "text"
      },
      "source": [
        "<a href=\"https://colab.research.google.com/github/ekalmes/Portfolio/blob/main/Zeke_Kalmes_12_0_2_5_Classification_Logistic_Regression_w_Imbalanced_Classes_Exercise_Adult_Income.ipynb\" target=\"_parent\"><img src=\"https://colab.research.google.com/assets/colab-badge.svg\" alt=\"Open In Colab\"/></a>"
      ]
    },
    {
      "cell_type": "markdown",
      "metadata": {
        "id": "XL4ls_P5BYw6"
      },
      "source": [
        "# Exercise - Logistic Regression - Adult Income\n",
        "by Zeke Kalmes and Brad Sheese\n",
        "\n",
        "* Create a notebook that uses logistic regression to examine predictors of adult income (Over 50k, Under 50k)\n",
        "* Begin by building a notebook that retrievs the data from the data source below\n",
        "* The data has been split into two files (test and train), get the data from both files, clean up the data then combine them back into a single file. We will create out own test and train data sets. \n",
        "* Use skLearn with model cross-validation\n",
        "* Do not specify a solver\n",
        "* Use the pandas `pd.get_dummies()` function to one hot encode features\n",
        "* Do not one hot encode binary features into two separate features\n",
        "* Normalize all continous predictors\n",
        "* Create a reduced model that has best results you can get with seven or fewer features\n",
        "* State your conlusion at the end of your notebook (bullet points are fine)\n",
        "\n",
        "\n",
        "\n",
        "\n",
        "\n",
        "\n"
      ]
    },
    {
      "cell_type": "code",
      "metadata": {
        "id": "VyAcn2d5lWZ-",
        "cellView": "form",
        "colab": {
          "base_uri": "https://localhost:8080/"
        },
        "outputId": "ad617b27-5050-47d7-ad70-392636e75943"
      },
      "source": [
        "#@title Getting started? Execute this cell first.\n",
        "#@markdown Click on the arrow to the left to execute this cell.\n",
        "\n",
        "# set exercise name here\n",
        "exercise_name = '12.0.2.5 LogRegress Imbalanced - Adult Income'\n",
        "\n",
        "import os\n",
        "import sys\n",
        "import math\n",
        "\n",
        "tool_path = '/content/cs125_tools/'\n",
        "\n",
        "if not os.path.exists(tool_path):\n",
        "  ! git clone --quiet https://github.com/bsheese/cs125_tools.git\n",
        "\n",
        "if tool_path not in sys.path:\n",
        "  sys.path.append(tool_path)\n",
        "\n",
        "import exercise_report_response\n",
        "\n",
        "exercise_report_response.exercise_time_difficulty_report(exercise_name)"
      ],
      "execution_count": null,
      "outputs": [
        {
          "output_type": "stream",
          "text": [
            "Done!\n"
          ],
          "name": "stdout"
        }
      ]
    },
    {
      "cell_type": "markdown",
      "metadata": {
        "id": "jMwlEmBI9ko8"
      },
      "source": [
        "## Data Source\n",
        "\n",
        "The data is [hosted at UCI](https://archive.ics.uci.edu/ml/datasets/adult).\n",
        "*   [Folder: Data files](https://archive.ics.uci.edu/ml/machine-learning-databases/adult/)\n",
        "\n",
        "\n",
        "\n",
        "\n",
        "---\n",
        "\n",
        "\n"
      ]
    },
    {
      "cell_type": "markdown",
      "metadata": {
        "id": "fY63C4kKwlXS"
      },
      "source": [
        "## Imports and Data\n"
      ]
    },
    {
      "cell_type": "markdown",
      "metadata": {
        "id": "iX3LBu6wRy5P"
      },
      "source": [
        "### Library Imports"
      ]
    },
    {
      "cell_type": "code",
      "metadata": {
        "id": "QwFe17DOLYc6"
      },
      "source": [
        "%%capture\n",
        "!pip install pingouin"
      ],
      "execution_count": null,
      "outputs": []
    },
    {
      "cell_type": "code",
      "metadata": {
        "id": "0U8dMB5tlwyy",
        "colab": {
          "base_uri": "https://localhost:8080/"
        },
        "outputId": "e794d888-df5c-4c43-b367-f702ce74656f"
      },
      "source": [
        "# enter and test your code here\n",
        "import pingouin as pg\n",
        "import pandas as pd\n",
        "import seaborn as sns\n",
        "from matplotlib import style\n",
        "import matplotlib.pyplot as plt\n",
        "import urllib.request as request\n",
        "import numpy as np \n",
        "\n",
        "from sklearn.model_selection import train_test_split\n",
        "from sklearn import linear_model\n",
        "from sklearn.linear_model import LinearRegression\n",
        "from sklearn.linear_model import LogisticRegression\n",
        "from sklearn.metrics import classification_report\n",
        "from sklearn.metrics import confusion_matrix\n",
        "from sklearn.metrics import mean_squared_error, r2_score\n",
        "from sklearn.metrics import accuracy_score\n",
        "\n",
        "import statsmodels.api as sm"
      ],
      "execution_count": null,
      "outputs": [
        {
          "output_type": "stream",
          "text": [
            "/usr/local/lib/python3.6/dist-packages/statsmodels/tools/_testing.py:19: FutureWarning: pandas.util.testing is deprecated. Use the functions in the public API at pandas.testing instead.\n",
            "  import pandas.util.testing as tm\n"
          ],
          "name": "stderr"
        }
      ]
    },
    {
      "cell_type": "markdown",
      "metadata": {
        "id": "nZdp9Xi7Lplq"
      },
      "source": [
        "### Helper Functions\n",
        "These functions were provided by Prof. Sheese in previous exercises. "
      ]
    },
    {
      "cell_type": "code",
      "metadata": {
        "id": "2sUb8751L1QV"
      },
      "source": [
        "def print_parameter_coefficients(parameter_estimates):\n",
        "  '''\n",
        "  takes a fitted model and set of features (X)\n",
        "  prints model parameter coefficients\n",
        "  '''\n",
        "  print('The parameter coefficients are:\\n')\n",
        "\n",
        "  for a in parameter_estimates:\n",
        "    coefficient = round(a[1], 4)\n",
        "    print(f'\\t{a[0]}: {coefficient}')\n",
        "  print()\n",
        "\n",
        "def print_classification_report(predictions, y_test):\n",
        "  '''\n",
        "  prints classifications report of predictions\n",
        "  takes fitted model, X_test and y_test\n",
        "  '''\n",
        "  # classification report\n",
        "  print('\\nClassification Report:\\n')\n",
        "  print(classification_report(y_test, predictions))\n",
        "  print()\n",
        "\n",
        "def print_confusion_matrix(y_test, predictions, condition1, condition2):\n",
        "  # confusion matrix\n",
        "  c_matrix = confusion_matrix(y_test, predictions)\n",
        "  print('Confusion Matrix:\\n')\n",
        "  print('\\tOur logistic regression model predicted the following when applied to the test data:\\n')\n",
        "  print(f'\\tIt correctly predicted {c_matrix[0][0]} of {c_matrix[0][0] + c_matrix[0][1]} {condition1}, \\n \\\n",
        "          but incorrectly predicted {c_matrix[0][1]} {condition1} that did not occur.\\n')\n",
        "  print(f'\\tIt correctly predicted {c_matrix[1][1]} of {c_matrix[1][0] + c_matrix[1][1]} {condition2}, \\n \\\n",
        "          but incorrectly predicted {c_matrix[1][0]} {condition2} that did not occur.\\n')\n",
        "  \n",
        "\n",
        "  \n",
        "def print_model_reports(logmodel, predictions, y_test, condition1, condition2,\n",
        "                        parameter_report=False,\n",
        "                        odds_ratio_report=True):\n",
        "  \n",
        "  #print accuracy\n",
        "  accuracy = accuracy_score(y_test, predictions)\n",
        "  print('Prediction accuracy: ', accuracy)\n",
        "  \n",
        "  # report y intercept \n",
        "  print(f'The y-intercept of our model is {logmodel.intercept_[0].round(4)}')\n",
        "  print()\n",
        "\n",
        "  # print parameters, classification report, confusion matrix\n",
        "  if parameter_report == True:\n",
        "    print_parameter_coefficients(parameter_estimates)\n",
        "  print_classification_report(predictions, y_test)\n",
        "  print_confusion_matrix(y_test, predictions, condition1, condition2)\n",
        "\n",
        "  #print odds ratios\n",
        "  if odds_ratio_report == True:\n",
        "    print('The odds ratios are:')\n",
        "    for a in parameter_estimates:\n",
        "      oddsratio = np.exp(a[1]).round(2)\n",
        "      print(f'{a[0]}: {oddsratio}')"
      ],
      "execution_count": null,
      "outputs": []
    },
    {
      "cell_type": "markdown",
      "metadata": {
        "id": "C11oeVC9R34D"
      },
      "source": [
        "### Data Import and Manipulation"
      ]
    },
    {
      "cell_type": "code",
      "metadata": {
        "id": "K0_QZ6evTj39"
      },
      "source": [
        "# imports and functions for authenticating google account\n",
        "# Install the PyDrive wrapper & import libraries.\n",
        "# This only needs to be done once per notebook.\n",
        "!pip install -U -q PyDrive\n",
        "import os\n",
        "from pydrive.auth import GoogleAuth\n",
        "from pydrive.drive import GoogleDrive\n",
        "from google.colab import auth\n",
        "from oauth2client.client import GoogleCredentials\n",
        "\n",
        "auth.authenticate_user()\n",
        "gauth = GoogleAuth()\n",
        "gauth.credentials = GoogleCredentials.get_application_default()\n",
        "drive = GoogleDrive(gauth)\n",
        "\n",
        "#id of train file in google drive\n",
        "file_id = '1lf-oMxJXfMRCHsyKRGWWRbXdZzesHujo'\n",
        "downloaded = drive.CreateFile({'id': file_id})\n",
        "\n",
        "test_id = '1xVVjx0bI0YjiWJ9p_YmE0EZBd2jYO3og'\n",
        "downloaded2 = drive.CreateFile({'id': test_id})\n"
      ],
      "execution_count": null,
      "outputs": []
    },
    {
      "cell_type": "code",
      "metadata": {
        "id": "QKyZi_8-UsFe"
      },
      "source": [
        "#user must download files into notebook \n",
        "downloaded.GetContentFile('adult.data')\n",
        "downloaded2.GetContentFile('adult.test')"
      ],
      "execution_count": null,
      "outputs": []
    },
    {
      "cell_type": "code",
      "metadata": {
        "colab": {
          "base_uri": "https://localhost:8080/"
        },
        "id": "UOOm0weGU8EZ",
        "outputId": "da57d7cb-3bc5-47c9-8b92-4944e94da99f"
      },
      "source": [
        "!ls -lha adult.data"
      ],
      "execution_count": null,
      "outputs": [
        {
          "output_type": "stream",
          "text": [
            "-rw-r--r-- 1 root root 3.8M Nov 30 00:39 adult.data\n"
          ],
          "name": "stdout"
        }
      ]
    },
    {
      "cell_type": "code",
      "metadata": {
        "colab": {
          "base_uri": "https://localhost:8080/"
        },
        "id": "2v5W37I0U9w_",
        "outputId": "b1bc1b82-6463-40e2-8b13-7ff5816203f0"
      },
      "source": [
        "!ls -lha adult.test"
      ],
      "execution_count": null,
      "outputs": [
        {
          "output_type": "stream",
          "text": [
            "-rw-r--r-- 1 root root 2.0M Nov 30 00:39 adult.test\n"
          ],
          "name": "stdout"
        }
      ]
    },
    {
      "cell_type": "code",
      "metadata": {
        "colab": {
          "base_uri": "https://localhost:8080/",
          "height": 289
        },
        "id": "gG8TcHGDQzNz",
        "outputId": "4103770e-b820-4b8d-f15b-66e0cf4f8760"
      },
      "source": [
        "# import the training and test datasets\n",
        "df_adultdata = pd.read_csv('adult.data', sep=',', header=None)\n",
        "df_adulttest = pd.read_csv('adult.test', sep=',', header=None, skiprows=1)\n",
        "\n",
        "#concat these, ignore the index\n",
        "df = pd.concat([df_adultdata, df_adulttest], ignore_index=True)\n",
        "df.head()"
      ],
      "execution_count": null,
      "outputs": [
        {
          "output_type": "execute_result",
          "data": {
            "text/html": [
              "<div>\n",
              "<style scoped>\n",
              "    .dataframe tbody tr th:only-of-type {\n",
              "        vertical-align: middle;\n",
              "    }\n",
              "\n",
              "    .dataframe tbody tr th {\n",
              "        vertical-align: top;\n",
              "    }\n",
              "\n",
              "    .dataframe thead th {\n",
              "        text-align: right;\n",
              "    }\n",
              "</style>\n",
              "<table border=\"1\" class=\"dataframe\">\n",
              "  <thead>\n",
              "    <tr style=\"text-align: right;\">\n",
              "      <th></th>\n",
              "      <th>0</th>\n",
              "      <th>1</th>\n",
              "      <th>2</th>\n",
              "      <th>3</th>\n",
              "      <th>4</th>\n",
              "      <th>5</th>\n",
              "      <th>6</th>\n",
              "      <th>7</th>\n",
              "      <th>8</th>\n",
              "      <th>9</th>\n",
              "      <th>10</th>\n",
              "      <th>11</th>\n",
              "      <th>12</th>\n",
              "      <th>13</th>\n",
              "      <th>14</th>\n",
              "    </tr>\n",
              "  </thead>\n",
              "  <tbody>\n",
              "    <tr>\n",
              "      <th>0</th>\n",
              "      <td>39</td>\n",
              "      <td>State-gov</td>\n",
              "      <td>77516</td>\n",
              "      <td>Bachelors</td>\n",
              "      <td>13</td>\n",
              "      <td>Never-married</td>\n",
              "      <td>Adm-clerical</td>\n",
              "      <td>Not-in-family</td>\n",
              "      <td>White</td>\n",
              "      <td>Male</td>\n",
              "      <td>2174</td>\n",
              "      <td>0</td>\n",
              "      <td>40</td>\n",
              "      <td>United-States</td>\n",
              "      <td>&lt;=50K</td>\n",
              "    </tr>\n",
              "    <tr>\n",
              "      <th>1</th>\n",
              "      <td>50</td>\n",
              "      <td>Self-emp-not-inc</td>\n",
              "      <td>83311</td>\n",
              "      <td>Bachelors</td>\n",
              "      <td>13</td>\n",
              "      <td>Married-civ-spouse</td>\n",
              "      <td>Exec-managerial</td>\n",
              "      <td>Husband</td>\n",
              "      <td>White</td>\n",
              "      <td>Male</td>\n",
              "      <td>0</td>\n",
              "      <td>0</td>\n",
              "      <td>13</td>\n",
              "      <td>United-States</td>\n",
              "      <td>&lt;=50K</td>\n",
              "    </tr>\n",
              "    <tr>\n",
              "      <th>2</th>\n",
              "      <td>38</td>\n",
              "      <td>Private</td>\n",
              "      <td>215646</td>\n",
              "      <td>HS-grad</td>\n",
              "      <td>9</td>\n",
              "      <td>Divorced</td>\n",
              "      <td>Handlers-cleaners</td>\n",
              "      <td>Not-in-family</td>\n",
              "      <td>White</td>\n",
              "      <td>Male</td>\n",
              "      <td>0</td>\n",
              "      <td>0</td>\n",
              "      <td>40</td>\n",
              "      <td>United-States</td>\n",
              "      <td>&lt;=50K</td>\n",
              "    </tr>\n",
              "    <tr>\n",
              "      <th>3</th>\n",
              "      <td>53</td>\n",
              "      <td>Private</td>\n",
              "      <td>234721</td>\n",
              "      <td>11th</td>\n",
              "      <td>7</td>\n",
              "      <td>Married-civ-spouse</td>\n",
              "      <td>Handlers-cleaners</td>\n",
              "      <td>Husband</td>\n",
              "      <td>Black</td>\n",
              "      <td>Male</td>\n",
              "      <td>0</td>\n",
              "      <td>0</td>\n",
              "      <td>40</td>\n",
              "      <td>United-States</td>\n",
              "      <td>&lt;=50K</td>\n",
              "    </tr>\n",
              "    <tr>\n",
              "      <th>4</th>\n",
              "      <td>28</td>\n",
              "      <td>Private</td>\n",
              "      <td>338409</td>\n",
              "      <td>Bachelors</td>\n",
              "      <td>13</td>\n",
              "      <td>Married-civ-spouse</td>\n",
              "      <td>Prof-specialty</td>\n",
              "      <td>Wife</td>\n",
              "      <td>Black</td>\n",
              "      <td>Female</td>\n",
              "      <td>0</td>\n",
              "      <td>0</td>\n",
              "      <td>40</td>\n",
              "      <td>Cuba</td>\n",
              "      <td>&lt;=50K</td>\n",
              "    </tr>\n",
              "  </tbody>\n",
              "</table>\n",
              "</div>"
            ],
            "text/plain": [
              "   0                  1       2           3   ...  11  12              13      14\n",
              "0  39          State-gov   77516   Bachelors  ...   0  40   United-States   <=50K\n",
              "1  50   Self-emp-not-inc   83311   Bachelors  ...   0  13   United-States   <=50K\n",
              "2  38            Private  215646     HS-grad  ...   0  40   United-States   <=50K\n",
              "3  53            Private  234721        11th  ...   0  40   United-States   <=50K\n",
              "4  28            Private  338409   Bachelors  ...   0  40            Cuba   <=50K\n",
              "\n",
              "[5 rows x 15 columns]"
            ]
          },
          "metadata": {
            "tags": []
          },
          "execution_count": 9
        }
      ]
    },
    {
      "cell_type": "markdown",
      "metadata": {
        "id": "itSnDq_INxmx"
      },
      "source": [
        "Need to rename columns, as they were not inherited in the import. "
      ]
    },
    {
      "cell_type": "code",
      "metadata": {
        "colab": {
          "base_uri": "https://localhost:8080/",
          "height": 343
        },
        "id": "b1U5Keo1N4JO",
        "outputId": "5f2273c4-3ec7-4b28-c7e5-4b512188789e"
      },
      "source": [
        "df.columns = ['age', 'workclass', 'fnlwgt', 'education', 'education-num', 'marital-status', 'occupation', 'relationship', 'race', 'sex', 'capital-gain', 'capital-loss', 'hours-per-week', 'native-country', 'income']\n",
        "df.head()"
      ],
      "execution_count": null,
      "outputs": [
        {
          "output_type": "execute_result",
          "data": {
            "text/html": [
              "<div>\n",
              "<style scoped>\n",
              "    .dataframe tbody tr th:only-of-type {\n",
              "        vertical-align: middle;\n",
              "    }\n",
              "\n",
              "    .dataframe tbody tr th {\n",
              "        vertical-align: top;\n",
              "    }\n",
              "\n",
              "    .dataframe thead th {\n",
              "        text-align: right;\n",
              "    }\n",
              "</style>\n",
              "<table border=\"1\" class=\"dataframe\">\n",
              "  <thead>\n",
              "    <tr style=\"text-align: right;\">\n",
              "      <th></th>\n",
              "      <th>age</th>\n",
              "      <th>workclass</th>\n",
              "      <th>fnlwgt</th>\n",
              "      <th>education</th>\n",
              "      <th>education-num</th>\n",
              "      <th>marital-status</th>\n",
              "      <th>occupation</th>\n",
              "      <th>relationship</th>\n",
              "      <th>race</th>\n",
              "      <th>sex</th>\n",
              "      <th>capital-gain</th>\n",
              "      <th>capital-loss</th>\n",
              "      <th>hours-per-week</th>\n",
              "      <th>native-country</th>\n",
              "      <th>income</th>\n",
              "    </tr>\n",
              "  </thead>\n",
              "  <tbody>\n",
              "    <tr>\n",
              "      <th>0</th>\n",
              "      <td>39</td>\n",
              "      <td>State-gov</td>\n",
              "      <td>77516</td>\n",
              "      <td>Bachelors</td>\n",
              "      <td>13</td>\n",
              "      <td>Never-married</td>\n",
              "      <td>Adm-clerical</td>\n",
              "      <td>Not-in-family</td>\n",
              "      <td>White</td>\n",
              "      <td>Male</td>\n",
              "      <td>2174</td>\n",
              "      <td>0</td>\n",
              "      <td>40</td>\n",
              "      <td>United-States</td>\n",
              "      <td>&lt;=50K</td>\n",
              "    </tr>\n",
              "    <tr>\n",
              "      <th>1</th>\n",
              "      <td>50</td>\n",
              "      <td>Self-emp-not-inc</td>\n",
              "      <td>83311</td>\n",
              "      <td>Bachelors</td>\n",
              "      <td>13</td>\n",
              "      <td>Married-civ-spouse</td>\n",
              "      <td>Exec-managerial</td>\n",
              "      <td>Husband</td>\n",
              "      <td>White</td>\n",
              "      <td>Male</td>\n",
              "      <td>0</td>\n",
              "      <td>0</td>\n",
              "      <td>13</td>\n",
              "      <td>United-States</td>\n",
              "      <td>&lt;=50K</td>\n",
              "    </tr>\n",
              "    <tr>\n",
              "      <th>2</th>\n",
              "      <td>38</td>\n",
              "      <td>Private</td>\n",
              "      <td>215646</td>\n",
              "      <td>HS-grad</td>\n",
              "      <td>9</td>\n",
              "      <td>Divorced</td>\n",
              "      <td>Handlers-cleaners</td>\n",
              "      <td>Not-in-family</td>\n",
              "      <td>White</td>\n",
              "      <td>Male</td>\n",
              "      <td>0</td>\n",
              "      <td>0</td>\n",
              "      <td>40</td>\n",
              "      <td>United-States</td>\n",
              "      <td>&lt;=50K</td>\n",
              "    </tr>\n",
              "    <tr>\n",
              "      <th>3</th>\n",
              "      <td>53</td>\n",
              "      <td>Private</td>\n",
              "      <td>234721</td>\n",
              "      <td>11th</td>\n",
              "      <td>7</td>\n",
              "      <td>Married-civ-spouse</td>\n",
              "      <td>Handlers-cleaners</td>\n",
              "      <td>Husband</td>\n",
              "      <td>Black</td>\n",
              "      <td>Male</td>\n",
              "      <td>0</td>\n",
              "      <td>0</td>\n",
              "      <td>40</td>\n",
              "      <td>United-States</td>\n",
              "      <td>&lt;=50K</td>\n",
              "    </tr>\n",
              "    <tr>\n",
              "      <th>4</th>\n",
              "      <td>28</td>\n",
              "      <td>Private</td>\n",
              "      <td>338409</td>\n",
              "      <td>Bachelors</td>\n",
              "      <td>13</td>\n",
              "      <td>Married-civ-spouse</td>\n",
              "      <td>Prof-specialty</td>\n",
              "      <td>Wife</td>\n",
              "      <td>Black</td>\n",
              "      <td>Female</td>\n",
              "      <td>0</td>\n",
              "      <td>0</td>\n",
              "      <td>40</td>\n",
              "      <td>Cuba</td>\n",
              "      <td>&lt;=50K</td>\n",
              "    </tr>\n",
              "  </tbody>\n",
              "</table>\n",
              "</div>"
            ],
            "text/plain": [
              "   age          workclass  fnlwgt  ... hours-per-week  native-country  income\n",
              "0   39          State-gov   77516  ...             40   United-States   <=50K\n",
              "1   50   Self-emp-not-inc   83311  ...             13   United-States   <=50K\n",
              "2   38            Private  215646  ...             40   United-States   <=50K\n",
              "3   53            Private  234721  ...             40   United-States   <=50K\n",
              "4   28            Private  338409  ...             40            Cuba   <=50K\n",
              "\n",
              "[5 rows x 15 columns]"
            ]
          },
          "metadata": {
            "tags": []
          },
          "execution_count": 10
        }
      ]
    },
    {
      "cell_type": "code",
      "metadata": {
        "colab": {
          "base_uri": "https://localhost:8080/"
        },
        "id": "lLH4xrLMRDGz",
        "outputId": "c726a970-fbcd-4200-cf1e-30f6768d26a6"
      },
      "source": [
        "df.info()"
      ],
      "execution_count": null,
      "outputs": [
        {
          "output_type": "stream",
          "text": [
            "<class 'pandas.core.frame.DataFrame'>\n",
            "RangeIndex: 48842 entries, 0 to 48841\n",
            "Data columns (total 15 columns):\n",
            " #   Column          Non-Null Count  Dtype \n",
            "---  ------          --------------  ----- \n",
            " 0   age             48842 non-null  int64 \n",
            " 1   workclass       48842 non-null  object\n",
            " 2   fnlwgt          48842 non-null  int64 \n",
            " 3   education       48842 non-null  object\n",
            " 4   education-num   48842 non-null  int64 \n",
            " 5   marital-status  48842 non-null  object\n",
            " 6   occupation      48842 non-null  object\n",
            " 7   relationship    48842 non-null  object\n",
            " 8   race            48842 non-null  object\n",
            " 9   sex             48842 non-null  object\n",
            " 10  capital-gain    48842 non-null  int64 \n",
            " 11  capital-loss    48842 non-null  int64 \n",
            " 12  hours-per-week  48842 non-null  int64 \n",
            " 13  native-country  48842 non-null  object\n",
            " 14  income          48842 non-null  object\n",
            "dtypes: int64(6), object(9)\n",
            "memory usage: 5.6+ MB\n"
          ],
          "name": "stdout"
        }
      ]
    },
    {
      "cell_type": "markdown",
      "metadata": {
        "id": "6zhNCeXxRCtu"
      },
      "source": [
        "No null's are present, so don't need to drop any nulls. Prof. Sheese recommended dropping the fnlwgt column as well as duplicate rows, so that will be done now. "
      ]
    },
    {
      "cell_type": "code",
      "metadata": {
        "colab": {
          "base_uri": "https://localhost:8080/"
        },
        "id": "vF3mcxkhSNJs",
        "outputId": "5857b8f1-ca0b-4cc7-f65d-0018b3a09c6e"
      },
      "source": [
        "df = df.drop(columns='fnlwgt')\n",
        "df = df.drop_duplicates()\n",
        "df.info()"
      ],
      "execution_count": null,
      "outputs": [
        {
          "output_type": "stream",
          "text": [
            "<class 'pandas.core.frame.DataFrame'>\n",
            "Int64Index: 44355 entries, 0 to 48841\n",
            "Data columns (total 14 columns):\n",
            " #   Column          Non-Null Count  Dtype \n",
            "---  ------          --------------  ----- \n",
            " 0   age             44355 non-null  int64 \n",
            " 1   workclass       44355 non-null  object\n",
            " 2   education       44355 non-null  object\n",
            " 3   education-num   44355 non-null  int64 \n",
            " 4   marital-status  44355 non-null  object\n",
            " 5   occupation      44355 non-null  object\n",
            " 6   relationship    44355 non-null  object\n",
            " 7   race            44355 non-null  object\n",
            " 8   sex             44355 non-null  object\n",
            " 9   capital-gain    44355 non-null  int64 \n",
            " 10  capital-loss    44355 non-null  int64 \n",
            " 11  hours-per-week  44355 non-null  int64 \n",
            " 12  native-country  44355 non-null  object\n",
            " 13  income          44355 non-null  object\n",
            "dtypes: int64(5), object(9)\n",
            "memory usage: 5.1+ MB\n"
          ],
          "name": "stdout"
        }
      ]
    },
    {
      "cell_type": "markdown",
      "metadata": {
        "id": "m6Gqw7GnSkEJ"
      },
      "source": [
        "As we can see, this dropped just over 4000 duplicate rows, and also got rid of the fnlwgt column. Also, there were unnecessary periods in the income column of one of the df, so these need to be removed. "
      ]
    },
    {
      "cell_type": "code",
      "metadata": {
        "id": "4CjGi3a8UAI6"
      },
      "source": [
        "df['income'] = df['income'].str.rstrip('.') # https://stackoverflow.com/questions/37001787/remove-ends-of-string-entries-in-pandas-dataframe-column"
      ],
      "execution_count": null,
      "outputs": []
    },
    {
      "cell_type": "markdown",
      "metadata": {
        "id": "CbBb9H7WUXcD"
      },
      "source": [
        "Now, we need to look at the number of unique values for each column. "
      ]
    },
    {
      "cell_type": "code",
      "metadata": {
        "colab": {
          "base_uri": "https://localhost:8080/"
        },
        "id": "f28AHRrMUcKr",
        "outputId": "76defb49-a78d-453d-b181-801b38da8900"
      },
      "source": [
        "df.nunique()"
      ],
      "execution_count": null,
      "outputs": [
        {
          "output_type": "execute_result",
          "data": {
            "text/plain": [
              "age                74\n",
              "workclass           9\n",
              "education          16\n",
              "education-num      16\n",
              "marital-status      7\n",
              "occupation         15\n",
              "relationship        6\n",
              "race                5\n",
              "sex                 2\n",
              "capital-gain      123\n",
              "capital-loss       99\n",
              "hours-per-week     96\n",
              "native-country     42\n",
              "income              2\n",
              "dtype: int64"
            ]
          },
          "metadata": {
            "tags": []
          },
          "execution_count": 14
        }
      ]
    },
    {
      "cell_type": "markdown",
      "metadata": {
        "id": "VpwMwFNIULb9"
      },
      "source": [
        "The variables with only 2 unique values (sex, income) need to be binary encoded. "
      ]
    },
    {
      "cell_type": "code",
      "metadata": {
        "id": "VzxSbnnmVNLB"
      },
      "source": [
        "sex_num = {' Male': 0, ' Female': 1} \n",
        "income_num = {' <=50K': 0, ' >50K': 1}"
      ],
      "execution_count": null,
      "outputs": []
    },
    {
      "cell_type": "markdown",
      "metadata": {
        "id": "i26IXQ5PVVnd"
      },
      "source": [
        "This creates new variables, now need to map these variables to their respective columns. These will replace the values that are already there. "
      ]
    },
    {
      "cell_type": "code",
      "metadata": {
        "id": "exk0SUDRVfaq"
      },
      "source": [
        "df.sex = [sex_num[i] for i in df.sex]  # changing male to 0 and female to 1 \n",
        "df.income = [income_num[i] for i in df.income] # changing <=50k to 0 and >50k to 1"
      ],
      "execution_count": null,
      "outputs": []
    },
    {
      "cell_type": "code",
      "metadata": {
        "colab": {
          "base_uri": "https://localhost:8080/",
          "height": 600
        },
        "id": "mWbSxsDEWbbU",
        "outputId": "aa505d1a-9b32-4d90-def2-0feceddabff4"
      },
      "source": [
        "df.head(10)"
      ],
      "execution_count": null,
      "outputs": [
        {
          "output_type": "execute_result",
          "data": {
            "text/html": [
              "<div>\n",
              "<style scoped>\n",
              "    .dataframe tbody tr th:only-of-type {\n",
              "        vertical-align: middle;\n",
              "    }\n",
              "\n",
              "    .dataframe tbody tr th {\n",
              "        vertical-align: top;\n",
              "    }\n",
              "\n",
              "    .dataframe thead th {\n",
              "        text-align: right;\n",
              "    }\n",
              "</style>\n",
              "<table border=\"1\" class=\"dataframe\">\n",
              "  <thead>\n",
              "    <tr style=\"text-align: right;\">\n",
              "      <th></th>\n",
              "      <th>age</th>\n",
              "      <th>workclass</th>\n",
              "      <th>education</th>\n",
              "      <th>education-num</th>\n",
              "      <th>marital-status</th>\n",
              "      <th>occupation</th>\n",
              "      <th>relationship</th>\n",
              "      <th>race</th>\n",
              "      <th>sex</th>\n",
              "      <th>capital-gain</th>\n",
              "      <th>capital-loss</th>\n",
              "      <th>hours-per-week</th>\n",
              "      <th>native-country</th>\n",
              "      <th>income</th>\n",
              "    </tr>\n",
              "  </thead>\n",
              "  <tbody>\n",
              "    <tr>\n",
              "      <th>0</th>\n",
              "      <td>39</td>\n",
              "      <td>State-gov</td>\n",
              "      <td>Bachelors</td>\n",
              "      <td>13</td>\n",
              "      <td>Never-married</td>\n",
              "      <td>Adm-clerical</td>\n",
              "      <td>Not-in-family</td>\n",
              "      <td>White</td>\n",
              "      <td>0</td>\n",
              "      <td>2174</td>\n",
              "      <td>0</td>\n",
              "      <td>40</td>\n",
              "      <td>United-States</td>\n",
              "      <td>0</td>\n",
              "    </tr>\n",
              "    <tr>\n",
              "      <th>1</th>\n",
              "      <td>50</td>\n",
              "      <td>Self-emp-not-inc</td>\n",
              "      <td>Bachelors</td>\n",
              "      <td>13</td>\n",
              "      <td>Married-civ-spouse</td>\n",
              "      <td>Exec-managerial</td>\n",
              "      <td>Husband</td>\n",
              "      <td>White</td>\n",
              "      <td>0</td>\n",
              "      <td>0</td>\n",
              "      <td>0</td>\n",
              "      <td>13</td>\n",
              "      <td>United-States</td>\n",
              "      <td>0</td>\n",
              "    </tr>\n",
              "    <tr>\n",
              "      <th>2</th>\n",
              "      <td>38</td>\n",
              "      <td>Private</td>\n",
              "      <td>HS-grad</td>\n",
              "      <td>9</td>\n",
              "      <td>Divorced</td>\n",
              "      <td>Handlers-cleaners</td>\n",
              "      <td>Not-in-family</td>\n",
              "      <td>White</td>\n",
              "      <td>0</td>\n",
              "      <td>0</td>\n",
              "      <td>0</td>\n",
              "      <td>40</td>\n",
              "      <td>United-States</td>\n",
              "      <td>0</td>\n",
              "    </tr>\n",
              "    <tr>\n",
              "      <th>3</th>\n",
              "      <td>53</td>\n",
              "      <td>Private</td>\n",
              "      <td>11th</td>\n",
              "      <td>7</td>\n",
              "      <td>Married-civ-spouse</td>\n",
              "      <td>Handlers-cleaners</td>\n",
              "      <td>Husband</td>\n",
              "      <td>Black</td>\n",
              "      <td>0</td>\n",
              "      <td>0</td>\n",
              "      <td>0</td>\n",
              "      <td>40</td>\n",
              "      <td>United-States</td>\n",
              "      <td>0</td>\n",
              "    </tr>\n",
              "    <tr>\n",
              "      <th>4</th>\n",
              "      <td>28</td>\n",
              "      <td>Private</td>\n",
              "      <td>Bachelors</td>\n",
              "      <td>13</td>\n",
              "      <td>Married-civ-spouse</td>\n",
              "      <td>Prof-specialty</td>\n",
              "      <td>Wife</td>\n",
              "      <td>Black</td>\n",
              "      <td>1</td>\n",
              "      <td>0</td>\n",
              "      <td>0</td>\n",
              "      <td>40</td>\n",
              "      <td>Cuba</td>\n",
              "      <td>0</td>\n",
              "    </tr>\n",
              "    <tr>\n",
              "      <th>5</th>\n",
              "      <td>37</td>\n",
              "      <td>Private</td>\n",
              "      <td>Masters</td>\n",
              "      <td>14</td>\n",
              "      <td>Married-civ-spouse</td>\n",
              "      <td>Exec-managerial</td>\n",
              "      <td>Wife</td>\n",
              "      <td>White</td>\n",
              "      <td>1</td>\n",
              "      <td>0</td>\n",
              "      <td>0</td>\n",
              "      <td>40</td>\n",
              "      <td>United-States</td>\n",
              "      <td>0</td>\n",
              "    </tr>\n",
              "    <tr>\n",
              "      <th>6</th>\n",
              "      <td>49</td>\n",
              "      <td>Private</td>\n",
              "      <td>9th</td>\n",
              "      <td>5</td>\n",
              "      <td>Married-spouse-absent</td>\n",
              "      <td>Other-service</td>\n",
              "      <td>Not-in-family</td>\n",
              "      <td>Black</td>\n",
              "      <td>1</td>\n",
              "      <td>0</td>\n",
              "      <td>0</td>\n",
              "      <td>16</td>\n",
              "      <td>Jamaica</td>\n",
              "      <td>0</td>\n",
              "    </tr>\n",
              "    <tr>\n",
              "      <th>7</th>\n",
              "      <td>52</td>\n",
              "      <td>Self-emp-not-inc</td>\n",
              "      <td>HS-grad</td>\n",
              "      <td>9</td>\n",
              "      <td>Married-civ-spouse</td>\n",
              "      <td>Exec-managerial</td>\n",
              "      <td>Husband</td>\n",
              "      <td>White</td>\n",
              "      <td>0</td>\n",
              "      <td>0</td>\n",
              "      <td>0</td>\n",
              "      <td>45</td>\n",
              "      <td>United-States</td>\n",
              "      <td>1</td>\n",
              "    </tr>\n",
              "    <tr>\n",
              "      <th>8</th>\n",
              "      <td>31</td>\n",
              "      <td>Private</td>\n",
              "      <td>Masters</td>\n",
              "      <td>14</td>\n",
              "      <td>Never-married</td>\n",
              "      <td>Prof-specialty</td>\n",
              "      <td>Not-in-family</td>\n",
              "      <td>White</td>\n",
              "      <td>1</td>\n",
              "      <td>14084</td>\n",
              "      <td>0</td>\n",
              "      <td>50</td>\n",
              "      <td>United-States</td>\n",
              "      <td>1</td>\n",
              "    </tr>\n",
              "    <tr>\n",
              "      <th>9</th>\n",
              "      <td>42</td>\n",
              "      <td>Private</td>\n",
              "      <td>Bachelors</td>\n",
              "      <td>13</td>\n",
              "      <td>Married-civ-spouse</td>\n",
              "      <td>Exec-managerial</td>\n",
              "      <td>Husband</td>\n",
              "      <td>White</td>\n",
              "      <td>0</td>\n",
              "      <td>5178</td>\n",
              "      <td>0</td>\n",
              "      <td>40</td>\n",
              "      <td>United-States</td>\n",
              "      <td>1</td>\n",
              "    </tr>\n",
              "  </tbody>\n",
              "</table>\n",
              "</div>"
            ],
            "text/plain": [
              "   age          workclass   education  ...  hours-per-week  native-country income\n",
              "0   39          State-gov   Bachelors  ...              40   United-States      0\n",
              "1   50   Self-emp-not-inc   Bachelors  ...              13   United-States      0\n",
              "2   38            Private     HS-grad  ...              40   United-States      0\n",
              "3   53            Private        11th  ...              40   United-States      0\n",
              "4   28            Private   Bachelors  ...              40            Cuba      0\n",
              "5   37            Private     Masters  ...              40   United-States      0\n",
              "6   49            Private         9th  ...              16         Jamaica      0\n",
              "7   52   Self-emp-not-inc     HS-grad  ...              45   United-States      1\n",
              "8   31            Private     Masters  ...              50   United-States      1\n",
              "9   42            Private   Bachelors  ...              40   United-States      1\n",
              "\n",
              "[10 rows x 14 columns]"
            ]
          },
          "metadata": {
            "tags": []
          },
          "execution_count": 17
        }
      ]
    },
    {
      "cell_type": "markdown",
      "metadata": {
        "id": "Hj-kzt-KWgnk"
      },
      "source": [
        "We can now see that the sex and income columns are binary encoded. Now it's time to reduce some of the other categoricals to have a smaller amount of values to dummy encode. We'll start with workclass. "
      ]
    },
    {
      "cell_type": "code",
      "metadata": {
        "colab": {
          "base_uri": "https://localhost:8080/"
        },
        "id": "bX1dXGgIYieP",
        "outputId": "e4e3b3bd-5151-4499-dbc6-c90abbe3642d"
      },
      "source": [
        "df['workclass'].unique()"
      ],
      "execution_count": null,
      "outputs": [
        {
          "output_type": "execute_result",
          "data": {
            "text/plain": [
              "array([' State-gov', ' Self-emp-not-inc', ' Private', ' Federal-gov',\n",
              "       ' Local-gov', ' ?', ' Self-emp-inc', ' Without-pay',\n",
              "       ' Never-worked'], dtype=object)"
            ]
          },
          "metadata": {
            "tags": []
          },
          "execution_count": 18
        }
      ]
    },
    {
      "cell_type": "markdown",
      "metadata": {
        "id": "LtxkhOU0YqJG"
      },
      "source": [
        "We can combine all of the government job types into just government workers, can make a single unemployment value, and can make a single self-employed value"
      ]
    },
    {
      "cell_type": "code",
      "metadata": {
        "colab": {
          "base_uri": "https://localhost:8080/"
        },
        "id": "0OQhfAiYZfWY",
        "outputId": "af04cc21-c3fc-44c5-8b58-6a7a86f2cb07"
      },
      "source": [
        "def job_types(value):\n",
        "  if value == ' State-gov' or value == ' Local-gov' or value == ' Federal-gov':\n",
        "    value = 'Gov-employed'\n",
        "    return value\n",
        "  elif value == ' Never-worked' or value == ' Without-pay':\n",
        "    value = 'Unemployed'\n",
        "    return value\n",
        "  elif value == ' Self-emp-not-inc' or value == ' Self-emp-inc':\n",
        "    value = 'Self-employed'\n",
        "    return value\n",
        "  else:\n",
        "    return value #returns private\n",
        "df['workclass-category'] = df['workclass'].map(job_types)  # recreating the workclass column with less categoricals\n",
        "df['workclass-category']"
      ],
      "execution_count": null,
      "outputs": [
        {
          "output_type": "execute_result",
          "data": {
            "text/plain": [
              "0         Gov-employed\n",
              "1        Self-employed\n",
              "2              Private\n",
              "3              Private\n",
              "4              Private\n",
              "             ...      \n",
              "48837          Private\n",
              "48838                ?\n",
              "48839          Private\n",
              "48840          Private\n",
              "48841    Self-employed\n",
              "Name: workclass-category, Length: 44355, dtype: object"
            ]
          },
          "metadata": {
            "tags": []
          },
          "execution_count": 19
        }
      ]
    },
    {
      "cell_type": "markdown",
      "metadata": {
        "id": "6lXgT1zvZ43m"
      },
      "source": [
        "With workclass done, it's time to move onto native country. We will split this by USA and non-USA."
      ]
    },
    {
      "cell_type": "code",
      "metadata": {
        "colab": {
          "base_uri": "https://localhost:8080/"
        },
        "id": "Ew25FgB7bYfr",
        "outputId": "613fe480-fd64-43ee-d7f0-b0fc61ea088d"
      },
      "source": [
        "def USA_born(value):\n",
        "  if value == ' United-States':\n",
        "    value = 1\n",
        "    return value\n",
        "  else:\n",
        "    value = 'Non-US'\n",
        "    return 0\n",
        "\n",
        "\n",
        "df['native-country'] = df['native-country'].map(USA_born)  # recreating the native-country column with less categoricals\n",
        "df['native-country']"
      ],
      "execution_count": null,
      "outputs": [
        {
          "output_type": "execute_result",
          "data": {
            "text/plain": [
              "0        1\n",
              "1        1\n",
              "2        1\n",
              "3        1\n",
              "4        0\n",
              "        ..\n",
              "48837    1\n",
              "48838    1\n",
              "48839    1\n",
              "48840    1\n",
              "48841    1\n",
              "Name: native-country, Length: 44355, dtype: int64"
            ]
          },
          "metadata": {
            "tags": []
          },
          "execution_count": 20
        }
      ]
    },
    {
      "cell_type": "markdown",
      "metadata": {
        "id": "4UYlFHp0fF3H"
      },
      "source": [
        "With native-country done, it's time to move onto marital-status. This will be split by married, not married, and never married. "
      ]
    },
    {
      "cell_type": "code",
      "metadata": {
        "colab": {
          "base_uri": "https://localhost:8080/",
          "height": 660
        },
        "id": "bDgwMwGbfWpa",
        "outputId": "13b69b39-26b8-4c67-ef13-4d02f8b29377"
      },
      "source": [
        "def marriage_status(value):\n",
        "  if value == ' Separated' or value == ' Widowed' or value == ' Divorced':\n",
        "    value = 'Not-married'\n",
        "    return value\n",
        "  elif value == ' Never-married':\n",
        "    value = 'Never-married'\n",
        "    return value\n",
        "  else:\n",
        "    value = 'Married'\n",
        "    return value\n",
        "\n",
        "df['marital-status'] = df['marital-status'].map(marriage_status)\n",
        "df[df['marital-status'] == 'Not-married']"
      ],
      "execution_count": null,
      "outputs": [
        {
          "output_type": "execute_result",
          "data": {
            "text/html": [
              "<div>\n",
              "<style scoped>\n",
              "    .dataframe tbody tr th:only-of-type {\n",
              "        vertical-align: middle;\n",
              "    }\n",
              "\n",
              "    .dataframe tbody tr th {\n",
              "        vertical-align: top;\n",
              "    }\n",
              "\n",
              "    .dataframe thead th {\n",
              "        text-align: right;\n",
              "    }\n",
              "</style>\n",
              "<table border=\"1\" class=\"dataframe\">\n",
              "  <thead>\n",
              "    <tr style=\"text-align: right;\">\n",
              "      <th></th>\n",
              "      <th>age</th>\n",
              "      <th>workclass</th>\n",
              "      <th>education</th>\n",
              "      <th>education-num</th>\n",
              "      <th>marital-status</th>\n",
              "      <th>occupation</th>\n",
              "      <th>relationship</th>\n",
              "      <th>race</th>\n",
              "      <th>sex</th>\n",
              "      <th>capital-gain</th>\n",
              "      <th>capital-loss</th>\n",
              "      <th>hours-per-week</th>\n",
              "      <th>native-country</th>\n",
              "      <th>income</th>\n",
              "      <th>workclass-category</th>\n",
              "    </tr>\n",
              "  </thead>\n",
              "  <tbody>\n",
              "    <tr>\n",
              "      <th>2</th>\n",
              "      <td>38</td>\n",
              "      <td>Private</td>\n",
              "      <td>HS-grad</td>\n",
              "      <td>9</td>\n",
              "      <td>Not-married</td>\n",
              "      <td>Handlers-cleaners</td>\n",
              "      <td>Not-in-family</td>\n",
              "      <td>White</td>\n",
              "      <td>0</td>\n",
              "      <td>0</td>\n",
              "      <td>0</td>\n",
              "      <td>40</td>\n",
              "      <td>1</td>\n",
              "      <td>0</td>\n",
              "      <td>Private</td>\n",
              "    </tr>\n",
              "    <tr>\n",
              "      <th>19</th>\n",
              "      <td>43</td>\n",
              "      <td>Self-emp-not-inc</td>\n",
              "      <td>Masters</td>\n",
              "      <td>14</td>\n",
              "      <td>Not-married</td>\n",
              "      <td>Exec-managerial</td>\n",
              "      <td>Unmarried</td>\n",
              "      <td>White</td>\n",
              "      <td>1</td>\n",
              "      <td>0</td>\n",
              "      <td>0</td>\n",
              "      <td>45</td>\n",
              "      <td>1</td>\n",
              "      <td>1</td>\n",
              "      <td>Self-employed</td>\n",
              "    </tr>\n",
              "    <tr>\n",
              "      <th>21</th>\n",
              "      <td>54</td>\n",
              "      <td>Private</td>\n",
              "      <td>HS-grad</td>\n",
              "      <td>9</td>\n",
              "      <td>Not-married</td>\n",
              "      <td>Other-service</td>\n",
              "      <td>Unmarried</td>\n",
              "      <td>Black</td>\n",
              "      <td>1</td>\n",
              "      <td>0</td>\n",
              "      <td>0</td>\n",
              "      <td>20</td>\n",
              "      <td>1</td>\n",
              "      <td>0</td>\n",
              "      <td>Private</td>\n",
              "    </tr>\n",
              "    <tr>\n",
              "      <th>24</th>\n",
              "      <td>59</td>\n",
              "      <td>Private</td>\n",
              "      <td>HS-grad</td>\n",
              "      <td>9</td>\n",
              "      <td>Not-married</td>\n",
              "      <td>Tech-support</td>\n",
              "      <td>Unmarried</td>\n",
              "      <td>White</td>\n",
              "      <td>1</td>\n",
              "      <td>0</td>\n",
              "      <td>0</td>\n",
              "      <td>40</td>\n",
              "      <td>1</td>\n",
              "      <td>0</td>\n",
              "      <td>Private</td>\n",
              "    </tr>\n",
              "    <tr>\n",
              "      <th>28</th>\n",
              "      <td>39</td>\n",
              "      <td>Private</td>\n",
              "      <td>HS-grad</td>\n",
              "      <td>9</td>\n",
              "      <td>Not-married</td>\n",
              "      <td>Exec-managerial</td>\n",
              "      <td>Not-in-family</td>\n",
              "      <td>White</td>\n",
              "      <td>0</td>\n",
              "      <td>0</td>\n",
              "      <td>0</td>\n",
              "      <td>80</td>\n",
              "      <td>1</td>\n",
              "      <td>0</td>\n",
              "      <td>Private</td>\n",
              "    </tr>\n",
              "    <tr>\n",
              "      <th>...</th>\n",
              "      <td>...</td>\n",
              "      <td>...</td>\n",
              "      <td>...</td>\n",
              "      <td>...</td>\n",
              "      <td>...</td>\n",
              "      <td>...</td>\n",
              "      <td>...</td>\n",
              "      <td>...</td>\n",
              "      <td>...</td>\n",
              "      <td>...</td>\n",
              "      <td>...</td>\n",
              "      <td>...</td>\n",
              "      <td>...</td>\n",
              "      <td>...</td>\n",
              "      <td>...</td>\n",
              "    </tr>\n",
              "    <tr>\n",
              "      <th>48829</th>\n",
              "      <td>58</td>\n",
              "      <td>Private</td>\n",
              "      <td>Assoc-acdm</td>\n",
              "      <td>12</td>\n",
              "      <td>Not-married</td>\n",
              "      <td>Prof-specialty</td>\n",
              "      <td>Not-in-family</td>\n",
              "      <td>White</td>\n",
              "      <td>0</td>\n",
              "      <td>0</td>\n",
              "      <td>0</td>\n",
              "      <td>36</td>\n",
              "      <td>1</td>\n",
              "      <td>0</td>\n",
              "      <td>Private</td>\n",
              "    </tr>\n",
              "    <tr>\n",
              "      <th>48835</th>\n",
              "      <td>48</td>\n",
              "      <td>Local-gov</td>\n",
              "      <td>Masters</td>\n",
              "      <td>14</td>\n",
              "      <td>Not-married</td>\n",
              "      <td>Other-service</td>\n",
              "      <td>Not-in-family</td>\n",
              "      <td>White</td>\n",
              "      <td>0</td>\n",
              "      <td>0</td>\n",
              "      <td>0</td>\n",
              "      <td>40</td>\n",
              "      <td>1</td>\n",
              "      <td>0</td>\n",
              "      <td>Gov-employed</td>\n",
              "    </tr>\n",
              "    <tr>\n",
              "      <th>48837</th>\n",
              "      <td>39</td>\n",
              "      <td>Private</td>\n",
              "      <td>Bachelors</td>\n",
              "      <td>13</td>\n",
              "      <td>Not-married</td>\n",
              "      <td>Prof-specialty</td>\n",
              "      <td>Not-in-family</td>\n",
              "      <td>White</td>\n",
              "      <td>1</td>\n",
              "      <td>0</td>\n",
              "      <td>0</td>\n",
              "      <td>36</td>\n",
              "      <td>1</td>\n",
              "      <td>0</td>\n",
              "      <td>Private</td>\n",
              "    </tr>\n",
              "    <tr>\n",
              "      <th>48838</th>\n",
              "      <td>64</td>\n",
              "      <td>?</td>\n",
              "      <td>HS-grad</td>\n",
              "      <td>9</td>\n",
              "      <td>Not-married</td>\n",
              "      <td>?</td>\n",
              "      <td>Other-relative</td>\n",
              "      <td>Black</td>\n",
              "      <td>0</td>\n",
              "      <td>0</td>\n",
              "      <td>0</td>\n",
              "      <td>40</td>\n",
              "      <td>1</td>\n",
              "      <td>0</td>\n",
              "      <td>?</td>\n",
              "    </tr>\n",
              "    <tr>\n",
              "      <th>48840</th>\n",
              "      <td>44</td>\n",
              "      <td>Private</td>\n",
              "      <td>Bachelors</td>\n",
              "      <td>13</td>\n",
              "      <td>Not-married</td>\n",
              "      <td>Adm-clerical</td>\n",
              "      <td>Own-child</td>\n",
              "      <td>Asian-Pac-Islander</td>\n",
              "      <td>0</td>\n",
              "      <td>5455</td>\n",
              "      <td>0</td>\n",
              "      <td>40</td>\n",
              "      <td>1</td>\n",
              "      <td>0</td>\n",
              "      <td>Private</td>\n",
              "    </tr>\n",
              "  </tbody>\n",
              "</table>\n",
              "<p>9392 rows × 15 columns</p>\n",
              "</div>"
            ],
            "text/plain": [
              "       age          workclass  ... income  workclass-category\n",
              "2       38            Private  ...      0             Private\n",
              "19      43   Self-emp-not-inc  ...      1       Self-employed\n",
              "21      54            Private  ...      0             Private\n",
              "24      59            Private  ...      0             Private\n",
              "28      39            Private  ...      0             Private\n",
              "...    ...                ...  ...    ...                 ...\n",
              "48829   58            Private  ...      0             Private\n",
              "48835   48          Local-gov  ...      0        Gov-employed\n",
              "48837   39            Private  ...      0             Private\n",
              "48838   64                  ?  ...      0                   ?\n",
              "48840   44            Private  ...      0             Private\n",
              "\n",
              "[9392 rows x 15 columns]"
            ]
          },
          "metadata": {
            "tags": []
          },
          "execution_count": 21
        }
      ]
    },
    {
      "cell_type": "markdown",
      "metadata": {
        "id": "j7-fWxCDfWQo"
      },
      "source": [
        "With marital-status, done, it's time to move onto education. We will use the education-num column to categorize the education column. We will group hs-grads into some-college for less confusion. "
      ]
    },
    {
      "cell_type": "code",
      "metadata": {
        "colab": {
          "base_uri": "https://localhost:8080/",
          "height": 360
        },
        "id": "FKSuVw2uOmKU",
        "outputId": "b5a8226d-401e-4111-bcd7-669a10ae80d0"
      },
      "source": [
        "def cat_education(value):\n",
        "  if value in (' 11th', ' 9th', ' 7th-8th', ' 5th-6th', ' 10th', ' 1st-4th', ' 12th', ' Preschool', ' Prof-school'):\n",
        "    value = 'No-highschool-grad'\n",
        "    return value\n",
        "  elif value in (' HS-grad', ' Some-college', ' Assoc-acdm', ' Assoc-voc'):\n",
        "    value = 'Some-college'\n",
        "    return value\n",
        "  else:\n",
        "    value = 'Higher-education'\n",
        "    return value\n",
        "\n",
        "df['education'] = df['education'].map(cat_education)\n",
        "df.head()"
      ],
      "execution_count": null,
      "outputs": [
        {
          "output_type": "execute_result",
          "data": {
            "text/html": [
              "<div>\n",
              "<style scoped>\n",
              "    .dataframe tbody tr th:only-of-type {\n",
              "        vertical-align: middle;\n",
              "    }\n",
              "\n",
              "    .dataframe tbody tr th {\n",
              "        vertical-align: top;\n",
              "    }\n",
              "\n",
              "    .dataframe thead th {\n",
              "        text-align: right;\n",
              "    }\n",
              "</style>\n",
              "<table border=\"1\" class=\"dataframe\">\n",
              "  <thead>\n",
              "    <tr style=\"text-align: right;\">\n",
              "      <th></th>\n",
              "      <th>age</th>\n",
              "      <th>workclass</th>\n",
              "      <th>education</th>\n",
              "      <th>education-num</th>\n",
              "      <th>marital-status</th>\n",
              "      <th>occupation</th>\n",
              "      <th>relationship</th>\n",
              "      <th>race</th>\n",
              "      <th>sex</th>\n",
              "      <th>capital-gain</th>\n",
              "      <th>capital-loss</th>\n",
              "      <th>hours-per-week</th>\n",
              "      <th>native-country</th>\n",
              "      <th>income</th>\n",
              "      <th>workclass-category</th>\n",
              "    </tr>\n",
              "  </thead>\n",
              "  <tbody>\n",
              "    <tr>\n",
              "      <th>0</th>\n",
              "      <td>39</td>\n",
              "      <td>State-gov</td>\n",
              "      <td>Higher-education</td>\n",
              "      <td>13</td>\n",
              "      <td>Never-married</td>\n",
              "      <td>Adm-clerical</td>\n",
              "      <td>Not-in-family</td>\n",
              "      <td>White</td>\n",
              "      <td>0</td>\n",
              "      <td>2174</td>\n",
              "      <td>0</td>\n",
              "      <td>40</td>\n",
              "      <td>1</td>\n",
              "      <td>0</td>\n",
              "      <td>Gov-employed</td>\n",
              "    </tr>\n",
              "    <tr>\n",
              "      <th>1</th>\n",
              "      <td>50</td>\n",
              "      <td>Self-emp-not-inc</td>\n",
              "      <td>Higher-education</td>\n",
              "      <td>13</td>\n",
              "      <td>Married</td>\n",
              "      <td>Exec-managerial</td>\n",
              "      <td>Husband</td>\n",
              "      <td>White</td>\n",
              "      <td>0</td>\n",
              "      <td>0</td>\n",
              "      <td>0</td>\n",
              "      <td>13</td>\n",
              "      <td>1</td>\n",
              "      <td>0</td>\n",
              "      <td>Self-employed</td>\n",
              "    </tr>\n",
              "    <tr>\n",
              "      <th>2</th>\n",
              "      <td>38</td>\n",
              "      <td>Private</td>\n",
              "      <td>Some-college</td>\n",
              "      <td>9</td>\n",
              "      <td>Not-married</td>\n",
              "      <td>Handlers-cleaners</td>\n",
              "      <td>Not-in-family</td>\n",
              "      <td>White</td>\n",
              "      <td>0</td>\n",
              "      <td>0</td>\n",
              "      <td>0</td>\n",
              "      <td>40</td>\n",
              "      <td>1</td>\n",
              "      <td>0</td>\n",
              "      <td>Private</td>\n",
              "    </tr>\n",
              "    <tr>\n",
              "      <th>3</th>\n",
              "      <td>53</td>\n",
              "      <td>Private</td>\n",
              "      <td>No-highschool-grad</td>\n",
              "      <td>7</td>\n",
              "      <td>Married</td>\n",
              "      <td>Handlers-cleaners</td>\n",
              "      <td>Husband</td>\n",
              "      <td>Black</td>\n",
              "      <td>0</td>\n",
              "      <td>0</td>\n",
              "      <td>0</td>\n",
              "      <td>40</td>\n",
              "      <td>1</td>\n",
              "      <td>0</td>\n",
              "      <td>Private</td>\n",
              "    </tr>\n",
              "    <tr>\n",
              "      <th>4</th>\n",
              "      <td>28</td>\n",
              "      <td>Private</td>\n",
              "      <td>Higher-education</td>\n",
              "      <td>13</td>\n",
              "      <td>Married</td>\n",
              "      <td>Prof-specialty</td>\n",
              "      <td>Wife</td>\n",
              "      <td>Black</td>\n",
              "      <td>1</td>\n",
              "      <td>0</td>\n",
              "      <td>0</td>\n",
              "      <td>40</td>\n",
              "      <td>0</td>\n",
              "      <td>0</td>\n",
              "      <td>Private</td>\n",
              "    </tr>\n",
              "  </tbody>\n",
              "</table>\n",
              "</div>"
            ],
            "text/plain": [
              "   age          workclass  ... income  workclass-category\n",
              "0   39          State-gov  ...      0        Gov-employed\n",
              "1   50   Self-emp-not-inc  ...      0       Self-employed\n",
              "2   38            Private  ...      0             Private\n",
              "3   53            Private  ...      0             Private\n",
              "4   28            Private  ...      0             Private\n",
              "\n",
              "[5 rows x 15 columns]"
            ]
          },
          "metadata": {
            "tags": []
          },
          "execution_count": 22
        }
      ]
    },
    {
      "cell_type": "markdown",
      "metadata": {
        "id": "ks8N-NnLW7KU"
      },
      "source": [
        "Here we'll look at occupation and see if there's a way to collapse it. "
      ]
    },
    {
      "cell_type": "code",
      "metadata": {
        "colab": {
          "base_uri": "https://localhost:8080/"
        },
        "id": "ehm7vsXwXCg3",
        "outputId": "bc58bceb-8221-46f8-d480-17642179e8e7"
      },
      "source": [
        "df['occupation'].unique()"
      ],
      "execution_count": null,
      "outputs": [
        {
          "output_type": "execute_result",
          "data": {
            "text/plain": [
              "array([' Adm-clerical', ' Exec-managerial', ' Handlers-cleaners',\n",
              "       ' Prof-specialty', ' Other-service', ' Sales', ' Craft-repair',\n",
              "       ' Transport-moving', ' Farming-fishing', ' Machine-op-inspct',\n",
              "       ' Tech-support', ' ?', ' Protective-serv', ' Armed-Forces',\n",
              "       ' Priv-house-serv'], dtype=object)"
            ]
          },
          "metadata": {
            "tags": []
          },
          "execution_count": 23
        }
      ]
    },
    {
      "cell_type": "markdown",
      "metadata": {
        "id": "uYrlWOTgXIX_"
      },
      "source": [
        "All of these are relatively different, so there's no good way to further categorize them. Next, the relationship column. The best way to handle this one is to collapse based on whether or not the people are alone (0) or within a family (1)."
      ]
    },
    {
      "cell_type": "code",
      "metadata": {
        "colab": {
          "base_uri": "https://localhost:8080/",
          "height": 360
        },
        "id": "qkYa2OH8XSBh",
        "outputId": "7bc19f85-6a3b-4080-d9b1-8845d8700299"
      },
      "source": [
        "def rel_change(value):\n",
        "  if value in (' Not-in-family', ' Unmarried'):\n",
        "    value = 0\n",
        "    return value\n",
        "  else:\n",
        "    value = 1\n",
        "    return value\n",
        "\n",
        "df['relationship'] = df['relationship'].map(rel_change)\n",
        "df.head()"
      ],
      "execution_count": null,
      "outputs": [
        {
          "output_type": "execute_result",
          "data": {
            "text/html": [
              "<div>\n",
              "<style scoped>\n",
              "    .dataframe tbody tr th:only-of-type {\n",
              "        vertical-align: middle;\n",
              "    }\n",
              "\n",
              "    .dataframe tbody tr th {\n",
              "        vertical-align: top;\n",
              "    }\n",
              "\n",
              "    .dataframe thead th {\n",
              "        text-align: right;\n",
              "    }\n",
              "</style>\n",
              "<table border=\"1\" class=\"dataframe\">\n",
              "  <thead>\n",
              "    <tr style=\"text-align: right;\">\n",
              "      <th></th>\n",
              "      <th>age</th>\n",
              "      <th>workclass</th>\n",
              "      <th>education</th>\n",
              "      <th>education-num</th>\n",
              "      <th>marital-status</th>\n",
              "      <th>occupation</th>\n",
              "      <th>relationship</th>\n",
              "      <th>race</th>\n",
              "      <th>sex</th>\n",
              "      <th>capital-gain</th>\n",
              "      <th>capital-loss</th>\n",
              "      <th>hours-per-week</th>\n",
              "      <th>native-country</th>\n",
              "      <th>income</th>\n",
              "      <th>workclass-category</th>\n",
              "    </tr>\n",
              "  </thead>\n",
              "  <tbody>\n",
              "    <tr>\n",
              "      <th>0</th>\n",
              "      <td>39</td>\n",
              "      <td>State-gov</td>\n",
              "      <td>Higher-education</td>\n",
              "      <td>13</td>\n",
              "      <td>Never-married</td>\n",
              "      <td>Adm-clerical</td>\n",
              "      <td>0</td>\n",
              "      <td>White</td>\n",
              "      <td>0</td>\n",
              "      <td>2174</td>\n",
              "      <td>0</td>\n",
              "      <td>40</td>\n",
              "      <td>1</td>\n",
              "      <td>0</td>\n",
              "      <td>Gov-employed</td>\n",
              "    </tr>\n",
              "    <tr>\n",
              "      <th>1</th>\n",
              "      <td>50</td>\n",
              "      <td>Self-emp-not-inc</td>\n",
              "      <td>Higher-education</td>\n",
              "      <td>13</td>\n",
              "      <td>Married</td>\n",
              "      <td>Exec-managerial</td>\n",
              "      <td>1</td>\n",
              "      <td>White</td>\n",
              "      <td>0</td>\n",
              "      <td>0</td>\n",
              "      <td>0</td>\n",
              "      <td>13</td>\n",
              "      <td>1</td>\n",
              "      <td>0</td>\n",
              "      <td>Self-employed</td>\n",
              "    </tr>\n",
              "    <tr>\n",
              "      <th>2</th>\n",
              "      <td>38</td>\n",
              "      <td>Private</td>\n",
              "      <td>Some-college</td>\n",
              "      <td>9</td>\n",
              "      <td>Not-married</td>\n",
              "      <td>Handlers-cleaners</td>\n",
              "      <td>0</td>\n",
              "      <td>White</td>\n",
              "      <td>0</td>\n",
              "      <td>0</td>\n",
              "      <td>0</td>\n",
              "      <td>40</td>\n",
              "      <td>1</td>\n",
              "      <td>0</td>\n",
              "      <td>Private</td>\n",
              "    </tr>\n",
              "    <tr>\n",
              "      <th>3</th>\n",
              "      <td>53</td>\n",
              "      <td>Private</td>\n",
              "      <td>No-highschool-grad</td>\n",
              "      <td>7</td>\n",
              "      <td>Married</td>\n",
              "      <td>Handlers-cleaners</td>\n",
              "      <td>1</td>\n",
              "      <td>Black</td>\n",
              "      <td>0</td>\n",
              "      <td>0</td>\n",
              "      <td>0</td>\n",
              "      <td>40</td>\n",
              "      <td>1</td>\n",
              "      <td>0</td>\n",
              "      <td>Private</td>\n",
              "    </tr>\n",
              "    <tr>\n",
              "      <th>4</th>\n",
              "      <td>28</td>\n",
              "      <td>Private</td>\n",
              "      <td>Higher-education</td>\n",
              "      <td>13</td>\n",
              "      <td>Married</td>\n",
              "      <td>Prof-specialty</td>\n",
              "      <td>1</td>\n",
              "      <td>Black</td>\n",
              "      <td>1</td>\n",
              "      <td>0</td>\n",
              "      <td>0</td>\n",
              "      <td>40</td>\n",
              "      <td>0</td>\n",
              "      <td>0</td>\n",
              "      <td>Private</td>\n",
              "    </tr>\n",
              "  </tbody>\n",
              "</table>\n",
              "</div>"
            ],
            "text/plain": [
              "   age          workclass  ... income  workclass-category\n",
              "0   39          State-gov  ...      0        Gov-employed\n",
              "1   50   Self-emp-not-inc  ...      0       Self-employed\n",
              "2   38            Private  ...      0             Private\n",
              "3   53            Private  ...      0             Private\n",
              "4   28            Private  ...      0             Private\n",
              "\n",
              "[5 rows x 15 columns]"
            ]
          },
          "metadata": {
            "tags": []
          },
          "execution_count": 24
        }
      ]
    },
    {
      "cell_type": "markdown",
      "metadata": {
        "id": "sa2j07TtYZT-"
      },
      "source": [
        "Last but not least, we will condense the race column. To simply things, it will be white (0) and minority (1). "
      ]
    },
    {
      "cell_type": "code",
      "metadata": {
        "colab": {
          "base_uri": "https://localhost:8080/",
          "height": 360
        },
        "id": "ld2YvKdyYo9y",
        "outputId": "ece9c68f-10e0-40ca-a840-03d9208d6ceb"
      },
      "source": [
        "def cat_race(value):\n",
        "  if value == ' White':\n",
        "    return 0\n",
        "  else:\n",
        "    value = 'Minority'\n",
        "    return 1\n",
        "\n",
        "df['race'] = df['race'].map(cat_race)\n",
        "df.head()"
      ],
      "execution_count": null,
      "outputs": [
        {
          "output_type": "execute_result",
          "data": {
            "text/html": [
              "<div>\n",
              "<style scoped>\n",
              "    .dataframe tbody tr th:only-of-type {\n",
              "        vertical-align: middle;\n",
              "    }\n",
              "\n",
              "    .dataframe tbody tr th {\n",
              "        vertical-align: top;\n",
              "    }\n",
              "\n",
              "    .dataframe thead th {\n",
              "        text-align: right;\n",
              "    }\n",
              "</style>\n",
              "<table border=\"1\" class=\"dataframe\">\n",
              "  <thead>\n",
              "    <tr style=\"text-align: right;\">\n",
              "      <th></th>\n",
              "      <th>age</th>\n",
              "      <th>workclass</th>\n",
              "      <th>education</th>\n",
              "      <th>education-num</th>\n",
              "      <th>marital-status</th>\n",
              "      <th>occupation</th>\n",
              "      <th>relationship</th>\n",
              "      <th>race</th>\n",
              "      <th>sex</th>\n",
              "      <th>capital-gain</th>\n",
              "      <th>capital-loss</th>\n",
              "      <th>hours-per-week</th>\n",
              "      <th>native-country</th>\n",
              "      <th>income</th>\n",
              "      <th>workclass-category</th>\n",
              "    </tr>\n",
              "  </thead>\n",
              "  <tbody>\n",
              "    <tr>\n",
              "      <th>0</th>\n",
              "      <td>39</td>\n",
              "      <td>State-gov</td>\n",
              "      <td>Higher-education</td>\n",
              "      <td>13</td>\n",
              "      <td>Never-married</td>\n",
              "      <td>Adm-clerical</td>\n",
              "      <td>0</td>\n",
              "      <td>0</td>\n",
              "      <td>0</td>\n",
              "      <td>2174</td>\n",
              "      <td>0</td>\n",
              "      <td>40</td>\n",
              "      <td>1</td>\n",
              "      <td>0</td>\n",
              "      <td>Gov-employed</td>\n",
              "    </tr>\n",
              "    <tr>\n",
              "      <th>1</th>\n",
              "      <td>50</td>\n",
              "      <td>Self-emp-not-inc</td>\n",
              "      <td>Higher-education</td>\n",
              "      <td>13</td>\n",
              "      <td>Married</td>\n",
              "      <td>Exec-managerial</td>\n",
              "      <td>1</td>\n",
              "      <td>0</td>\n",
              "      <td>0</td>\n",
              "      <td>0</td>\n",
              "      <td>0</td>\n",
              "      <td>13</td>\n",
              "      <td>1</td>\n",
              "      <td>0</td>\n",
              "      <td>Self-employed</td>\n",
              "    </tr>\n",
              "    <tr>\n",
              "      <th>2</th>\n",
              "      <td>38</td>\n",
              "      <td>Private</td>\n",
              "      <td>Some-college</td>\n",
              "      <td>9</td>\n",
              "      <td>Not-married</td>\n",
              "      <td>Handlers-cleaners</td>\n",
              "      <td>0</td>\n",
              "      <td>0</td>\n",
              "      <td>0</td>\n",
              "      <td>0</td>\n",
              "      <td>0</td>\n",
              "      <td>40</td>\n",
              "      <td>1</td>\n",
              "      <td>0</td>\n",
              "      <td>Private</td>\n",
              "    </tr>\n",
              "    <tr>\n",
              "      <th>3</th>\n",
              "      <td>53</td>\n",
              "      <td>Private</td>\n",
              "      <td>No-highschool-grad</td>\n",
              "      <td>7</td>\n",
              "      <td>Married</td>\n",
              "      <td>Handlers-cleaners</td>\n",
              "      <td>1</td>\n",
              "      <td>1</td>\n",
              "      <td>0</td>\n",
              "      <td>0</td>\n",
              "      <td>0</td>\n",
              "      <td>40</td>\n",
              "      <td>1</td>\n",
              "      <td>0</td>\n",
              "      <td>Private</td>\n",
              "    </tr>\n",
              "    <tr>\n",
              "      <th>4</th>\n",
              "      <td>28</td>\n",
              "      <td>Private</td>\n",
              "      <td>Higher-education</td>\n",
              "      <td>13</td>\n",
              "      <td>Married</td>\n",
              "      <td>Prof-specialty</td>\n",
              "      <td>1</td>\n",
              "      <td>1</td>\n",
              "      <td>1</td>\n",
              "      <td>0</td>\n",
              "      <td>0</td>\n",
              "      <td>40</td>\n",
              "      <td>0</td>\n",
              "      <td>0</td>\n",
              "      <td>Private</td>\n",
              "    </tr>\n",
              "  </tbody>\n",
              "</table>\n",
              "</div>"
            ],
            "text/plain": [
              "   age          workclass  ... income  workclass-category\n",
              "0   39          State-gov  ...      0        Gov-employed\n",
              "1   50   Self-emp-not-inc  ...      0       Self-employed\n",
              "2   38            Private  ...      0             Private\n",
              "3   53            Private  ...      0             Private\n",
              "4   28            Private  ...      0             Private\n",
              "\n",
              "[5 rows x 15 columns]"
            ]
          },
          "metadata": {
            "tags": []
          },
          "execution_count": 25
        }
      ]
    },
    {
      "cell_type": "markdown",
      "metadata": {
        "id": "O82KkFADZPjz"
      },
      "source": [
        "## Model Building"
      ]
    },
    {
      "cell_type": "markdown",
      "metadata": {
        "id": "bHhwXyFlZciF"
      },
      "source": [
        "### Data Normalization"
      ]
    },
    {
      "cell_type": "code",
      "metadata": {
        "id": "FpgI_xLKZg7_"
      },
      "source": [
        "norm_cols = ['age', 'education-num', 'capital-gain', 'capital-loss', 'hours-per-week']  # https://stackoverflow.com/questions/28576540/how-can-i-normalize-the-data-in-a-range-of-columns-in-my-pandas-dataframe\n",
        "df[norm_cols] = df[norm_cols].apply(lambda x: (x - x.min()) / (x.max() - x.min())) # use of lambda function to normalize continuous variables"
      ],
      "execution_count": null,
      "outputs": []
    },
    {
      "cell_type": "markdown",
      "metadata": {
        "id": "sCjSP8KlZ3iG"
      },
      "source": [
        "With the non-categorical columns normalized, it's time to one-hot encode the categorical variables using the get_dummies function."
      ]
    },
    {
      "cell_type": "code",
      "metadata": {
        "id": "sTZLBEviZ2lr"
      },
      "source": [
        "encoded_workclass = pd.get_dummies(df['workclass-category'], prefix='worktype')\n",
        "encoded_occupation = pd.get_dummies(df['occupation'], prefix='job')\n",
        "encoded_education = pd.get_dummies(df['education'], prefix='schooling')\n",
        "encoded_marriage = pd.get_dummies(df['marital-status'])"
      ],
      "execution_count": null,
      "outputs": []
    },
    {
      "cell_type": "markdown",
      "metadata": {
        "id": "fnKhWbQVa20A"
      },
      "source": [
        "With the dummy variables stored in their own respective data frames, its time to create a new dataframe with only the normalized continuous variables, as well as the one-hot encoded categorical variables. "
      ]
    },
    {
      "cell_type": "code",
      "metadata": {
        "colab": {
          "base_uri": "https://localhost:8080/",
          "height": 275
        },
        "id": "6s2xq1k9bdnq",
        "outputId": "8965478e-35c8-43e8-eb83-5831611c7ea0"
      },
      "source": [
        "cols = ['age', 'education-num', 'relationship', 'race', 'sex', 'capital-gain', 'capital-loss', 'hours-per-week', 'native-country', 'income']\n",
        "df_final = df[cols]  # creation of new df without encoded variables\n",
        "\n",
        "df_final = df_final.join(encoded_workclass)  # addition of encoded variables\n",
        "df_final = df_final.join(encoded_occupation)\n",
        "df_final = df_final.join(encoded_education)\n",
        "df_final = df_final.join(encoded_marriage)\n",
        "df_final.head()"
      ],
      "execution_count": null,
      "outputs": [
        {
          "output_type": "execute_result",
          "data": {
            "text/html": [
              "<div>\n",
              "<style scoped>\n",
              "    .dataframe tbody tr th:only-of-type {\n",
              "        vertical-align: middle;\n",
              "    }\n",
              "\n",
              "    .dataframe tbody tr th {\n",
              "        vertical-align: top;\n",
              "    }\n",
              "\n",
              "    .dataframe thead th {\n",
              "        text-align: right;\n",
              "    }\n",
              "</style>\n",
              "<table border=\"1\" class=\"dataframe\">\n",
              "  <thead>\n",
              "    <tr style=\"text-align: right;\">\n",
              "      <th></th>\n",
              "      <th>age</th>\n",
              "      <th>education-num</th>\n",
              "      <th>relationship</th>\n",
              "      <th>race</th>\n",
              "      <th>sex</th>\n",
              "      <th>capital-gain</th>\n",
              "      <th>capital-loss</th>\n",
              "      <th>hours-per-week</th>\n",
              "      <th>native-country</th>\n",
              "      <th>income</th>\n",
              "      <th>worktype_ ?</th>\n",
              "      <th>worktype_ Private</th>\n",
              "      <th>worktype_Gov-employed</th>\n",
              "      <th>worktype_Self-employed</th>\n",
              "      <th>worktype_Unemployed</th>\n",
              "      <th>job_ ?</th>\n",
              "      <th>job_ Adm-clerical</th>\n",
              "      <th>job_ Armed-Forces</th>\n",
              "      <th>job_ Craft-repair</th>\n",
              "      <th>job_ Exec-managerial</th>\n",
              "      <th>job_ Farming-fishing</th>\n",
              "      <th>job_ Handlers-cleaners</th>\n",
              "      <th>job_ Machine-op-inspct</th>\n",
              "      <th>job_ Other-service</th>\n",
              "      <th>job_ Priv-house-serv</th>\n",
              "      <th>job_ Prof-specialty</th>\n",
              "      <th>job_ Protective-serv</th>\n",
              "      <th>job_ Sales</th>\n",
              "      <th>job_ Tech-support</th>\n",
              "      <th>job_ Transport-moving</th>\n",
              "      <th>schooling_Higher-education</th>\n",
              "      <th>schooling_No-highschool-grad</th>\n",
              "      <th>schooling_Some-college</th>\n",
              "      <th>Married</th>\n",
              "      <th>Never-married</th>\n",
              "      <th>Not-married</th>\n",
              "    </tr>\n",
              "  </thead>\n",
              "  <tbody>\n",
              "    <tr>\n",
              "      <th>0</th>\n",
              "      <td>0.301370</td>\n",
              "      <td>0.800000</td>\n",
              "      <td>0</td>\n",
              "      <td>0</td>\n",
              "      <td>0</td>\n",
              "      <td>0.02174</td>\n",
              "      <td>0.0</td>\n",
              "      <td>0.397959</td>\n",
              "      <td>1</td>\n",
              "      <td>0</td>\n",
              "      <td>0</td>\n",
              "      <td>0</td>\n",
              "      <td>1</td>\n",
              "      <td>0</td>\n",
              "      <td>0</td>\n",
              "      <td>0</td>\n",
              "      <td>1</td>\n",
              "      <td>0</td>\n",
              "      <td>0</td>\n",
              "      <td>0</td>\n",
              "      <td>0</td>\n",
              "      <td>0</td>\n",
              "      <td>0</td>\n",
              "      <td>0</td>\n",
              "      <td>0</td>\n",
              "      <td>0</td>\n",
              "      <td>0</td>\n",
              "      <td>0</td>\n",
              "      <td>0</td>\n",
              "      <td>0</td>\n",
              "      <td>1</td>\n",
              "      <td>0</td>\n",
              "      <td>0</td>\n",
              "      <td>0</td>\n",
              "      <td>1</td>\n",
              "      <td>0</td>\n",
              "    </tr>\n",
              "    <tr>\n",
              "      <th>1</th>\n",
              "      <td>0.452055</td>\n",
              "      <td>0.800000</td>\n",
              "      <td>1</td>\n",
              "      <td>0</td>\n",
              "      <td>0</td>\n",
              "      <td>0.00000</td>\n",
              "      <td>0.0</td>\n",
              "      <td>0.122449</td>\n",
              "      <td>1</td>\n",
              "      <td>0</td>\n",
              "      <td>0</td>\n",
              "      <td>0</td>\n",
              "      <td>0</td>\n",
              "      <td>1</td>\n",
              "      <td>0</td>\n",
              "      <td>0</td>\n",
              "      <td>0</td>\n",
              "      <td>0</td>\n",
              "      <td>0</td>\n",
              "      <td>1</td>\n",
              "      <td>0</td>\n",
              "      <td>0</td>\n",
              "      <td>0</td>\n",
              "      <td>0</td>\n",
              "      <td>0</td>\n",
              "      <td>0</td>\n",
              "      <td>0</td>\n",
              "      <td>0</td>\n",
              "      <td>0</td>\n",
              "      <td>0</td>\n",
              "      <td>1</td>\n",
              "      <td>0</td>\n",
              "      <td>0</td>\n",
              "      <td>1</td>\n",
              "      <td>0</td>\n",
              "      <td>0</td>\n",
              "    </tr>\n",
              "    <tr>\n",
              "      <th>2</th>\n",
              "      <td>0.287671</td>\n",
              "      <td>0.533333</td>\n",
              "      <td>0</td>\n",
              "      <td>0</td>\n",
              "      <td>0</td>\n",
              "      <td>0.00000</td>\n",
              "      <td>0.0</td>\n",
              "      <td>0.397959</td>\n",
              "      <td>1</td>\n",
              "      <td>0</td>\n",
              "      <td>0</td>\n",
              "      <td>1</td>\n",
              "      <td>0</td>\n",
              "      <td>0</td>\n",
              "      <td>0</td>\n",
              "      <td>0</td>\n",
              "      <td>0</td>\n",
              "      <td>0</td>\n",
              "      <td>0</td>\n",
              "      <td>0</td>\n",
              "      <td>0</td>\n",
              "      <td>1</td>\n",
              "      <td>0</td>\n",
              "      <td>0</td>\n",
              "      <td>0</td>\n",
              "      <td>0</td>\n",
              "      <td>0</td>\n",
              "      <td>0</td>\n",
              "      <td>0</td>\n",
              "      <td>0</td>\n",
              "      <td>0</td>\n",
              "      <td>0</td>\n",
              "      <td>1</td>\n",
              "      <td>0</td>\n",
              "      <td>0</td>\n",
              "      <td>1</td>\n",
              "    </tr>\n",
              "    <tr>\n",
              "      <th>3</th>\n",
              "      <td>0.493151</td>\n",
              "      <td>0.400000</td>\n",
              "      <td>1</td>\n",
              "      <td>1</td>\n",
              "      <td>0</td>\n",
              "      <td>0.00000</td>\n",
              "      <td>0.0</td>\n",
              "      <td>0.397959</td>\n",
              "      <td>1</td>\n",
              "      <td>0</td>\n",
              "      <td>0</td>\n",
              "      <td>1</td>\n",
              "      <td>0</td>\n",
              "      <td>0</td>\n",
              "      <td>0</td>\n",
              "      <td>0</td>\n",
              "      <td>0</td>\n",
              "      <td>0</td>\n",
              "      <td>0</td>\n",
              "      <td>0</td>\n",
              "      <td>0</td>\n",
              "      <td>1</td>\n",
              "      <td>0</td>\n",
              "      <td>0</td>\n",
              "      <td>0</td>\n",
              "      <td>0</td>\n",
              "      <td>0</td>\n",
              "      <td>0</td>\n",
              "      <td>0</td>\n",
              "      <td>0</td>\n",
              "      <td>0</td>\n",
              "      <td>1</td>\n",
              "      <td>0</td>\n",
              "      <td>1</td>\n",
              "      <td>0</td>\n",
              "      <td>0</td>\n",
              "    </tr>\n",
              "    <tr>\n",
              "      <th>4</th>\n",
              "      <td>0.150685</td>\n",
              "      <td>0.800000</td>\n",
              "      <td>1</td>\n",
              "      <td>1</td>\n",
              "      <td>1</td>\n",
              "      <td>0.00000</td>\n",
              "      <td>0.0</td>\n",
              "      <td>0.397959</td>\n",
              "      <td>0</td>\n",
              "      <td>0</td>\n",
              "      <td>0</td>\n",
              "      <td>1</td>\n",
              "      <td>0</td>\n",
              "      <td>0</td>\n",
              "      <td>0</td>\n",
              "      <td>0</td>\n",
              "      <td>0</td>\n",
              "      <td>0</td>\n",
              "      <td>0</td>\n",
              "      <td>0</td>\n",
              "      <td>0</td>\n",
              "      <td>0</td>\n",
              "      <td>0</td>\n",
              "      <td>0</td>\n",
              "      <td>0</td>\n",
              "      <td>1</td>\n",
              "      <td>0</td>\n",
              "      <td>0</td>\n",
              "      <td>0</td>\n",
              "      <td>0</td>\n",
              "      <td>1</td>\n",
              "      <td>0</td>\n",
              "      <td>0</td>\n",
              "      <td>1</td>\n",
              "      <td>0</td>\n",
              "      <td>0</td>\n",
              "    </tr>\n",
              "  </tbody>\n",
              "</table>\n",
              "</div>"
            ],
            "text/plain": [
              "        age  education-num  relationship  ...  Married  Never-married  Not-married\n",
              "0  0.301370       0.800000             0  ...        0              1            0\n",
              "1  0.452055       0.800000             1  ...        1              0            0\n",
              "2  0.287671       0.533333             0  ...        0              0            1\n",
              "3  0.493151       0.400000             1  ...        1              0            0\n",
              "4  0.150685       0.800000             1  ...        1              0            0\n",
              "\n",
              "[5 rows x 36 columns]"
            ]
          },
          "metadata": {
            "tags": []
          },
          "execution_count": 28
        }
      ]
    },
    {
      "cell_type": "markdown",
      "metadata": {
        "id": "-19MwhkncTtQ"
      },
      "source": [
        "With the final dataframe made, there is only one more step to be done before it is fit into the regression model. Income needs to be moved to the last column in order to make it easier to plug into the model. "
      ]
    },
    {
      "cell_type": "code",
      "metadata": {
        "id": "xMDiCBcecfxr"
      },
      "source": [
        "df_final.columns = ['age', 'education-num', 'relationship', 'race', 'sex', 'capital-gain',\n",
        "       'capital-loss', 'hours-per-week', 'native-country',\n",
        "       'worktype_ ?', 'worktype_ Private', 'worktype_Gov-employed',\n",
        "       'worktype_Self-employed', 'worktype_Unemployed', 'job_ ?',\n",
        "       'job_ Adm-clerical', 'job_ Armed-Forces', 'job_ Craft-repair',\n",
        "       'job_ Exec-managerial', 'job_ Farming-fishing',\n",
        "       'job_ Handlers-cleaners', 'job_ Machine-op-inspct',\n",
        "       'job_ Other-service', 'job_ Priv-house-serv', 'job_ Prof-specialty',\n",
        "       'job_ Protective-serv', 'job_ Sales', 'job_ Tech-support',\n",
        "       'job_ Transport-moving', 'schooling_Higher-education',\n",
        "       'schooling_No-highschool-grad', 'schooling_Some-college', 'Married',\n",
        "       'Never-married', 'Not-married', 'income']  # moving income column to the end"
      ],
      "execution_count": null,
      "outputs": []
    },
    {
      "cell_type": "markdown",
      "metadata": {
        "id": "cV749vLzc7OF"
      },
      "source": [
        "### Model Fit/Evaluation\n",
        "The pingouin logistic regression tool allows for us to see the coefficient as well as other statistics about each feature, which will allow us to reduce the model based on the weak coefficients. Then, the surviving features will be plugged into the sklearn logistic regression object in order to find the accuracies. "
      ]
    },
    {
      "cell_type": "markdown",
      "metadata": {
        "id": "CQqmshGvdEEO"
      },
      "source": [
        "This will create the list of features to be used, removing the outcome variable, income. "
      ]
    },
    {
      "cell_type": "code",
      "metadata": {
        "colab": {
          "base_uri": "https://localhost:8080/"
        },
        "id": "MGRWiWGIc6yg",
        "outputId": "09e252e9-cfa0-4d79-f69b-aae7218a815d"
      },
      "source": [
        "final_cols = df_final.columns[:-1].to_list()\n",
        "final_cols"
      ],
      "execution_count": null,
      "outputs": [
        {
          "output_type": "execute_result",
          "data": {
            "text/plain": [
              "['age',\n",
              " 'education-num',\n",
              " 'relationship',\n",
              " 'race',\n",
              " 'sex',\n",
              " 'capital-gain',\n",
              " 'capital-loss',\n",
              " 'hours-per-week',\n",
              " 'native-country',\n",
              " 'worktype_ ?',\n",
              " 'worktype_ Private',\n",
              " 'worktype_Gov-employed',\n",
              " 'worktype_Self-employed',\n",
              " 'worktype_Unemployed',\n",
              " 'job_ ?',\n",
              " 'job_ Adm-clerical',\n",
              " 'job_ Armed-Forces',\n",
              " 'job_ Craft-repair',\n",
              " 'job_ Exec-managerial',\n",
              " 'job_ Farming-fishing',\n",
              " 'job_ Handlers-cleaners',\n",
              " 'job_ Machine-op-inspct',\n",
              " 'job_ Other-service',\n",
              " 'job_ Priv-house-serv',\n",
              " 'job_ Prof-specialty',\n",
              " 'job_ Protective-serv',\n",
              " 'job_ Sales',\n",
              " 'job_ Tech-support',\n",
              " 'job_ Transport-moving',\n",
              " 'schooling_Higher-education',\n",
              " 'schooling_No-highschool-grad',\n",
              " 'schooling_Some-college',\n",
              " 'Married',\n",
              " 'Never-married',\n",
              " 'Not-married']"
            ]
          },
          "metadata": {
            "tags": []
          },
          "execution_count": 30
        }
      ]
    },
    {
      "cell_type": "code",
      "metadata": {
        "colab": {
          "base_uri": "https://localhost:8080/",
          "height": 1000
        },
        "id": "WwkjGRcWdLcL",
        "outputId": "ccd1da14-76a0-4fb8-e961-23100d114e81"
      },
      "source": [
        "pg.logistic_regression(df_final[final_cols], df['income'])"
      ],
      "execution_count": null,
      "outputs": [
        {
          "output_type": "execute_result",
          "data": {
            "text/html": [
              "<div>\n",
              "<style scoped>\n",
              "    .dataframe tbody tr th:only-of-type {\n",
              "        vertical-align: middle;\n",
              "    }\n",
              "\n",
              "    .dataframe tbody tr th {\n",
              "        vertical-align: top;\n",
              "    }\n",
              "\n",
              "    .dataframe thead th {\n",
              "        text-align: right;\n",
              "    }\n",
              "</style>\n",
              "<table border=\"1\" class=\"dataframe\">\n",
              "  <thead>\n",
              "    <tr style=\"text-align: right;\">\n",
              "      <th></th>\n",
              "      <th>names</th>\n",
              "      <th>coef</th>\n",
              "      <th>se</th>\n",
              "      <th>z</th>\n",
              "      <th>pval</th>\n",
              "      <th>CI[2.5%]</th>\n",
              "      <th>CI[97.5%]</th>\n",
              "    </tr>\n",
              "  </thead>\n",
              "  <tbody>\n",
              "    <tr>\n",
              "      <th>0</th>\n",
              "      <td>Intercept</td>\n",
              "      <td>-9.474575</td>\n",
              "      <td>532.789395</td>\n",
              "      <td>-1.778296e-02</td>\n",
              "      <td>0.985812</td>\n",
              "      <td>-1053.722601</td>\n",
              "      <td>1034.773451</td>\n",
              "    </tr>\n",
              "    <tr>\n",
              "      <th>1</th>\n",
              "      <td>age</td>\n",
              "      <td>-1.149148</td>\n",
              "      <td>480.927348</td>\n",
              "      <td>-2.389441e-03</td>\n",
              "      <td>0.998094</td>\n",
              "      <td>-943.749429</td>\n",
              "      <td>941.451134</td>\n",
              "    </tr>\n",
              "    <tr>\n",
              "      <th>2</th>\n",
              "      <td>education-num</td>\n",
              "      <td>-2.180825</td>\n",
              "      <td>640.025864</td>\n",
              "      <td>-3.407401e-03</td>\n",
              "      <td>0.997281</td>\n",
              "      <td>-1256.608466</td>\n",
              "      <td>1252.246817</td>\n",
              "    </tr>\n",
              "    <tr>\n",
              "      <th>3</th>\n",
              "      <td>relationship</td>\n",
              "      <td>-0.586053</td>\n",
              "      <td>291.175829</td>\n",
              "      <td>-2.012711e-03</td>\n",
              "      <td>0.998394</td>\n",
              "      <td>-571.280191</td>\n",
              "      <td>570.108085</td>\n",
              "    </tr>\n",
              "    <tr>\n",
              "      <th>4</th>\n",
              "      <td>race</td>\n",
              "      <td>-0.520853</td>\n",
              "      <td>234.368751</td>\n",
              "      <td>-2.222364e-03</td>\n",
              "      <td>0.998227</td>\n",
              "      <td>-459.875163</td>\n",
              "      <td>458.833458</td>\n",
              "    </tr>\n",
              "    <tr>\n",
              "      <th>5</th>\n",
              "      <td>sex</td>\n",
              "      <td>-0.783450</td>\n",
              "      <td>203.453521</td>\n",
              "      <td>-3.850757e-03</td>\n",
              "      <td>0.996928</td>\n",
              "      <td>-399.545024</td>\n",
              "      <td>397.978123</td>\n",
              "    </tr>\n",
              "    <tr>\n",
              "      <th>6</th>\n",
              "      <td>capital-gain</td>\n",
              "      <td>1.278642</td>\n",
              "      <td>1202.972067</td>\n",
              "      <td>1.062902e-03</td>\n",
              "      <td>0.999152</td>\n",
              "      <td>-2356.503284</td>\n",
              "      <td>2359.060568</td>\n",
              "    </tr>\n",
              "    <tr>\n",
              "      <th>7</th>\n",
              "      <td>capital-loss</td>\n",
              "      <td>0.653371</td>\n",
              "      <td>730.869221</td>\n",
              "      <td>8.939650e-04</td>\n",
              "      <td>0.999287</td>\n",
              "      <td>-1431.823980</td>\n",
              "      <td>1433.130723</td>\n",
              "    </tr>\n",
              "    <tr>\n",
              "      <th>8</th>\n",
              "      <td>hours-per-week</td>\n",
              "      <td>-1.426605</td>\n",
              "      <td>622.674142</td>\n",
              "      <td>-2.291094e-03</td>\n",
              "      <td>0.998172</td>\n",
              "      <td>-1221.845498</td>\n",
              "      <td>1218.992288</td>\n",
              "    </tr>\n",
              "    <tr>\n",
              "      <th>9</th>\n",
              "      <td>native-country</td>\n",
              "      <td>-0.857208</td>\n",
              "      <td>222.895364</td>\n",
              "      <td>-3.845787e-03</td>\n",
              "      <td>0.996932</td>\n",
              "      <td>-437.724093</td>\n",
              "      <td>436.009677</td>\n",
              "    </tr>\n",
              "    <tr>\n",
              "      <th>10</th>\n",
              "      <td>worktype_ ?</td>\n",
              "      <td>38.343413</td>\n",
              "      <td>193.831379</td>\n",
              "      <td>1.978184e-01</td>\n",
              "      <td>0.843187</td>\n",
              "      <td>-341.559109</td>\n",
              "      <td>418.245935</td>\n",
              "    </tr>\n",
              "    <tr>\n",
              "      <th>11</th>\n",
              "      <td>worktype_ Private</td>\n",
              "      <td>-1.634385</td>\n",
              "      <td>2489.095011</td>\n",
              "      <td>-6.566182e-04</td>\n",
              "      <td>0.999476</td>\n",
              "      <td>-4880.170961</td>\n",
              "      <td>4876.902191</td>\n",
              "    </tr>\n",
              "    <tr>\n",
              "      <th>12</th>\n",
              "      <td>worktype_Gov-employed</td>\n",
              "      <td>-2.790723</td>\n",
              "      <td>713.508166</td>\n",
              "      <td>-3.911270e-03</td>\n",
              "      <td>0.996879</td>\n",
              "      <td>-1401.241031</td>\n",
              "      <td>1395.659585</td>\n",
              "    </tr>\n",
              "    <tr>\n",
              "      <th>13</th>\n",
              "      <td>worktype_Self-employed</td>\n",
              "      <td>-2.525465</td>\n",
              "      <td>726.514209</td>\n",
              "      <td>-3.476140e-03</td>\n",
              "      <td>0.997226</td>\n",
              "      <td>-1426.467148</td>\n",
              "      <td>1421.416218</td>\n",
              "    </tr>\n",
              "    <tr>\n",
              "      <th>14</th>\n",
              "      <td>worktype_Unemployed</td>\n",
              "      <td>-2.411879</td>\n",
              "      <td>725.597224</td>\n",
              "      <td>-3.323992e-03</td>\n",
              "      <td>0.997348</td>\n",
              "      <td>-1424.556306</td>\n",
              "      <td>1419.732547</td>\n",
              "    </tr>\n",
              "    <tr>\n",
              "      <th>15</th>\n",
              "      <td>job_ ?</td>\n",
              "      <td>-0.112122</td>\n",
              "      <td>993.830926</td>\n",
              "      <td>-1.128179e-04</td>\n",
              "      <td>0.999910</td>\n",
              "      <td>-1947.984944</td>\n",
              "      <td>1947.760700</td>\n",
              "    </tr>\n",
              "    <tr>\n",
              "      <th>16</th>\n",
              "      <td>job_ Adm-clerical</td>\n",
              "      <td>-1.658041</td>\n",
              "      <td>2908.952356</td>\n",
              "      <td>-5.699787e-04</td>\n",
              "      <td>0.999545</td>\n",
              "      <td>-5703.099890</td>\n",
              "      <td>5699.783809</td>\n",
              "    </tr>\n",
              "    <tr>\n",
              "      <th>17</th>\n",
              "      <td>job_ Armed-Forces</td>\n",
              "      <td>-0.573241</td>\n",
              "      <td>440.076458</td>\n",
              "      <td>-1.302594e-03</td>\n",
              "      <td>0.998961</td>\n",
              "      <td>-863.107249</td>\n",
              "      <td>861.960767</td>\n",
              "    </tr>\n",
              "    <tr>\n",
              "      <th>18</th>\n",
              "      <td>job_ Craft-repair</td>\n",
              "      <td>-0.003473</td>\n",
              "      <td>3872.362722</td>\n",
              "      <td>-8.968387e-07</td>\n",
              "      <td>0.999999</td>\n",
              "      <td>-7589.694943</td>\n",
              "      <td>7589.687998</td>\n",
              "    </tr>\n",
              "    <tr>\n",
              "      <th>19</th>\n",
              "      <td>job_ Exec-managerial</td>\n",
              "      <td>-0.812823</td>\n",
              "      <td>418.745320</td>\n",
              "      <td>-1.941092e-03</td>\n",
              "      <td>0.998451</td>\n",
              "      <td>-821.538569</td>\n",
              "      <td>819.912922</td>\n",
              "    </tr>\n",
              "    <tr>\n",
              "      <th>20</th>\n",
              "      <td>job_ Farming-fishing</td>\n",
              "      <td>-0.123975</td>\n",
              "      <td>415.294450</td>\n",
              "      <td>-2.985230e-04</td>\n",
              "      <td>0.999762</td>\n",
              "      <td>-814.086140</td>\n",
              "      <td>813.838190</td>\n",
              "    </tr>\n",
              "    <tr>\n",
              "      <th>21</th>\n",
              "      <td>job_ Handlers-cleaners</td>\n",
              "      <td>-1.066536</td>\n",
              "      <td>542.321479</td>\n",
              "      <td>-1.966612e-03</td>\n",
              "      <td>0.998431</td>\n",
              "      <td>-1063.997103</td>\n",
              "      <td>1061.864031</td>\n",
              "    </tr>\n",
              "    <tr>\n",
              "      <th>22</th>\n",
              "      <td>job_ Machine-op-inspct</td>\n",
              "      <td>-1.088741</td>\n",
              "      <td>559.178700</td>\n",
              "      <td>-1.947036e-03</td>\n",
              "      <td>0.998446</td>\n",
              "      <td>-1097.058853</td>\n",
              "      <td>1094.881371</td>\n",
              "    </tr>\n",
              "    <tr>\n",
              "      <th>23</th>\n",
              "      <td>job_ Other-service</td>\n",
              "      <td>-0.917202</td>\n",
              "      <td>481.331802</td>\n",
              "      <td>-1.905549e-03</td>\n",
              "      <td>0.998480</td>\n",
              "      <td>-944.310198</td>\n",
              "      <td>942.475795</td>\n",
              "    </tr>\n",
              "    <tr>\n",
              "      <th>24</th>\n",
              "      <td>job_ Priv-house-serv</td>\n",
              "      <td>-1.255625</td>\n",
              "      <td>475.469596</td>\n",
              "      <td>-2.640809e-03</td>\n",
              "      <td>0.997893</td>\n",
              "      <td>-933.158908</td>\n",
              "      <td>930.647659</td>\n",
              "    </tr>\n",
              "    <tr>\n",
              "      <th>25</th>\n",
              "      <td>job_ Prof-specialty</td>\n",
              "      <td>-0.274061</td>\n",
              "      <td>1094.709950</td>\n",
              "      <td>-2.503507e-04</td>\n",
              "      <td>0.999800</td>\n",
              "      <td>-2145.866137</td>\n",
              "      <td>2145.318014</td>\n",
              "    </tr>\n",
              "    <tr>\n",
              "      <th>26</th>\n",
              "      <td>job_ Protective-serv</td>\n",
              "      <td>-0.012251</td>\n",
              "      <td>424.200041</td>\n",
              "      <td>-2.888028e-05</td>\n",
              "      <td>0.999977</td>\n",
              "      <td>-831.429054</td>\n",
              "      <td>831.404552</td>\n",
              "    </tr>\n",
              "    <tr>\n",
              "      <th>27</th>\n",
              "      <td>job_ Sales</td>\n",
              "      <td>-0.333563</td>\n",
              "      <td>583.227523</td>\n",
              "      <td>-5.719257e-04</td>\n",
              "      <td>0.999544</td>\n",
              "      <td>-1143.438504</td>\n",
              "      <td>1142.771378</td>\n",
              "    </tr>\n",
              "    <tr>\n",
              "      <th>28</th>\n",
              "      <td>job_ Tech-support</td>\n",
              "      <td>-0.468872</td>\n",
              "      <td>429.200849</td>\n",
              "      <td>-1.092431e-03</td>\n",
              "      <td>0.999128</td>\n",
              "      <td>-841.687079</td>\n",
              "      <td>840.749335</td>\n",
              "    </tr>\n",
              "    <tr>\n",
              "      <th>29</th>\n",
              "      <td>job_ Transport-moving</td>\n",
              "      <td>-0.195866</td>\n",
              "      <td>540.167008</td>\n",
              "      <td>-3.626033e-04</td>\n",
              "      <td>0.999711</td>\n",
              "      <td>-1058.903747</td>\n",
              "      <td>1058.512014</td>\n",
              "    </tr>\n",
              "    <tr>\n",
              "      <th>30</th>\n",
              "      <td>schooling_Higher-education</td>\n",
              "      <td>-0.690305</td>\n",
              "      <td>479.907269</td>\n",
              "      <td>-1.438413e-03</td>\n",
              "      <td>0.998852</td>\n",
              "      <td>-941.291267</td>\n",
              "      <td>939.910658</td>\n",
              "    </tr>\n",
              "    <tr>\n",
              "      <th>31</th>\n",
              "      <td>schooling_No-highschool-grad</td>\n",
              "      <td>-2.438602</td>\n",
              "      <td>278.087828</td>\n",
              "      <td>-8.769178e-03</td>\n",
              "      <td>0.993003</td>\n",
              "      <td>-547.480730</td>\n",
              "      <td>542.603527</td>\n",
              "    </tr>\n",
              "    <tr>\n",
              "      <th>32</th>\n",
              "      <td>schooling_Some-college</td>\n",
              "      <td>-3.698834</td>\n",
              "      <td>219.827410</td>\n",
              "      <td>-1.682608e-02</td>\n",
              "      <td>0.986575</td>\n",
              "      <td>-434.552640</td>\n",
              "      <td>427.154972</td>\n",
              "    </tr>\n",
              "    <tr>\n",
              "      <th>33</th>\n",
              "      <td>Married</td>\n",
              "      <td>-3.337139</td>\n",
              "      <td>201.633435</td>\n",
              "      <td>-1.655052e-02</td>\n",
              "      <td>0.986795</td>\n",
              "      <td>-398.531411</td>\n",
              "      <td>391.857132</td>\n",
              "    </tr>\n",
              "    <tr>\n",
              "      <th>34</th>\n",
              "      <td>Never-married</td>\n",
              "      <td>0.533211</td>\n",
              "      <td>330.321330</td>\n",
              "      <td>1.614218e-03</td>\n",
              "      <td>0.998712</td>\n",
              "      <td>-646.884700</td>\n",
              "      <td>647.951122</td>\n",
              "    </tr>\n",
              "    <tr>\n",
              "      <th>35</th>\n",
              "      <td>Not-married</td>\n",
              "      <td>-1.258240</td>\n",
              "      <td>272.111012</td>\n",
              "      <td>-4.623995e-03</td>\n",
              "      <td>0.996311</td>\n",
              "      <td>-534.586023</td>\n",
              "      <td>532.069543</td>\n",
              "    </tr>\n",
              "  </tbody>\n",
              "</table>\n",
              "</div>"
            ],
            "text/plain": [
              "                           names       coef  ...     CI[2.5%]    CI[97.5%]\n",
              "0                      Intercept  -9.474575  ... -1053.722601  1034.773451\n",
              "1                            age  -1.149148  ...  -943.749429   941.451134\n",
              "2                  education-num  -2.180825  ... -1256.608466  1252.246817\n",
              "3                   relationship  -0.586053  ...  -571.280191   570.108085\n",
              "4                           race  -0.520853  ...  -459.875163   458.833458\n",
              "5                            sex  -0.783450  ...  -399.545024   397.978123\n",
              "6                   capital-gain   1.278642  ... -2356.503284  2359.060568\n",
              "7                   capital-loss   0.653371  ... -1431.823980  1433.130723\n",
              "8                 hours-per-week  -1.426605  ... -1221.845498  1218.992288\n",
              "9                 native-country  -0.857208  ...  -437.724093   436.009677\n",
              "10                   worktype_ ?  38.343413  ...  -341.559109   418.245935\n",
              "11             worktype_ Private  -1.634385  ... -4880.170961  4876.902191\n",
              "12         worktype_Gov-employed  -2.790723  ... -1401.241031  1395.659585\n",
              "13        worktype_Self-employed  -2.525465  ... -1426.467148  1421.416218\n",
              "14           worktype_Unemployed  -2.411879  ... -1424.556306  1419.732547\n",
              "15                        job_ ?  -0.112122  ... -1947.984944  1947.760700\n",
              "16             job_ Adm-clerical  -1.658041  ... -5703.099890  5699.783809\n",
              "17             job_ Armed-Forces  -0.573241  ...  -863.107249   861.960767\n",
              "18             job_ Craft-repair  -0.003473  ... -7589.694943  7589.687998\n",
              "19          job_ Exec-managerial  -0.812823  ...  -821.538569   819.912922\n",
              "20          job_ Farming-fishing  -0.123975  ...  -814.086140   813.838190\n",
              "21        job_ Handlers-cleaners  -1.066536  ... -1063.997103  1061.864031\n",
              "22        job_ Machine-op-inspct  -1.088741  ... -1097.058853  1094.881371\n",
              "23            job_ Other-service  -0.917202  ...  -944.310198   942.475795\n",
              "24          job_ Priv-house-serv  -1.255625  ...  -933.158908   930.647659\n",
              "25           job_ Prof-specialty  -0.274061  ... -2145.866137  2145.318014\n",
              "26          job_ Protective-serv  -0.012251  ...  -831.429054   831.404552\n",
              "27                    job_ Sales  -0.333563  ... -1143.438504  1142.771378\n",
              "28             job_ Tech-support  -0.468872  ...  -841.687079   840.749335\n",
              "29         job_ Transport-moving  -0.195866  ... -1058.903747  1058.512014\n",
              "30    schooling_Higher-education  -0.690305  ...  -941.291267   939.910658\n",
              "31  schooling_No-highschool-grad  -2.438602  ...  -547.480730   542.603527\n",
              "32        schooling_Some-college  -3.698834  ...  -434.552640   427.154972\n",
              "33                       Married  -3.337139  ...  -398.531411   391.857132\n",
              "34                 Never-married   0.533211  ...  -646.884700   647.951122\n",
              "35                   Not-married  -1.258240  ...  -534.586023   532.069543\n",
              "\n",
              "[36 rows x 7 columns]"
            ]
          },
          "metadata": {
            "tags": []
          },
          "execution_count": 31
        }
      ]
    },
    {
      "cell_type": "markdown",
      "metadata": {
        "id": "17spZfe6eIXA"
      },
      "source": [
        "Time to remove the features with the weakest coefficients, as they are causing the model to overfit. Most of these will be the specific job types. "
      ]
    },
    {
      "cell_type": "code",
      "metadata": {
        "id": "OTKevoQBe58L"
      },
      "source": [
        "cols_to_remove = ('relationship', 'worktype_ ?', 'worktype_ Private', 'worktype_Gov-employed',\n",
        "       'worktype_Self-employed', 'worktype_Unemployed', 'job_ ?',\n",
        "       'job_ Adm-clerical', 'job_ Armed-Forces', 'job_ Craft-repair',\n",
        "       'job_ Exec-managerial', 'job_ Farming-fishing',\n",
        "       'job_ Handlers-cleaners', 'job_ Machine-op-inspct',\n",
        "       'job_ Other-service', 'job_ Priv-house-serv', 'job_ Prof-specialty',\n",
        "       'job_ Protective-serv', 'job_ Sales', 'job_ Tech-support',\n",
        "       'job_ Transport-moving', 'capital-gain', 'capital-loss')\n",
        "\n",
        "for i in cols_to_remove:\n",
        "  final_cols.remove(i)"
      ],
      "execution_count": null,
      "outputs": []
    },
    {
      "cell_type": "code",
      "metadata": {
        "colab": {
          "base_uri": "https://localhost:8080/",
          "height": 452
        },
        "id": "nUhdFjiZfBzZ",
        "outputId": "4019db84-3b21-4207-bc51-e204e47af550"
      },
      "source": [
        "pg.logistic_regression(df_final[final_cols], df['income'])"
      ],
      "execution_count": null,
      "outputs": [
        {
          "output_type": "execute_result",
          "data": {
            "text/html": [
              "<div>\n",
              "<style scoped>\n",
              "    .dataframe tbody tr th:only-of-type {\n",
              "        vertical-align: middle;\n",
              "    }\n",
              "\n",
              "    .dataframe tbody tr th {\n",
              "        vertical-align: top;\n",
              "    }\n",
              "\n",
              "    .dataframe thead th {\n",
              "        text-align: right;\n",
              "    }\n",
              "</style>\n",
              "<table border=\"1\" class=\"dataframe\">\n",
              "  <thead>\n",
              "    <tr style=\"text-align: right;\">\n",
              "      <th></th>\n",
              "      <th>names</th>\n",
              "      <th>coef</th>\n",
              "      <th>se</th>\n",
              "      <th>z</th>\n",
              "      <th>pval</th>\n",
              "      <th>CI[2.5%]</th>\n",
              "      <th>CI[97.5%]</th>\n",
              "    </tr>\n",
              "  </thead>\n",
              "  <tbody>\n",
              "    <tr>\n",
              "      <th>0</th>\n",
              "      <td>Intercept</td>\n",
              "      <td>-5.837924</td>\n",
              "      <td>0.098403</td>\n",
              "      <td>-59.326752</td>\n",
              "      <td>0.000000e+00</td>\n",
              "      <td>-6.030791</td>\n",
              "      <td>-5.645058</td>\n",
              "    </tr>\n",
              "    <tr>\n",
              "      <th>1</th>\n",
              "      <td>age</td>\n",
              "      <td>1.792582</td>\n",
              "      <td>0.084976</td>\n",
              "      <td>21.095160</td>\n",
              "      <td>8.810755e-99</td>\n",
              "      <td>1.626032</td>\n",
              "      <td>1.959132</td>\n",
              "    </tr>\n",
              "    <tr>\n",
              "      <th>2</th>\n",
              "      <td>education-num</td>\n",
              "      <td>5.458467</td>\n",
              "      <td>0.140864</td>\n",
              "      <td>38.749937</td>\n",
              "      <td>0.000000e+00</td>\n",
              "      <td>5.182379</td>\n",
              "      <td>5.734555</td>\n",
              "    </tr>\n",
              "    <tr>\n",
              "      <th>3</th>\n",
              "      <td>race</td>\n",
              "      <td>-0.243972</td>\n",
              "      <td>0.043890</td>\n",
              "      <td>-5.558764</td>\n",
              "      <td>2.716915e-08</td>\n",
              "      <td>-0.329995</td>\n",
              "      <td>-0.157950</td>\n",
              "    </tr>\n",
              "    <tr>\n",
              "      <th>4</th>\n",
              "      <td>sex</td>\n",
              "      <td>-0.219387</td>\n",
              "      <td>0.036764</td>\n",
              "      <td>-5.967440</td>\n",
              "      <td>2.410046e-09</td>\n",
              "      <td>-0.291443</td>\n",
              "      <td>-0.147331</td>\n",
              "    </tr>\n",
              "    <tr>\n",
              "      <th>5</th>\n",
              "      <td>hours-per-week</td>\n",
              "      <td>2.991702</td>\n",
              "      <td>0.112178</td>\n",
              "      <td>26.669324</td>\n",
              "      <td>1.068391e-156</td>\n",
              "      <td>2.771838</td>\n",
              "      <td>3.211566</td>\n",
              "    </tr>\n",
              "    <tr>\n",
              "      <th>6</th>\n",
              "      <td>native-country</td>\n",
              "      <td>0.296814</td>\n",
              "      <td>0.048270</td>\n",
              "      <td>6.149000</td>\n",
              "      <td>7.797282e-10</td>\n",
              "      <td>0.202206</td>\n",
              "      <td>0.391422</td>\n",
              "    </tr>\n",
              "    <tr>\n",
              "      <th>7</th>\n",
              "      <td>schooling_Higher-education</td>\n",
              "      <td>-0.177402</td>\n",
              "      <td>0.061680</td>\n",
              "      <td>-2.876174</td>\n",
              "      <td>4.025275e-03</td>\n",
              "      <td>-0.298293</td>\n",
              "      <td>-0.056512</td>\n",
              "    </tr>\n",
              "    <tr>\n",
              "      <th>8</th>\n",
              "      <td>schooling_No-highschool-grad</td>\n",
              "      <td>-1.967305</td>\n",
              "      <td>0.058247</td>\n",
              "      <td>-33.775472</td>\n",
              "      <td>4.520510e-250</td>\n",
              "      <td>-2.081466</td>\n",
              "      <td>-1.853144</td>\n",
              "    </tr>\n",
              "    <tr>\n",
              "      <th>9</th>\n",
              "      <td>schooling_Some-college</td>\n",
              "      <td>-1.876033</td>\n",
              "      <td>0.043679</td>\n",
              "      <td>-42.950064</td>\n",
              "      <td>0.000000e+00</td>\n",
              "      <td>-1.961643</td>\n",
              "      <td>-1.790423</td>\n",
              "    </tr>\n",
              "    <tr>\n",
              "      <th>10</th>\n",
              "      <td>Married</td>\n",
              "      <td>-1.994587</td>\n",
              "      <td>0.034006</td>\n",
              "      <td>-58.654029</td>\n",
              "      <td>0.000000e+00</td>\n",
              "      <td>-2.061237</td>\n",
              "      <td>-1.927936</td>\n",
              "    </tr>\n",
              "    <tr>\n",
              "      <th>11</th>\n",
              "      <td>Never-married</td>\n",
              "      <td>1.993304</td>\n",
              "      <td>0.044169</td>\n",
              "      <td>45.129357</td>\n",
              "      <td>0.000000e+00</td>\n",
              "      <td>1.906735</td>\n",
              "      <td>2.079873</td>\n",
              "    </tr>\n",
              "    <tr>\n",
              "      <th>12</th>\n",
              "      <td>Not-married</td>\n",
              "      <td>-0.434744</td>\n",
              "      <td>0.057341</td>\n",
              "      <td>-7.581751</td>\n",
              "      <td>3.409220e-14</td>\n",
              "      <td>-0.547130</td>\n",
              "      <td>-0.322358</td>\n",
              "    </tr>\n",
              "  </tbody>\n",
              "</table>\n",
              "</div>"
            ],
            "text/plain": [
              "                           names      coef  ...  CI[2.5%]  CI[97.5%]\n",
              "0                      Intercept -5.837924  ... -6.030791  -5.645058\n",
              "1                            age  1.792582  ...  1.626032   1.959132\n",
              "2                  education-num  5.458467  ...  5.182379   5.734555\n",
              "3                           race -0.243972  ... -0.329995  -0.157950\n",
              "4                            sex -0.219387  ... -0.291443  -0.147331\n",
              "5                 hours-per-week  2.991702  ...  2.771838   3.211566\n",
              "6                 native-country  0.296814  ...  0.202206   0.391422\n",
              "7     schooling_Higher-education -0.177402  ... -0.298293  -0.056512\n",
              "8   schooling_No-highschool-grad -1.967305  ... -2.081466  -1.853144\n",
              "9         schooling_Some-college -1.876033  ... -1.961643  -1.790423\n",
              "10                       Married -1.994587  ... -2.061237  -1.927936\n",
              "11                 Never-married  1.993304  ...  1.906735   2.079873\n",
              "12                   Not-married -0.434744  ... -0.547130  -0.322358\n",
              "\n",
              "[13 rows x 7 columns]"
            ]
          },
          "metadata": {
            "tags": []
          },
          "execution_count": 33
        }
      ]
    },
    {
      "cell_type": "markdown",
      "metadata": {
        "id": "9z8YIHR-gGkg"
      },
      "source": [
        "Sex and race have a weaker coefficient than one might expect, especially with the attention they have gotten in the (inter)national job landscape. "
      ]
    },
    {
      "cell_type": "code",
      "metadata": {
        "id": "yqnSdk4SgGM_"
      },
      "source": [
        "cols_to_remove2 = ('Not-married', 'sex', 'native-country', 'schooling_Higher-education', 'schooling_Some-college')\n",
        "for i in cols_to_remove2:\n",
        "  final_cols.remove(i)"
      ],
      "execution_count": null,
      "outputs": []
    },
    {
      "cell_type": "code",
      "metadata": {
        "colab": {
          "base_uri": "https://localhost:8080/",
          "height": 297
        },
        "id": "UBFKfY-PieF0",
        "outputId": "761d0e77-1fe0-4d16-cd41-2aa66e336c91"
      },
      "source": [
        "pg.logistic_regression(df_final[final_cols], df['income'])"
      ],
      "execution_count": null,
      "outputs": [
        {
          "output_type": "execute_result",
          "data": {
            "text/html": [
              "<div>\n",
              "<style scoped>\n",
              "    .dataframe tbody tr th:only-of-type {\n",
              "        vertical-align: middle;\n",
              "    }\n",
              "\n",
              "    .dataframe tbody tr th {\n",
              "        vertical-align: top;\n",
              "    }\n",
              "\n",
              "    .dataframe thead th {\n",
              "        text-align: right;\n",
              "    }\n",
              "</style>\n",
              "<table border=\"1\" class=\"dataframe\">\n",
              "  <thead>\n",
              "    <tr style=\"text-align: right;\">\n",
              "      <th></th>\n",
              "      <th>names</th>\n",
              "      <th>coef</th>\n",
              "      <th>se</th>\n",
              "      <th>z</th>\n",
              "      <th>pval</th>\n",
              "      <th>CI[2.5%]</th>\n",
              "      <th>CI[97.5%]</th>\n",
              "    </tr>\n",
              "  </thead>\n",
              "  <tbody>\n",
              "    <tr>\n",
              "      <th>0</th>\n",
              "      <td>Intercept</td>\n",
              "      <td>-7.932797</td>\n",
              "      <td>0.109285</td>\n",
              "      <td>-72.588070</td>\n",
              "      <td>0.000000e+00</td>\n",
              "      <td>-8.146992</td>\n",
              "      <td>-7.718602</td>\n",
              "    </tr>\n",
              "    <tr>\n",
              "      <th>1</th>\n",
              "      <td>age</td>\n",
              "      <td>2.009805</td>\n",
              "      <td>0.081202</td>\n",
              "      <td>24.750824</td>\n",
              "      <td>3.037595e-135</td>\n",
              "      <td>1.850653</td>\n",
              "      <td>2.168957</td>\n",
              "    </tr>\n",
              "    <tr>\n",
              "      <th>2</th>\n",
              "      <td>education-num</td>\n",
              "      <td>5.499696</td>\n",
              "      <td>0.139476</td>\n",
              "      <td>39.431191</td>\n",
              "      <td>0.000000e+00</td>\n",
              "      <td>5.226329</td>\n",
              "      <td>5.773064</td>\n",
              "    </tr>\n",
              "    <tr>\n",
              "      <th>3</th>\n",
              "      <td>race</td>\n",
              "      <td>-0.333075</td>\n",
              "      <td>0.042396</td>\n",
              "      <td>-7.856221</td>\n",
              "      <td>3.958951e-15</td>\n",
              "      <td>-0.416170</td>\n",
              "      <td>-0.249980</td>\n",
              "    </tr>\n",
              "    <tr>\n",
              "      <th>4</th>\n",
              "      <td>hours-per-week</td>\n",
              "      <td>3.131871</td>\n",
              "      <td>0.109853</td>\n",
              "      <td>28.509757</td>\n",
              "      <td>8.866963e-179</td>\n",
              "      <td>2.916564</td>\n",
              "      <td>3.347178</td>\n",
              "    </tr>\n",
              "    <tr>\n",
              "      <th>5</th>\n",
              "      <td>schooling_No-highschool-grad</td>\n",
              "      <td>-0.093702</td>\n",
              "      <td>0.069919</td>\n",
              "      <td>-1.340155</td>\n",
              "      <td>1.801950e-01</td>\n",
              "      <td>-0.230741</td>\n",
              "      <td>0.043336</td>\n",
              "    </tr>\n",
              "    <tr>\n",
              "      <th>6</th>\n",
              "      <td>Married</td>\n",
              "      <td>-0.090796</td>\n",
              "      <td>0.052003</td>\n",
              "      <td>-1.745988</td>\n",
              "      <td>8.081300e-02</td>\n",
              "      <td>-0.192720</td>\n",
              "      <td>0.011127</td>\n",
              "    </tr>\n",
              "    <tr>\n",
              "      <th>7</th>\n",
              "      <td>Never-married</td>\n",
              "      <td>2.264553</td>\n",
              "      <td>0.032232</td>\n",
              "      <td>70.256865</td>\n",
              "      <td>0.000000e+00</td>\n",
              "      <td>2.201379</td>\n",
              "      <td>2.327728</td>\n",
              "    </tr>\n",
              "  </tbody>\n",
              "</table>\n",
              "</div>"
            ],
            "text/plain": [
              "                          names      coef  ...  CI[2.5%]  CI[97.5%]\n",
              "0                     Intercept -7.932797  ... -8.146992  -7.718602\n",
              "1                           age  2.009805  ...  1.850653   2.168957\n",
              "2                 education-num  5.499696  ...  5.226329   5.773064\n",
              "3                          race -0.333075  ... -0.416170  -0.249980\n",
              "4                hours-per-week  3.131871  ...  2.916564   3.347178\n",
              "5  schooling_No-highschool-grad -0.093702  ... -0.230741   0.043336\n",
              "6                       Married -0.090796  ... -0.192720   0.011127\n",
              "7                 Never-married  2.264553  ...  2.201379   2.327728\n",
              "\n",
              "[8 rows x 7 columns]"
            ]
          },
          "metadata": {
            "tags": []
          },
          "execution_count": 35
        }
      ]
    },
    {
      "cell_type": "markdown",
      "metadata": {
        "id": "J8SRSqBbidwr"
      },
      "source": [
        "With the final 7 features, it's time to plug into sklearn logistic regression to be able to see the accuracies. "
      ]
    },
    {
      "cell_type": "code",
      "metadata": {
        "colab": {
          "base_uri": "https://localhost:8080/"
        },
        "id": "z_SYE3vQi2oc",
        "outputId": "ba619a15-9404-4847-b947-3fa401da2c86"
      },
      "source": [
        "X = df_final[final_cols]  # grab final_cols list\n",
        "y = df_final['income']\n",
        "\n",
        "# using the train_test_split method to create testing and training datasets\n",
        "X_train, X_test, y_train, y_test = train_test_split(X, y, test_size=0.25)\n",
        "\n",
        "# create and fit the model\n",
        "logmodel = LogisticRegression(max_iter=4000, class_weight = 'balanced').fit(X_train, y_train)\n",
        "\n",
        "# create parameter estimates\n",
        "loglist = logmodel.coef_.tolist()[0]\n",
        "print(loglist)\n",
        "parameter_estimates = list(zip(X.columns, loglist))\n",
        "\n",
        "#create predictions\n",
        "predictions = logmodel.predict(X_test)\n",
        "\n",
        "# examine results\n",
        "print_model_reports(logmodel, predictions, y_test, 'below or eqaul to 50k', 'above 50k',\n",
        "                    parameter_report = False,\n",
        "                    odds_ratio_report = False)"
      ],
      "execution_count": null,
      "outputs": [
        {
          "output_type": "stream",
          "text": [
            "[9.919600346793853, -0.759713550900988, -0.2504754753155635, 1.339738091703385, -0.32830975252540484, 0.3437234444416832, -10.445582953948817]\n",
            "Prediction accuracy:  0.8702317612047975\n",
            "The y-intercept of our model is -1.85\n",
            "\n",
            "\n",
            "Classification Report:\n",
            "\n",
            "              precision    recall  f1-score   support\n",
            "\n",
            "           0       0.98      0.85      0.91      8747\n",
            "           1       0.63      0.93      0.75      2342\n",
            "\n",
            "    accuracy                           0.87     11089\n",
            "   macro avg       0.80      0.89      0.83     11089\n",
            "weighted avg       0.90      0.87      0.88     11089\n",
            "\n",
            "\n",
            "Confusion Matrix:\n",
            "\n",
            "\tOur logistic regression model predicted the following when applied to the test data:\n",
            "\n",
            "\tIt correctly predicted 7476 of 8747 below or eqaul to 50k, \n",
            "           but incorrectly predicted 1271 below or eqaul to 50k that did not occur.\n",
            "\n",
            "\tIt correctly predicted 2174 of 2342 above 50k, \n",
            "           but incorrectly predicted 168 above 50k that did not occur.\n",
            "\n"
          ],
          "name": "stdout"
        }
      ]
    },
    {
      "cell_type": "markdown",
      "metadata": {
        "id": "I0FlEfeTjhod"
      },
      "source": [
        "As we can see, the precision and f1-score for above - $50k are much lower than for below $50k. This can be attributed to the sheer difference in the number of people who make below/above 50k."
      ]
    },
    {
      "cell_type": "markdown",
      "metadata": {
        "id": "Fo3cRTdxl6w5"
      },
      "source": [
        "### Data Visualizations"
      ]
    },
    {
      "cell_type": "code",
      "metadata": {
        "colab": {
          "base_uri": "https://localhost:8080/",
          "height": 295
        },
        "id": "GsnbdKW1l9dQ",
        "outputId": "6bd5c08d-84cb-4b7f-c18f-c78b4a4a83a2"
      },
      "source": [
        "sns.barplot(x=df_final['race'],\n",
        "            y=df['income'],\n",
        "            data=df_final)\n",
        "\n",
        "plt.title('Ratio of White to Minorities with Income')\n",
        "plt.show()"
      ],
      "execution_count": null,
      "outputs": [
        {
          "output_type": "display_data",
          "data": {
            "image/png": "[encoded data removed]",
            "text/plain": [
              "<Figure size 432x288 with 1 Axes>"
            ]
          },
          "metadata": {
            "tags": [],
            "needs_background": "light"
          }
        }
      ]
    },
    {
      "cell_type": "markdown",
      "metadata": {
        "id": "wkKesqq8mOO_"
      },
      "source": [
        "This shows that, on avg, white people make around 10 percentage points more money than minorities. "
      ]
    },
    {
      "cell_type": "code",
      "metadata": {
        "colab": {
          "base_uri": "https://localhost:8080/",
          "height": 349
        },
        "id": "UGG-SOIKm5sH",
        "outputId": "868f925a-20e5-4533-b503-66eb2cdb2d99"
      },
      "source": [
        "sns.distplot(df['age'], kde=False, bins=10)\n",
        "plt.title('Age Distribution of Dataset')\n",
        "plt.show()"
      ],
      "execution_count": null,
      "outputs": [
        {
          "output_type": "stream",
          "text": [
            "/usr/local/lib/python3.6/dist-packages/seaborn/distributions.py:2551: FutureWarning: `distplot` is a deprecated function and will be removed in a future version. Please adapt your code to use either `displot` (a figure-level function with similar flexibility) or `histplot` (an axes-level function for histograms).\n",
            "  warnings.warn(msg, FutureWarning)\n"
          ],
          "name": "stderr"
        },
        {
          "output_type": "display_data",
          "data": {
            "image/png": "[encoded data removed]",
            "text/plain": [
              "<Figure size 432x288 with 1 Axes>"
            ]
          },
          "metadata": {
            "tags": [],
            "needs_background": "light"
          }
        }
      ]
    },
    {
      "cell_type": "markdown",
      "metadata": {
        "id": "HT19B0b_m8uD"
      },
      "source": [
        "Most of the people who participated are under 40 years old, which somewhat explains the difference in number between the under/over $50k "
      ]
    },
    {
      "cell_type": "code",
      "metadata": {
        "id": "8bPSjtQ9lm18",
        "cellView": "form",
        "colab": {
          "base_uri": "https://localhost:8080/",
          "height": 789,
          "referenced_widgets": [
            "0df0b1e815814cecb9f1b09a8a6bfacd",
            "9d120033f1474b8da9762254bd6fc535",
            "4b9c433e1a2f4b3a8e7dd07e7b0ffe60",
            "02013652289d4247b4d181052387dc47",
            "f0c6d921939d4702b538f3569bfea1b2",
            "1298b02cdfb6425d9ba3474a12370bee",
            "cd4ac61d8aa54e1da75fc4ba07c5d2c1",
            "fcde198d73694b058da6129e54c2d994",
            "ea9f776d1b6d4b7f8b231817fb224cea",
            "6814aab6eeee4158a848992e2d5f6aae",
            "896cbe6e5c1a4d83b52a8e671448abdd",
            "a81b8db49f024606adca678d69a83e69",
            "99a7cf1895e54824997079b888fe460f",
            "4bf6df2ce9fd48e08f6121e071fcf9f2",
            "a3d5af81c1a347e6846c257406c040fd",
            "3bd5426957474469a3be21fadc3d5c33",
            "92c0d670db9c43cbb748f2f63becc5cb",
            "0e15f0c49f964902becb5fd711578cf8",
            "b126a45db43d4dc0aef36ccdb2a60e11",
            "bf1cbe9e27694c3f8908c58f3ce1a29c",
            "dfa6715baaf84091998873ceace8698c",
            "53ea78c48634470dad6cf452ace8c255",
            "c160759e90124b0a96988353fa41295a",
            "3b2fbaee772a46d691a37c55f8f6b750",
            "381ed0f7519c4511976618d947b9f965",
            "8544bd66655f41d7b9aa5952feaaeb04",
            "d1ed051e9d834548a9ab1dd941a65f8c"
          ]
        },
        "outputId": "03f407ef-a7df-4da3-8806-69e60ee5a236"
      },
      "source": [
        "#@title Completed the exercise? \n",
        "#@markdown Click on the arrow to the left to create the response form.\n",
        "\n",
        "import sys\n",
        "if 'exercise_report_response' not in sys.modules:\n",
        "  print('Please execute the \"Getting Started\" cell at the beginning of this exercise, then rerun this cell.')\n",
        "else:\n",
        "  exercise_report_response.display_form(exercise_report_response.er_question_list)"
      ],
      "execution_count": null,
      "outputs": [
        {
          "output_type": "stream",
          "text": [
            "If this form does not display correctly in Colab, select \"Runttime\" from the menu at the top, then select \"Restart and run all\"\n",
            "Your first name:\n"
          ],
          "name": "stdout"
        },
        {
          "output_type": "display_data",
          "data": {
            "text/html": [
              "<link rel=\"stylesheet\" href=\"https://stackpath.bootstrapcdn.com/font-awesome/4.7.0/css/font-awesome.min.css\"> "
            ],
            "text/plain": [
              "<IPython.core.display.HTML object>"
            ]
          },
          "metadata": {
            "tags": []
          }
        },
        {
          "output_type": "display_data",
          "data": {
            "application/vnd.jupyter.widget-view+json": {
              "model_id": "0df0b1e815814cecb9f1b09a8a6bfacd",
              "version_minor": 0,
              "version_major": 2
            },
            "text/plain": [
              "Text(value='', placeholder='Enter your first name here')"
            ]
          },
          "metadata": {
            "tags": []
          }
        },
        {
          "output_type": "stream",
          "text": [
            "\n",
            "Your last name:\n"
          ],
          "name": "stdout"
        },
        {
          "output_type": "display_data",
          "data": {
            "text/html": [
              "<link rel=\"stylesheet\" href=\"https://stackpath.bootstrapcdn.com/font-awesome/4.7.0/css/font-awesome.min.css\"> "
            ],
            "text/plain": [
              "<IPython.core.display.HTML object>"
            ]
          },
          "metadata": {
            "tags": []
          }
        },
        {
          "output_type": "display_data",
          "data": {
            "application/vnd.jupyter.widget-view+json": {
              "model_id": "02013652289d4247b4d181052387dc47",
              "version_minor": 0,
              "version_major": 2
            },
            "text/plain": [
              "Text(value='', placeholder='Enter your last name here')"
            ]
          },
          "metadata": {
            "tags": []
          }
        },
        {
          "output_type": "stream",
          "text": [
            "\n",
            "How difficult was the exercise?\n"
          ],
          "name": "stdout"
        },
        {
          "output_type": "display_data",
          "data": {
            "text/html": [
              "<link rel=\"stylesheet\" href=\"https://stackpath.bootstrapcdn.com/font-awesome/4.7.0/css/font-awesome.min.css\"> "
            ],
            "text/plain": [
              "<IPython.core.display.HTML object>"
            ]
          },
          "metadata": {
            "tags": []
          }
        },
        {
          "output_type": "display_data",
          "data": {
            "application/vnd.jupyter.widget-view+json": {
              "model_id": "cd4ac61d8aa54e1da75fc4ba07c5d2c1",
              "version_minor": 0,
              "version_major": 2
            },
            "text/plain": [
              "ToggleButtons(button_style='warning', index=2, options=('Very Easy', 'Somewhat Easy', 'Neutral', 'Somewhat Dif…"
            ]
          },
          "metadata": {
            "tags": []
          }
        },
        {
          "output_type": "stream",
          "text": [
            "\n",
            "How long did it take you to complete the exercise?\n"
          ],
          "name": "stdout"
        },
        {
          "output_type": "display_data",
          "data": {
            "text/html": [
              "<link rel=\"stylesheet\" href=\"https://stackpath.bootstrapcdn.com/font-awesome/4.7.0/css/font-awesome.min.css\"> "
            ],
            "text/plain": [
              "<IPython.core.display.HTML object>"
            ]
          },
          "metadata": {
            "tags": []
          }
        },
        {
          "output_type": "display_data",
          "data": {
            "application/vnd.jupyter.widget-view+json": {
              "model_id": "6814aab6eeee4158a848992e2d5f6aae",
              "version_minor": 0,
              "version_major": 2
            },
            "text/plain": [
              "ToggleButtons(button_style='warning', index=2, options=('30 min or less', '31-60 min', '61-90 min', '91-120 mi…"
            ]
          },
          "metadata": {
            "tags": []
          }
        },
        {
          "output_type": "stream",
          "text": [
            "\n",
            "What tools (or concepts) used in this exercise do you feel confident with?\n"
          ],
          "name": "stdout"
        },
        {
          "output_type": "display_data",
          "data": {
            "text/html": [
              "<link rel=\"stylesheet\" href=\"https://stackpath.bootstrapcdn.com/font-awesome/4.7.0/css/font-awesome.min.css\"> "
            ],
            "text/plain": [
              "<IPython.core.display.HTML object>"
            ]
          },
          "metadata": {
            "tags": []
          }
        },
        {
          "output_type": "display_data",
          "data": {
            "application/vnd.jupyter.widget-view+json": {
              "model_id": "99a7cf1895e54824997079b888fe460f",
              "version_minor": 0,
              "version_major": 2
            },
            "text/plain": [
              "Textarea(value='', placeholder='Enter your response here')"
            ]
          },
          "metadata": {
            "tags": []
          }
        },
        {
          "output_type": "stream",
          "text": [
            "\n",
            "What tools (or concepts) do you still need practice with?\n"
          ],
          "name": "stdout"
        },
        {
          "output_type": "display_data",
          "data": {
            "text/html": [
              "<link rel=\"stylesheet\" href=\"https://stackpath.bootstrapcdn.com/font-awesome/4.7.0/css/font-awesome.min.css\"> "
            ],
            "text/plain": [
              "<IPython.core.display.HTML object>"
            ]
          },
          "metadata": {
            "tags": []
          }
        },
        {
          "output_type": "display_data",
          "data": {
            "application/vnd.jupyter.widget-view+json": {
              "model_id": "3bd5426957474469a3be21fadc3d5c33",
              "version_minor": 0,
              "version_major": 2
            },
            "text/plain": [
              "Textarea(value='', placeholder='Enter your response here')"
            ]
          },
          "metadata": {
            "tags": []
          }
        },
        {
          "output_type": "stream",
          "text": [
            "\n",
            "What suggestions do you have for improving the exercise?\n"
          ],
          "name": "stdout"
        },
        {
          "output_type": "display_data",
          "data": {
            "text/html": [
              "<link rel=\"stylesheet\" href=\"https://stackpath.bootstrapcdn.com/font-awesome/4.7.0/css/font-awesome.min.css\"> "
            ],
            "text/plain": [
              "<IPython.core.display.HTML object>"
            ]
          },
          "metadata": {
            "tags": []
          }
        },
        {
          "output_type": "display_data",
          "data": {
            "application/vnd.jupyter.widget-view+json": {
              "model_id": "b126a45db43d4dc0aef36ccdb2a60e11",
              "version_minor": 0,
              "version_major": 2
            },
            "text/plain": [
              "Textarea(value='', placeholder='Enter your response here')"
            ]
          },
          "metadata": {
            "tags": []
          }
        },
        {
          "output_type": "stream",
          "text": [
            "\n",
            "What corrections should be made (typos. etc)?\n"
          ],
          "name": "stdout"
        },
        {
          "output_type": "display_data",
          "data": {
            "text/html": [
              "<link rel=\"stylesheet\" href=\"https://stackpath.bootstrapcdn.com/font-awesome/4.7.0/css/font-awesome.min.css\"> "
            ],
            "text/plain": [
              "<IPython.core.display.HTML object>"
            ]
          },
          "metadata": {
            "tags": []
          }
        },
        {
          "output_type": "display_data",
          "data": {
            "application/vnd.jupyter.widget-view+json": {
              "model_id": "53ea78c48634470dad6cf452ace8c255",
              "version_minor": 0,
              "version_major": 2
            },
            "text/plain": [
              "Textarea(value='', placeholder='Enter your response here')"
            ]
          },
          "metadata": {
            "tags": []
          }
        },
        {
          "output_type": "stream",
          "text": [
            "\n",
            "Share your notebook.\n",
            "Select 'Share' at the top of the screen. Then select 'Get Link'.\n",
            "Change the Link so anyone can view it.\n",
            "Click 'Copy Link', then 'Done'. Paste the link here.\n"
          ],
          "name": "stdout"
        },
        {
          "output_type": "display_data",
          "data": {
            "text/html": [
              "<link rel=\"stylesheet\" href=\"https://stackpath.bootstrapcdn.com/font-awesome/4.7.0/css/font-awesome.min.css\"> "
            ],
            "text/plain": [
              "<IPython.core.display.HTML object>"
            ]
          },
          "metadata": {
            "tags": []
          }
        },
        {
          "output_type": "display_data",
          "data": {
            "application/vnd.jupyter.widget-view+json": {
              "model_id": "381ed0f7519c4511976618d947b9f965",
              "version_minor": 0,
              "version_major": 2
            },
            "text/plain": [
              "Textarea(value='', placeholder='Enter your response here')"
            ]
          },
          "metadata": {
            "tags": []
          }
        },
        {
          "output_type": "stream",
          "text": [
            "\n"
          ],
          "name": "stdout"
        }
      ]
    },
    {
      "cell_type": "code",
      "metadata": {
        "id": "YW3iU6hsltxq",
        "cellView": "form",
        "colab": {
          "base_uri": "https://localhost:8080/"
        },
        "outputId": "2d76c1f5-2eaa-49bd-9426-8cc547ffbe6b"
      },
      "source": [
        "#@title Ready to Submit?\n",
        "#@markdown If you have completed the exercise and the exercise response:\n",
        "#@markdown * check the box 'Ready' box below \n",
        "#@markdown * execute this cell\n",
        "\n",
        "Ready = True #@param {type:\"boolean\"}\n",
        "\n",
        "try:\n",
        "  if Ready == True:\n",
        "    exercise_report_response.submit_exercise_response(exercise_name, exercise_report_response.er_question_list)\n",
        "\n",
        "  else:\n",
        "    print('NOT SUBMITTED!!!')\n",
        "    print('Check the ready box if you are ready to submit your response.')\n",
        "\n",
        "except:\n",
        "  print('NOT SUBMITTED!!!')\n",
        "  print('Execute the cell above to create the form.')"
      ],
      "execution_count": null,
      "outputs": [
        {
          "output_type": "stream",
          "text": [
            "Exercise response submitted.\n"
          ],
          "name": "stdout"
        }
      ]
    }
  ]
}
