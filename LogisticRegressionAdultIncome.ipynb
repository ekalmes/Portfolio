{
  "nbformat": 4,
  "nbformat_minor": 0,
  "metadata": {
    "colab": {
      "name": "Copy of Copy of 12.0.1.3 Classification - Logistic Regression - Adult Income.ipynb",
      "provenance": [],
      "collapsed_sections": [
        "fY63C4kKwlXS",
        "0BGDRQT0nLAv",
        "prvtemhPm5Y5"
      ],
      "include_colab_link": true
    },
    "kernelspec": {
      "name": "python3",
      "display_name": "Python 3"
    },
    "widgets": {
      "application/vnd.jupyter.widget-state+json": {
        "05ea0af4b64b432a965e4ddeb1e74bbd": {
          "model_module": "@jupyter-widgets/controls",
          "model_name": "TextModel",
          "state": {
            "_view_name": "TextView",
            "style": "IPY_MODEL_ffce88743a334cee95fb83e04943e3b8",
            "_dom_classes": [],
            "description": "",
            "_model_name": "TextModel",
            "placeholder": "Enter your first name here",
            "_view_module": "@jupyter-widgets/controls",
            "_model_module_version": "1.5.0",
            "value": "",
            "_view_count": null,
            "disabled": false,
            "_view_module_version": "1.5.0",
            "continuous_update": true,
            "description_tooltip": null,
            "_model_module": "@jupyter-widgets/controls",
            "layout": "IPY_MODEL_851a30e6a6834e0c828239929be2eab8"
          },
          "model_module_version": "1.5.0"
        },
        "ffce88743a334cee95fb83e04943e3b8": {
          "model_module": "@jupyter-widgets/controls",
          "model_name": "DescriptionStyleModel",
          "state": {
            "_view_name": "StyleView",
            "_model_name": "DescriptionStyleModel",
            "description_width": "",
            "_view_module": "@jupyter-widgets/base",
            "_model_module_version": "1.5.0",
            "_view_count": null,
            "_view_module_version": "1.2.0",
            "_model_module": "@jupyter-widgets/controls"
          },
          "model_module_version": "1.5.0"
        },
        "851a30e6a6834e0c828239929be2eab8": {
          "model_module": "@jupyter-widgets/base",
          "model_name": "LayoutModel",
          "state": {
            "_view_name": "LayoutView",
            "grid_template_rows": null,
            "right": null,
            "justify_content": null,
            "_view_module": "@jupyter-widgets/base",
            "overflow": null,
            "_model_module_version": "1.2.0",
            "_view_count": null,
            "flex_flow": null,
            "width": null,
            "min_width": null,
            "border": null,
            "align_items": null,
            "bottom": null,
            "_model_module": "@jupyter-widgets/base",
            "top": null,
            "grid_column": null,
            "overflow_y": null,
            "overflow_x": null,
            "grid_auto_flow": null,
            "grid_area": null,
            "grid_template_columns": null,
            "flex": null,
            "_model_name": "LayoutModel",
            "justify_items": null,
            "grid_row": null,
            "max_height": null,
            "align_content": null,
            "visibility": null,
            "align_self": null,
            "height": null,
            "min_height": null,
            "padding": null,
            "grid_auto_rows": null,
            "grid_gap": null,
            "max_width": null,
            "order": null,
            "_view_module_version": "1.2.0",
            "grid_template_areas": null,
            "object_position": null,
            "object_fit": null,
            "grid_auto_columns": null,
            "margin": null,
            "display": null,
            "left": null
          },
          "model_module_version": "1.2.0"
        },
        "fe7b1babdb8446a8ae5b9d84edf3785a": {
          "model_module": "@jupyter-widgets/controls",
          "model_name": "TextModel",
          "state": {
            "_view_name": "TextView",
            "style": "IPY_MODEL_129d5e2861ad40e28b79265cba176298",
            "_dom_classes": [],
            "description": "",
            "_model_name": "TextModel",
            "placeholder": "Enter your last name here",
            "_view_module": "@jupyter-widgets/controls",
            "_model_module_version": "1.5.0",
            "value": "",
            "_view_count": null,
            "disabled": false,
            "_view_module_version": "1.5.0",
            "continuous_update": true,
            "description_tooltip": null,
            "_model_module": "@jupyter-widgets/controls",
            "layout": "IPY_MODEL_f41759f687784413a3fed4651d6914f8"
          },
          "model_module_version": "1.5.0"
        },
        "129d5e2861ad40e28b79265cba176298": {
          "model_module": "@jupyter-widgets/controls",
          "model_name": "DescriptionStyleModel",
          "state": {
            "_view_name": "StyleView",
            "_model_name": "DescriptionStyleModel",
            "description_width": "",
            "_view_module": "@jupyter-widgets/base",
            "_model_module_version": "1.5.0",
            "_view_count": null,
            "_view_module_version": "1.2.0",
            "_model_module": "@jupyter-widgets/controls"
          },
          "model_module_version": "1.5.0"
        },
        "f41759f687784413a3fed4651d6914f8": {
          "model_module": "@jupyter-widgets/base",
          "model_name": "LayoutModel",
          "state": {
            "_view_name": "LayoutView",
            "grid_template_rows": null,
            "right": null,
            "justify_content": null,
            "_view_module": "@jupyter-widgets/base",
            "overflow": null,
            "_model_module_version": "1.2.0",
            "_view_count": null,
            "flex_flow": null,
            "width": null,
            "min_width": null,
            "border": null,
            "align_items": null,
            "bottom": null,
            "_model_module": "@jupyter-widgets/base",
            "top": null,
            "grid_column": null,
            "overflow_y": null,
            "overflow_x": null,
            "grid_auto_flow": null,
            "grid_area": null,
            "grid_template_columns": null,
            "flex": null,
            "_model_name": "LayoutModel",
            "justify_items": null,
            "grid_row": null,
            "max_height": null,
            "align_content": null,
            "visibility": null,
            "align_self": null,
            "height": null,
            "min_height": null,
            "padding": null,
            "grid_auto_rows": null,
            "grid_gap": null,
            "max_width": null,
            "order": null,
            "_view_module_version": "1.2.0",
            "grid_template_areas": null,
            "object_position": null,
            "object_fit": null,
            "grid_auto_columns": null,
            "margin": null,
            "display": null,
            "left": null
          },
          "model_module_version": "1.2.0"
        },
        "0340df33e9864fe89fc9007aa2f64de3": {
          "model_module": "@jupyter-widgets/controls",
          "model_name": "ToggleButtonsModel",
          "state": {
            "_options_labels": [
              "Very Easy",
              "Somewhat Easy",
              "Neutral",
              "Somewhat Difficult",
              "Very Difficult"
            ],
            "_view_name": "ToggleButtonsView",
            "style": "IPY_MODEL_3e217a40f7364dd79f67df48a2ecf539",
            "_dom_classes": [],
            "description": "",
            "_model_name": "ToggleButtonsModel",
            "tooltips": [],
            "index": 2,
            "button_style": "warning",
            "_view_module": "@jupyter-widgets/controls",
            "_model_module_version": "1.5.0",
            "_view_count": null,
            "disabled": false,
            "_view_module_version": "1.5.0",
            "icons": [],
            "description_tooltip": null,
            "_model_module": "@jupyter-widgets/controls",
            "layout": "IPY_MODEL_4226078dfa954f5eb90d661982f21c49"
          },
          "model_module_version": "1.5.0"
        },
        "3e217a40f7364dd79f67df48a2ecf539": {
          "model_module": "@jupyter-widgets/controls",
          "model_name": "ToggleButtonsStyleModel",
          "state": {
            "_view_name": "StyleView",
            "button_width": "",
            "_model_name": "ToggleButtonsStyleModel",
            "description_width": "",
            "_view_module": "@jupyter-widgets/base",
            "_model_module_version": "1.5.0",
            "_view_count": null,
            "font_weight": "",
            "_view_module_version": "1.2.0",
            "_model_module": "@jupyter-widgets/controls"
          },
          "model_module_version": "1.5.0"
        },
        "4226078dfa954f5eb90d661982f21c49": {
          "model_module": "@jupyter-widgets/base",
          "model_name": "LayoutModel",
          "state": {
            "_view_name": "LayoutView",
            "grid_template_rows": null,
            "right": null,
            "justify_content": null,
            "_view_module": "@jupyter-widgets/base",
            "overflow": null,
            "_model_module_version": "1.2.0",
            "_view_count": null,
            "flex_flow": null,
            "width": null,
            "min_width": null,
            "border": null,
            "align_items": null,
            "bottom": null,
            "_model_module": "@jupyter-widgets/base",
            "top": null,
            "grid_column": null,
            "overflow_y": null,
            "overflow_x": null,
            "grid_auto_flow": null,
            "grid_area": null,
            "grid_template_columns": null,
            "flex": null,
            "_model_name": "LayoutModel",
            "justify_items": null,
            "grid_row": null,
            "max_height": null,
            "align_content": null,
            "visibility": null,
            "align_self": null,
            "height": null,
            "min_height": null,
            "padding": null,
            "grid_auto_rows": null,
            "grid_gap": null,
            "max_width": null,
            "order": null,
            "_view_module_version": "1.2.0",
            "grid_template_areas": null,
            "object_position": null,
            "object_fit": null,
            "grid_auto_columns": null,
            "margin": null,
            "display": null,
            "left": null
          },
          "model_module_version": "1.2.0"
        },
        "1addfde38cca4bd5a8efcb3ccc8ec449": {
          "model_module": "@jupyter-widgets/controls",
          "model_name": "ToggleButtonsModel",
          "state": {
            "_options_labels": [
              "30 min or less",
              "31-60 min",
              "61-90 min",
              "91-120 min",
              "More than 2 hours"
            ],
            "_view_name": "ToggleButtonsView",
            "style": "IPY_MODEL_620bd812a6aa4bc58ef64050078d01e2",
            "_dom_classes": [],
            "description": "",
            "_model_name": "ToggleButtonsModel",
            "tooltips": [],
            "index": 2,
            "button_style": "warning",
            "_view_module": "@jupyter-widgets/controls",
            "_model_module_version": "1.5.0",
            "_view_count": null,
            "disabled": false,
            "_view_module_version": "1.5.0",
            "icons": [],
            "description_tooltip": null,
            "_model_module": "@jupyter-widgets/controls",
            "layout": "IPY_MODEL_caa00ef9ec5641aea3fed84b81a8df7d"
          },
          "model_module_version": "1.5.0"
        },
        "620bd812a6aa4bc58ef64050078d01e2": {
          "model_module": "@jupyter-widgets/controls",
          "model_name": "ToggleButtonsStyleModel",
          "state": {
            "_view_name": "StyleView",
            "button_width": "",
            "_model_name": "ToggleButtonsStyleModel",
            "description_width": "",
            "_view_module": "@jupyter-widgets/base",
            "_model_module_version": "1.5.0",
            "_view_count": null,
            "font_weight": "",
            "_view_module_version": "1.2.0",
            "_model_module": "@jupyter-widgets/controls"
          },
          "model_module_version": "1.5.0"
        },
        "caa00ef9ec5641aea3fed84b81a8df7d": {
          "model_module": "@jupyter-widgets/base",
          "model_name": "LayoutModel",
          "state": {
            "_view_name": "LayoutView",
            "grid_template_rows": null,
            "right": null,
            "justify_content": null,
            "_view_module": "@jupyter-widgets/base",
            "overflow": null,
            "_model_module_version": "1.2.0",
            "_view_count": null,
            "flex_flow": null,
            "width": null,
            "min_width": null,
            "border": null,
            "align_items": null,
            "bottom": null,
            "_model_module": "@jupyter-widgets/base",
            "top": null,
            "grid_column": null,
            "overflow_y": null,
            "overflow_x": null,
            "grid_auto_flow": null,
            "grid_area": null,
            "grid_template_columns": null,
            "flex": null,
            "_model_name": "LayoutModel",
            "justify_items": null,
            "grid_row": null,
            "max_height": null,
            "align_content": null,
            "visibility": null,
            "align_self": null,
            "height": null,
            "min_height": null,
            "padding": null,
            "grid_auto_rows": null,
            "grid_gap": null,
            "max_width": null,
            "order": null,
            "_view_module_version": "1.2.0",
            "grid_template_areas": null,
            "object_position": null,
            "object_fit": null,
            "grid_auto_columns": null,
            "margin": null,
            "display": null,
            "left": null
          },
          "model_module_version": "1.2.0"
        },
        "82745dbcf2f64d9fb861c96e27a2edf5": {
          "model_module": "@jupyter-widgets/controls",
          "model_name": "TextareaModel",
          "state": {
            "_view_name": "TextareaView",
            "style": "IPY_MODEL_389f68308e604d899b540a00d9836c62",
            "rows": null,
            "_dom_classes": [],
            "description": "",
            "_model_name": "TextareaModel",
            "placeholder": "Enter your response here",
            "_view_module": "@jupyter-widgets/controls",
            "_model_module_version": "1.5.0",
            "value": "",
            "_view_count": null,
            "disabled": false,
            "_view_module_version": "1.5.0",
            "continuous_update": true,
            "description_tooltip": null,
            "_model_module": "@jupyter-widgets/controls",
            "layout": "IPY_MODEL_bdd8c6ab458b454f95242b6413371d3a"
          },
          "model_module_version": "1.5.0"
        },
        "389f68308e604d899b540a00d9836c62": {
          "model_module": "@jupyter-widgets/controls",
          "model_name": "DescriptionStyleModel",
          "state": {
            "_view_name": "StyleView",
            "_model_name": "DescriptionStyleModel",
            "description_width": "",
            "_view_module": "@jupyter-widgets/base",
            "_model_module_version": "1.5.0",
            "_view_count": null,
            "_view_module_version": "1.2.0",
            "_model_module": "@jupyter-widgets/controls"
          },
          "model_module_version": "1.5.0"
        },
        "bdd8c6ab458b454f95242b6413371d3a": {
          "model_module": "@jupyter-widgets/base",
          "model_name": "LayoutModel",
          "state": {
            "_view_name": "LayoutView",
            "grid_template_rows": null,
            "right": null,
            "justify_content": null,
            "_view_module": "@jupyter-widgets/base",
            "overflow": null,
            "_model_module_version": "1.2.0",
            "_view_count": null,
            "flex_flow": null,
            "width": null,
            "min_width": null,
            "border": null,
            "align_items": null,
            "bottom": null,
            "_model_module": "@jupyter-widgets/base",
            "top": null,
            "grid_column": null,
            "overflow_y": null,
            "overflow_x": null,
            "grid_auto_flow": null,
            "grid_area": null,
            "grid_template_columns": null,
            "flex": null,
            "_model_name": "LayoutModel",
            "justify_items": null,
            "grid_row": null,
            "max_height": null,
            "align_content": null,
            "visibility": null,
            "align_self": null,
            "height": null,
            "min_height": null,
            "padding": null,
            "grid_auto_rows": null,
            "grid_gap": null,
            "max_width": null,
            "order": null,
            "_view_module_version": "1.2.0",
            "grid_template_areas": null,
            "object_position": null,
            "object_fit": null,
            "grid_auto_columns": null,
            "margin": null,
            "display": null,
            "left": null
          },
          "model_module_version": "1.2.0"
        },
        "4f7051bdaadd4345808375455754a444": {
          "model_module": "@jupyter-widgets/controls",
          "model_name": "TextareaModel",
          "state": {
            "_view_name": "TextareaView",
            "style": "IPY_MODEL_d267c67490b04ea3a9e5ea06d836ace5",
            "rows": null,
            "_dom_classes": [],
            "description": "",
            "_model_name": "TextareaModel",
            "placeholder": "Enter your response here",
            "_view_module": "@jupyter-widgets/controls",
            "_model_module_version": "1.5.0",
            "value": "",
            "_view_count": null,
            "disabled": false,
            "_view_module_version": "1.5.0",
            "continuous_update": true,
            "description_tooltip": null,
            "_model_module": "@jupyter-widgets/controls",
            "layout": "IPY_MODEL_9438a8632eaa4ccf8508ffd67a3e8c4f"
          },
          "model_module_version": "1.5.0"
        },
        "d267c67490b04ea3a9e5ea06d836ace5": {
          "model_module": "@jupyter-widgets/controls",
          "model_name": "DescriptionStyleModel",
          "state": {
            "_view_name": "StyleView",
            "_model_name": "DescriptionStyleModel",
            "description_width": "",
            "_view_module": "@jupyter-widgets/base",
            "_model_module_version": "1.5.0",
            "_view_count": null,
            "_view_module_version": "1.2.0",
            "_model_module": "@jupyter-widgets/controls"
          },
          "model_module_version": "1.5.0"
        },
        "9438a8632eaa4ccf8508ffd67a3e8c4f": {
          "model_module": "@jupyter-widgets/base",
          "model_name": "LayoutModel",
          "state": {
            "_view_name": "LayoutView",
            "grid_template_rows": null,
            "right": null,
            "justify_content": null,
            "_view_module": "@jupyter-widgets/base",
            "overflow": null,
            "_model_module_version": "1.2.0",
            "_view_count": null,
            "flex_flow": null,
            "width": null,
            "min_width": null,
            "border": null,
            "align_items": null,
            "bottom": null,
            "_model_module": "@jupyter-widgets/base",
            "top": null,
            "grid_column": null,
            "overflow_y": null,
            "overflow_x": null,
            "grid_auto_flow": null,
            "grid_area": null,
            "grid_template_columns": null,
            "flex": null,
            "_model_name": "LayoutModel",
            "justify_items": null,
            "grid_row": null,
            "max_height": null,
            "align_content": null,
            "visibility": null,
            "align_self": null,
            "height": null,
            "min_height": null,
            "padding": null,
            "grid_auto_rows": null,
            "grid_gap": null,
            "max_width": null,
            "order": null,
            "_view_module_version": "1.2.0",
            "grid_template_areas": null,
            "object_position": null,
            "object_fit": null,
            "grid_auto_columns": null,
            "margin": null,
            "display": null,
            "left": null
          },
          "model_module_version": "1.2.0"
        },
        "76cc9684012c4ad4a38fdc373288e15e": {
          "model_module": "@jupyter-widgets/controls",
          "model_name": "TextareaModel",
          "state": {
            "_view_name": "TextareaView",
            "style": "IPY_MODEL_f94fe4ef16b04e2a96c538cbca859952",
            "rows": null,
            "_dom_classes": [],
            "description": "",
            "_model_name": "TextareaModel",
            "placeholder": "Enter your response here",
            "_view_module": "@jupyter-widgets/controls",
            "_model_module_version": "1.5.0",
            "value": "",
            "_view_count": null,
            "disabled": false,
            "_view_module_version": "1.5.0",
            "continuous_update": true,
            "description_tooltip": null,
            "_model_module": "@jupyter-widgets/controls",
            "layout": "IPY_MODEL_2a8204087d234dc7ab47fa1f62aa1cbd"
          },
          "model_module_version": "1.5.0"
        },
        "f94fe4ef16b04e2a96c538cbca859952": {
          "model_module": "@jupyter-widgets/controls",
          "model_name": "DescriptionStyleModel",
          "state": {
            "_view_name": "StyleView",
            "_model_name": "DescriptionStyleModel",
            "description_width": "",
            "_view_module": "@jupyter-widgets/base",
            "_model_module_version": "1.5.0",
            "_view_count": null,
            "_view_module_version": "1.2.0",
            "_model_module": "@jupyter-widgets/controls"
          },
          "model_module_version": "1.5.0"
        },
        "2a8204087d234dc7ab47fa1f62aa1cbd": {
          "model_module": "@jupyter-widgets/base",
          "model_name": "LayoutModel",
          "state": {
            "_view_name": "LayoutView",
            "grid_template_rows": null,
            "right": null,
            "justify_content": null,
            "_view_module": "@jupyter-widgets/base",
            "overflow": null,
            "_model_module_version": "1.2.0",
            "_view_count": null,
            "flex_flow": null,
            "width": null,
            "min_width": null,
            "border": null,
            "align_items": null,
            "bottom": null,
            "_model_module": "@jupyter-widgets/base",
            "top": null,
            "grid_column": null,
            "overflow_y": null,
            "overflow_x": null,
            "grid_auto_flow": null,
            "grid_area": null,
            "grid_template_columns": null,
            "flex": null,
            "_model_name": "LayoutModel",
            "justify_items": null,
            "grid_row": null,
            "max_height": null,
            "align_content": null,
            "visibility": null,
            "align_self": null,
            "height": null,
            "min_height": null,
            "padding": null,
            "grid_auto_rows": null,
            "grid_gap": null,
            "max_width": null,
            "order": null,
            "_view_module_version": "1.2.0",
            "grid_template_areas": null,
            "object_position": null,
            "object_fit": null,
            "grid_auto_columns": null,
            "margin": null,
            "display": null,
            "left": null
          },
          "model_module_version": "1.2.0"
        },
        "1d8839f62b2646ecb136856f7048bb07": {
          "model_module": "@jupyter-widgets/controls",
          "model_name": "TextareaModel",
          "state": {
            "_view_name": "TextareaView",
            "style": "IPY_MODEL_92d577047f1d4c5698d7235afcc7e750",
            "rows": null,
            "_dom_classes": [],
            "description": "",
            "_model_name": "TextareaModel",
            "placeholder": "Enter your response here",
            "_view_module": "@jupyter-widgets/controls",
            "_model_module_version": "1.5.0",
            "value": "",
            "_view_count": null,
            "disabled": false,
            "_view_module_version": "1.5.0",
            "continuous_update": true,
            "description_tooltip": null,
            "_model_module": "@jupyter-widgets/controls",
            "layout": "IPY_MODEL_e0875db372fb4a6ba18bc546817e2f34"
          },
          "model_module_version": "1.5.0"
        },
        "92d577047f1d4c5698d7235afcc7e750": {
          "model_module": "@jupyter-widgets/controls",
          "model_name": "DescriptionStyleModel",
          "state": {
            "_view_name": "StyleView",
            "_model_name": "DescriptionStyleModel",
            "description_width": "",
            "_view_module": "@jupyter-widgets/base",
            "_model_module_version": "1.5.0",
            "_view_count": null,
            "_view_module_version": "1.2.0",
            "_model_module": "@jupyter-widgets/controls"
          },
          "model_module_version": "1.5.0"
        },
        "e0875db372fb4a6ba18bc546817e2f34": {
          "model_module": "@jupyter-widgets/base",
          "model_name": "LayoutModel",
          "state": {
            "_view_name": "LayoutView",
            "grid_template_rows": null,
            "right": null,
            "justify_content": null,
            "_view_module": "@jupyter-widgets/base",
            "overflow": null,
            "_model_module_version": "1.2.0",
            "_view_count": null,
            "flex_flow": null,
            "width": null,
            "min_width": null,
            "border": null,
            "align_items": null,
            "bottom": null,
            "_model_module": "@jupyter-widgets/base",
            "top": null,
            "grid_column": null,
            "overflow_y": null,
            "overflow_x": null,
            "grid_auto_flow": null,
            "grid_area": null,
            "grid_template_columns": null,
            "flex": null,
            "_model_name": "LayoutModel",
            "justify_items": null,
            "grid_row": null,
            "max_height": null,
            "align_content": null,
            "visibility": null,
            "align_self": null,
            "height": null,
            "min_height": null,
            "padding": null,
            "grid_auto_rows": null,
            "grid_gap": null,
            "max_width": null,
            "order": null,
            "_view_module_version": "1.2.0",
            "grid_template_areas": null,
            "object_position": null,
            "object_fit": null,
            "grid_auto_columns": null,
            "margin": null,
            "display": null,
            "left": null
          },
          "model_module_version": "1.2.0"
        },
        "ba277d2c31e640f7be70f06e7118c13c": {
          "model_module": "@jupyter-widgets/controls",
          "model_name": "TextareaModel",
          "state": {
            "_view_name": "TextareaView",
            "style": "IPY_MODEL_3873c6e5bc1b49e7b3f82227e4882fd1",
            "rows": null,
            "_dom_classes": [],
            "description": "",
            "_model_name": "TextareaModel",
            "placeholder": "Enter your response here",
            "_view_module": "@jupyter-widgets/controls",
            "_model_module_version": "1.5.0",
            "value": "",
            "_view_count": null,
            "disabled": false,
            "_view_module_version": "1.5.0",
            "continuous_update": true,
            "description_tooltip": null,
            "_model_module": "@jupyter-widgets/controls",
            "layout": "IPY_MODEL_cbcb0c4c287f4a1eb283124cdac631cd"
          },
          "model_module_version": "1.5.0"
        },
        "3873c6e5bc1b49e7b3f82227e4882fd1": {
          "model_module": "@jupyter-widgets/controls",
          "model_name": "DescriptionStyleModel",
          "state": {
            "_view_name": "StyleView",
            "_model_name": "DescriptionStyleModel",
            "description_width": "",
            "_view_module": "@jupyter-widgets/base",
            "_model_module_version": "1.5.0",
            "_view_count": null,
            "_view_module_version": "1.2.0",
            "_model_module": "@jupyter-widgets/controls"
          },
          "model_module_version": "1.5.0"
        },
        "cbcb0c4c287f4a1eb283124cdac631cd": {
          "model_module": "@jupyter-widgets/base",
          "model_name": "LayoutModel",
          "state": {
            "_view_name": "LayoutView",
            "grid_template_rows": null,
            "right": null,
            "justify_content": null,
            "_view_module": "@jupyter-widgets/base",
            "overflow": null,
            "_model_module_version": "1.2.0",
            "_view_count": null,
            "flex_flow": null,
            "width": null,
            "min_width": null,
            "border": null,
            "align_items": null,
            "bottom": null,
            "_model_module": "@jupyter-widgets/base",
            "top": null,
            "grid_column": null,
            "overflow_y": null,
            "overflow_x": null,
            "grid_auto_flow": null,
            "grid_area": null,
            "grid_template_columns": null,
            "flex": null,
            "_model_name": "LayoutModel",
            "justify_items": null,
            "grid_row": null,
            "max_height": null,
            "align_content": null,
            "visibility": null,
            "align_self": null,
            "height": null,
            "min_height": null,
            "padding": null,
            "grid_auto_rows": null,
            "grid_gap": null,
            "max_width": null,
            "order": null,
            "_view_module_version": "1.2.0",
            "grid_template_areas": null,
            "object_position": null,
            "object_fit": null,
            "grid_auto_columns": null,
            "margin": null,
            "display": null,
            "left": null
          },
          "model_module_version": "1.2.0"
        }
      }
    }
  },
  "cells": [
    {
      "cell_type": "markdown",
      "metadata": {
        "id": "view-in-github",
        "colab_type": "text"
      },
      "source": [
        "<a href=\"https://colab.research.google.com/github/ekalmes/Portfolio/blob/main/LogisticRegressionAdultIncome.ipynb\" target=\"_parent\"><img src=\"https://colab.research.google.com/assets/colab-badge.svg\" alt=\"Open In Colab\"/></a>"
      ]
    },
    {
      "cell_type": "markdown",
      "metadata": {
        "id": "XL4ls_P5BYw6"
      },
      "source": [
        "# Exercise - Logistic Regression - Adult Income\n",
        "by Zeke Kalmes and Brad Sheese\n",
        "\n",
        "* Create a notebook that uses logistic regression to examine predictors of adult income (Over 50k, Under 50k)\n",
        "* Begin by building a notebook that retrievs the data from the data source below\n",
        "* The data has been split into two files (test and train), get the data from both files, clean up the data then combine them back into a single file. We will create out own test and train data sets. \n",
        "* Use skLearn with model cross-validation\n",
        "* Do not specify a solver\n",
        "* Use the pandas `pd.get_dummies()` function to one hot encode features\n",
        "* Do not one hot encode binary features into two separate features\n",
        "* Normalize all continous predictors\n",
        "* Create a reduced model that has best results you can get with seven or fewer features\n",
        "* State your conlusion at the end of your notebook (bullet points are fine)\n",
        "\n",
        "\n",
        "\n",
        "\n",
        "\n"
      ]
    },
    {
      "cell_type": "code",
      "metadata": {
        "id": "VyAcn2d5lWZ-",
        "cellView": "form",
        "colab": {
          "base_uri": "https://localhost:8080/",
          "height": 407
        },
        "outputId": "d8fa0b8c-b83d-4ab3-8e74-321de04df266"
      },
      "source": [
        "#@title Getting started? Execute this cell first.\n",
        "#@markdown Click on the arrow to the left to execute this cell.\n",
        "\n",
        "# set exercise name here\n",
        "exercise_name = '12.0.132 Logistic Regression Adult Income'\n",
        "\n",
        "import os\n",
        "import sys\n",
        "import math\n",
        "\n",
        "tool_path = '/content/cs125_tools/'\n",
        "\n",
        "if not os.path.exists(tool_path):\n",
        "  ! git clone --quiet https://github.com/bsheese/cs125_tools.git\n",
        "\n",
        "if tool_path not in sys.path:\n",
        "  sys.path.append(tool_path)\n",
        "\n",
        "import exercise_report_response\n",
        "\n",
        "exercise_report_response.exercise_time_difficulty_report(exercise_name)"
      ],
      "execution_count": null,
      "outputs": [
        {
          "output_type": "display_data",
          "data": {
            "text/html": [
              "12.0.132 Logistic Regression Adult Income"
            ],
            "text/plain": [
              "<IPython.core.display.HTML object>"
            ]
          },
          "metadata": {
            "tags": []
          }
        },
        {
          "output_type": "display_data",
          "data": {
            "text/html": [
              "<table border=\"1\" class=\"dataframe\">\n",
              "  <thead>\n",
              "    <tr style=\"text-align: right;\">\n",
              "      <th></th>\n",
              "      <th>Time</th>\n",
              "    </tr>\n",
              "  </thead>\n",
              "  <tbody>\n",
              "    <tr>\n",
              "      <th>30 min or less</th>\n",
              "      <td>0%</td>\n",
              "    </tr>\n",
              "    <tr>\n",
              "      <th>31-60 min</th>\n",
              "      <td>0%</td>\n",
              "    </tr>\n",
              "    <tr>\n",
              "      <th>61-90 min</th>\n",
              "      <td>0%</td>\n",
              "    </tr>\n",
              "    <tr>\n",
              "      <th>91-120 min</th>\n",
              "      <td>0%</td>\n",
              "    </tr>\n",
              "    <tr>\n",
              "      <th>More than 2 hours</th>\n",
              "      <td>100%</td>\n",
              "    </tr>\n",
              "  </tbody>\n",
              "</table>"
            ],
            "text/plain": [
              "<IPython.core.display.HTML object>"
            ]
          },
          "metadata": {
            "tags": []
          }
        },
        {
          "output_type": "stream",
          "text": [
            "\n"
          ],
          "name": "stdout"
        },
        {
          "output_type": "display_data",
          "data": {
            "text/html": [
              "<table border=\"1\" class=\"dataframe\">\n",
              "  <thead>\n",
              "    <tr style=\"text-align: right;\">\n",
              "      <th></th>\n",
              "      <th>Difficulty</th>\n",
              "    </tr>\n",
              "  </thead>\n",
              "  <tbody>\n",
              "    <tr>\n",
              "      <th>Very Easy</th>\n",
              "      <td>0%</td>\n",
              "    </tr>\n",
              "    <tr>\n",
              "      <th>Somewhat Easy</th>\n",
              "      <td>0%</td>\n",
              "    </tr>\n",
              "    <tr>\n",
              "      <th>Neutral</th>\n",
              "      <td>20%</td>\n",
              "    </tr>\n",
              "    <tr>\n",
              "      <th>Somewhat Difficult</th>\n",
              "      <td>0%</td>\n",
              "    </tr>\n",
              "    <tr>\n",
              "      <th>Very Difficult</th>\n",
              "      <td>80%</td>\n",
              "    </tr>\n",
              "  </tbody>\n",
              "</table>"
            ],
            "text/plain": [
              "<IPython.core.display.HTML object>"
            ]
          },
          "metadata": {
            "tags": []
          }
        }
      ]
    },
    {
      "cell_type": "markdown",
      "metadata": {
        "id": "jMwlEmBI9ko8"
      },
      "source": [
        "## Data Source\n",
        "\n",
        "The data is [hosted at UCI](https://archive.ics.uci.edu/ml/datasets/adult).\n",
        "*   [Folder: Data files](https://archive.ics.uci.edu/ml/machine-learning-databases/adult/)\n",
        "\n",
        "\n",
        "\n",
        "\n",
        "---\n",
        "\n",
        "\n"
      ]
    },
    {
      "cell_type": "markdown",
      "metadata": {
        "id": "fY63C4kKwlXS"
      },
      "source": [
        "## Imports and Data\n"
      ]
    },
    {
      "cell_type": "code",
      "metadata": {
        "id": "0U8dMB5tlwyy"
      },
      "source": [
        "%%capture\n",
        "!pip install pingouin"
      ],
      "execution_count": null,
      "outputs": []
    },
    {
      "cell_type": "code",
      "metadata": {
        "id": "SB2qU8S5mlb8",
        "colab": {
          "base_uri": "https://localhost:8080/",
          "height": 70
        },
        "outputId": "ff7c25a6-9204-43fc-cc73-9b7b48f94654"
      },
      "source": [
        "import pingouin as pg\n",
        "import pandas as pd\n",
        "import seaborn as sns\n",
        "from matplotlib import style\n",
        "import matplotlib.pyplot as plt\n",
        "import urllib.request as request\n",
        "import numpy as np \n",
        "\n",
        "from sklearn.model_selection import train_test_split\n",
        "from sklearn import linear_model\n",
        "from sklearn.linear_model import LinearRegression\n",
        "from sklearn.linear_model import LogisticRegression\n",
        "from sklearn.metrics import classification_report\n",
        "from sklearn.metrics import confusion_matrix\n",
        "from sklearn.metrics import mean_squared_error, r2_score\n",
        "from sklearn.metrics import accuracy_score\n",
        "\n",
        "import statsmodels.api as sm"
      ],
      "execution_count": null,
      "outputs": [
        {
          "output_type": "stream",
          "text": [
            "/usr/local/lib/python3.6/dist-packages/statsmodels/tools/_testing.py:19: FutureWarning: pandas.util.testing is deprecated. Use the functions in the public API at pandas.testing instead.\n",
            "  import pandas.util.testing as tm\n"
          ],
          "name": "stderr"
        }
      ]
    },
    {
      "cell_type": "markdown",
      "metadata": {
        "id": "0BGDRQT0nLAv"
      },
      "source": [
        "# Import of Helper Functions from Dr. Sheese"
      ]
    },
    {
      "cell_type": "code",
      "metadata": {
        "id": "Bv-tko0cnRVp"
      },
      "source": [
        "def print_parameter_coefficients(parameter_estimates):\n",
        "  '''\n",
        "  takes a fitted model and set of features (X)\n",
        "  prints model parameter coefficients\n",
        "  '''\n",
        "  print('The parameter coefficients are:\\n')\n",
        "\n",
        "  for a in parameter_estimates:\n",
        "    coefficient = round(a[1], 4)\n",
        "    print(f'\\t{a[0]}: {coefficient}')\n",
        "  print()\n",
        "\n",
        "def print_classification_report(predictions, y_test):\n",
        "  '''\n",
        "  prints classifications report of predictions\n",
        "  takes fitted model, X_test and y_test\n",
        "  '''\n",
        "  # classification report\n",
        "  print('\\nClassification Report:\\n')\n",
        "  print(classification_report(y_test, predictions))\n",
        "  print()\n",
        "\n",
        "def print_confusion_matrix(y_test, predictions, condition1, condition2):\n",
        "  # confusion matrix\n",
        "  c_matrix = confusion_matrix(y_test, predictions)\n",
        "  print('Confusion Matrix:\\n')\n",
        "  print('\\tOur logistic regression model predicted the following when applied to the test data:\\n')\n",
        "  print(f'\\tIt correctly predicted {c_matrix[0][0]} of {c_matrix[0][0] + c_matrix[0][1]} {condition1}, \\n \\\n",
        "          but incorrectly predicted {c_matrix[0][1]} {condition1} that did not occur.\\n')\n",
        "  print(f'\\tIt correctly predicted {c_matrix[1][1]} of {c_matrix[1][0] + c_matrix[1][1]} {condition2}, \\n \\\n",
        "          but incorrectly predicted {c_matrix[1][0]} {condition2} that did not occur.\\n')\n",
        "  \n",
        "\n",
        "  \n",
        "def print_model_reports(logmodel, predictions, y_test, condition1, condition2,\n",
        "                        parameter_report=False,\n",
        "                        odds_ratio_report=True):\n",
        "  \n",
        "  #print accuracy\n",
        "  accuracy = accuracy_score(y_test, predictions)\n",
        "  print('Prediction accuracy: ', accuracy)\n",
        "  \n",
        "  # report y intercept \n",
        "  print(f'The y-intercept of our model is {logmodel.intercept_[0].round(4)}')\n",
        "  print()\n",
        "\n",
        "  # print parameters, classification report, confusion matrix\n",
        "  if parameter_report == True:\n",
        "    print_parameter_coefficients(parameter_estimates)\n",
        "  print_classification_report(predictions, y_test)\n",
        "  print_confusion_matrix(y_test, predictions, condition1, condition2)\n",
        "\n",
        "  #print odds ratios\n",
        "  if odds_ratio_report == True:\n",
        "    print('The odds ratios are:')\n",
        "    for a in parameter_estimates:\n",
        "      oddsratio = np.exp(a[1]).round(2)\n",
        "      print(f'{a[0]}: {oddsratio}')"
      ],
      "execution_count": null,
      "outputs": []
    },
    {
      "cell_type": "markdown",
      "metadata": {
        "id": "prvtemhPm5Y5"
      },
      "source": [
        "# Taking a look at the data"
      ]
    },
    {
      "cell_type": "code",
      "metadata": {
        "id": "A-6tau7png7c",
        "colab": {
          "base_uri": "https://localhost:8080/",
          "height": 195
        },
        "outputId": "48b29033-d733-4ad7-880f-e4fc266acf60"
      },
      "source": [
        "df1 = pd.read_csv('https://raw.githubusercontent.com/Jmahaffey1/CS377Project6/main/adult.data', header=None) \n",
        "df2 = pd.read_csv('https://raw.githubusercontent.com/Jmahaffey1/CS377Project6/main/adult.test', header=None) # need header so we can save the first entry and rename later\n",
        "df = pd.concat([df1, df2], ignore_index=True)\n",
        "df.head()"
      ],
      "execution_count": null,
      "outputs": [
        {
          "output_type": "execute_result",
          "data": {
            "text/html": [
              "<div>\n",
              "<style scoped>\n",
              "    .dataframe tbody tr th:only-of-type {\n",
              "        vertical-align: middle;\n",
              "    }\n",
              "\n",
              "    .dataframe tbody tr th {\n",
              "        vertical-align: top;\n",
              "    }\n",
              "\n",
              "    .dataframe thead th {\n",
              "        text-align: right;\n",
              "    }\n",
              "</style>\n",
              "<table border=\"1\" class=\"dataframe\">\n",
              "  <thead>\n",
              "    <tr style=\"text-align: right;\">\n",
              "      <th></th>\n",
              "      <th>0</th>\n",
              "      <th>1</th>\n",
              "      <th>2</th>\n",
              "      <th>3</th>\n",
              "      <th>4</th>\n",
              "      <th>5</th>\n",
              "      <th>6</th>\n",
              "      <th>7</th>\n",
              "      <th>8</th>\n",
              "      <th>9</th>\n",
              "      <th>10</th>\n",
              "      <th>11</th>\n",
              "      <th>12</th>\n",
              "      <th>13</th>\n",
              "      <th>14</th>\n",
              "    </tr>\n",
              "  </thead>\n",
              "  <tbody>\n",
              "    <tr>\n",
              "      <th>0</th>\n",
              "      <td>39</td>\n",
              "      <td>State-gov</td>\n",
              "      <td>77516</td>\n",
              "      <td>Bachelors</td>\n",
              "      <td>13</td>\n",
              "      <td>Never-married</td>\n",
              "      <td>Adm-clerical</td>\n",
              "      <td>Not-in-family</td>\n",
              "      <td>White</td>\n",
              "      <td>Male</td>\n",
              "      <td>2174</td>\n",
              "      <td>0</td>\n",
              "      <td>40</td>\n",
              "      <td>United-States</td>\n",
              "      <td>&lt;=50K</td>\n",
              "    </tr>\n",
              "    <tr>\n",
              "      <th>1</th>\n",
              "      <td>50</td>\n",
              "      <td>Self-emp-not-inc</td>\n",
              "      <td>83311</td>\n",
              "      <td>Bachelors</td>\n",
              "      <td>13</td>\n",
              "      <td>Married-civ-spouse</td>\n",
              "      <td>Exec-managerial</td>\n",
              "      <td>Husband</td>\n",
              "      <td>White</td>\n",
              "      <td>Male</td>\n",
              "      <td>0</td>\n",
              "      <td>0</td>\n",
              "      <td>13</td>\n",
              "      <td>United-States</td>\n",
              "      <td>&lt;=50K</td>\n",
              "    </tr>\n",
              "    <tr>\n",
              "      <th>2</th>\n",
              "      <td>38</td>\n",
              "      <td>Private</td>\n",
              "      <td>215646</td>\n",
              "      <td>HS-grad</td>\n",
              "      <td>9</td>\n",
              "      <td>Divorced</td>\n",
              "      <td>Handlers-cleaners</td>\n",
              "      <td>Not-in-family</td>\n",
              "      <td>White</td>\n",
              "      <td>Male</td>\n",
              "      <td>0</td>\n",
              "      <td>0</td>\n",
              "      <td>40</td>\n",
              "      <td>United-States</td>\n",
              "      <td>&lt;=50K</td>\n",
              "    </tr>\n",
              "    <tr>\n",
              "      <th>3</th>\n",
              "      <td>53</td>\n",
              "      <td>Private</td>\n",
              "      <td>234721</td>\n",
              "      <td>11th</td>\n",
              "      <td>7</td>\n",
              "      <td>Married-civ-spouse</td>\n",
              "      <td>Handlers-cleaners</td>\n",
              "      <td>Husband</td>\n",
              "      <td>Black</td>\n",
              "      <td>Male</td>\n",
              "      <td>0</td>\n",
              "      <td>0</td>\n",
              "      <td>40</td>\n",
              "      <td>United-States</td>\n",
              "      <td>&lt;=50K</td>\n",
              "    </tr>\n",
              "    <tr>\n",
              "      <th>4</th>\n",
              "      <td>28</td>\n",
              "      <td>Private</td>\n",
              "      <td>338409</td>\n",
              "      <td>Bachelors</td>\n",
              "      <td>13</td>\n",
              "      <td>Married-civ-spouse</td>\n",
              "      <td>Prof-specialty</td>\n",
              "      <td>Wife</td>\n",
              "      <td>Black</td>\n",
              "      <td>Female</td>\n",
              "      <td>0</td>\n",
              "      <td>0</td>\n",
              "      <td>40</td>\n",
              "      <td>Cuba</td>\n",
              "      <td>&lt;=50K</td>\n",
              "    </tr>\n",
              "  </tbody>\n",
              "</table>\n",
              "</div>"
            ],
            "text/plain": [
              "   0                  1       2           3   ...  11  12              13      14\n",
              "0  39          State-gov   77516   Bachelors  ...   0  40   United-States   <=50K\n",
              "1  50   Self-emp-not-inc   83311   Bachelors  ...   0  13   United-States   <=50K\n",
              "2  38            Private  215646     HS-grad  ...   0  40   United-States   <=50K\n",
              "3  53            Private  234721        11th  ...   0  40   United-States   <=50K\n",
              "4  28            Private  338409   Bachelors  ...   0  40            Cuba   <=50K\n",
              "\n",
              "[5 rows x 15 columns]"
            ]
          },
          "metadata": {
            "tags": []
          },
          "execution_count": 5
        }
      ]
    },
    {
      "cell_type": "markdown",
      "metadata": {
        "id": "OU0PNoIIrjf0"
      },
      "source": [
        "Becuase it took one of the entires to be the column names, it will have to be renamed"
      ]
    },
    {
      "cell_type": "code",
      "metadata": {
        "id": "I9de90Mvrs-n"
      },
      "source": [
        "df.columns = ['age', 'workclass', 'fnlwgt', 'education', 'education-num', 'marital-status', 'occupation', 'relationship', 'race', 'sex', 'capital-gain', 'capital-loss', 'hours-per-week', 'native-country', 'income']"
      ],
      "execution_count": null,
      "outputs": []
    },
    {
      "cell_type": "code",
      "metadata": {
        "id": "N6sJ2fXQssdS",
        "colab": {
          "base_uri": "https://localhost:8080/",
          "height": 279
        },
        "outputId": "ca16aa59-82f5-4487-fec2-658a265f8813"
      },
      "source": [
        "df.head()"
      ],
      "execution_count": null,
      "outputs": [
        {
          "output_type": "execute_result",
          "data": {
            "text/html": [
              "<div>\n",
              "<style scoped>\n",
              "    .dataframe tbody tr th:only-of-type {\n",
              "        vertical-align: middle;\n",
              "    }\n",
              "\n",
              "    .dataframe tbody tr th {\n",
              "        vertical-align: top;\n",
              "    }\n",
              "\n",
              "    .dataframe thead th {\n",
              "        text-align: right;\n",
              "    }\n",
              "</style>\n",
              "<table border=\"1\" class=\"dataframe\">\n",
              "  <thead>\n",
              "    <tr style=\"text-align: right;\">\n",
              "      <th></th>\n",
              "      <th>age</th>\n",
              "      <th>workclass</th>\n",
              "      <th>fnlwgt</th>\n",
              "      <th>education</th>\n",
              "      <th>education-num</th>\n",
              "      <th>marital-status</th>\n",
              "      <th>occupation</th>\n",
              "      <th>relationship</th>\n",
              "      <th>race</th>\n",
              "      <th>sex</th>\n",
              "      <th>capital-gain</th>\n",
              "      <th>capital-loss</th>\n",
              "      <th>hours-per-week</th>\n",
              "      <th>native-country</th>\n",
              "      <th>income</th>\n",
              "    </tr>\n",
              "  </thead>\n",
              "  <tbody>\n",
              "    <tr>\n",
              "      <th>0</th>\n",
              "      <td>39</td>\n",
              "      <td>State-gov</td>\n",
              "      <td>77516</td>\n",
              "      <td>Bachelors</td>\n",
              "      <td>13</td>\n",
              "      <td>Never-married</td>\n",
              "      <td>Adm-clerical</td>\n",
              "      <td>Not-in-family</td>\n",
              "      <td>White</td>\n",
              "      <td>Male</td>\n",
              "      <td>2174</td>\n",
              "      <td>0</td>\n",
              "      <td>40</td>\n",
              "      <td>United-States</td>\n",
              "      <td>&lt;=50K</td>\n",
              "    </tr>\n",
              "    <tr>\n",
              "      <th>1</th>\n",
              "      <td>50</td>\n",
              "      <td>Self-emp-not-inc</td>\n",
              "      <td>83311</td>\n",
              "      <td>Bachelors</td>\n",
              "      <td>13</td>\n",
              "      <td>Married-civ-spouse</td>\n",
              "      <td>Exec-managerial</td>\n",
              "      <td>Husband</td>\n",
              "      <td>White</td>\n",
              "      <td>Male</td>\n",
              "      <td>0</td>\n",
              "      <td>0</td>\n",
              "      <td>13</td>\n",
              "      <td>United-States</td>\n",
              "      <td>&lt;=50K</td>\n",
              "    </tr>\n",
              "    <tr>\n",
              "      <th>2</th>\n",
              "      <td>38</td>\n",
              "      <td>Private</td>\n",
              "      <td>215646</td>\n",
              "      <td>HS-grad</td>\n",
              "      <td>9</td>\n",
              "      <td>Divorced</td>\n",
              "      <td>Handlers-cleaners</td>\n",
              "      <td>Not-in-family</td>\n",
              "      <td>White</td>\n",
              "      <td>Male</td>\n",
              "      <td>0</td>\n",
              "      <td>0</td>\n",
              "      <td>40</td>\n",
              "      <td>United-States</td>\n",
              "      <td>&lt;=50K</td>\n",
              "    </tr>\n",
              "    <tr>\n",
              "      <th>3</th>\n",
              "      <td>53</td>\n",
              "      <td>Private</td>\n",
              "      <td>234721</td>\n",
              "      <td>11th</td>\n",
              "      <td>7</td>\n",
              "      <td>Married-civ-spouse</td>\n",
              "      <td>Handlers-cleaners</td>\n",
              "      <td>Husband</td>\n",
              "      <td>Black</td>\n",
              "      <td>Male</td>\n",
              "      <td>0</td>\n",
              "      <td>0</td>\n",
              "      <td>40</td>\n",
              "      <td>United-States</td>\n",
              "      <td>&lt;=50K</td>\n",
              "    </tr>\n",
              "    <tr>\n",
              "      <th>4</th>\n",
              "      <td>28</td>\n",
              "      <td>Private</td>\n",
              "      <td>338409</td>\n",
              "      <td>Bachelors</td>\n",
              "      <td>13</td>\n",
              "      <td>Married-civ-spouse</td>\n",
              "      <td>Prof-specialty</td>\n",
              "      <td>Wife</td>\n",
              "      <td>Black</td>\n",
              "      <td>Female</td>\n",
              "      <td>0</td>\n",
              "      <td>0</td>\n",
              "      <td>40</td>\n",
              "      <td>Cuba</td>\n",
              "      <td>&lt;=50K</td>\n",
              "    </tr>\n",
              "  </tbody>\n",
              "</table>\n",
              "</div>"
            ],
            "text/plain": [
              "   age          workclass  fnlwgt  ... hours-per-week  native-country  income\n",
              "0   39          State-gov   77516  ...             40   United-States   <=50K\n",
              "1   50   Self-emp-not-inc   83311  ...             13   United-States   <=50K\n",
              "2   38            Private  215646  ...             40   United-States   <=50K\n",
              "3   53            Private  234721  ...             40   United-States   <=50K\n",
              "4   28            Private  338409  ...             40            Cuba   <=50K\n",
              "\n",
              "[5 rows x 15 columns]"
            ]
          },
          "metadata": {
            "tags": []
          },
          "execution_count": 7
        }
      ]
    },
    {
      "cell_type": "code",
      "metadata": {
        "id": "JL_2O-KRuDWs",
        "colab": {
          "base_uri": "https://localhost:8080/",
          "height": 386
        },
        "outputId": "7bf06f0d-5632-4eda-84d2-421389a04a19"
      },
      "source": [
        "df.info()"
      ],
      "execution_count": null,
      "outputs": [
        {
          "output_type": "stream",
          "text": [
            "<class 'pandas.core.frame.DataFrame'>\n",
            "RangeIndex: 48842 entries, 0 to 48841\n",
            "Data columns (total 15 columns):\n",
            " #   Column          Non-Null Count  Dtype \n",
            "---  ------          --------------  ----- \n",
            " 0   age             48842 non-null  int64 \n",
            " 1   workclass       48842 non-null  object\n",
            " 2   fnlwgt          48842 non-null  int64 \n",
            " 3   education       48842 non-null  object\n",
            " 4   education-num   48842 non-null  int64 \n",
            " 5   marital-status  48842 non-null  object\n",
            " 6   occupation      48842 non-null  object\n",
            " 7   relationship    48842 non-null  object\n",
            " 8   race            48842 non-null  object\n",
            " 9   sex             48842 non-null  object\n",
            " 10  capital-gain    48842 non-null  int64 \n",
            " 11  capital-loss    48842 non-null  int64 \n",
            " 12  hours-per-week  48842 non-null  int64 \n",
            " 13  native-country  48842 non-null  object\n",
            " 14  income          48842 non-null  object\n",
            "dtypes: int64(6), object(9)\n",
            "memory usage: 5.6+ MB\n"
          ],
          "name": "stdout"
        }
      ]
    },
    {
      "cell_type": "markdown",
      "metadata": {
        "id": "QmD-Uy32uIeY"
      },
      "source": [
        "None of the columns are missing data so we won't have to initally drop anything. "
      ]
    },
    {
      "cell_type": "code",
      "metadata": {
        "id": "M-l1kZVauWwo",
        "colab": {
          "base_uri": "https://localhost:8080/",
          "height": 225
        },
        "outputId": "b0f65d63-3bbb-49ba-bc07-108e1f38fc1e"
      },
      "source": [
        "df.describe().T"
      ],
      "execution_count": null,
      "outputs": [
        {
          "output_type": "execute_result",
          "data": {
            "text/html": [
              "<div>\n",
              "<style scoped>\n",
              "    .dataframe tbody tr th:only-of-type {\n",
              "        vertical-align: middle;\n",
              "    }\n",
              "\n",
              "    .dataframe tbody tr th {\n",
              "        vertical-align: top;\n",
              "    }\n",
              "\n",
              "    .dataframe thead th {\n",
              "        text-align: right;\n",
              "    }\n",
              "</style>\n",
              "<table border=\"1\" class=\"dataframe\">\n",
              "  <thead>\n",
              "    <tr style=\"text-align: right;\">\n",
              "      <th></th>\n",
              "      <th>count</th>\n",
              "      <th>mean</th>\n",
              "      <th>std</th>\n",
              "      <th>min</th>\n",
              "      <th>25%</th>\n",
              "      <th>50%</th>\n",
              "      <th>75%</th>\n",
              "      <th>max</th>\n",
              "    </tr>\n",
              "  </thead>\n",
              "  <tbody>\n",
              "    <tr>\n",
              "      <th>age</th>\n",
              "      <td>48842.0</td>\n",
              "      <td>38.643585</td>\n",
              "      <td>13.710510</td>\n",
              "      <td>17.0</td>\n",
              "      <td>28.0</td>\n",
              "      <td>37.0</td>\n",
              "      <td>48.0</td>\n",
              "      <td>90.0</td>\n",
              "    </tr>\n",
              "    <tr>\n",
              "      <th>fnlwgt</th>\n",
              "      <td>48842.0</td>\n",
              "      <td>189664.134597</td>\n",
              "      <td>105604.025423</td>\n",
              "      <td>12285.0</td>\n",
              "      <td>117550.5</td>\n",
              "      <td>178144.5</td>\n",
              "      <td>237642.0</td>\n",
              "      <td>1490400.0</td>\n",
              "    </tr>\n",
              "    <tr>\n",
              "      <th>education-num</th>\n",
              "      <td>48842.0</td>\n",
              "      <td>10.078089</td>\n",
              "      <td>2.570973</td>\n",
              "      <td>1.0</td>\n",
              "      <td>9.0</td>\n",
              "      <td>10.0</td>\n",
              "      <td>12.0</td>\n",
              "      <td>16.0</td>\n",
              "    </tr>\n",
              "    <tr>\n",
              "      <th>capital-gain</th>\n",
              "      <td>48842.0</td>\n",
              "      <td>1079.067626</td>\n",
              "      <td>7452.019058</td>\n",
              "      <td>0.0</td>\n",
              "      <td>0.0</td>\n",
              "      <td>0.0</td>\n",
              "      <td>0.0</td>\n",
              "      <td>99999.0</td>\n",
              "    </tr>\n",
              "    <tr>\n",
              "      <th>capital-loss</th>\n",
              "      <td>48842.0</td>\n",
              "      <td>87.502314</td>\n",
              "      <td>403.004552</td>\n",
              "      <td>0.0</td>\n",
              "      <td>0.0</td>\n",
              "      <td>0.0</td>\n",
              "      <td>0.0</td>\n",
              "      <td>4356.0</td>\n",
              "    </tr>\n",
              "    <tr>\n",
              "      <th>hours-per-week</th>\n",
              "      <td>48842.0</td>\n",
              "      <td>40.422382</td>\n",
              "      <td>12.391444</td>\n",
              "      <td>1.0</td>\n",
              "      <td>40.0</td>\n",
              "      <td>40.0</td>\n",
              "      <td>45.0</td>\n",
              "      <td>99.0</td>\n",
              "    </tr>\n",
              "  </tbody>\n",
              "</table>\n",
              "</div>"
            ],
            "text/plain": [
              "                  count           mean  ...       75%        max\n",
              "age             48842.0      38.643585  ...      48.0       90.0\n",
              "fnlwgt          48842.0  189664.134597  ...  237642.0  1490400.0\n",
              "education-num   48842.0      10.078089  ...      12.0       16.0\n",
              "capital-gain    48842.0    1079.067626  ...       0.0    99999.0\n",
              "capital-loss    48842.0      87.502314  ...       0.0     4356.0\n",
              "hours-per-week  48842.0      40.422382  ...      45.0       99.0\n",
              "\n",
              "[6 rows x 8 columns]"
            ]
          },
          "metadata": {
            "tags": []
          },
          "execution_count": 9
        }
      ]
    },
    {
      "cell_type": "code",
      "metadata": {
        "id": "Pi8zEm3zuXlX",
        "colab": {
          "base_uri": "https://localhost:8080/",
          "height": 286
        },
        "outputId": "87b69d3e-5f51-4427-efb4-6e72e29775ca"
      },
      "source": [
        "df.nunique()"
      ],
      "execution_count": null,
      "outputs": [
        {
          "output_type": "execute_result",
          "data": {
            "text/plain": [
              "age                  74\n",
              "workclass             9\n",
              "fnlwgt            28523\n",
              "education            16\n",
              "education-num        16\n",
              "marital-status        7\n",
              "occupation           15\n",
              "relationship          6\n",
              "race                  5\n",
              "sex                   2\n",
              "capital-gain        123\n",
              "capital-loss         99\n",
              "hours-per-week       96\n",
              "native-country       42\n",
              "income                4\n",
              "dtype: int64"
            ]
          },
          "metadata": {
            "tags": []
          },
          "execution_count": 10
        }
      ]
    },
    {
      "cell_type": "code",
      "metadata": {
        "id": "YvssjaXVU7Hj",
        "colab": {
          "base_uri": "https://localhost:8080/",
          "height": 34
        },
        "outputId": "f64497be-8c85-4b56-b9ab-4086eefb8366"
      },
      "source": [
        "df['age'].mean()"
      ],
      "execution_count": null,
      "outputs": [
        {
          "output_type": "execute_result",
          "data": {
            "text/plain": [
              "38.64358543876172"
            ]
          },
          "metadata": {
            "tags": []
          },
          "execution_count": 11
        }
      ]
    },
    {
      "cell_type": "code",
      "metadata": {
        "id": "ZZFoWlkSU_Lz",
        "colab": {
          "base_uri": "https://localhost:8080/",
          "height": 34
        },
        "outputId": "1587b02e-efc6-465c-f618-8ae2bd19d654"
      },
      "source": [
        "df['education-num'].mean()"
      ],
      "execution_count": null,
      "outputs": [
        {
          "output_type": "execute_result",
          "data": {
            "text/plain": [
              "10.078088530363212"
            ]
          },
          "metadata": {
            "tags": []
          },
          "execution_count": 12
        }
      ]
    },
    {
      "cell_type": "markdown",
      "metadata": {
        "id": "TKlkqzO38OA1"
      },
      "source": [
        "Most of the columns do not contain few unqiue values. Will have to replace sex with 1s and 0s"
      ]
    },
    {
      "cell_type": "code",
      "metadata": {
        "id": "-yFyX8Y5uXrG",
        "colab": {
          "base_uri": "https://localhost:8080/",
          "height": 101
        },
        "outputId": "85f102f5-4356-45c4-83d1-b5ba5eaa0bed"
      },
      "source": [
        "col_list = df.columns.unique()\n",
        "col_list"
      ],
      "execution_count": null,
      "outputs": [
        {
          "output_type": "execute_result",
          "data": {
            "text/plain": [
              "Index(['age', 'workclass', 'fnlwgt', 'education', 'education-num',\n",
              "       'marital-status', 'occupation', 'relationship', 'race', 'sex',\n",
              "       'capital-gain', 'capital-loss', 'hours-per-week', 'native-country',\n",
              "       'income'],\n",
              "      dtype='object')"
            ]
          },
          "metadata": {
            "tags": []
          },
          "execution_count": 13
        }
      ]
    },
    {
      "cell_type": "code",
      "metadata": {
        "id": "OtaTq5k9fo7O"
      },
      "source": [
        "df = df.drop(columns='fnlwgt') # at the recomendation of Dr. Sheese, lets drop duplicates and the fnlwgt column\n",
        "df = df.drop_duplicates()"
      ],
      "execution_count": null,
      "outputs": []
    },
    {
      "cell_type": "code",
      "metadata": {
        "id": "YsV6_JXje-kp"
      },
      "source": [
        "df['income'] = df['income'].str.rstrip('.') # https://stackoverflow.com/questions/37001787/remove-ends-of-string-entries-in-pandas-dataframe-column"
      ],
      "execution_count": null,
      "outputs": []
    },
    {
      "cell_type": "markdown",
      "metadata": {
        "id": "p4FES_TGi3Zd"
      },
      "source": [
        "using .str.rstrip, remove the period from the second df"
      ]
    },
    {
      "cell_type": "code",
      "metadata": {
        "id": "y5AT-BhHBGhe"
      },
      "source": [
        "sex_num = {' Male': 0, ' Female': 1}  # doing simple binary encoding for categorical vairables with only two unique values\n",
        "income_num = {' <=50K': 0, ' >50K': 1}"
      ],
      "execution_count": null,
      "outputs": []
    },
    {
      "cell_type": "code",
      "metadata": {
        "id": "Q_kghDgNuX0s"
      },
      "source": [
        "df.sex = [sex_num[i] for i in df.sex]  # changing male to 0 and female to 1 \n",
        "df.income = [income_num[i] for i in df.income] # changing <=50k to 0 and >50k to 1"
      ],
      "execution_count": null,
      "outputs": []
    },
    {
      "cell_type": "code",
      "metadata": {
        "id": "-pfCm-dvuX6l",
        "colab": {
          "base_uri": "https://localhost:8080/",
          "height": 444
        },
        "outputId": "a310c389-3b1f-4010-ee67-2621ca750ffe"
      },
      "source": [
        "df.head(10)"
      ],
      "execution_count": null,
      "outputs": [
        {
          "output_type": "execute_result",
          "data": {
            "text/html": [
              "<div>\n",
              "<style scoped>\n",
              "    .dataframe tbody tr th:only-of-type {\n",
              "        vertical-align: middle;\n",
              "    }\n",
              "\n",
              "    .dataframe tbody tr th {\n",
              "        vertical-align: top;\n",
              "    }\n",
              "\n",
              "    .dataframe thead th {\n",
              "        text-align: right;\n",
              "    }\n",
              "</style>\n",
              "<table border=\"1\" class=\"dataframe\">\n",
              "  <thead>\n",
              "    <tr style=\"text-align: right;\">\n",
              "      <th></th>\n",
              "      <th>age</th>\n",
              "      <th>workclass</th>\n",
              "      <th>education</th>\n",
              "      <th>education-num</th>\n",
              "      <th>marital-status</th>\n",
              "      <th>occupation</th>\n",
              "      <th>relationship</th>\n",
              "      <th>race</th>\n",
              "      <th>sex</th>\n",
              "      <th>capital-gain</th>\n",
              "      <th>capital-loss</th>\n",
              "      <th>hours-per-week</th>\n",
              "      <th>native-country</th>\n",
              "      <th>income</th>\n",
              "    </tr>\n",
              "  </thead>\n",
              "  <tbody>\n",
              "    <tr>\n",
              "      <th>0</th>\n",
              "      <td>39</td>\n",
              "      <td>State-gov</td>\n",
              "      <td>Bachelors</td>\n",
              "      <td>13</td>\n",
              "      <td>Never-married</td>\n",
              "      <td>Adm-clerical</td>\n",
              "      <td>Not-in-family</td>\n",
              "      <td>White</td>\n",
              "      <td>0</td>\n",
              "      <td>2174</td>\n",
              "      <td>0</td>\n",
              "      <td>40</td>\n",
              "      <td>United-States</td>\n",
              "      <td>0</td>\n",
              "    </tr>\n",
              "    <tr>\n",
              "      <th>1</th>\n",
              "      <td>50</td>\n",
              "      <td>Self-emp-not-inc</td>\n",
              "      <td>Bachelors</td>\n",
              "      <td>13</td>\n",
              "      <td>Married-civ-spouse</td>\n",
              "      <td>Exec-managerial</td>\n",
              "      <td>Husband</td>\n",
              "      <td>White</td>\n",
              "      <td>0</td>\n",
              "      <td>0</td>\n",
              "      <td>0</td>\n",
              "      <td>13</td>\n",
              "      <td>United-States</td>\n",
              "      <td>0</td>\n",
              "    </tr>\n",
              "    <tr>\n",
              "      <th>2</th>\n",
              "      <td>38</td>\n",
              "      <td>Private</td>\n",
              "      <td>HS-grad</td>\n",
              "      <td>9</td>\n",
              "      <td>Divorced</td>\n",
              "      <td>Handlers-cleaners</td>\n",
              "      <td>Not-in-family</td>\n",
              "      <td>White</td>\n",
              "      <td>0</td>\n",
              "      <td>0</td>\n",
              "      <td>0</td>\n",
              "      <td>40</td>\n",
              "      <td>United-States</td>\n",
              "      <td>0</td>\n",
              "    </tr>\n",
              "    <tr>\n",
              "      <th>3</th>\n",
              "      <td>53</td>\n",
              "      <td>Private</td>\n",
              "      <td>11th</td>\n",
              "      <td>7</td>\n",
              "      <td>Married-civ-spouse</td>\n",
              "      <td>Handlers-cleaners</td>\n",
              "      <td>Husband</td>\n",
              "      <td>Black</td>\n",
              "      <td>0</td>\n",
              "      <td>0</td>\n",
              "      <td>0</td>\n",
              "      <td>40</td>\n",
              "      <td>United-States</td>\n",
              "      <td>0</td>\n",
              "    </tr>\n",
              "    <tr>\n",
              "      <th>4</th>\n",
              "      <td>28</td>\n",
              "      <td>Private</td>\n",
              "      <td>Bachelors</td>\n",
              "      <td>13</td>\n",
              "      <td>Married-civ-spouse</td>\n",
              "      <td>Prof-specialty</td>\n",
              "      <td>Wife</td>\n",
              "      <td>Black</td>\n",
              "      <td>1</td>\n",
              "      <td>0</td>\n",
              "      <td>0</td>\n",
              "      <td>40</td>\n",
              "      <td>Cuba</td>\n",
              "      <td>0</td>\n",
              "    </tr>\n",
              "    <tr>\n",
              "      <th>5</th>\n",
              "      <td>37</td>\n",
              "      <td>Private</td>\n",
              "      <td>Masters</td>\n",
              "      <td>14</td>\n",
              "      <td>Married-civ-spouse</td>\n",
              "      <td>Exec-managerial</td>\n",
              "      <td>Wife</td>\n",
              "      <td>White</td>\n",
              "      <td>1</td>\n",
              "      <td>0</td>\n",
              "      <td>0</td>\n",
              "      <td>40</td>\n",
              "      <td>United-States</td>\n",
              "      <td>0</td>\n",
              "    </tr>\n",
              "    <tr>\n",
              "      <th>6</th>\n",
              "      <td>49</td>\n",
              "      <td>Private</td>\n",
              "      <td>9th</td>\n",
              "      <td>5</td>\n",
              "      <td>Married-spouse-absent</td>\n",
              "      <td>Other-service</td>\n",
              "      <td>Not-in-family</td>\n",
              "      <td>Black</td>\n",
              "      <td>1</td>\n",
              "      <td>0</td>\n",
              "      <td>0</td>\n",
              "      <td>16</td>\n",
              "      <td>Jamaica</td>\n",
              "      <td>0</td>\n",
              "    </tr>\n",
              "    <tr>\n",
              "      <th>7</th>\n",
              "      <td>52</td>\n",
              "      <td>Self-emp-not-inc</td>\n",
              "      <td>HS-grad</td>\n",
              "      <td>9</td>\n",
              "      <td>Married-civ-spouse</td>\n",
              "      <td>Exec-managerial</td>\n",
              "      <td>Husband</td>\n",
              "      <td>White</td>\n",
              "      <td>0</td>\n",
              "      <td>0</td>\n",
              "      <td>0</td>\n",
              "      <td>45</td>\n",
              "      <td>United-States</td>\n",
              "      <td>1</td>\n",
              "    </tr>\n",
              "    <tr>\n",
              "      <th>8</th>\n",
              "      <td>31</td>\n",
              "      <td>Private</td>\n",
              "      <td>Masters</td>\n",
              "      <td>14</td>\n",
              "      <td>Never-married</td>\n",
              "      <td>Prof-specialty</td>\n",
              "      <td>Not-in-family</td>\n",
              "      <td>White</td>\n",
              "      <td>1</td>\n",
              "      <td>14084</td>\n",
              "      <td>0</td>\n",
              "      <td>50</td>\n",
              "      <td>United-States</td>\n",
              "      <td>1</td>\n",
              "    </tr>\n",
              "    <tr>\n",
              "      <th>9</th>\n",
              "      <td>42</td>\n",
              "      <td>Private</td>\n",
              "      <td>Bachelors</td>\n",
              "      <td>13</td>\n",
              "      <td>Married-civ-spouse</td>\n",
              "      <td>Exec-managerial</td>\n",
              "      <td>Husband</td>\n",
              "      <td>White</td>\n",
              "      <td>0</td>\n",
              "      <td>5178</td>\n",
              "      <td>0</td>\n",
              "      <td>40</td>\n",
              "      <td>United-States</td>\n",
              "      <td>1</td>\n",
              "    </tr>\n",
              "  </tbody>\n",
              "</table>\n",
              "</div>"
            ],
            "text/plain": [
              "   age          workclass   education  ...  hours-per-week  native-country income\n",
              "0   39          State-gov   Bachelors  ...              40   United-States      0\n",
              "1   50   Self-emp-not-inc   Bachelors  ...              13   United-States      0\n",
              "2   38            Private     HS-grad  ...              40   United-States      0\n",
              "3   53            Private        11th  ...              40   United-States      0\n",
              "4   28            Private   Bachelors  ...              40            Cuba      0\n",
              "5   37            Private     Masters  ...              40   United-States      0\n",
              "6   49            Private         9th  ...              16         Jamaica      0\n",
              "7   52   Self-emp-not-inc     HS-grad  ...              45   United-States      1\n",
              "8   31            Private     Masters  ...              50   United-States      1\n",
              "9   42            Private   Bachelors  ...              40   United-States      1\n",
              "\n",
              "[10 rows x 14 columns]"
            ]
          },
          "metadata": {
            "tags": []
          },
          "execution_count": 18
        }
      ]
    },
    {
      "cell_type": "markdown",
      "metadata": {
        "id": "bz8fP4-crh36"
      },
      "source": [
        "Now let's clean up some of the categoricals so we have less to work with. The first one I'll start with will be workclass."
      ]
    },
    {
      "cell_type": "code",
      "metadata": {
        "id": "8eVuMnHjsA8q",
        "colab": {
          "base_uri": "https://localhost:8080/",
          "height": 67
        },
        "outputId": "55ee02a8-4b0d-4ff6-9ca0-1f99be1899a4"
      },
      "source": [
        "df['workclass'].unique()"
      ],
      "execution_count": null,
      "outputs": [
        {
          "output_type": "execute_result",
          "data": {
            "text/plain": [
              "array([' State-gov', ' Self-emp-not-inc', ' Private', ' Federal-gov',\n",
              "       ' Local-gov', ' ?', ' Self-emp-inc', ' Without-pay',\n",
              "       ' Never-worked'], dtype=object)"
            ]
          },
          "metadata": {
            "tags": []
          },
          "execution_count": 19
        }
      ]
    },
    {
      "cell_type": "code",
      "metadata": {
        "id": "gqbYR4mPuXwF",
        "colab": {
          "base_uri": "https://localhost:8080/",
          "height": 218
        },
        "outputId": "92343fc8-95ff-40d1-a6d9-7dd36a8a658d"
      },
      "source": [
        "def job_types(value):\n",
        "  if value == ' Never-worked' or value == ' Without-pay':\n",
        "    value = 'Unemployed'\n",
        "    return value\n",
        "  elif value == ' State-gov' or value == ' Local-gov' or value == ' Federal-gov':\n",
        "    value = 'Gov-employed'\n",
        "    return value\n",
        "  elif value == ' Self-emp-not-inc' or value == ' Self-emp-inc':\n",
        "    value = 'Self-employed'\n",
        "    return value\n",
        "  else:\n",
        "    return value\n",
        "df['workclass-category'] = df['workclass'].map(job_types)  # recreating the workclass column with less categoricals\n",
        "df['workclass-category']"
      ],
      "execution_count": null,
      "outputs": [
        {
          "output_type": "execute_result",
          "data": {
            "text/plain": [
              "0         Gov-employed\n",
              "1        Self-employed\n",
              "2              Private\n",
              "3              Private\n",
              "4              Private\n",
              "             ...      \n",
              "48837          Private\n",
              "48838                ?\n",
              "48839          Private\n",
              "48840          Private\n",
              "48841    Self-employed\n",
              "Name: workclass-category, Length: 44355, dtype: object"
            ]
          },
          "metadata": {
            "tags": []
          },
          "execution_count": 20
        }
      ]
    },
    {
      "cell_type": "code",
      "metadata": {
        "id": "FWC8elPRuXoz",
        "colab": {
          "base_uri": "https://localhost:8080/",
          "height": 218
        },
        "outputId": "537889d7-6e97-4e05-ee44-2dfea7959a17"
      },
      "source": [
        "def USA_born(value):\n",
        "  if value == ' United-States':\n",
        "    value = 1\n",
        "    return value\n",
        "  else:\n",
        "    value = 'Non-US'\n",
        "    return 0\n",
        "\n",
        "\n",
        "df['native-country'] = df['native-country'].map(USA_born)  # recreating the workclass column with less categoricals\n",
        "df['native-country']"
      ],
      "execution_count": null,
      "outputs": [
        {
          "output_type": "execute_result",
          "data": {
            "text/plain": [
              "0        1\n",
              "1        1\n",
              "2        1\n",
              "3        1\n",
              "4        0\n",
              "        ..\n",
              "48837    1\n",
              "48838    1\n",
              "48839    1\n",
              "48840    1\n",
              "48841    1\n",
              "Name: native-country, Length: 44355, dtype: int64"
            ]
          },
          "metadata": {
            "tags": []
          },
          "execution_count": 21
        }
      ]
    },
    {
      "cell_type": "markdown",
      "metadata": {
        "id": "XfBCFTnxJ_WR"
      },
      "source": [
        "There are about 39,000 entries from the US and around 4500 entries not from the US. "
      ]
    },
    {
      "cell_type": "code",
      "metadata": {
        "id": "FOd-56mIuXOF",
        "colab": {
          "base_uri": "https://localhost:8080/",
          "height": 50
        },
        "outputId": "c5d4ac28-8aaa-4339-a9e3-3a5bba0416cc"
      },
      "source": [
        "df['race'].unique()"
      ],
      "execution_count": null,
      "outputs": [
        {
          "output_type": "execute_result",
          "data": {
            "text/plain": [
              "array([' White', ' Black', ' Asian-Pac-Islander', ' Amer-Indian-Eskimo',\n",
              "       ' Other'], dtype=object)"
            ]
          },
          "metadata": {
            "tags": []
          },
          "execution_count": 22
        }
      ]
    },
    {
      "cell_type": "code",
      "metadata": {
        "id": "pkqIMTxMKqta",
        "colab": {
          "base_uri": "https://localhost:8080/",
          "height": 166
        },
        "outputId": "dc1d26ef-2ee2-4f83-ca1e-f2cfa86e76b3"
      },
      "source": [
        "pd.crosstab(df['income'], df['race'], margins=True, normalize=True)"
      ],
      "execution_count": null,
      "outputs": [
        {
          "output_type": "execute_result",
          "data": {
            "text/html": [
              "<div>\n",
              "<style scoped>\n",
              "    .dataframe tbody tr th:only-of-type {\n",
              "        vertical-align: middle;\n",
              "    }\n",
              "\n",
              "    .dataframe tbody tr th {\n",
              "        vertical-align: top;\n",
              "    }\n",
              "\n",
              "    .dataframe thead th {\n",
              "        text-align: right;\n",
              "    }\n",
              "</style>\n",
              "<table border=\"1\" class=\"dataframe\">\n",
              "  <thead>\n",
              "    <tr style=\"text-align: right;\">\n",
              "      <th>race</th>\n",
              "      <th>Amer-Indian-Eskimo</th>\n",
              "      <th>Asian-Pac-Islander</th>\n",
              "      <th>Black</th>\n",
              "      <th>Other</th>\n",
              "      <th>White</th>\n",
              "      <th>All</th>\n",
              "    </tr>\n",
              "    <tr>\n",
              "      <th>income</th>\n",
              "      <th></th>\n",
              "      <th></th>\n",
              "      <th></th>\n",
              "      <th></th>\n",
              "      <th></th>\n",
              "      <th></th>\n",
              "    </tr>\n",
              "  </thead>\n",
              "  <tbody>\n",
              "    <tr>\n",
              "      <th>0</th>\n",
              "      <td>0.009356</td>\n",
              "      <td>0.025003</td>\n",
              "      <td>0.090677</td>\n",
              "      <td>0.008026</td>\n",
              "      <td>0.621982</td>\n",
              "      <td>0.755045</td>\n",
              "    </tr>\n",
              "    <tr>\n",
              "      <th>1</th>\n",
              "      <td>0.001240</td>\n",
              "      <td>0.009221</td>\n",
              "      <td>0.012693</td>\n",
              "      <td>0.001127</td>\n",
              "      <td>0.220674</td>\n",
              "      <td>0.244955</td>\n",
              "    </tr>\n",
              "    <tr>\n",
              "      <th>All</th>\n",
              "      <td>0.010596</td>\n",
              "      <td>0.034224</td>\n",
              "      <td>0.103371</td>\n",
              "      <td>0.009153</td>\n",
              "      <td>0.842656</td>\n",
              "      <td>1.000000</td>\n",
              "    </tr>\n",
              "  </tbody>\n",
              "</table>\n",
              "</div>"
            ],
            "text/plain": [
              "race     Amer-Indian-Eskimo   Asian-Pac-Islander  ...     White       All\n",
              "income                                            ...                    \n",
              "0                  0.009356             0.025003  ...  0.621982  0.755045\n",
              "1                  0.001240             0.009221  ...  0.220674  0.244955\n",
              "All                0.010596             0.034224  ...  0.842656  1.000000\n",
              "\n",
              "[3 rows x 6 columns]"
            ]
          },
          "metadata": {
            "tags": []
          },
          "execution_count": 23
        }
      ]
    },
    {
      "cell_type": "code",
      "metadata": {
        "id": "sBipgXEfK-w2",
        "colab": {
          "base_uri": "https://localhost:8080/",
          "height": 166
        },
        "outputId": "8b094626-2368-4a3d-cd20-7cce429c804a"
      },
      "source": [
        "pd.crosstab(df['income'], df['sex'], margins=True, normalize=True)"
      ],
      "execution_count": null,
      "outputs": [
        {
          "output_type": "execute_result",
          "data": {
            "text/html": [
              "<div>\n",
              "<style scoped>\n",
              "    .dataframe tbody tr th:only-of-type {\n",
              "        vertical-align: middle;\n",
              "    }\n",
              "\n",
              "    .dataframe tbody tr th {\n",
              "        vertical-align: top;\n",
              "    }\n",
              "\n",
              "    .dataframe thead th {\n",
              "        text-align: right;\n",
              "    }\n",
              "</style>\n",
              "<table border=\"1\" class=\"dataframe\">\n",
              "  <thead>\n",
              "    <tr style=\"text-align: right;\">\n",
              "      <th>sex</th>\n",
              "      <th>0</th>\n",
              "      <th>1</th>\n",
              "      <th>All</th>\n",
              "    </tr>\n",
              "    <tr>\n",
              "      <th>income</th>\n",
              "      <th></th>\n",
              "      <th></th>\n",
              "      <th></th>\n",
              "    </tr>\n",
              "  </thead>\n",
              "  <tbody>\n",
              "    <tr>\n",
              "      <th>0</th>\n",
              "      <td>0.456296</td>\n",
              "      <td>0.298749</td>\n",
              "      <td>0.755045</td>\n",
              "    </tr>\n",
              "    <tr>\n",
              "      <th>1</th>\n",
              "      <td>0.205794</td>\n",
              "      <td>0.039161</td>\n",
              "      <td>0.244955</td>\n",
              "    </tr>\n",
              "    <tr>\n",
              "      <th>All</th>\n",
              "      <td>0.662090</td>\n",
              "      <td>0.337910</td>\n",
              "      <td>1.000000</td>\n",
              "    </tr>\n",
              "  </tbody>\n",
              "</table>\n",
              "</div>"
            ],
            "text/plain": [
              "sex            0         1       All\n",
              "income                              \n",
              "0       0.456296  0.298749  0.755045\n",
              "1       0.205794  0.039161  0.244955\n",
              "All     0.662090  0.337910  1.000000"
            ]
          },
          "metadata": {
            "tags": []
          },
          "execution_count": 24
        }
      ]
    },
    {
      "cell_type": "markdown",
      "metadata": {
        "id": "54FX100xK4rS"
      },
      "source": [
        "We can see that the majority of the entries are white males. Whites make up 84% of the entries and males make up 66% of the entries. 75% of the entires do not earn above 50k. "
      ]
    },
    {
      "cell_type": "code",
      "metadata": {
        "id": "S_OH81ZhOo8w",
        "colab": {
          "base_uri": "https://localhost:8080/",
          "height": 67
        },
        "outputId": "20a57337-dd68-4209-f5a1-e214d4b46345"
      },
      "source": [
        "df['marital-status'].unique()"
      ],
      "execution_count": null,
      "outputs": [
        {
          "output_type": "execute_result",
          "data": {
            "text/plain": [
              "array([' Never-married', ' Married-civ-spouse', ' Divorced',\n",
              "       ' Married-spouse-absent', ' Separated', ' Married-AF-spouse',\n",
              "       ' Widowed'], dtype=object)"
            ]
          },
          "metadata": {
            "tags": []
          },
          "execution_count": 25
        }
      ]
    },
    {
      "cell_type": "code",
      "metadata": {
        "id": "ZO-wMEoSLVSa",
        "colab": {
          "base_uri": "https://localhost:8080/",
          "height": 502
        },
        "outputId": "7d3f8cb2-8ed5-4509-92de-aed6217d89b9"
      },
      "source": [
        "def marriage_status(value):\n",
        "  if value == ' Separated' or value == ' Widowed' or value == ' Divorced':\n",
        "    value = 'Not-married'\n",
        "    return value\n",
        "  elif value == ' Never-married':\n",
        "    value = 'Never-married'\n",
        "    return value\n",
        "  else:\n",
        "    value = 'Married'\n",
        "    return value\n",
        "\n",
        "df['marital-status'] = df['marital-status'].map(marriage_status)\n",
        "df[df['marital-status'] == 'Not-married']"
      ],
      "execution_count": null,
      "outputs": [
        {
          "output_type": "execute_result",
          "data": {
            "text/html": [
              "<div>\n",
              "<style scoped>\n",
              "    .dataframe tbody tr th:only-of-type {\n",
              "        vertical-align: middle;\n",
              "    }\n",
              "\n",
              "    .dataframe tbody tr th {\n",
              "        vertical-align: top;\n",
              "    }\n",
              "\n",
              "    .dataframe thead th {\n",
              "        text-align: right;\n",
              "    }\n",
              "</style>\n",
              "<table border=\"1\" class=\"dataframe\">\n",
              "  <thead>\n",
              "    <tr style=\"text-align: right;\">\n",
              "      <th></th>\n",
              "      <th>age</th>\n",
              "      <th>workclass</th>\n",
              "      <th>education</th>\n",
              "      <th>education-num</th>\n",
              "      <th>marital-status</th>\n",
              "      <th>occupation</th>\n",
              "      <th>relationship</th>\n",
              "      <th>race</th>\n",
              "      <th>sex</th>\n",
              "      <th>capital-gain</th>\n",
              "      <th>capital-loss</th>\n",
              "      <th>hours-per-week</th>\n",
              "      <th>native-country</th>\n",
              "      <th>income</th>\n",
              "      <th>workclass-category</th>\n",
              "    </tr>\n",
              "  </thead>\n",
              "  <tbody>\n",
              "    <tr>\n",
              "      <th>2</th>\n",
              "      <td>38</td>\n",
              "      <td>Private</td>\n",
              "      <td>HS-grad</td>\n",
              "      <td>9</td>\n",
              "      <td>Not-married</td>\n",
              "      <td>Handlers-cleaners</td>\n",
              "      <td>Not-in-family</td>\n",
              "      <td>White</td>\n",
              "      <td>0</td>\n",
              "      <td>0</td>\n",
              "      <td>0</td>\n",
              "      <td>40</td>\n",
              "      <td>1</td>\n",
              "      <td>0</td>\n",
              "      <td>Private</td>\n",
              "    </tr>\n",
              "    <tr>\n",
              "      <th>19</th>\n",
              "      <td>43</td>\n",
              "      <td>Self-emp-not-inc</td>\n",
              "      <td>Masters</td>\n",
              "      <td>14</td>\n",
              "      <td>Not-married</td>\n",
              "      <td>Exec-managerial</td>\n",
              "      <td>Unmarried</td>\n",
              "      <td>White</td>\n",
              "      <td>1</td>\n",
              "      <td>0</td>\n",
              "      <td>0</td>\n",
              "      <td>45</td>\n",
              "      <td>1</td>\n",
              "      <td>1</td>\n",
              "      <td>Self-employed</td>\n",
              "    </tr>\n",
              "    <tr>\n",
              "      <th>21</th>\n",
              "      <td>54</td>\n",
              "      <td>Private</td>\n",
              "      <td>HS-grad</td>\n",
              "      <td>9</td>\n",
              "      <td>Not-married</td>\n",
              "      <td>Other-service</td>\n",
              "      <td>Unmarried</td>\n",
              "      <td>Black</td>\n",
              "      <td>1</td>\n",
              "      <td>0</td>\n",
              "      <td>0</td>\n",
              "      <td>20</td>\n",
              "      <td>1</td>\n",
              "      <td>0</td>\n",
              "      <td>Private</td>\n",
              "    </tr>\n",
              "    <tr>\n",
              "      <th>24</th>\n",
              "      <td>59</td>\n",
              "      <td>Private</td>\n",
              "      <td>HS-grad</td>\n",
              "      <td>9</td>\n",
              "      <td>Not-married</td>\n",
              "      <td>Tech-support</td>\n",
              "      <td>Unmarried</td>\n",
              "      <td>White</td>\n",
              "      <td>1</td>\n",
              "      <td>0</td>\n",
              "      <td>0</td>\n",
              "      <td>40</td>\n",
              "      <td>1</td>\n",
              "      <td>0</td>\n",
              "      <td>Private</td>\n",
              "    </tr>\n",
              "    <tr>\n",
              "      <th>28</th>\n",
              "      <td>39</td>\n",
              "      <td>Private</td>\n",
              "      <td>HS-grad</td>\n",
              "      <td>9</td>\n",
              "      <td>Not-married</td>\n",
              "      <td>Exec-managerial</td>\n",
              "      <td>Not-in-family</td>\n",
              "      <td>White</td>\n",
              "      <td>0</td>\n",
              "      <td>0</td>\n",
              "      <td>0</td>\n",
              "      <td>80</td>\n",
              "      <td>1</td>\n",
              "      <td>0</td>\n",
              "      <td>Private</td>\n",
              "    </tr>\n",
              "    <tr>\n",
              "      <th>...</th>\n",
              "      <td>...</td>\n",
              "      <td>...</td>\n",
              "      <td>...</td>\n",
              "      <td>...</td>\n",
              "      <td>...</td>\n",
              "      <td>...</td>\n",
              "      <td>...</td>\n",
              "      <td>...</td>\n",
              "      <td>...</td>\n",
              "      <td>...</td>\n",
              "      <td>...</td>\n",
              "      <td>...</td>\n",
              "      <td>...</td>\n",
              "      <td>...</td>\n",
              "      <td>...</td>\n",
              "    </tr>\n",
              "    <tr>\n",
              "      <th>48829</th>\n",
              "      <td>58</td>\n",
              "      <td>Private</td>\n",
              "      <td>Assoc-acdm</td>\n",
              "      <td>12</td>\n",
              "      <td>Not-married</td>\n",
              "      <td>Prof-specialty</td>\n",
              "      <td>Not-in-family</td>\n",
              "      <td>White</td>\n",
              "      <td>0</td>\n",
              "      <td>0</td>\n",
              "      <td>0</td>\n",
              "      <td>36</td>\n",
              "      <td>1</td>\n",
              "      <td>0</td>\n",
              "      <td>Private</td>\n",
              "    </tr>\n",
              "    <tr>\n",
              "      <th>48835</th>\n",
              "      <td>48</td>\n",
              "      <td>Local-gov</td>\n",
              "      <td>Masters</td>\n",
              "      <td>14</td>\n",
              "      <td>Not-married</td>\n",
              "      <td>Other-service</td>\n",
              "      <td>Not-in-family</td>\n",
              "      <td>White</td>\n",
              "      <td>0</td>\n",
              "      <td>0</td>\n",
              "      <td>0</td>\n",
              "      <td>40</td>\n",
              "      <td>1</td>\n",
              "      <td>0</td>\n",
              "      <td>Gov-employed</td>\n",
              "    </tr>\n",
              "    <tr>\n",
              "      <th>48837</th>\n",
              "      <td>39</td>\n",
              "      <td>Private</td>\n",
              "      <td>Bachelors</td>\n",
              "      <td>13</td>\n",
              "      <td>Not-married</td>\n",
              "      <td>Prof-specialty</td>\n",
              "      <td>Not-in-family</td>\n",
              "      <td>White</td>\n",
              "      <td>1</td>\n",
              "      <td>0</td>\n",
              "      <td>0</td>\n",
              "      <td>36</td>\n",
              "      <td>1</td>\n",
              "      <td>0</td>\n",
              "      <td>Private</td>\n",
              "    </tr>\n",
              "    <tr>\n",
              "      <th>48838</th>\n",
              "      <td>64</td>\n",
              "      <td>?</td>\n",
              "      <td>HS-grad</td>\n",
              "      <td>9</td>\n",
              "      <td>Not-married</td>\n",
              "      <td>?</td>\n",
              "      <td>Other-relative</td>\n",
              "      <td>Black</td>\n",
              "      <td>0</td>\n",
              "      <td>0</td>\n",
              "      <td>0</td>\n",
              "      <td>40</td>\n",
              "      <td>1</td>\n",
              "      <td>0</td>\n",
              "      <td>?</td>\n",
              "    </tr>\n",
              "    <tr>\n",
              "      <th>48840</th>\n",
              "      <td>44</td>\n",
              "      <td>Private</td>\n",
              "      <td>Bachelors</td>\n",
              "      <td>13</td>\n",
              "      <td>Not-married</td>\n",
              "      <td>Adm-clerical</td>\n",
              "      <td>Own-child</td>\n",
              "      <td>Asian-Pac-Islander</td>\n",
              "      <td>0</td>\n",
              "      <td>5455</td>\n",
              "      <td>0</td>\n",
              "      <td>40</td>\n",
              "      <td>1</td>\n",
              "      <td>0</td>\n",
              "      <td>Private</td>\n",
              "    </tr>\n",
              "  </tbody>\n",
              "</table>\n",
              "<p>9392 rows × 15 columns</p>\n",
              "</div>"
            ],
            "text/plain": [
              "       age          workclass  ... income  workclass-category\n",
              "2       38            Private  ...      0             Private\n",
              "19      43   Self-emp-not-inc  ...      1       Self-employed\n",
              "21      54            Private  ...      0             Private\n",
              "24      59            Private  ...      0             Private\n",
              "28      39            Private  ...      0             Private\n",
              "...    ...                ...  ...    ...                 ...\n",
              "48829   58            Private  ...      0             Private\n",
              "48835   48          Local-gov  ...      0        Gov-employed\n",
              "48837   39            Private  ...      0             Private\n",
              "48838   64                  ?  ...      0                   ?\n",
              "48840   44            Private  ...      0             Private\n",
              "\n",
              "[9392 rows x 15 columns]"
            ]
          },
          "metadata": {
            "tags": []
          },
          "execution_count": 26
        }
      ]
    },
    {
      "cell_type": "code",
      "metadata": {
        "id": "k4bYzEpKLVWE",
        "colab": {
          "base_uri": "https://localhost:8080/",
          "height": 166
        },
        "outputId": "a432d8ec-1d0d-4df7-ca36-9a3eefdaf598"
      },
      "source": [
        "pd.crosstab(df['income'], df['marital-status'], margins=True, normalize=True)"
      ],
      "execution_count": null,
      "outputs": [
        {
          "output_type": "execute_result",
          "data": {
            "text/html": [
              "<div>\n",
              "<style scoped>\n",
              "    .dataframe tbody tr th:only-of-type {\n",
              "        vertical-align: middle;\n",
              "    }\n",
              "\n",
              "    .dataframe tbody tr th {\n",
              "        vertical-align: top;\n",
              "    }\n",
              "\n",
              "    .dataframe thead th {\n",
              "        text-align: right;\n",
              "    }\n",
              "</style>\n",
              "<table border=\"1\" class=\"dataframe\">\n",
              "  <thead>\n",
              "    <tr style=\"text-align: right;\">\n",
              "      <th>marital-status</th>\n",
              "      <th>Married</th>\n",
              "      <th>Never-married</th>\n",
              "      <th>Not-married</th>\n",
              "      <th>All</th>\n",
              "    </tr>\n",
              "    <tr>\n",
              "      <th>income</th>\n",
              "      <th></th>\n",
              "      <th></th>\n",
              "      <th></th>\n",
              "      <th></th>\n",
              "    </tr>\n",
              "  </thead>\n",
              "  <tbody>\n",
              "    <tr>\n",
              "      <th>0</th>\n",
              "      <td>0.260782</td>\n",
              "      <td>0.302649</td>\n",
              "      <td>0.191613</td>\n",
              "      <td>0.755045</td>\n",
              "    </tr>\n",
              "    <tr>\n",
              "      <th>1</th>\n",
              "      <td>0.208432</td>\n",
              "      <td>0.016390</td>\n",
              "      <td>0.020133</td>\n",
              "      <td>0.244955</td>\n",
              "    </tr>\n",
              "    <tr>\n",
              "      <th>All</th>\n",
              "      <td>0.469214</td>\n",
              "      <td>0.319040</td>\n",
              "      <td>0.211746</td>\n",
              "      <td>1.000000</td>\n",
              "    </tr>\n",
              "  </tbody>\n",
              "</table>\n",
              "</div>"
            ],
            "text/plain": [
              "marital-status   Married  Never-married  Not-married       All\n",
              "income                                                        \n",
              "0               0.260782       0.302649     0.191613  0.755045\n",
              "1               0.208432       0.016390     0.020133  0.244955\n",
              "All             0.469214       0.319040     0.211746  1.000000"
            ]
          },
          "metadata": {
            "tags": []
          },
          "execution_count": 27
        }
      ]
    },
    {
      "cell_type": "markdown",
      "metadata": {
        "id": "59NCRNoAPjXi"
      },
      "source": [
        "Married people make up a majority of the dataset with 47%. I could split into married and not married but I think the categorization is okay for now. "
      ]
    },
    {
      "cell_type": "code",
      "metadata": {
        "id": "7qM2tb70LVju",
        "colab": {
          "base_uri": "https://localhost:8080/",
          "height": 101
        },
        "outputId": "3673a4db-1011-483b-de5e-9a18b16456ab"
      },
      "source": [
        "df['occupation'].unique()"
      ],
      "execution_count": null,
      "outputs": [
        {
          "output_type": "execute_result",
          "data": {
            "text/plain": [
              "array([' Adm-clerical', ' Exec-managerial', ' Handlers-cleaners',\n",
              "       ' Prof-specialty', ' Other-service', ' Sales', ' Craft-repair',\n",
              "       ' Transport-moving', ' Farming-fishing', ' Machine-op-inspct',\n",
              "       ' Tech-support', ' ?', ' Protective-serv', ' Armed-Forces',\n",
              "       ' Priv-house-serv'], dtype=object)"
            ]
          },
          "metadata": {
            "tags": []
          },
          "execution_count": 28
        }
      ]
    },
    {
      "cell_type": "code",
      "metadata": {
        "id": "DiNVZOHyLVuy",
        "colab": {
          "base_uri": "https://localhost:8080/",
          "height": 84
        },
        "outputId": "ff81a97f-69ad-4bb8-b57d-7d3747e65b71"
      },
      "source": [
        "df['education'].unique()"
      ],
      "execution_count": null,
      "outputs": [
        {
          "output_type": "execute_result",
          "data": {
            "text/plain": [
              "array([' Bachelors', ' HS-grad', ' 11th', ' Masters', ' 9th',\n",
              "       ' Some-college', ' Assoc-acdm', ' Assoc-voc', ' 7th-8th',\n",
              "       ' Doctorate', ' Prof-school', ' 5th-6th', ' 10th', ' 1st-4th',\n",
              "       ' Preschool', ' 12th'], dtype=object)"
            ]
          },
          "metadata": {
            "tags": []
          },
          "execution_count": 29
        }
      ]
    },
    {
      "cell_type": "code",
      "metadata": {
        "id": "HZKd1wjSLVxC",
        "colab": {
          "base_uri": "https://localhost:8080/",
          "height": 570
        },
        "outputId": "a5ab4b53-5395-4199-d0e0-302452e0ea32"
      },
      "source": [
        "def cat_education(value):\n",
        "  if value in (' 11th', ' 9th', ' 7th-8th', ' 5th-6th', ' 10th', ' 1st-4th', ' 12th', ' Preschool', ' Prof-school'):\n",
        "    value = 'No-highschool-grad'\n",
        "    return value\n",
        "  elif value in (' HS-grad', ' Some-college', ' Assoc-acdm', ' Assoc-voc'):\n",
        "    value = 'Some-college'\n",
        "    return value\n",
        "  else:\n",
        "    value = 'Higher-education'\n",
        "    return value\n",
        "\n",
        "df['education'] = df['education'].map(cat_education)\n",
        "df\n"
      ],
      "execution_count": null,
      "outputs": [
        {
          "output_type": "execute_result",
          "data": {
            "text/html": [
              "<div>\n",
              "<style scoped>\n",
              "    .dataframe tbody tr th:only-of-type {\n",
              "        vertical-align: middle;\n",
              "    }\n",
              "\n",
              "    .dataframe tbody tr th {\n",
              "        vertical-align: top;\n",
              "    }\n",
              "\n",
              "    .dataframe thead th {\n",
              "        text-align: right;\n",
              "    }\n",
              "</style>\n",
              "<table border=\"1\" class=\"dataframe\">\n",
              "  <thead>\n",
              "    <tr style=\"text-align: right;\">\n",
              "      <th></th>\n",
              "      <th>age</th>\n",
              "      <th>workclass</th>\n",
              "      <th>education</th>\n",
              "      <th>education-num</th>\n",
              "      <th>marital-status</th>\n",
              "      <th>occupation</th>\n",
              "      <th>relationship</th>\n",
              "      <th>race</th>\n",
              "      <th>sex</th>\n",
              "      <th>capital-gain</th>\n",
              "      <th>capital-loss</th>\n",
              "      <th>hours-per-week</th>\n",
              "      <th>native-country</th>\n",
              "      <th>income</th>\n",
              "      <th>workclass-category</th>\n",
              "    </tr>\n",
              "  </thead>\n",
              "  <tbody>\n",
              "    <tr>\n",
              "      <th>0</th>\n",
              "      <td>39</td>\n",
              "      <td>State-gov</td>\n",
              "      <td>Higher-education</td>\n",
              "      <td>13</td>\n",
              "      <td>Never-married</td>\n",
              "      <td>Adm-clerical</td>\n",
              "      <td>Not-in-family</td>\n",
              "      <td>White</td>\n",
              "      <td>0</td>\n",
              "      <td>2174</td>\n",
              "      <td>0</td>\n",
              "      <td>40</td>\n",
              "      <td>1</td>\n",
              "      <td>0</td>\n",
              "      <td>Gov-employed</td>\n",
              "    </tr>\n",
              "    <tr>\n",
              "      <th>1</th>\n",
              "      <td>50</td>\n",
              "      <td>Self-emp-not-inc</td>\n",
              "      <td>Higher-education</td>\n",
              "      <td>13</td>\n",
              "      <td>Married</td>\n",
              "      <td>Exec-managerial</td>\n",
              "      <td>Husband</td>\n",
              "      <td>White</td>\n",
              "      <td>0</td>\n",
              "      <td>0</td>\n",
              "      <td>0</td>\n",
              "      <td>13</td>\n",
              "      <td>1</td>\n",
              "      <td>0</td>\n",
              "      <td>Self-employed</td>\n",
              "    </tr>\n",
              "    <tr>\n",
              "      <th>2</th>\n",
              "      <td>38</td>\n",
              "      <td>Private</td>\n",
              "      <td>Some-college</td>\n",
              "      <td>9</td>\n",
              "      <td>Not-married</td>\n",
              "      <td>Handlers-cleaners</td>\n",
              "      <td>Not-in-family</td>\n",
              "      <td>White</td>\n",
              "      <td>0</td>\n",
              "      <td>0</td>\n",
              "      <td>0</td>\n",
              "      <td>40</td>\n",
              "      <td>1</td>\n",
              "      <td>0</td>\n",
              "      <td>Private</td>\n",
              "    </tr>\n",
              "    <tr>\n",
              "      <th>3</th>\n",
              "      <td>53</td>\n",
              "      <td>Private</td>\n",
              "      <td>No-highschool-grad</td>\n",
              "      <td>7</td>\n",
              "      <td>Married</td>\n",
              "      <td>Handlers-cleaners</td>\n",
              "      <td>Husband</td>\n",
              "      <td>Black</td>\n",
              "      <td>0</td>\n",
              "      <td>0</td>\n",
              "      <td>0</td>\n",
              "      <td>40</td>\n",
              "      <td>1</td>\n",
              "      <td>0</td>\n",
              "      <td>Private</td>\n",
              "    </tr>\n",
              "    <tr>\n",
              "      <th>4</th>\n",
              "      <td>28</td>\n",
              "      <td>Private</td>\n",
              "      <td>Higher-education</td>\n",
              "      <td>13</td>\n",
              "      <td>Married</td>\n",
              "      <td>Prof-specialty</td>\n",
              "      <td>Wife</td>\n",
              "      <td>Black</td>\n",
              "      <td>1</td>\n",
              "      <td>0</td>\n",
              "      <td>0</td>\n",
              "      <td>40</td>\n",
              "      <td>0</td>\n",
              "      <td>0</td>\n",
              "      <td>Private</td>\n",
              "    </tr>\n",
              "    <tr>\n",
              "      <th>...</th>\n",
              "      <td>...</td>\n",
              "      <td>...</td>\n",
              "      <td>...</td>\n",
              "      <td>...</td>\n",
              "      <td>...</td>\n",
              "      <td>...</td>\n",
              "      <td>...</td>\n",
              "      <td>...</td>\n",
              "      <td>...</td>\n",
              "      <td>...</td>\n",
              "      <td>...</td>\n",
              "      <td>...</td>\n",
              "      <td>...</td>\n",
              "      <td>...</td>\n",
              "      <td>...</td>\n",
              "    </tr>\n",
              "    <tr>\n",
              "      <th>48837</th>\n",
              "      <td>39</td>\n",
              "      <td>Private</td>\n",
              "      <td>Higher-education</td>\n",
              "      <td>13</td>\n",
              "      <td>Not-married</td>\n",
              "      <td>Prof-specialty</td>\n",
              "      <td>Not-in-family</td>\n",
              "      <td>White</td>\n",
              "      <td>1</td>\n",
              "      <td>0</td>\n",
              "      <td>0</td>\n",
              "      <td>36</td>\n",
              "      <td>1</td>\n",
              "      <td>0</td>\n",
              "      <td>Private</td>\n",
              "    </tr>\n",
              "    <tr>\n",
              "      <th>48838</th>\n",
              "      <td>64</td>\n",
              "      <td>?</td>\n",
              "      <td>Some-college</td>\n",
              "      <td>9</td>\n",
              "      <td>Not-married</td>\n",
              "      <td>?</td>\n",
              "      <td>Other-relative</td>\n",
              "      <td>Black</td>\n",
              "      <td>0</td>\n",
              "      <td>0</td>\n",
              "      <td>0</td>\n",
              "      <td>40</td>\n",
              "      <td>1</td>\n",
              "      <td>0</td>\n",
              "      <td>?</td>\n",
              "    </tr>\n",
              "    <tr>\n",
              "      <th>48839</th>\n",
              "      <td>38</td>\n",
              "      <td>Private</td>\n",
              "      <td>Higher-education</td>\n",
              "      <td>13</td>\n",
              "      <td>Married</td>\n",
              "      <td>Prof-specialty</td>\n",
              "      <td>Husband</td>\n",
              "      <td>White</td>\n",
              "      <td>0</td>\n",
              "      <td>0</td>\n",
              "      <td>0</td>\n",
              "      <td>50</td>\n",
              "      <td>1</td>\n",
              "      <td>0</td>\n",
              "      <td>Private</td>\n",
              "    </tr>\n",
              "    <tr>\n",
              "      <th>48840</th>\n",
              "      <td>44</td>\n",
              "      <td>Private</td>\n",
              "      <td>Higher-education</td>\n",
              "      <td>13</td>\n",
              "      <td>Not-married</td>\n",
              "      <td>Adm-clerical</td>\n",
              "      <td>Own-child</td>\n",
              "      <td>Asian-Pac-Islander</td>\n",
              "      <td>0</td>\n",
              "      <td>5455</td>\n",
              "      <td>0</td>\n",
              "      <td>40</td>\n",
              "      <td>1</td>\n",
              "      <td>0</td>\n",
              "      <td>Private</td>\n",
              "    </tr>\n",
              "    <tr>\n",
              "      <th>48841</th>\n",
              "      <td>35</td>\n",
              "      <td>Self-emp-inc</td>\n",
              "      <td>Higher-education</td>\n",
              "      <td>13</td>\n",
              "      <td>Married</td>\n",
              "      <td>Exec-managerial</td>\n",
              "      <td>Husband</td>\n",
              "      <td>White</td>\n",
              "      <td>0</td>\n",
              "      <td>0</td>\n",
              "      <td>0</td>\n",
              "      <td>60</td>\n",
              "      <td>1</td>\n",
              "      <td>1</td>\n",
              "      <td>Self-employed</td>\n",
              "    </tr>\n",
              "  </tbody>\n",
              "</table>\n",
              "<p>44355 rows × 15 columns</p>\n",
              "</div>"
            ],
            "text/plain": [
              "       age          workclass  ... income  workclass-category\n",
              "0       39          State-gov  ...      0        Gov-employed\n",
              "1       50   Self-emp-not-inc  ...      0       Self-employed\n",
              "2       38            Private  ...      0             Private\n",
              "3       53            Private  ...      0             Private\n",
              "4       28            Private  ...      0             Private\n",
              "...    ...                ...  ...    ...                 ...\n",
              "48837   39            Private  ...      0             Private\n",
              "48838   64                  ?  ...      0                   ?\n",
              "48839   38            Private  ...      0             Private\n",
              "48840   44            Private  ...      0             Private\n",
              "48841   35       Self-emp-inc  ...      1       Self-employed\n",
              "\n",
              "[44355 rows x 15 columns]"
            ]
          },
          "metadata": {
            "tags": []
          },
          "execution_count": 30
        }
      ]
    },
    {
      "cell_type": "markdown",
      "metadata": {
        "id": "BSwgLqZc4Clp"
      },
      "source": [
        "Here I have condensed into higher education, some college including highschool grads, and no highschool grad as anyone still in highschool or grade schoolers."
      ]
    },
    {
      "cell_type": "code",
      "metadata": {
        "id": "q_JyJ1glMylh",
        "colab": {
          "base_uri": "https://localhost:8080/",
          "height": 166
        },
        "outputId": "1afc96ac-8d4d-4812-b9a1-bcc992fc7991"
      },
      "source": [
        "pd.crosstab(df['income'], df['education'], margins=True, normalize=True)"
      ],
      "execution_count": null,
      "outputs": [
        {
          "output_type": "execute_result",
          "data": {
            "text/html": [
              "<div>\n",
              "<style scoped>\n",
              "    .dataframe tbody tr th:only-of-type {\n",
              "        vertical-align: middle;\n",
              "    }\n",
              "\n",
              "    .dataframe tbody tr th {\n",
              "        vertical-align: top;\n",
              "    }\n",
              "\n",
              "    .dataframe thead th {\n",
              "        text-align: right;\n",
              "    }\n",
              "</style>\n",
              "<table border=\"1\" class=\"dataframe\">\n",
              "  <thead>\n",
              "    <tr style=\"text-align: right;\">\n",
              "      <th>education</th>\n",
              "      <th>Higher-education</th>\n",
              "      <th>No-highschool-grad</th>\n",
              "      <th>Some-college</th>\n",
              "      <th>All</th>\n",
              "    </tr>\n",
              "    <tr>\n",
              "      <th>income</th>\n",
              "      <th></th>\n",
              "      <th></th>\n",
              "      <th></th>\n",
              "      <th></th>\n",
              "    </tr>\n",
              "  </thead>\n",
              "  <tbody>\n",
              "    <tr>\n",
              "      <th>0</th>\n",
              "      <td>0.127584</td>\n",
              "      <td>0.134709</td>\n",
              "      <td>0.492752</td>\n",
              "      <td>0.755045</td>\n",
              "    </tr>\n",
              "    <tr>\n",
              "      <th>1</th>\n",
              "      <td>0.108421</td>\n",
              "      <td>0.021801</td>\n",
              "      <td>0.114733</td>\n",
              "      <td>0.244955</td>\n",
              "    </tr>\n",
              "    <tr>\n",
              "      <th>All</th>\n",
              "      <td>0.236005</td>\n",
              "      <td>0.156510</td>\n",
              "      <td>0.607485</td>\n",
              "      <td>1.000000</td>\n",
              "    </tr>\n",
              "  </tbody>\n",
              "</table>\n",
              "</div>"
            ],
            "text/plain": [
              "education  Higher-education  No-highschool-grad  Some-college       All\n",
              "income                                                                 \n",
              "0                  0.127584            0.134709      0.492752  0.755045\n",
              "1                  0.108421            0.021801      0.114733  0.244955\n",
              "All                0.236005            0.156510      0.607485  1.000000"
            ]
          },
          "metadata": {
            "tags": []
          },
          "execution_count": 31
        }
      ]
    },
    {
      "cell_type": "code",
      "metadata": {
        "id": "5VOWWnfr4P_4",
        "colab": {
          "base_uri": "https://localhost:8080/",
          "height": 50
        },
        "outputId": "aaa5b990-0692-4de5-d599-d3355d8e302d"
      },
      "source": [
        "df['relationship'].unique()"
      ],
      "execution_count": null,
      "outputs": [
        {
          "output_type": "execute_result",
          "data": {
            "text/plain": [
              "array([' Not-in-family', ' Husband', ' Wife', ' Own-child', ' Unmarried',\n",
              "       ' Other-relative'], dtype=object)"
            ]
          },
          "metadata": {
            "tags": []
          },
          "execution_count": 32
        }
      ]
    },
    {
      "cell_type": "code",
      "metadata": {
        "id": "142uXfWALWCf",
        "colab": {
          "base_uri": "https://localhost:8080/",
          "height": 34
        },
        "outputId": "9857b0d1-eb71-4a45-a22b-d1f4069d5b63"
      },
      "source": [
        "def rel_change(value):\n",
        "  if value in (' Not-in-family', ' Unmarried'):\n",
        "    value = 0\n",
        "    return value\n",
        "  else:\n",
        "    value = 1\n",
        "    return value\n",
        "\n",
        "df['relationship'] = df['relationship'].map(rel_change)\n",
        "df['relationship'].unique()"
      ],
      "execution_count": null,
      "outputs": [
        {
          "output_type": "execute_result",
          "data": {
            "text/plain": [
              "array([0, 1])"
            ]
          },
          "metadata": {
            "tags": []
          },
          "execution_count": 33
        }
      ]
    },
    {
      "cell_type": "markdown",
      "metadata": {
        "id": "BoliV7u46gow"
      },
      "source": [
        "Stating whether they are alone based on not being in a family or being unmarried. 0 will for alone people and 1 will be for not alone people."
      ]
    },
    {
      "cell_type": "code",
      "metadata": {
        "id": "SNxILAVaLWN8",
        "colab": {
          "base_uri": "https://localhost:8080/",
          "height": 570
        },
        "outputId": "3ed3f0ec-aa78-4fa3-ae01-aa34a4fcb7a5"
      },
      "source": [
        "def cat_race(value):\n",
        "  if value == ' White':\n",
        "    return 0\n",
        "  else:\n",
        "    value = 'Minority'\n",
        "    return 1\n",
        "\n",
        "df['race'] = df['race'].map(cat_race)\n",
        "df"
      ],
      "execution_count": null,
      "outputs": [
        {
          "output_type": "execute_result",
          "data": {
            "text/html": [
              "<div>\n",
              "<style scoped>\n",
              "    .dataframe tbody tr th:only-of-type {\n",
              "        vertical-align: middle;\n",
              "    }\n",
              "\n",
              "    .dataframe tbody tr th {\n",
              "        vertical-align: top;\n",
              "    }\n",
              "\n",
              "    .dataframe thead th {\n",
              "        text-align: right;\n",
              "    }\n",
              "</style>\n",
              "<table border=\"1\" class=\"dataframe\">\n",
              "  <thead>\n",
              "    <tr style=\"text-align: right;\">\n",
              "      <th></th>\n",
              "      <th>age</th>\n",
              "      <th>workclass</th>\n",
              "      <th>education</th>\n",
              "      <th>education-num</th>\n",
              "      <th>marital-status</th>\n",
              "      <th>occupation</th>\n",
              "      <th>relationship</th>\n",
              "      <th>race</th>\n",
              "      <th>sex</th>\n",
              "      <th>capital-gain</th>\n",
              "      <th>capital-loss</th>\n",
              "      <th>hours-per-week</th>\n",
              "      <th>native-country</th>\n",
              "      <th>income</th>\n",
              "      <th>workclass-category</th>\n",
              "    </tr>\n",
              "  </thead>\n",
              "  <tbody>\n",
              "    <tr>\n",
              "      <th>0</th>\n",
              "      <td>39</td>\n",
              "      <td>State-gov</td>\n",
              "      <td>Higher-education</td>\n",
              "      <td>13</td>\n",
              "      <td>Never-married</td>\n",
              "      <td>Adm-clerical</td>\n",
              "      <td>0</td>\n",
              "      <td>0</td>\n",
              "      <td>0</td>\n",
              "      <td>2174</td>\n",
              "      <td>0</td>\n",
              "      <td>40</td>\n",
              "      <td>1</td>\n",
              "      <td>0</td>\n",
              "      <td>Gov-employed</td>\n",
              "    </tr>\n",
              "    <tr>\n",
              "      <th>1</th>\n",
              "      <td>50</td>\n",
              "      <td>Self-emp-not-inc</td>\n",
              "      <td>Higher-education</td>\n",
              "      <td>13</td>\n",
              "      <td>Married</td>\n",
              "      <td>Exec-managerial</td>\n",
              "      <td>1</td>\n",
              "      <td>0</td>\n",
              "      <td>0</td>\n",
              "      <td>0</td>\n",
              "      <td>0</td>\n",
              "      <td>13</td>\n",
              "      <td>1</td>\n",
              "      <td>0</td>\n",
              "      <td>Self-employed</td>\n",
              "    </tr>\n",
              "    <tr>\n",
              "      <th>2</th>\n",
              "      <td>38</td>\n",
              "      <td>Private</td>\n",
              "      <td>Some-college</td>\n",
              "      <td>9</td>\n",
              "      <td>Not-married</td>\n",
              "      <td>Handlers-cleaners</td>\n",
              "      <td>0</td>\n",
              "      <td>0</td>\n",
              "      <td>0</td>\n",
              "      <td>0</td>\n",
              "      <td>0</td>\n",
              "      <td>40</td>\n",
              "      <td>1</td>\n",
              "      <td>0</td>\n",
              "      <td>Private</td>\n",
              "    </tr>\n",
              "    <tr>\n",
              "      <th>3</th>\n",
              "      <td>53</td>\n",
              "      <td>Private</td>\n",
              "      <td>No-highschool-grad</td>\n",
              "      <td>7</td>\n",
              "      <td>Married</td>\n",
              "      <td>Handlers-cleaners</td>\n",
              "      <td>1</td>\n",
              "      <td>1</td>\n",
              "      <td>0</td>\n",
              "      <td>0</td>\n",
              "      <td>0</td>\n",
              "      <td>40</td>\n",
              "      <td>1</td>\n",
              "      <td>0</td>\n",
              "      <td>Private</td>\n",
              "    </tr>\n",
              "    <tr>\n",
              "      <th>4</th>\n",
              "      <td>28</td>\n",
              "      <td>Private</td>\n",
              "      <td>Higher-education</td>\n",
              "      <td>13</td>\n",
              "      <td>Married</td>\n",
              "      <td>Prof-specialty</td>\n",
              "      <td>1</td>\n",
              "      <td>1</td>\n",
              "      <td>1</td>\n",
              "      <td>0</td>\n",
              "      <td>0</td>\n",
              "      <td>40</td>\n",
              "      <td>0</td>\n",
              "      <td>0</td>\n",
              "      <td>Private</td>\n",
              "    </tr>\n",
              "    <tr>\n",
              "      <th>...</th>\n",
              "      <td>...</td>\n",
              "      <td>...</td>\n",
              "      <td>...</td>\n",
              "      <td>...</td>\n",
              "      <td>...</td>\n",
              "      <td>...</td>\n",
              "      <td>...</td>\n",
              "      <td>...</td>\n",
              "      <td>...</td>\n",
              "      <td>...</td>\n",
              "      <td>...</td>\n",
              "      <td>...</td>\n",
              "      <td>...</td>\n",
              "      <td>...</td>\n",
              "      <td>...</td>\n",
              "    </tr>\n",
              "    <tr>\n",
              "      <th>48837</th>\n",
              "      <td>39</td>\n",
              "      <td>Private</td>\n",
              "      <td>Higher-education</td>\n",
              "      <td>13</td>\n",
              "      <td>Not-married</td>\n",
              "      <td>Prof-specialty</td>\n",
              "      <td>0</td>\n",
              "      <td>0</td>\n",
              "      <td>1</td>\n",
              "      <td>0</td>\n",
              "      <td>0</td>\n",
              "      <td>36</td>\n",
              "      <td>1</td>\n",
              "      <td>0</td>\n",
              "      <td>Private</td>\n",
              "    </tr>\n",
              "    <tr>\n",
              "      <th>48838</th>\n",
              "      <td>64</td>\n",
              "      <td>?</td>\n",
              "      <td>Some-college</td>\n",
              "      <td>9</td>\n",
              "      <td>Not-married</td>\n",
              "      <td>?</td>\n",
              "      <td>1</td>\n",
              "      <td>1</td>\n",
              "      <td>0</td>\n",
              "      <td>0</td>\n",
              "      <td>0</td>\n",
              "      <td>40</td>\n",
              "      <td>1</td>\n",
              "      <td>0</td>\n",
              "      <td>?</td>\n",
              "    </tr>\n",
              "    <tr>\n",
              "      <th>48839</th>\n",
              "      <td>38</td>\n",
              "      <td>Private</td>\n",
              "      <td>Higher-education</td>\n",
              "      <td>13</td>\n",
              "      <td>Married</td>\n",
              "      <td>Prof-specialty</td>\n",
              "      <td>1</td>\n",
              "      <td>0</td>\n",
              "      <td>0</td>\n",
              "      <td>0</td>\n",
              "      <td>0</td>\n",
              "      <td>50</td>\n",
              "      <td>1</td>\n",
              "      <td>0</td>\n",
              "      <td>Private</td>\n",
              "    </tr>\n",
              "    <tr>\n",
              "      <th>48840</th>\n",
              "      <td>44</td>\n",
              "      <td>Private</td>\n",
              "      <td>Higher-education</td>\n",
              "      <td>13</td>\n",
              "      <td>Not-married</td>\n",
              "      <td>Adm-clerical</td>\n",
              "      <td>1</td>\n",
              "      <td>1</td>\n",
              "      <td>0</td>\n",
              "      <td>5455</td>\n",
              "      <td>0</td>\n",
              "      <td>40</td>\n",
              "      <td>1</td>\n",
              "      <td>0</td>\n",
              "      <td>Private</td>\n",
              "    </tr>\n",
              "    <tr>\n",
              "      <th>48841</th>\n",
              "      <td>35</td>\n",
              "      <td>Self-emp-inc</td>\n",
              "      <td>Higher-education</td>\n",
              "      <td>13</td>\n",
              "      <td>Married</td>\n",
              "      <td>Exec-managerial</td>\n",
              "      <td>1</td>\n",
              "      <td>0</td>\n",
              "      <td>0</td>\n",
              "      <td>0</td>\n",
              "      <td>0</td>\n",
              "      <td>60</td>\n",
              "      <td>1</td>\n",
              "      <td>1</td>\n",
              "      <td>Self-employed</td>\n",
              "    </tr>\n",
              "  </tbody>\n",
              "</table>\n",
              "<p>44355 rows × 15 columns</p>\n",
              "</div>"
            ],
            "text/plain": [
              "       age          workclass  ... income  workclass-category\n",
              "0       39          State-gov  ...      0        Gov-employed\n",
              "1       50   Self-emp-not-inc  ...      0       Self-employed\n",
              "2       38            Private  ...      0             Private\n",
              "3       53            Private  ...      0             Private\n",
              "4       28            Private  ...      0             Private\n",
              "...    ...                ...  ...    ...                 ...\n",
              "48837   39            Private  ...      0             Private\n",
              "48838   64                  ?  ...      0                   ?\n",
              "48839   38            Private  ...      0             Private\n",
              "48840   44            Private  ...      0             Private\n",
              "48841   35       Self-emp-inc  ...      1       Self-employed\n",
              "\n",
              "[44355 rows x 15 columns]"
            ]
          },
          "metadata": {
            "tags": []
          },
          "execution_count": 34
        }
      ]
    },
    {
      "cell_type": "markdown",
      "metadata": {
        "id": "GzOtAr5tjzru"
      },
      "source": [
        "0 will be for white and 1 will be for minority."
      ]
    },
    {
      "cell_type": "code",
      "metadata": {
        "id": "ykwGqHiDLWJT",
        "colab": {
          "base_uri": "https://localhost:8080/",
          "height": 166
        },
        "outputId": "ebcf790e-6e6c-49a3-e018-9b2e72b0f36f"
      },
      "source": [
        "pd.crosstab(df['income'], df['race'], margins=True, normalize=True)"
      ],
      "execution_count": null,
      "outputs": [
        {
          "output_type": "execute_result",
          "data": {
            "text/html": [
              "<div>\n",
              "<style scoped>\n",
              "    .dataframe tbody tr th:only-of-type {\n",
              "        vertical-align: middle;\n",
              "    }\n",
              "\n",
              "    .dataframe tbody tr th {\n",
              "        vertical-align: top;\n",
              "    }\n",
              "\n",
              "    .dataframe thead th {\n",
              "        text-align: right;\n",
              "    }\n",
              "</style>\n",
              "<table border=\"1\" class=\"dataframe\">\n",
              "  <thead>\n",
              "    <tr style=\"text-align: right;\">\n",
              "      <th>race</th>\n",
              "      <th>0</th>\n",
              "      <th>1</th>\n",
              "      <th>All</th>\n",
              "    </tr>\n",
              "    <tr>\n",
              "      <th>income</th>\n",
              "      <th></th>\n",
              "      <th></th>\n",
              "      <th></th>\n",
              "    </tr>\n",
              "  </thead>\n",
              "  <tbody>\n",
              "    <tr>\n",
              "      <th>0</th>\n",
              "      <td>0.621982</td>\n",
              "      <td>0.133063</td>\n",
              "      <td>0.755045</td>\n",
              "    </tr>\n",
              "    <tr>\n",
              "      <th>1</th>\n",
              "      <td>0.220674</td>\n",
              "      <td>0.024281</td>\n",
              "      <td>0.244955</td>\n",
              "    </tr>\n",
              "    <tr>\n",
              "      <th>All</th>\n",
              "      <td>0.842656</td>\n",
              "      <td>0.157344</td>\n",
              "      <td>1.000000</td>\n",
              "    </tr>\n",
              "  </tbody>\n",
              "</table>\n",
              "</div>"
            ],
            "text/plain": [
              "race           0         1       All\n",
              "income                              \n",
              "0       0.621982  0.133063  0.755045\n",
              "1       0.220674  0.024281  0.244955\n",
              "All     0.842656  0.157344  1.000000"
            ]
          },
          "metadata": {
            "tags": []
          },
          "execution_count": 35
        }
      ]
    },
    {
      "cell_type": "markdown",
      "metadata": {
        "id": "WsZJ0NAL7jLj"
      },
      "source": [
        "Condensed into white and minority. Minorities only make up roughly 15% of the dataset. "
      ]
    },
    {
      "cell_type": "code",
      "metadata": {
        "id": "Tdrs24RO8eb1",
        "colab": {
          "base_uri": "https://localhost:8080/",
          "height": 101
        },
        "outputId": "02c8d797-84b5-4cb3-8265-1980e14ab285"
      },
      "source": [
        "df['education'].describe()"
      ],
      "execution_count": null,
      "outputs": [
        {
          "output_type": "execute_result",
          "data": {
            "text/plain": [
              "count            44355\n",
              "unique               3\n",
              "top       Some-college\n",
              "freq             26945\n",
              "Name: education, dtype: object"
            ]
          },
          "metadata": {
            "tags": []
          },
          "execution_count": 36
        }
      ]
    },
    {
      "cell_type": "code",
      "metadata": {
        "id": "lJsQbguF9Bge",
        "colab": {
          "base_uri": "https://localhost:8080/",
          "height": 67
        },
        "outputId": "2f00c12f-fd81-4eb2-fe40-97f41ba28009"
      },
      "source": [
        "df['sex'].value_counts()"
      ],
      "execution_count": null,
      "outputs": [
        {
          "output_type": "execute_result",
          "data": {
            "text/plain": [
              "0    29367\n",
              "1    14988\n",
              "Name: sex, dtype: int64"
            ]
          },
          "metadata": {
            "tags": []
          },
          "execution_count": 37
        }
      ]
    },
    {
      "cell_type": "code",
      "metadata": {
        "id": "HblQBuTK0hP9",
        "colab": {
          "base_uri": "https://localhost:8080/",
          "height": 101
        },
        "outputId": "87ea54f1-9b37-4c1e-a020-a6dc1197db00"
      },
      "source": [
        "df.columns"
      ],
      "execution_count": null,
      "outputs": [
        {
          "output_type": "execute_result",
          "data": {
            "text/plain": [
              "Index(['age', 'workclass', 'education', 'education-num', 'marital-status',\n",
              "       'occupation', 'relationship', 'race', 'sex', 'capital-gain',\n",
              "       'capital-loss', 'hours-per-week', 'native-country', 'income',\n",
              "       'workclass-category'],\n",
              "      dtype='object')"
            ]
          },
          "metadata": {
            "tags": []
          },
          "execution_count": 38
        }
      ]
    },
    {
      "cell_type": "code",
      "metadata": {
        "id": "CjfjQ4P_bmrI"
      },
      "source": [
        "my_colors = ['purple','g','b']"
      ],
      "execution_count": null,
      "outputs": []
    },
    {
      "cell_type": "code",
      "metadata": {
        "id": "RuleW8VBZ99O",
        "colab": {
          "base_uri": "https://localhost:8080/",
          "height": 298
        },
        "outputId": "6e310d89-0150-4e9c-de4b-f7a9981348e5"
      },
      "source": [
        "df['marital-status'].value_counts().plot(kind='barh', color=my_colors)\n",
        "plt.title('Marriage Distribution')"
      ],
      "execution_count": null,
      "outputs": [
        {
          "output_type": "execute_result",
          "data": {
            "text/plain": [
              "Text(0.5, 1.0, 'Marriage Distribution')"
            ]
          },
          "metadata": {
            "tags": []
          },
          "execution_count": 40
        },
        {
          "output_type": "display_data",
          "data": {
            "image/png": "[encoded data removed]",
            "text/plain": [
              "<Figure size 432x288 with 1 Axes>"
            ]
          },
          "metadata": {
            "tags": [],
            "needs_background": "light"
          }
        }
      ]
    },
    {
      "cell_type": "markdown",
      "metadata": {
        "id": "9wTGl39Q0GBY"
      },
      "source": [
        "# Data Normalization of continuous variables"
      ]
    },
    {
      "cell_type": "code",
      "metadata": {
        "id": "zwvnwIHU0Lyd"
      },
      "source": [
        "norm_cols = ['age', 'education-num', 'capital-gain', 'capital-loss', 'hours-per-week']  # https://stackoverflow.com/questions/28576540/how-can-i-normalize-the-data-in-a-range-of-columns-in-my-pandas-dataframe\n",
        "df[norm_cols] = df[norm_cols].apply(lambda x: (x - x.min()) / (x.max() - x.min())) # use of lambda function to normalize non-categorical data"
      ],
      "execution_count": null,
      "outputs": []
    },
    {
      "cell_type": "markdown",
      "metadata": {
        "id": "STHLTw6E7rI1"
      },
      "source": [
        "## Data Cleaning Recap\n",
        "\n",
        "I have made changes to all categorical predictors so it would be easier to do one hot encoding with the exception of occupation. Some info on the dataset:\n",
        "\n",
        "\n",
        "*   The dataset consists of mostly white males, married individuals, people working in a private sector, and people who have done some college.\n",
        "*   Minorities only make up 15% of the dataset and women make up about 33%.\n",
        "\n"
      ]
    },
    {
      "cell_type": "markdown",
      "metadata": {
        "id": "1l71gGcw9dka"
      },
      "source": [
        "## Start of Logistic Regression\n",
        "We can now start with working towards getting the model. The first step will be to hot encode everything."
      ]
    },
    {
      "cell_type": "code",
      "metadata": {
        "id": "rkhdkWjuiC8N",
        "colab": {
          "base_uri": "https://localhost:8080/",
          "height": 570
        },
        "outputId": "d027062c-5a74-4890-c99a-7a735451d457"
      },
      "source": [
        "df"
      ],
      "execution_count": null,
      "outputs": [
        {
          "output_type": "execute_result",
          "data": {
            "text/html": [
              "<div>\n",
              "<style scoped>\n",
              "    .dataframe tbody tr th:only-of-type {\n",
              "        vertical-align: middle;\n",
              "    }\n",
              "\n",
              "    .dataframe tbody tr th {\n",
              "        vertical-align: top;\n",
              "    }\n",
              "\n",
              "    .dataframe thead th {\n",
              "        text-align: right;\n",
              "    }\n",
              "</style>\n",
              "<table border=\"1\" class=\"dataframe\">\n",
              "  <thead>\n",
              "    <tr style=\"text-align: right;\">\n",
              "      <th></th>\n",
              "      <th>age</th>\n",
              "      <th>workclass</th>\n",
              "      <th>education</th>\n",
              "      <th>education-num</th>\n",
              "      <th>marital-status</th>\n",
              "      <th>occupation</th>\n",
              "      <th>relationship</th>\n",
              "      <th>race</th>\n",
              "      <th>sex</th>\n",
              "      <th>capital-gain</th>\n",
              "      <th>capital-loss</th>\n",
              "      <th>hours-per-week</th>\n",
              "      <th>native-country</th>\n",
              "      <th>income</th>\n",
              "      <th>workclass-category</th>\n",
              "    </tr>\n",
              "  </thead>\n",
              "  <tbody>\n",
              "    <tr>\n",
              "      <th>0</th>\n",
              "      <td>0.301370</td>\n",
              "      <td>State-gov</td>\n",
              "      <td>Higher-education</td>\n",
              "      <td>0.800000</td>\n",
              "      <td>Never-married</td>\n",
              "      <td>Adm-clerical</td>\n",
              "      <td>0</td>\n",
              "      <td>0</td>\n",
              "      <td>0</td>\n",
              "      <td>0.021740</td>\n",
              "      <td>0.0</td>\n",
              "      <td>0.397959</td>\n",
              "      <td>1</td>\n",
              "      <td>0</td>\n",
              "      <td>Gov-employed</td>\n",
              "    </tr>\n",
              "    <tr>\n",
              "      <th>1</th>\n",
              "      <td>0.452055</td>\n",
              "      <td>Self-emp-not-inc</td>\n",
              "      <td>Higher-education</td>\n",
              "      <td>0.800000</td>\n",
              "      <td>Married</td>\n",
              "      <td>Exec-managerial</td>\n",
              "      <td>1</td>\n",
              "      <td>0</td>\n",
              "      <td>0</td>\n",
              "      <td>0.000000</td>\n",
              "      <td>0.0</td>\n",
              "      <td>0.122449</td>\n",
              "      <td>1</td>\n",
              "      <td>0</td>\n",
              "      <td>Self-employed</td>\n",
              "    </tr>\n",
              "    <tr>\n",
              "      <th>2</th>\n",
              "      <td>0.287671</td>\n",
              "      <td>Private</td>\n",
              "      <td>Some-college</td>\n",
              "      <td>0.533333</td>\n",
              "      <td>Not-married</td>\n",
              "      <td>Handlers-cleaners</td>\n",
              "      <td>0</td>\n",
              "      <td>0</td>\n",
              "      <td>0</td>\n",
              "      <td>0.000000</td>\n",
              "      <td>0.0</td>\n",
              "      <td>0.397959</td>\n",
              "      <td>1</td>\n",
              "      <td>0</td>\n",
              "      <td>Private</td>\n",
              "    </tr>\n",
              "    <tr>\n",
              "      <th>3</th>\n",
              "      <td>0.493151</td>\n",
              "      <td>Private</td>\n",
              "      <td>No-highschool-grad</td>\n",
              "      <td>0.400000</td>\n",
              "      <td>Married</td>\n",
              "      <td>Handlers-cleaners</td>\n",
              "      <td>1</td>\n",
              "      <td>1</td>\n",
              "      <td>0</td>\n",
              "      <td>0.000000</td>\n",
              "      <td>0.0</td>\n",
              "      <td>0.397959</td>\n",
              "      <td>1</td>\n",
              "      <td>0</td>\n",
              "      <td>Private</td>\n",
              "    </tr>\n",
              "    <tr>\n",
              "      <th>4</th>\n",
              "      <td>0.150685</td>\n",
              "      <td>Private</td>\n",
              "      <td>Higher-education</td>\n",
              "      <td>0.800000</td>\n",
              "      <td>Married</td>\n",
              "      <td>Prof-specialty</td>\n",
              "      <td>1</td>\n",
              "      <td>1</td>\n",
              "      <td>1</td>\n",
              "      <td>0.000000</td>\n",
              "      <td>0.0</td>\n",
              "      <td>0.397959</td>\n",
              "      <td>0</td>\n",
              "      <td>0</td>\n",
              "      <td>Private</td>\n",
              "    </tr>\n",
              "    <tr>\n",
              "      <th>...</th>\n",
              "      <td>...</td>\n",
              "      <td>...</td>\n",
              "      <td>...</td>\n",
              "      <td>...</td>\n",
              "      <td>...</td>\n",
              "      <td>...</td>\n",
              "      <td>...</td>\n",
              "      <td>...</td>\n",
              "      <td>...</td>\n",
              "      <td>...</td>\n",
              "      <td>...</td>\n",
              "      <td>...</td>\n",
              "      <td>...</td>\n",
              "      <td>...</td>\n",
              "      <td>...</td>\n",
              "    </tr>\n",
              "    <tr>\n",
              "      <th>48837</th>\n",
              "      <td>0.301370</td>\n",
              "      <td>Private</td>\n",
              "      <td>Higher-education</td>\n",
              "      <td>0.800000</td>\n",
              "      <td>Not-married</td>\n",
              "      <td>Prof-specialty</td>\n",
              "      <td>0</td>\n",
              "      <td>0</td>\n",
              "      <td>1</td>\n",
              "      <td>0.000000</td>\n",
              "      <td>0.0</td>\n",
              "      <td>0.357143</td>\n",
              "      <td>1</td>\n",
              "      <td>0</td>\n",
              "      <td>Private</td>\n",
              "    </tr>\n",
              "    <tr>\n",
              "      <th>48838</th>\n",
              "      <td>0.643836</td>\n",
              "      <td>?</td>\n",
              "      <td>Some-college</td>\n",
              "      <td>0.533333</td>\n",
              "      <td>Not-married</td>\n",
              "      <td>?</td>\n",
              "      <td>1</td>\n",
              "      <td>1</td>\n",
              "      <td>0</td>\n",
              "      <td>0.000000</td>\n",
              "      <td>0.0</td>\n",
              "      <td>0.397959</td>\n",
              "      <td>1</td>\n",
              "      <td>0</td>\n",
              "      <td>?</td>\n",
              "    </tr>\n",
              "    <tr>\n",
              "      <th>48839</th>\n",
              "      <td>0.287671</td>\n",
              "      <td>Private</td>\n",
              "      <td>Higher-education</td>\n",
              "      <td>0.800000</td>\n",
              "      <td>Married</td>\n",
              "      <td>Prof-specialty</td>\n",
              "      <td>1</td>\n",
              "      <td>0</td>\n",
              "      <td>0</td>\n",
              "      <td>0.000000</td>\n",
              "      <td>0.0</td>\n",
              "      <td>0.500000</td>\n",
              "      <td>1</td>\n",
              "      <td>0</td>\n",
              "      <td>Private</td>\n",
              "    </tr>\n",
              "    <tr>\n",
              "      <th>48840</th>\n",
              "      <td>0.369863</td>\n",
              "      <td>Private</td>\n",
              "      <td>Higher-education</td>\n",
              "      <td>0.800000</td>\n",
              "      <td>Not-married</td>\n",
              "      <td>Adm-clerical</td>\n",
              "      <td>1</td>\n",
              "      <td>1</td>\n",
              "      <td>0</td>\n",
              "      <td>0.054551</td>\n",
              "      <td>0.0</td>\n",
              "      <td>0.397959</td>\n",
              "      <td>1</td>\n",
              "      <td>0</td>\n",
              "      <td>Private</td>\n",
              "    </tr>\n",
              "    <tr>\n",
              "      <th>48841</th>\n",
              "      <td>0.246575</td>\n",
              "      <td>Self-emp-inc</td>\n",
              "      <td>Higher-education</td>\n",
              "      <td>0.800000</td>\n",
              "      <td>Married</td>\n",
              "      <td>Exec-managerial</td>\n",
              "      <td>1</td>\n",
              "      <td>0</td>\n",
              "      <td>0</td>\n",
              "      <td>0.000000</td>\n",
              "      <td>0.0</td>\n",
              "      <td>0.602041</td>\n",
              "      <td>1</td>\n",
              "      <td>1</td>\n",
              "      <td>Self-employed</td>\n",
              "    </tr>\n",
              "  </tbody>\n",
              "</table>\n",
              "<p>44355 rows × 15 columns</p>\n",
              "</div>"
            ],
            "text/plain": [
              "            age          workclass  ... income  workclass-category\n",
              "0      0.301370          State-gov  ...      0        Gov-employed\n",
              "1      0.452055   Self-emp-not-inc  ...      0       Self-employed\n",
              "2      0.287671            Private  ...      0             Private\n",
              "3      0.493151            Private  ...      0             Private\n",
              "4      0.150685            Private  ...      0             Private\n",
              "...         ...                ...  ...    ...                 ...\n",
              "48837  0.301370            Private  ...      0             Private\n",
              "48838  0.643836                  ?  ...      0                   ?\n",
              "48839  0.287671            Private  ...      0             Private\n",
              "48840  0.369863            Private  ...      0             Private\n",
              "48841  0.246575       Self-emp-inc  ...      1       Self-employed\n",
              "\n",
              "[44355 rows x 15 columns]"
            ]
          },
          "metadata": {
            "tags": []
          },
          "execution_count": 42
        }
      ]
    },
    {
      "cell_type": "code",
      "metadata": {
        "id": "IGxxp7EJLWG4",
        "colab": {
          "base_uri": "https://localhost:8080/",
          "height": 402
        },
        "outputId": "205402e3-5328-47cd-abfd-428a21239453"
      },
      "source": [
        "encoded_workclass = pd.get_dummies(df['workclass-category'], prefix='worktype')\n",
        "encoded_workclass"
      ],
      "execution_count": null,
      "outputs": [
        {
          "output_type": "execute_result",
          "data": {
            "text/html": [
              "<div>\n",
              "<style scoped>\n",
              "    .dataframe tbody tr th:only-of-type {\n",
              "        vertical-align: middle;\n",
              "    }\n",
              "\n",
              "    .dataframe tbody tr th {\n",
              "        vertical-align: top;\n",
              "    }\n",
              "\n",
              "    .dataframe thead th {\n",
              "        text-align: right;\n",
              "    }\n",
              "</style>\n",
              "<table border=\"1\" class=\"dataframe\">\n",
              "  <thead>\n",
              "    <tr style=\"text-align: right;\">\n",
              "      <th></th>\n",
              "      <th>worktype_ ?</th>\n",
              "      <th>worktype_ Private</th>\n",
              "      <th>worktype_Gov-employed</th>\n",
              "      <th>worktype_Self-employed</th>\n",
              "      <th>worktype_Unemployed</th>\n",
              "    </tr>\n",
              "  </thead>\n",
              "  <tbody>\n",
              "    <tr>\n",
              "      <th>0</th>\n",
              "      <td>0</td>\n",
              "      <td>0</td>\n",
              "      <td>1</td>\n",
              "      <td>0</td>\n",
              "      <td>0</td>\n",
              "    </tr>\n",
              "    <tr>\n",
              "      <th>1</th>\n",
              "      <td>0</td>\n",
              "      <td>0</td>\n",
              "      <td>0</td>\n",
              "      <td>1</td>\n",
              "      <td>0</td>\n",
              "    </tr>\n",
              "    <tr>\n",
              "      <th>2</th>\n",
              "      <td>0</td>\n",
              "      <td>1</td>\n",
              "      <td>0</td>\n",
              "      <td>0</td>\n",
              "      <td>0</td>\n",
              "    </tr>\n",
              "    <tr>\n",
              "      <th>3</th>\n",
              "      <td>0</td>\n",
              "      <td>1</td>\n",
              "      <td>0</td>\n",
              "      <td>0</td>\n",
              "      <td>0</td>\n",
              "    </tr>\n",
              "    <tr>\n",
              "      <th>4</th>\n",
              "      <td>0</td>\n",
              "      <td>1</td>\n",
              "      <td>0</td>\n",
              "      <td>0</td>\n",
              "      <td>0</td>\n",
              "    </tr>\n",
              "    <tr>\n",
              "      <th>...</th>\n",
              "      <td>...</td>\n",
              "      <td>...</td>\n",
              "      <td>...</td>\n",
              "      <td>...</td>\n",
              "      <td>...</td>\n",
              "    </tr>\n",
              "    <tr>\n",
              "      <th>48837</th>\n",
              "      <td>0</td>\n",
              "      <td>1</td>\n",
              "      <td>0</td>\n",
              "      <td>0</td>\n",
              "      <td>0</td>\n",
              "    </tr>\n",
              "    <tr>\n",
              "      <th>48838</th>\n",
              "      <td>1</td>\n",
              "      <td>0</td>\n",
              "      <td>0</td>\n",
              "      <td>0</td>\n",
              "      <td>0</td>\n",
              "    </tr>\n",
              "    <tr>\n",
              "      <th>48839</th>\n",
              "      <td>0</td>\n",
              "      <td>1</td>\n",
              "      <td>0</td>\n",
              "      <td>0</td>\n",
              "      <td>0</td>\n",
              "    </tr>\n",
              "    <tr>\n",
              "      <th>48840</th>\n",
              "      <td>0</td>\n",
              "      <td>1</td>\n",
              "      <td>0</td>\n",
              "      <td>0</td>\n",
              "      <td>0</td>\n",
              "    </tr>\n",
              "    <tr>\n",
              "      <th>48841</th>\n",
              "      <td>0</td>\n",
              "      <td>0</td>\n",
              "      <td>0</td>\n",
              "      <td>1</td>\n",
              "      <td>0</td>\n",
              "    </tr>\n",
              "  </tbody>\n",
              "</table>\n",
              "<p>44355 rows × 5 columns</p>\n",
              "</div>"
            ],
            "text/plain": [
              "       worktype_ ?  ...  worktype_Unemployed\n",
              "0                0  ...                    0\n",
              "1                0  ...                    0\n",
              "2                0  ...                    0\n",
              "3                0  ...                    0\n",
              "4                0  ...                    0\n",
              "...            ...  ...                  ...\n",
              "48837            0  ...                    0\n",
              "48838            1  ...                    0\n",
              "48839            0  ...                    0\n",
              "48840            0  ...                    0\n",
              "48841            0  ...                    0\n",
              "\n",
              "[44355 rows x 5 columns]"
            ]
          },
          "metadata": {
            "tags": []
          },
          "execution_count": 43
        }
      ]
    },
    {
      "cell_type": "markdown",
      "metadata": {
        "id": "QlxpmG6cno6E"
      },
      "source": [
        "Now that we have encoded work category we can now go on to do occupation, marriage status, and education."
      ]
    },
    {
      "cell_type": "code",
      "metadata": {
        "id": "cDYLG1h-LV8w",
        "colab": {
          "base_uri": "https://localhost:8080/",
          "height": 472
        },
        "outputId": "ccf7312c-40c0-4c30-fcc3-6f9b55ba0ba1"
      },
      "source": [
        "encoded_occupation = pd.get_dummies(df['occupation'], prefix='job')\n",
        "encoded_education = pd.get_dummies(df['education'], prefix='schooling')\n",
        "encoded_marriage = pd.get_dummies(df['marital-status'])\n",
        "\n",
        "cols = ['age', 'education-num', 'relationship', 'race', 'sex', 'capital-gain', 'capital-loss', 'hours-per-week', 'native-country', 'income']\n",
        "new_df = df[cols]  # creation of new df without encoded variables\n",
        "\n",
        "new_df = new_df.join(encoded_workclass)  # addition of encoded variables\n",
        "new_df = new_df.join(encoded_occupation)\n",
        "new_df = new_df.join(encoded_education)\n",
        "new_df = new_df.join(encoded_marriage)\n",
        "new_df"
      ],
      "execution_count": null,
      "outputs": [
        {
          "output_type": "execute_result",
          "data": {
            "text/html": [
              "<div>\n",
              "<style scoped>\n",
              "    .dataframe tbody tr th:only-of-type {\n",
              "        vertical-align: middle;\n",
              "    }\n",
              "\n",
              "    .dataframe tbody tr th {\n",
              "        vertical-align: top;\n",
              "    }\n",
              "\n",
              "    .dataframe thead th {\n",
              "        text-align: right;\n",
              "    }\n",
              "</style>\n",
              "<table border=\"1\" class=\"dataframe\">\n",
              "  <thead>\n",
              "    <tr style=\"text-align: right;\">\n",
              "      <th></th>\n",
              "      <th>age</th>\n",
              "      <th>education-num</th>\n",
              "      <th>relationship</th>\n",
              "      <th>race</th>\n",
              "      <th>sex</th>\n",
              "      <th>capital-gain</th>\n",
              "      <th>capital-loss</th>\n",
              "      <th>hours-per-week</th>\n",
              "      <th>native-country</th>\n",
              "      <th>income</th>\n",
              "      <th>worktype_ ?</th>\n",
              "      <th>worktype_ Private</th>\n",
              "      <th>worktype_Gov-employed</th>\n",
              "      <th>worktype_Self-employed</th>\n",
              "      <th>worktype_Unemployed</th>\n",
              "      <th>job_ ?</th>\n",
              "      <th>job_ Adm-clerical</th>\n",
              "      <th>job_ Armed-Forces</th>\n",
              "      <th>job_ Craft-repair</th>\n",
              "      <th>job_ Exec-managerial</th>\n",
              "      <th>job_ Farming-fishing</th>\n",
              "      <th>job_ Handlers-cleaners</th>\n",
              "      <th>job_ Machine-op-inspct</th>\n",
              "      <th>job_ Other-service</th>\n",
              "      <th>job_ Priv-house-serv</th>\n",
              "      <th>job_ Prof-specialty</th>\n",
              "      <th>job_ Protective-serv</th>\n",
              "      <th>job_ Sales</th>\n",
              "      <th>job_ Tech-support</th>\n",
              "      <th>job_ Transport-moving</th>\n",
              "      <th>schooling_Higher-education</th>\n",
              "      <th>schooling_No-highschool-grad</th>\n",
              "      <th>schooling_Some-college</th>\n",
              "      <th>Married</th>\n",
              "      <th>Never-married</th>\n",
              "      <th>Not-married</th>\n",
              "    </tr>\n",
              "  </thead>\n",
              "  <tbody>\n",
              "    <tr>\n",
              "      <th>0</th>\n",
              "      <td>0.301370</td>\n",
              "      <td>0.800000</td>\n",
              "      <td>0</td>\n",
              "      <td>0</td>\n",
              "      <td>0</td>\n",
              "      <td>0.021740</td>\n",
              "      <td>0.0</td>\n",
              "      <td>0.397959</td>\n",
              "      <td>1</td>\n",
              "      <td>0</td>\n",
              "      <td>0</td>\n",
              "      <td>0</td>\n",
              "      <td>1</td>\n",
              "      <td>0</td>\n",
              "      <td>0</td>\n",
              "      <td>0</td>\n",
              "      <td>1</td>\n",
              "      <td>0</td>\n",
              "      <td>0</td>\n",
              "      <td>0</td>\n",
              "      <td>0</td>\n",
              "      <td>0</td>\n",
              "      <td>0</td>\n",
              "      <td>0</td>\n",
              "      <td>0</td>\n",
              "      <td>0</td>\n",
              "      <td>0</td>\n",
              "      <td>0</td>\n",
              "      <td>0</td>\n",
              "      <td>0</td>\n",
              "      <td>1</td>\n",
              "      <td>0</td>\n",
              "      <td>0</td>\n",
              "      <td>0</td>\n",
              "      <td>1</td>\n",
              "      <td>0</td>\n",
              "    </tr>\n",
              "    <tr>\n",
              "      <th>1</th>\n",
              "      <td>0.452055</td>\n",
              "      <td>0.800000</td>\n",
              "      <td>1</td>\n",
              "      <td>0</td>\n",
              "      <td>0</td>\n",
              "      <td>0.000000</td>\n",
              "      <td>0.0</td>\n",
              "      <td>0.122449</td>\n",
              "      <td>1</td>\n",
              "      <td>0</td>\n",
              "      <td>0</td>\n",
              "      <td>0</td>\n",
              "      <td>0</td>\n",
              "      <td>1</td>\n",
              "      <td>0</td>\n",
              "      <td>0</td>\n",
              "      <td>0</td>\n",
              "      <td>0</td>\n",
              "      <td>0</td>\n",
              "      <td>1</td>\n",
              "      <td>0</td>\n",
              "      <td>0</td>\n",
              "      <td>0</td>\n",
              "      <td>0</td>\n",
              "      <td>0</td>\n",
              "      <td>0</td>\n",
              "      <td>0</td>\n",
              "      <td>0</td>\n",
              "      <td>0</td>\n",
              "      <td>0</td>\n",
              "      <td>1</td>\n",
              "      <td>0</td>\n",
              "      <td>0</td>\n",
              "      <td>1</td>\n",
              "      <td>0</td>\n",
              "      <td>0</td>\n",
              "    </tr>\n",
              "    <tr>\n",
              "      <th>2</th>\n",
              "      <td>0.287671</td>\n",
              "      <td>0.533333</td>\n",
              "      <td>0</td>\n",
              "      <td>0</td>\n",
              "      <td>0</td>\n",
              "      <td>0.000000</td>\n",
              "      <td>0.0</td>\n",
              "      <td>0.397959</td>\n",
              "      <td>1</td>\n",
              "      <td>0</td>\n",
              "      <td>0</td>\n",
              "      <td>1</td>\n",
              "      <td>0</td>\n",
              "      <td>0</td>\n",
              "      <td>0</td>\n",
              "      <td>0</td>\n",
              "      <td>0</td>\n",
              "      <td>0</td>\n",
              "      <td>0</td>\n",
              "      <td>0</td>\n",
              "      <td>0</td>\n",
              "      <td>1</td>\n",
              "      <td>0</td>\n",
              "      <td>0</td>\n",
              "      <td>0</td>\n",
              "      <td>0</td>\n",
              "      <td>0</td>\n",
              "      <td>0</td>\n",
              "      <td>0</td>\n",
              "      <td>0</td>\n",
              "      <td>0</td>\n",
              "      <td>0</td>\n",
              "      <td>1</td>\n",
              "      <td>0</td>\n",
              "      <td>0</td>\n",
              "      <td>1</td>\n",
              "    </tr>\n",
              "    <tr>\n",
              "      <th>3</th>\n",
              "      <td>0.493151</td>\n",
              "      <td>0.400000</td>\n",
              "      <td>1</td>\n",
              "      <td>1</td>\n",
              "      <td>0</td>\n",
              "      <td>0.000000</td>\n",
              "      <td>0.0</td>\n",
              "      <td>0.397959</td>\n",
              "      <td>1</td>\n",
              "      <td>0</td>\n",
              "      <td>0</td>\n",
              "      <td>1</td>\n",
              "      <td>0</td>\n",
              "      <td>0</td>\n",
              "      <td>0</td>\n",
              "      <td>0</td>\n",
              "      <td>0</td>\n",
              "      <td>0</td>\n",
              "      <td>0</td>\n",
              "      <td>0</td>\n",
              "      <td>0</td>\n",
              "      <td>1</td>\n",
              "      <td>0</td>\n",
              "      <td>0</td>\n",
              "      <td>0</td>\n",
              "      <td>0</td>\n",
              "      <td>0</td>\n",
              "      <td>0</td>\n",
              "      <td>0</td>\n",
              "      <td>0</td>\n",
              "      <td>0</td>\n",
              "      <td>1</td>\n",
              "      <td>0</td>\n",
              "      <td>1</td>\n",
              "      <td>0</td>\n",
              "      <td>0</td>\n",
              "    </tr>\n",
              "    <tr>\n",
              "      <th>4</th>\n",
              "      <td>0.150685</td>\n",
              "      <td>0.800000</td>\n",
              "      <td>1</td>\n",
              "      <td>1</td>\n",
              "      <td>1</td>\n",
              "      <td>0.000000</td>\n",
              "      <td>0.0</td>\n",
              "      <td>0.397959</td>\n",
              "      <td>0</td>\n",
              "      <td>0</td>\n",
              "      <td>0</td>\n",
              "      <td>1</td>\n",
              "      <td>0</td>\n",
              "      <td>0</td>\n",
              "      <td>0</td>\n",
              "      <td>0</td>\n",
              "      <td>0</td>\n",
              "      <td>0</td>\n",
              "      <td>0</td>\n",
              "      <td>0</td>\n",
              "      <td>0</td>\n",
              "      <td>0</td>\n",
              "      <td>0</td>\n",
              "      <td>0</td>\n",
              "      <td>0</td>\n",
              "      <td>1</td>\n",
              "      <td>0</td>\n",
              "      <td>0</td>\n",
              "      <td>0</td>\n",
              "      <td>0</td>\n",
              "      <td>1</td>\n",
              "      <td>0</td>\n",
              "      <td>0</td>\n",
              "      <td>1</td>\n",
              "      <td>0</td>\n",
              "      <td>0</td>\n",
              "    </tr>\n",
              "    <tr>\n",
              "      <th>...</th>\n",
              "      <td>...</td>\n",
              "      <td>...</td>\n",
              "      <td>...</td>\n",
              "      <td>...</td>\n",
              "      <td>...</td>\n",
              "      <td>...</td>\n",
              "      <td>...</td>\n",
              "      <td>...</td>\n",
              "      <td>...</td>\n",
              "      <td>...</td>\n",
              "      <td>...</td>\n",
              "      <td>...</td>\n",
              "      <td>...</td>\n",
              "      <td>...</td>\n",
              "      <td>...</td>\n",
              "      <td>...</td>\n",
              "      <td>...</td>\n",
              "      <td>...</td>\n",
              "      <td>...</td>\n",
              "      <td>...</td>\n",
              "      <td>...</td>\n",
              "      <td>...</td>\n",
              "      <td>...</td>\n",
              "      <td>...</td>\n",
              "      <td>...</td>\n",
              "      <td>...</td>\n",
              "      <td>...</td>\n",
              "      <td>...</td>\n",
              "      <td>...</td>\n",
              "      <td>...</td>\n",
              "      <td>...</td>\n",
              "      <td>...</td>\n",
              "      <td>...</td>\n",
              "      <td>...</td>\n",
              "      <td>...</td>\n",
              "      <td>...</td>\n",
              "    </tr>\n",
              "    <tr>\n",
              "      <th>48837</th>\n",
              "      <td>0.301370</td>\n",
              "      <td>0.800000</td>\n",
              "      <td>0</td>\n",
              "      <td>0</td>\n",
              "      <td>1</td>\n",
              "      <td>0.000000</td>\n",
              "      <td>0.0</td>\n",
              "      <td>0.357143</td>\n",
              "      <td>1</td>\n",
              "      <td>0</td>\n",
              "      <td>0</td>\n",
              "      <td>1</td>\n",
              "      <td>0</td>\n",
              "      <td>0</td>\n",
              "      <td>0</td>\n",
              "      <td>0</td>\n",
              "      <td>0</td>\n",
              "      <td>0</td>\n",
              "      <td>0</td>\n",
              "      <td>0</td>\n",
              "      <td>0</td>\n",
              "      <td>0</td>\n",
              "      <td>0</td>\n",
              "      <td>0</td>\n",
              "      <td>0</td>\n",
              "      <td>1</td>\n",
              "      <td>0</td>\n",
              "      <td>0</td>\n",
              "      <td>0</td>\n",
              "      <td>0</td>\n",
              "      <td>1</td>\n",
              "      <td>0</td>\n",
              "      <td>0</td>\n",
              "      <td>0</td>\n",
              "      <td>0</td>\n",
              "      <td>1</td>\n",
              "    </tr>\n",
              "    <tr>\n",
              "      <th>48838</th>\n",
              "      <td>0.643836</td>\n",
              "      <td>0.533333</td>\n",
              "      <td>1</td>\n",
              "      <td>1</td>\n",
              "      <td>0</td>\n",
              "      <td>0.000000</td>\n",
              "      <td>0.0</td>\n",
              "      <td>0.397959</td>\n",
              "      <td>1</td>\n",
              "      <td>0</td>\n",
              "      <td>1</td>\n",
              "      <td>0</td>\n",
              "      <td>0</td>\n",
              "      <td>0</td>\n",
              "      <td>0</td>\n",
              "      <td>1</td>\n",
              "      <td>0</td>\n",
              "      <td>0</td>\n",
              "      <td>0</td>\n",
              "      <td>0</td>\n",
              "      <td>0</td>\n",
              "      <td>0</td>\n",
              "      <td>0</td>\n",
              "      <td>0</td>\n",
              "      <td>0</td>\n",
              "      <td>0</td>\n",
              "      <td>0</td>\n",
              "      <td>0</td>\n",
              "      <td>0</td>\n",
              "      <td>0</td>\n",
              "      <td>0</td>\n",
              "      <td>0</td>\n",
              "      <td>1</td>\n",
              "      <td>0</td>\n",
              "      <td>0</td>\n",
              "      <td>1</td>\n",
              "    </tr>\n",
              "    <tr>\n",
              "      <th>48839</th>\n",
              "      <td>0.287671</td>\n",
              "      <td>0.800000</td>\n",
              "      <td>1</td>\n",
              "      <td>0</td>\n",
              "      <td>0</td>\n",
              "      <td>0.000000</td>\n",
              "      <td>0.0</td>\n",
              "      <td>0.500000</td>\n",
              "      <td>1</td>\n",
              "      <td>0</td>\n",
              "      <td>0</td>\n",
              "      <td>1</td>\n",
              "      <td>0</td>\n",
              "      <td>0</td>\n",
              "      <td>0</td>\n",
              "      <td>0</td>\n",
              "      <td>0</td>\n",
              "      <td>0</td>\n",
              "      <td>0</td>\n",
              "      <td>0</td>\n",
              "      <td>0</td>\n",
              "      <td>0</td>\n",
              "      <td>0</td>\n",
              "      <td>0</td>\n",
              "      <td>0</td>\n",
              "      <td>1</td>\n",
              "      <td>0</td>\n",
              "      <td>0</td>\n",
              "      <td>0</td>\n",
              "      <td>0</td>\n",
              "      <td>1</td>\n",
              "      <td>0</td>\n",
              "      <td>0</td>\n",
              "      <td>1</td>\n",
              "      <td>0</td>\n",
              "      <td>0</td>\n",
              "    </tr>\n",
              "    <tr>\n",
              "      <th>48840</th>\n",
              "      <td>0.369863</td>\n",
              "      <td>0.800000</td>\n",
              "      <td>1</td>\n",
              "      <td>1</td>\n",
              "      <td>0</td>\n",
              "      <td>0.054551</td>\n",
              "      <td>0.0</td>\n",
              "      <td>0.397959</td>\n",
              "      <td>1</td>\n",
              "      <td>0</td>\n",
              "      <td>0</td>\n",
              "      <td>1</td>\n",
              "      <td>0</td>\n",
              "      <td>0</td>\n",
              "      <td>0</td>\n",
              "      <td>0</td>\n",
              "      <td>1</td>\n",
              "      <td>0</td>\n",
              "      <td>0</td>\n",
              "      <td>0</td>\n",
              "      <td>0</td>\n",
              "      <td>0</td>\n",
              "      <td>0</td>\n",
              "      <td>0</td>\n",
              "      <td>0</td>\n",
              "      <td>0</td>\n",
              "      <td>0</td>\n",
              "      <td>0</td>\n",
              "      <td>0</td>\n",
              "      <td>0</td>\n",
              "      <td>1</td>\n",
              "      <td>0</td>\n",
              "      <td>0</td>\n",
              "      <td>0</td>\n",
              "      <td>0</td>\n",
              "      <td>1</td>\n",
              "    </tr>\n",
              "    <tr>\n",
              "      <th>48841</th>\n",
              "      <td>0.246575</td>\n",
              "      <td>0.800000</td>\n",
              "      <td>1</td>\n",
              "      <td>0</td>\n",
              "      <td>0</td>\n",
              "      <td>0.000000</td>\n",
              "      <td>0.0</td>\n",
              "      <td>0.602041</td>\n",
              "      <td>1</td>\n",
              "      <td>1</td>\n",
              "      <td>0</td>\n",
              "      <td>0</td>\n",
              "      <td>0</td>\n",
              "      <td>1</td>\n",
              "      <td>0</td>\n",
              "      <td>0</td>\n",
              "      <td>0</td>\n",
              "      <td>0</td>\n",
              "      <td>0</td>\n",
              "      <td>1</td>\n",
              "      <td>0</td>\n",
              "      <td>0</td>\n",
              "      <td>0</td>\n",
              "      <td>0</td>\n",
              "      <td>0</td>\n",
              "      <td>0</td>\n",
              "      <td>0</td>\n",
              "      <td>0</td>\n",
              "      <td>0</td>\n",
              "      <td>0</td>\n",
              "      <td>1</td>\n",
              "      <td>0</td>\n",
              "      <td>0</td>\n",
              "      <td>1</td>\n",
              "      <td>0</td>\n",
              "      <td>0</td>\n",
              "    </tr>\n",
              "  </tbody>\n",
              "</table>\n",
              "<p>44355 rows × 36 columns</p>\n",
              "</div>"
            ],
            "text/plain": [
              "            age  education-num  ...  Never-married  Not-married\n",
              "0      0.301370       0.800000  ...              1            0\n",
              "1      0.452055       0.800000  ...              0            0\n",
              "2      0.287671       0.533333  ...              0            1\n",
              "3      0.493151       0.400000  ...              0            0\n",
              "4      0.150685       0.800000  ...              0            0\n",
              "...         ...            ...  ...            ...          ...\n",
              "48837  0.301370       0.800000  ...              0            1\n",
              "48838  0.643836       0.533333  ...              0            1\n",
              "48839  0.287671       0.800000  ...              0            0\n",
              "48840  0.369863       0.800000  ...              0            1\n",
              "48841  0.246575       0.800000  ...              0            0\n",
              "\n",
              "[44355 rows x 36 columns]"
            ]
          },
          "metadata": {
            "tags": []
          },
          "execution_count": 44
        }
      ]
    },
    {
      "cell_type": "markdown",
      "metadata": {
        "id": "D80_aOy8q7Dz"
      },
      "source": [
        "All categoricals have been encoded and Logistic regression can start."
      ]
    },
    {
      "cell_type": "code",
      "metadata": {
        "id": "wWDwfOnoLV34"
      },
      "source": [
        "new_df.columns = ['age', 'education-num', 'relationship', 'race', 'sex', 'capital-gain',\n",
        "       'capital-loss', 'hours-per-week', 'native-country',\n",
        "       'worktype_ ?', 'worktype_ Private', 'worktype_Gov-employed',\n",
        "       'worktype_Self-employed', 'worktype_Unemployed', 'job_ ?',\n",
        "       'job_ Adm-clerical', 'job_ Armed-Forces', 'job_ Craft-repair',\n",
        "       'job_ Exec-managerial', 'job_ Farming-fishing',\n",
        "       'job_ Handlers-cleaners', 'job_ Machine-op-inspct',\n",
        "       'job_ Other-service', 'job_ Priv-house-serv', 'job_ Prof-specialty',\n",
        "       'job_ Protective-serv', 'job_ Sales', 'job_ Tech-support',\n",
        "       'job_ Transport-moving', 'schooling_Higher-education',\n",
        "       'schooling_No-highschool-grad', 'schooling_Some-college', 'Married',\n",
        "       'Never-married', 'Not-married', 'income']  # moving income column to the end\n"
      ],
      "execution_count": null,
      "outputs": []
    },
    {
      "cell_type": "code",
      "metadata": {
        "id": "3nxCt4C2mT4Y",
        "colab": {
          "base_uri": "https://localhost:8080/",
          "height": 605
        },
        "outputId": "bd061647-34bb-483d-8149-29bcdf5d2365"
      },
      "source": [
        "final_cols = new_df.columns[:-1].to_list()\n",
        "final_cols"
      ],
      "execution_count": null,
      "outputs": [
        {
          "output_type": "execute_result",
          "data": {
            "text/plain": [
              "['age',\n",
              " 'education-num',\n",
              " 'relationship',\n",
              " 'race',\n",
              " 'sex',\n",
              " 'capital-gain',\n",
              " 'capital-loss',\n",
              " 'hours-per-week',\n",
              " 'native-country',\n",
              " 'worktype_ ?',\n",
              " 'worktype_ Private',\n",
              " 'worktype_Gov-employed',\n",
              " 'worktype_Self-employed',\n",
              " 'worktype_Unemployed',\n",
              " 'job_ ?',\n",
              " 'job_ Adm-clerical',\n",
              " 'job_ Armed-Forces',\n",
              " 'job_ Craft-repair',\n",
              " 'job_ Exec-managerial',\n",
              " 'job_ Farming-fishing',\n",
              " 'job_ Handlers-cleaners',\n",
              " 'job_ Machine-op-inspct',\n",
              " 'job_ Other-service',\n",
              " 'job_ Priv-house-serv',\n",
              " 'job_ Prof-specialty',\n",
              " 'job_ Protective-serv',\n",
              " 'job_ Sales',\n",
              " 'job_ Tech-support',\n",
              " 'job_ Transport-moving',\n",
              " 'schooling_Higher-education',\n",
              " 'schooling_No-highschool-grad',\n",
              " 'schooling_Some-college',\n",
              " 'Married',\n",
              " 'Never-married',\n",
              " 'Not-married']"
            ]
          },
          "metadata": {
            "tags": []
          },
          "execution_count": 46
        }
      ]
    },
    {
      "cell_type": "code",
      "metadata": {
        "id": "Ly0mhvQGwt2i",
        "colab": {
          "base_uri": "https://localhost:8080/",
          "height": 1000
        },
        "outputId": "36cc6364-c656-463b-bb74-55192e6b1ad3"
      },
      "source": [
        "pg.logistic_regression(new_df[final_cols], df['income'])"
      ],
      "execution_count": null,
      "outputs": [
        {
          "output_type": "execute_result",
          "data": {
            "text/html": [
              "<div>\n",
              "<style scoped>\n",
              "    .dataframe tbody tr th:only-of-type {\n",
              "        vertical-align: middle;\n",
              "    }\n",
              "\n",
              "    .dataframe tbody tr th {\n",
              "        vertical-align: top;\n",
              "    }\n",
              "\n",
              "    .dataframe thead th {\n",
              "        text-align: right;\n",
              "    }\n",
              "</style>\n",
              "<table border=\"1\" class=\"dataframe\">\n",
              "  <thead>\n",
              "    <tr style=\"text-align: right;\">\n",
              "      <th></th>\n",
              "      <th>names</th>\n",
              "      <th>coef</th>\n",
              "      <th>se</th>\n",
              "      <th>z</th>\n",
              "      <th>pval</th>\n",
              "      <th>CI[2.5%]</th>\n",
              "      <th>CI[97.5%]</th>\n",
              "    </tr>\n",
              "  </thead>\n",
              "  <tbody>\n",
              "    <tr>\n",
              "      <th>0</th>\n",
              "      <td>Intercept</td>\n",
              "      <td>-9.474575</td>\n",
              "      <td>532.789395</td>\n",
              "      <td>-1.778296e-02</td>\n",
              "      <td>0.985812</td>\n",
              "      <td>-1053.722601</td>\n",
              "      <td>1034.773451</td>\n",
              "    </tr>\n",
              "    <tr>\n",
              "      <th>1</th>\n",
              "      <td>age</td>\n",
              "      <td>-1.149148</td>\n",
              "      <td>480.927348</td>\n",
              "      <td>-2.389441e-03</td>\n",
              "      <td>0.998094</td>\n",
              "      <td>-943.749429</td>\n",
              "      <td>941.451134</td>\n",
              "    </tr>\n",
              "    <tr>\n",
              "      <th>2</th>\n",
              "      <td>education-num</td>\n",
              "      <td>-2.180825</td>\n",
              "      <td>640.025864</td>\n",
              "      <td>-3.407401e-03</td>\n",
              "      <td>0.997281</td>\n",
              "      <td>-1256.608466</td>\n",
              "      <td>1252.246817</td>\n",
              "    </tr>\n",
              "    <tr>\n",
              "      <th>3</th>\n",
              "      <td>relationship</td>\n",
              "      <td>-0.586053</td>\n",
              "      <td>291.175829</td>\n",
              "      <td>-2.012711e-03</td>\n",
              "      <td>0.998394</td>\n",
              "      <td>-571.280191</td>\n",
              "      <td>570.108085</td>\n",
              "    </tr>\n",
              "    <tr>\n",
              "      <th>4</th>\n",
              "      <td>race</td>\n",
              "      <td>-0.520853</td>\n",
              "      <td>234.368751</td>\n",
              "      <td>-2.222364e-03</td>\n",
              "      <td>0.998227</td>\n",
              "      <td>-459.875163</td>\n",
              "      <td>458.833458</td>\n",
              "    </tr>\n",
              "    <tr>\n",
              "      <th>5</th>\n",
              "      <td>sex</td>\n",
              "      <td>-0.783450</td>\n",
              "      <td>203.453521</td>\n",
              "      <td>-3.850757e-03</td>\n",
              "      <td>0.996928</td>\n",
              "      <td>-399.545024</td>\n",
              "      <td>397.978123</td>\n",
              "    </tr>\n",
              "    <tr>\n",
              "      <th>6</th>\n",
              "      <td>capital-gain</td>\n",
              "      <td>1.278642</td>\n",
              "      <td>1202.972067</td>\n",
              "      <td>1.062902e-03</td>\n",
              "      <td>0.999152</td>\n",
              "      <td>-2356.503284</td>\n",
              "      <td>2359.060568</td>\n",
              "    </tr>\n",
              "    <tr>\n",
              "      <th>7</th>\n",
              "      <td>capital-loss</td>\n",
              "      <td>0.653371</td>\n",
              "      <td>730.869221</td>\n",
              "      <td>8.939650e-04</td>\n",
              "      <td>0.999287</td>\n",
              "      <td>-1431.823980</td>\n",
              "      <td>1433.130723</td>\n",
              "    </tr>\n",
              "    <tr>\n",
              "      <th>8</th>\n",
              "      <td>hours-per-week</td>\n",
              "      <td>-1.426605</td>\n",
              "      <td>622.674142</td>\n",
              "      <td>-2.291094e-03</td>\n",
              "      <td>0.998172</td>\n",
              "      <td>-1221.845498</td>\n",
              "      <td>1218.992288</td>\n",
              "    </tr>\n",
              "    <tr>\n",
              "      <th>9</th>\n",
              "      <td>native-country</td>\n",
              "      <td>-0.857208</td>\n",
              "      <td>222.895364</td>\n",
              "      <td>-3.845787e-03</td>\n",
              "      <td>0.996932</td>\n",
              "      <td>-437.724093</td>\n",
              "      <td>436.009677</td>\n",
              "    </tr>\n",
              "    <tr>\n",
              "      <th>10</th>\n",
              "      <td>worktype_ ?</td>\n",
              "      <td>38.343413</td>\n",
              "      <td>193.831379</td>\n",
              "      <td>1.978184e-01</td>\n",
              "      <td>0.843187</td>\n",
              "      <td>-341.559109</td>\n",
              "      <td>418.245935</td>\n",
              "    </tr>\n",
              "    <tr>\n",
              "      <th>11</th>\n",
              "      <td>worktype_ Private</td>\n",
              "      <td>-1.634385</td>\n",
              "      <td>2489.095011</td>\n",
              "      <td>-6.566182e-04</td>\n",
              "      <td>0.999476</td>\n",
              "      <td>-4880.170961</td>\n",
              "      <td>4876.902191</td>\n",
              "    </tr>\n",
              "    <tr>\n",
              "      <th>12</th>\n",
              "      <td>worktype_Gov-employed</td>\n",
              "      <td>-2.790723</td>\n",
              "      <td>713.508166</td>\n",
              "      <td>-3.911270e-03</td>\n",
              "      <td>0.996879</td>\n",
              "      <td>-1401.241031</td>\n",
              "      <td>1395.659585</td>\n",
              "    </tr>\n",
              "    <tr>\n",
              "      <th>13</th>\n",
              "      <td>worktype_Self-employed</td>\n",
              "      <td>-2.525465</td>\n",
              "      <td>726.514209</td>\n",
              "      <td>-3.476140e-03</td>\n",
              "      <td>0.997226</td>\n",
              "      <td>-1426.467148</td>\n",
              "      <td>1421.416218</td>\n",
              "    </tr>\n",
              "    <tr>\n",
              "      <th>14</th>\n",
              "      <td>worktype_Unemployed</td>\n",
              "      <td>-2.411879</td>\n",
              "      <td>725.597224</td>\n",
              "      <td>-3.323992e-03</td>\n",
              "      <td>0.997348</td>\n",
              "      <td>-1424.556306</td>\n",
              "      <td>1419.732547</td>\n",
              "    </tr>\n",
              "    <tr>\n",
              "      <th>15</th>\n",
              "      <td>job_ ?</td>\n",
              "      <td>-0.112122</td>\n",
              "      <td>993.830926</td>\n",
              "      <td>-1.128179e-04</td>\n",
              "      <td>0.999910</td>\n",
              "      <td>-1947.984944</td>\n",
              "      <td>1947.760700</td>\n",
              "    </tr>\n",
              "    <tr>\n",
              "      <th>16</th>\n",
              "      <td>job_ Adm-clerical</td>\n",
              "      <td>-1.658041</td>\n",
              "      <td>2908.952356</td>\n",
              "      <td>-5.699787e-04</td>\n",
              "      <td>0.999545</td>\n",
              "      <td>-5703.099890</td>\n",
              "      <td>5699.783809</td>\n",
              "    </tr>\n",
              "    <tr>\n",
              "      <th>17</th>\n",
              "      <td>job_ Armed-Forces</td>\n",
              "      <td>-0.573241</td>\n",
              "      <td>440.076458</td>\n",
              "      <td>-1.302594e-03</td>\n",
              "      <td>0.998961</td>\n",
              "      <td>-863.107249</td>\n",
              "      <td>861.960767</td>\n",
              "    </tr>\n",
              "    <tr>\n",
              "      <th>18</th>\n",
              "      <td>job_ Craft-repair</td>\n",
              "      <td>-0.003473</td>\n",
              "      <td>3872.362722</td>\n",
              "      <td>-8.968387e-07</td>\n",
              "      <td>0.999999</td>\n",
              "      <td>-7589.694943</td>\n",
              "      <td>7589.687998</td>\n",
              "    </tr>\n",
              "    <tr>\n",
              "      <th>19</th>\n",
              "      <td>job_ Exec-managerial</td>\n",
              "      <td>-0.812823</td>\n",
              "      <td>418.745320</td>\n",
              "      <td>-1.941092e-03</td>\n",
              "      <td>0.998451</td>\n",
              "      <td>-821.538569</td>\n",
              "      <td>819.912922</td>\n",
              "    </tr>\n",
              "    <tr>\n",
              "      <th>20</th>\n",
              "      <td>job_ Farming-fishing</td>\n",
              "      <td>-0.123975</td>\n",
              "      <td>415.294450</td>\n",
              "      <td>-2.985230e-04</td>\n",
              "      <td>0.999762</td>\n",
              "      <td>-814.086140</td>\n",
              "      <td>813.838190</td>\n",
              "    </tr>\n",
              "    <tr>\n",
              "      <th>21</th>\n",
              "      <td>job_ Handlers-cleaners</td>\n",
              "      <td>-1.066536</td>\n",
              "      <td>542.321479</td>\n",
              "      <td>-1.966612e-03</td>\n",
              "      <td>0.998431</td>\n",
              "      <td>-1063.997103</td>\n",
              "      <td>1061.864031</td>\n",
              "    </tr>\n",
              "    <tr>\n",
              "      <th>22</th>\n",
              "      <td>job_ Machine-op-inspct</td>\n",
              "      <td>-1.088741</td>\n",
              "      <td>559.178700</td>\n",
              "      <td>-1.947036e-03</td>\n",
              "      <td>0.998446</td>\n",
              "      <td>-1097.058853</td>\n",
              "      <td>1094.881371</td>\n",
              "    </tr>\n",
              "    <tr>\n",
              "      <th>23</th>\n",
              "      <td>job_ Other-service</td>\n",
              "      <td>-0.917202</td>\n",
              "      <td>481.331802</td>\n",
              "      <td>-1.905549e-03</td>\n",
              "      <td>0.998480</td>\n",
              "      <td>-944.310198</td>\n",
              "      <td>942.475795</td>\n",
              "    </tr>\n",
              "    <tr>\n",
              "      <th>24</th>\n",
              "      <td>job_ Priv-house-serv</td>\n",
              "      <td>-1.255625</td>\n",
              "      <td>475.469596</td>\n",
              "      <td>-2.640809e-03</td>\n",
              "      <td>0.997893</td>\n",
              "      <td>-933.158908</td>\n",
              "      <td>930.647659</td>\n",
              "    </tr>\n",
              "    <tr>\n",
              "      <th>25</th>\n",
              "      <td>job_ Prof-specialty</td>\n",
              "      <td>-0.274061</td>\n",
              "      <td>1094.709950</td>\n",
              "      <td>-2.503507e-04</td>\n",
              "      <td>0.999800</td>\n",
              "      <td>-2145.866137</td>\n",
              "      <td>2145.318014</td>\n",
              "    </tr>\n",
              "    <tr>\n",
              "      <th>26</th>\n",
              "      <td>job_ Protective-serv</td>\n",
              "      <td>-0.012251</td>\n",
              "      <td>424.200041</td>\n",
              "      <td>-2.888028e-05</td>\n",
              "      <td>0.999977</td>\n",
              "      <td>-831.429054</td>\n",
              "      <td>831.404552</td>\n",
              "    </tr>\n",
              "    <tr>\n",
              "      <th>27</th>\n",
              "      <td>job_ Sales</td>\n",
              "      <td>-0.333563</td>\n",
              "      <td>583.227523</td>\n",
              "      <td>-5.719257e-04</td>\n",
              "      <td>0.999544</td>\n",
              "      <td>-1143.438504</td>\n",
              "      <td>1142.771378</td>\n",
              "    </tr>\n",
              "    <tr>\n",
              "      <th>28</th>\n",
              "      <td>job_ Tech-support</td>\n",
              "      <td>-0.468872</td>\n",
              "      <td>429.200849</td>\n",
              "      <td>-1.092431e-03</td>\n",
              "      <td>0.999128</td>\n",
              "      <td>-841.687079</td>\n",
              "      <td>840.749335</td>\n",
              "    </tr>\n",
              "    <tr>\n",
              "      <th>29</th>\n",
              "      <td>job_ Transport-moving</td>\n",
              "      <td>-0.195866</td>\n",
              "      <td>540.167008</td>\n",
              "      <td>-3.626033e-04</td>\n",
              "      <td>0.999711</td>\n",
              "      <td>-1058.903747</td>\n",
              "      <td>1058.512014</td>\n",
              "    </tr>\n",
              "    <tr>\n",
              "      <th>30</th>\n",
              "      <td>schooling_Higher-education</td>\n",
              "      <td>-0.690305</td>\n",
              "      <td>479.907269</td>\n",
              "      <td>-1.438413e-03</td>\n",
              "      <td>0.998852</td>\n",
              "      <td>-941.291267</td>\n",
              "      <td>939.910658</td>\n",
              "    </tr>\n",
              "    <tr>\n",
              "      <th>31</th>\n",
              "      <td>schooling_No-highschool-grad</td>\n",
              "      <td>-2.438602</td>\n",
              "      <td>278.087828</td>\n",
              "      <td>-8.769178e-03</td>\n",
              "      <td>0.993003</td>\n",
              "      <td>-547.480730</td>\n",
              "      <td>542.603527</td>\n",
              "    </tr>\n",
              "    <tr>\n",
              "      <th>32</th>\n",
              "      <td>schooling_Some-college</td>\n",
              "      <td>-3.698834</td>\n",
              "      <td>219.827410</td>\n",
              "      <td>-1.682608e-02</td>\n",
              "      <td>0.986575</td>\n",
              "      <td>-434.552640</td>\n",
              "      <td>427.154972</td>\n",
              "    </tr>\n",
              "    <tr>\n",
              "      <th>33</th>\n",
              "      <td>Married</td>\n",
              "      <td>-3.337139</td>\n",
              "      <td>201.633435</td>\n",
              "      <td>-1.655052e-02</td>\n",
              "      <td>0.986795</td>\n",
              "      <td>-398.531411</td>\n",
              "      <td>391.857132</td>\n",
              "    </tr>\n",
              "    <tr>\n",
              "      <th>34</th>\n",
              "      <td>Never-married</td>\n",
              "      <td>0.533211</td>\n",
              "      <td>330.321330</td>\n",
              "      <td>1.614218e-03</td>\n",
              "      <td>0.998712</td>\n",
              "      <td>-646.884700</td>\n",
              "      <td>647.951122</td>\n",
              "    </tr>\n",
              "    <tr>\n",
              "      <th>35</th>\n",
              "      <td>Not-married</td>\n",
              "      <td>-1.258240</td>\n",
              "      <td>272.111012</td>\n",
              "      <td>-4.623995e-03</td>\n",
              "      <td>0.996311</td>\n",
              "      <td>-534.586023</td>\n",
              "      <td>532.069543</td>\n",
              "    </tr>\n",
              "  </tbody>\n",
              "</table>\n",
              "</div>"
            ],
            "text/plain": [
              "                           names       coef  ...     CI[2.5%]    CI[97.5%]\n",
              "0                      Intercept  -9.474575  ... -1053.722601  1034.773451\n",
              "1                            age  -1.149148  ...  -943.749429   941.451134\n",
              "2                  education-num  -2.180825  ... -1256.608466  1252.246817\n",
              "3                   relationship  -0.586053  ...  -571.280191   570.108085\n",
              "4                           race  -0.520853  ...  -459.875163   458.833458\n",
              "5                            sex  -0.783450  ...  -399.545024   397.978123\n",
              "6                   capital-gain   1.278642  ... -2356.503284  2359.060568\n",
              "7                   capital-loss   0.653371  ... -1431.823980  1433.130723\n",
              "8                 hours-per-week  -1.426605  ... -1221.845498  1218.992288\n",
              "9                 native-country  -0.857208  ...  -437.724093   436.009677\n",
              "10                   worktype_ ?  38.343413  ...  -341.559109   418.245935\n",
              "11             worktype_ Private  -1.634385  ... -4880.170961  4876.902191\n",
              "12         worktype_Gov-employed  -2.790723  ... -1401.241031  1395.659585\n",
              "13        worktype_Self-employed  -2.525465  ... -1426.467148  1421.416218\n",
              "14           worktype_Unemployed  -2.411879  ... -1424.556306  1419.732547\n",
              "15                        job_ ?  -0.112122  ... -1947.984944  1947.760700\n",
              "16             job_ Adm-clerical  -1.658041  ... -5703.099890  5699.783809\n",
              "17             job_ Armed-Forces  -0.573241  ...  -863.107249   861.960767\n",
              "18             job_ Craft-repair  -0.003473  ... -7589.694943  7589.687998\n",
              "19          job_ Exec-managerial  -0.812823  ...  -821.538569   819.912922\n",
              "20          job_ Farming-fishing  -0.123975  ...  -814.086140   813.838190\n",
              "21        job_ Handlers-cleaners  -1.066536  ... -1063.997103  1061.864031\n",
              "22        job_ Machine-op-inspct  -1.088741  ... -1097.058853  1094.881371\n",
              "23            job_ Other-service  -0.917202  ...  -944.310198   942.475795\n",
              "24          job_ Priv-house-serv  -1.255625  ...  -933.158908   930.647659\n",
              "25           job_ Prof-specialty  -0.274061  ... -2145.866137  2145.318014\n",
              "26          job_ Protective-serv  -0.012251  ...  -831.429054   831.404552\n",
              "27                    job_ Sales  -0.333563  ... -1143.438504  1142.771378\n",
              "28             job_ Tech-support  -0.468872  ...  -841.687079   840.749335\n",
              "29         job_ Transport-moving  -0.195866  ... -1058.903747  1058.512014\n",
              "30    schooling_Higher-education  -0.690305  ...  -941.291267   939.910658\n",
              "31  schooling_No-highschool-grad  -2.438602  ...  -547.480730   542.603527\n",
              "32        schooling_Some-college  -3.698834  ...  -434.552640   427.154972\n",
              "33                       Married  -3.337139  ...  -398.531411   391.857132\n",
              "34                 Never-married   0.533211  ...  -646.884700   647.951122\n",
              "35                   Not-married  -1.258240  ...  -534.586023   532.069543\n",
              "\n",
              "[36 rows x 7 columns]"
            ]
          },
          "metadata": {
            "tags": []
          },
          "execution_count": 47
        }
      ]
    },
    {
      "cell_type": "markdown",
      "metadata": {
        "id": "5FZ4VGdRBdtK"
      },
      "source": [
        "Let's remove some of the predictors that have weak coefficients."
      ]
    },
    {
      "cell_type": "code",
      "metadata": {
        "id": "ooRF0weuCCnS"
      },
      "source": [
        "cols_to_remove = ('relationship', 'worktype_ ?', 'worktype_ Private', 'worktype_Gov-employed',\n",
        "       'worktype_Self-employed', 'worktype_Unemployed', 'job_ ?',\n",
        "       'job_ Adm-clerical', 'job_ Armed-Forces', 'job_ Craft-repair',\n",
        "       'job_ Exec-managerial', 'job_ Farming-fishing',\n",
        "       'job_ Handlers-cleaners', 'job_ Machine-op-inspct',\n",
        "       'job_ Other-service', 'job_ Priv-house-serv', 'job_ Prof-specialty',\n",
        "       'job_ Protective-serv', 'job_ Sales', 'job_ Tech-support',\n",
        "       'job_ Transport-moving', 'capital-gain', 'capital-loss')\n",
        "\n",
        "for i in cols_to_remove:\n",
        "  final_cols.remove(i)"
      ],
      "execution_count": null,
      "outputs": []
    },
    {
      "cell_type": "code",
      "metadata": {
        "id": "pgttV3jqCGz4",
        "colab": {
          "base_uri": "https://localhost:8080/",
          "height": 432
        },
        "outputId": "8ba1fef2-9eec-4b41-a79b-a65e99b66edd"
      },
      "source": [
        "pg.logistic_regression(new_df[final_cols], df['income'])"
      ],
      "execution_count": null,
      "outputs": [
        {
          "output_type": "execute_result",
          "data": {
            "text/html": [
              "<div>\n",
              "<style scoped>\n",
              "    .dataframe tbody tr th:only-of-type {\n",
              "        vertical-align: middle;\n",
              "    }\n",
              "\n",
              "    .dataframe tbody tr th {\n",
              "        vertical-align: top;\n",
              "    }\n",
              "\n",
              "    .dataframe thead th {\n",
              "        text-align: right;\n",
              "    }\n",
              "</style>\n",
              "<table border=\"1\" class=\"dataframe\">\n",
              "  <thead>\n",
              "    <tr style=\"text-align: right;\">\n",
              "      <th></th>\n",
              "      <th>names</th>\n",
              "      <th>coef</th>\n",
              "      <th>se</th>\n",
              "      <th>z</th>\n",
              "      <th>pval</th>\n",
              "      <th>CI[2.5%]</th>\n",
              "      <th>CI[97.5%]</th>\n",
              "    </tr>\n",
              "  </thead>\n",
              "  <tbody>\n",
              "    <tr>\n",
              "      <th>0</th>\n",
              "      <td>Intercept</td>\n",
              "      <td>-5.837924</td>\n",
              "      <td>0.098403</td>\n",
              "      <td>-59.326752</td>\n",
              "      <td>0.000000e+00</td>\n",
              "      <td>-6.030791</td>\n",
              "      <td>-5.645058</td>\n",
              "    </tr>\n",
              "    <tr>\n",
              "      <th>1</th>\n",
              "      <td>age</td>\n",
              "      <td>1.792582</td>\n",
              "      <td>0.084976</td>\n",
              "      <td>21.095160</td>\n",
              "      <td>8.810755e-99</td>\n",
              "      <td>1.626032</td>\n",
              "      <td>1.959132</td>\n",
              "    </tr>\n",
              "    <tr>\n",
              "      <th>2</th>\n",
              "      <td>education-num</td>\n",
              "      <td>5.458467</td>\n",
              "      <td>0.140864</td>\n",
              "      <td>38.749937</td>\n",
              "      <td>0.000000e+00</td>\n",
              "      <td>5.182379</td>\n",
              "      <td>5.734555</td>\n",
              "    </tr>\n",
              "    <tr>\n",
              "      <th>3</th>\n",
              "      <td>race</td>\n",
              "      <td>-0.243972</td>\n",
              "      <td>0.043890</td>\n",
              "      <td>-5.558764</td>\n",
              "      <td>2.716915e-08</td>\n",
              "      <td>-0.329995</td>\n",
              "      <td>-0.157950</td>\n",
              "    </tr>\n",
              "    <tr>\n",
              "      <th>4</th>\n",
              "      <td>sex</td>\n",
              "      <td>-0.219387</td>\n",
              "      <td>0.036764</td>\n",
              "      <td>-5.967440</td>\n",
              "      <td>2.410046e-09</td>\n",
              "      <td>-0.291443</td>\n",
              "      <td>-0.147331</td>\n",
              "    </tr>\n",
              "    <tr>\n",
              "      <th>5</th>\n",
              "      <td>hours-per-week</td>\n",
              "      <td>2.991702</td>\n",
              "      <td>0.112178</td>\n",
              "      <td>26.669324</td>\n",
              "      <td>1.068391e-156</td>\n",
              "      <td>2.771838</td>\n",
              "      <td>3.211566</td>\n",
              "    </tr>\n",
              "    <tr>\n",
              "      <th>6</th>\n",
              "      <td>native-country</td>\n",
              "      <td>0.296814</td>\n",
              "      <td>0.048270</td>\n",
              "      <td>6.149000</td>\n",
              "      <td>7.797282e-10</td>\n",
              "      <td>0.202206</td>\n",
              "      <td>0.391422</td>\n",
              "    </tr>\n",
              "    <tr>\n",
              "      <th>7</th>\n",
              "      <td>schooling_Higher-education</td>\n",
              "      <td>-0.177402</td>\n",
              "      <td>0.061680</td>\n",
              "      <td>-2.876174</td>\n",
              "      <td>4.025275e-03</td>\n",
              "      <td>-0.298293</td>\n",
              "      <td>-0.056512</td>\n",
              "    </tr>\n",
              "    <tr>\n",
              "      <th>8</th>\n",
              "      <td>schooling_No-highschool-grad</td>\n",
              "      <td>-1.967305</td>\n",
              "      <td>0.058247</td>\n",
              "      <td>-33.775472</td>\n",
              "      <td>4.520510e-250</td>\n",
              "      <td>-2.081466</td>\n",
              "      <td>-1.853144</td>\n",
              "    </tr>\n",
              "    <tr>\n",
              "      <th>9</th>\n",
              "      <td>schooling_Some-college</td>\n",
              "      <td>-1.876033</td>\n",
              "      <td>0.043679</td>\n",
              "      <td>-42.950064</td>\n",
              "      <td>0.000000e+00</td>\n",
              "      <td>-1.961643</td>\n",
              "      <td>-1.790423</td>\n",
              "    </tr>\n",
              "    <tr>\n",
              "      <th>10</th>\n",
              "      <td>Married</td>\n",
              "      <td>-1.994587</td>\n",
              "      <td>0.034006</td>\n",
              "      <td>-58.654029</td>\n",
              "      <td>0.000000e+00</td>\n",
              "      <td>-2.061237</td>\n",
              "      <td>-1.927936</td>\n",
              "    </tr>\n",
              "    <tr>\n",
              "      <th>11</th>\n",
              "      <td>Never-married</td>\n",
              "      <td>1.993304</td>\n",
              "      <td>0.044169</td>\n",
              "      <td>45.129357</td>\n",
              "      <td>0.000000e+00</td>\n",
              "      <td>1.906735</td>\n",
              "      <td>2.079873</td>\n",
              "    </tr>\n",
              "    <tr>\n",
              "      <th>12</th>\n",
              "      <td>Not-married</td>\n",
              "      <td>-0.434744</td>\n",
              "      <td>0.057341</td>\n",
              "      <td>-7.581751</td>\n",
              "      <td>3.409220e-14</td>\n",
              "      <td>-0.547130</td>\n",
              "      <td>-0.322358</td>\n",
              "    </tr>\n",
              "  </tbody>\n",
              "</table>\n",
              "</div>"
            ],
            "text/plain": [
              "                           names      coef  ...  CI[2.5%]  CI[97.5%]\n",
              "0                      Intercept -5.837924  ... -6.030791  -5.645058\n",
              "1                            age  1.792582  ...  1.626032   1.959132\n",
              "2                  education-num  5.458467  ...  5.182379   5.734555\n",
              "3                           race -0.243972  ... -0.329995  -0.157950\n",
              "4                            sex -0.219387  ... -0.291443  -0.147331\n",
              "5                 hours-per-week  2.991702  ...  2.771838   3.211566\n",
              "6                 native-country  0.296814  ...  0.202206   0.391422\n",
              "7     schooling_Higher-education -0.177402  ... -0.298293  -0.056512\n",
              "8   schooling_No-highschool-grad -1.967305  ... -2.081466  -1.853144\n",
              "9         schooling_Some-college -1.876033  ... -1.961643  -1.790423\n",
              "10                       Married -1.994587  ... -2.061237  -1.927936\n",
              "11                 Never-married  1.993304  ...  1.906735   2.079873\n",
              "12                   Not-married -0.434744  ... -0.547130  -0.322358\n",
              "\n",
              "[13 rows x 7 columns]"
            ]
          },
          "metadata": {
            "tags": []
          },
          "execution_count": 49
        }
      ]
    },
    {
      "cell_type": "markdown",
      "metadata": {
        "id": "HjojXOOLCIR6"
      },
      "source": [
        "From here we can see that the years of education, the hours per week, the type of schooling you have, and whether you are married can determine your salary. Let's remove some more."
      ]
    },
    {
      "cell_type": "code",
      "metadata": {
        "id": "JUDJtjDxCWx-"
      },
      "source": [
        "cols_to_remove2 = ('Not-married', 'race', 'sex', 'native-country', 'schooling_Higher-education', 'schooling_Some-college')\n",
        "for i in cols_to_remove2:\n",
        "  final_cols.remove(i)"
      ],
      "execution_count": null,
      "outputs": []
    },
    {
      "cell_type": "code",
      "metadata": {
        "id": "Lb24EG6YCwPe",
        "colab": {
          "base_uri": "https://localhost:8080/",
          "height": 254
        },
        "outputId": "c2bb1d05-8899-4ffb-9fec-8dcc19479321"
      },
      "source": [
        "pg.logistic_regression(new_df[final_cols], df['income'])"
      ],
      "execution_count": null,
      "outputs": [
        {
          "output_type": "execute_result",
          "data": {
            "text/html": [
              "<div>\n",
              "<style scoped>\n",
              "    .dataframe tbody tr th:only-of-type {\n",
              "        vertical-align: middle;\n",
              "    }\n",
              "\n",
              "    .dataframe tbody tr th {\n",
              "        vertical-align: top;\n",
              "    }\n",
              "\n",
              "    .dataframe thead th {\n",
              "        text-align: right;\n",
              "    }\n",
              "</style>\n",
              "<table border=\"1\" class=\"dataframe\">\n",
              "  <thead>\n",
              "    <tr style=\"text-align: right;\">\n",
              "      <th></th>\n",
              "      <th>names</th>\n",
              "      <th>coef</th>\n",
              "      <th>se</th>\n",
              "      <th>z</th>\n",
              "      <th>pval</th>\n",
              "      <th>CI[2.5%]</th>\n",
              "      <th>CI[97.5%]</th>\n",
              "    </tr>\n",
              "  </thead>\n",
              "  <tbody>\n",
              "    <tr>\n",
              "      <th>0</th>\n",
              "      <td>Intercept</td>\n",
              "      <td>-8.026811</td>\n",
              "      <td>0.108876</td>\n",
              "      <td>-73.724159</td>\n",
              "      <td>0.000000e+00</td>\n",
              "      <td>-8.240205</td>\n",
              "      <td>-7.813417</td>\n",
              "    </tr>\n",
              "    <tr>\n",
              "      <th>1</th>\n",
              "      <td>age</td>\n",
              "      <td>2.042665</td>\n",
              "      <td>0.081131</td>\n",
              "      <td>25.177370</td>\n",
              "      <td>7.089618e-140</td>\n",
              "      <td>1.883651</td>\n",
              "      <td>2.201679</td>\n",
              "    </tr>\n",
              "    <tr>\n",
              "      <th>2</th>\n",
              "      <td>education-num</td>\n",
              "      <td>5.520160</td>\n",
              "      <td>0.139450</td>\n",
              "      <td>39.585204</td>\n",
              "      <td>0.000000e+00</td>\n",
              "      <td>5.246843</td>\n",
              "      <td>5.793477</td>\n",
              "    </tr>\n",
              "    <tr>\n",
              "      <th>3</th>\n",
              "      <td>hours-per-week</td>\n",
              "      <td>3.176400</td>\n",
              "      <td>0.109841</td>\n",
              "      <td>28.918256</td>\n",
              "      <td>7.038733e-184</td>\n",
              "      <td>2.961117</td>\n",
              "      <td>3.391684</td>\n",
              "    </tr>\n",
              "    <tr>\n",
              "      <th>4</th>\n",
              "      <td>schooling_No-highschool-grad</td>\n",
              "      <td>-0.095282</td>\n",
              "      <td>0.069893</td>\n",
              "      <td>-1.363261</td>\n",
              "      <td>1.728004e-01</td>\n",
              "      <td>-0.232269</td>\n",
              "      <td>0.041705</td>\n",
              "    </tr>\n",
              "    <tr>\n",
              "      <th>5</th>\n",
              "      <td>Married</td>\n",
              "      <td>-0.088240</td>\n",
              "      <td>0.051979</td>\n",
              "      <td>-1.697608</td>\n",
              "      <td>8.958182e-02</td>\n",
              "      <td>-0.190118</td>\n",
              "      <td>0.013637</td>\n",
              "    </tr>\n",
              "    <tr>\n",
              "      <th>6</th>\n",
              "      <td>Never-married</td>\n",
              "      <td>2.274957</td>\n",
              "      <td>0.032181</td>\n",
              "      <td>70.692891</td>\n",
              "      <td>0.000000e+00</td>\n",
              "      <td>2.211884</td>\n",
              "      <td>2.338031</td>\n",
              "    </tr>\n",
              "  </tbody>\n",
              "</table>\n",
              "</div>"
            ],
            "text/plain": [
              "                          names      coef  ...  CI[2.5%]  CI[97.5%]\n",
              "0                     Intercept -8.026811  ... -8.240205  -7.813417\n",
              "1                           age  2.042665  ...  1.883651   2.201679\n",
              "2                 education-num  5.520160  ...  5.246843   5.793477\n",
              "3                hours-per-week  3.176400  ...  2.961117   3.391684\n",
              "4  schooling_No-highschool-grad -0.095282  ... -0.232269   0.041705\n",
              "5                       Married -0.088240  ... -0.190118   0.013637\n",
              "6                 Never-married  2.274957  ...  2.211884   2.338031\n",
              "\n",
              "[7 rows x 7 columns]"
            ]
          },
          "metadata": {
            "tags": []
          },
          "execution_count": 51
        }
      ]
    },
    {
      "cell_type": "markdown",
      "metadata": {
        "id": "SgH2h0IRDQnp"
      },
      "source": [
        "With 6 attriubutes, the accuracy is around .86"
      ]
    },
    {
      "cell_type": "code",
      "metadata": {
        "id": "cXZoK6U9lvoe"
      },
      "source": [
        ""
      ],
      "execution_count": null,
      "outputs": []
    },
    {
      "cell_type": "code",
      "metadata": {
        "id": "1KzTKI5wFTAo",
        "colab": {
          "base_uri": "https://localhost:8080/",
          "height": 254
        },
        "outputId": "47464e16-fc86-4497-c84a-fc6502187bcd"
      },
      "source": [
        "pg.logistic_regression(new_df[final_cols], df['income'])"
      ],
      "execution_count": null,
      "outputs": [
        {
          "output_type": "execute_result",
          "data": {
            "text/html": [
              "<div>\n",
              "<style scoped>\n",
              "    .dataframe tbody tr th:only-of-type {\n",
              "        vertical-align: middle;\n",
              "    }\n",
              "\n",
              "    .dataframe tbody tr th {\n",
              "        vertical-align: top;\n",
              "    }\n",
              "\n",
              "    .dataframe thead th {\n",
              "        text-align: right;\n",
              "    }\n",
              "</style>\n",
              "<table border=\"1\" class=\"dataframe\">\n",
              "  <thead>\n",
              "    <tr style=\"text-align: right;\">\n",
              "      <th></th>\n",
              "      <th>names</th>\n",
              "      <th>coef</th>\n",
              "      <th>se</th>\n",
              "      <th>z</th>\n",
              "      <th>pval</th>\n",
              "      <th>CI[2.5%]</th>\n",
              "      <th>CI[97.5%]</th>\n",
              "    </tr>\n",
              "  </thead>\n",
              "  <tbody>\n",
              "    <tr>\n",
              "      <th>0</th>\n",
              "      <td>Intercept</td>\n",
              "      <td>-8.026811</td>\n",
              "      <td>0.108876</td>\n",
              "      <td>-73.724159</td>\n",
              "      <td>0.000000e+00</td>\n",
              "      <td>-8.240205</td>\n",
              "      <td>-7.813417</td>\n",
              "    </tr>\n",
              "    <tr>\n",
              "      <th>1</th>\n",
              "      <td>age</td>\n",
              "      <td>2.042665</td>\n",
              "      <td>0.081131</td>\n",
              "      <td>25.177370</td>\n",
              "      <td>7.089618e-140</td>\n",
              "      <td>1.883651</td>\n",
              "      <td>2.201679</td>\n",
              "    </tr>\n",
              "    <tr>\n",
              "      <th>2</th>\n",
              "      <td>education-num</td>\n",
              "      <td>5.520160</td>\n",
              "      <td>0.139450</td>\n",
              "      <td>39.585204</td>\n",
              "      <td>0.000000e+00</td>\n",
              "      <td>5.246843</td>\n",
              "      <td>5.793477</td>\n",
              "    </tr>\n",
              "    <tr>\n",
              "      <th>3</th>\n",
              "      <td>hours-per-week</td>\n",
              "      <td>3.176400</td>\n",
              "      <td>0.109841</td>\n",
              "      <td>28.918256</td>\n",
              "      <td>7.038733e-184</td>\n",
              "      <td>2.961117</td>\n",
              "      <td>3.391684</td>\n",
              "    </tr>\n",
              "    <tr>\n",
              "      <th>4</th>\n",
              "      <td>schooling_No-highschool-grad</td>\n",
              "      <td>-0.095282</td>\n",
              "      <td>0.069893</td>\n",
              "      <td>-1.363261</td>\n",
              "      <td>1.728004e-01</td>\n",
              "      <td>-0.232269</td>\n",
              "      <td>0.041705</td>\n",
              "    </tr>\n",
              "    <tr>\n",
              "      <th>5</th>\n",
              "      <td>Married</td>\n",
              "      <td>-0.088240</td>\n",
              "      <td>0.051979</td>\n",
              "      <td>-1.697608</td>\n",
              "      <td>8.958182e-02</td>\n",
              "      <td>-0.190118</td>\n",
              "      <td>0.013637</td>\n",
              "    </tr>\n",
              "    <tr>\n",
              "      <th>6</th>\n",
              "      <td>Never-married</td>\n",
              "      <td>2.274957</td>\n",
              "      <td>0.032181</td>\n",
              "      <td>70.692891</td>\n",
              "      <td>0.000000e+00</td>\n",
              "      <td>2.211884</td>\n",
              "      <td>2.338031</td>\n",
              "    </tr>\n",
              "  </tbody>\n",
              "</table>\n",
              "</div>"
            ],
            "text/plain": [
              "                          names      coef  ...  CI[2.5%]  CI[97.5%]\n",
              "0                     Intercept -8.026811  ... -8.240205  -7.813417\n",
              "1                           age  2.042665  ...  1.883651   2.201679\n",
              "2                 education-num  5.520160  ...  5.246843   5.793477\n",
              "3                hours-per-week  3.176400  ...  2.961117   3.391684\n",
              "4  schooling_No-highschool-grad -0.095282  ... -0.232269   0.041705\n",
              "5                       Married -0.088240  ... -0.190118   0.013637\n",
              "6                 Never-married  2.274957  ...  2.211884   2.338031\n",
              "\n",
              "[7 rows x 7 columns]"
            ]
          },
          "metadata": {
            "tags": []
          },
          "execution_count": 52
        }
      ]
    },
    {
      "cell_type": "markdown",
      "metadata": {
        "id": "CJ3Shy34l0Mv"
      },
      "source": [
        "Use Logistic Regression example from Dr. Sheese."
      ]
    },
    {
      "cell_type": "code",
      "metadata": {
        "id": "6WqMqhTstJOl",
        "colab": {
          "base_uri": "https://localhost:8080/",
          "height": 470
        },
        "outputId": "51f57aae-02b0-4e01-da22-8e7f3ca08db5"
      },
      "source": [
        "X = new_df[final_cols]  # get every item in list except for last which is income\n",
        "y = new_df['income']\n",
        "\n",
        "# using the train_test_split method to create testing and training datasets\n",
        "X_train, X_test, y_train, y_test = train_test_split(X, y, test_size=0.25)\n",
        "\n",
        "# create and fit the model\n",
        "logmodel = LogisticRegression(max_iter=4000, class_weight = 'balanced').fit(X_train, y_train)\n",
        "\n",
        "# create parameter estimates\n",
        "loglist = logmodel.coef_.tolist()[0]\n",
        "print(loglist)\n",
        "parameter_estimates = list(zip(X.columns, loglist))\n",
        "\n",
        "#create predictions\n",
        "predictions = logmodel.predict(X_test)\n",
        "\n",
        "# examine results\n",
        "print_model_reports(logmodel, predictions, y_test, 'below or eqaul to 50k', 'above 50k',\n",
        "                    parameter_report = False,\n",
        "                    odds_ratio_report = False)"
      ],
      "execution_count": null,
      "outputs": [
        {
          "output_type": "stream",
          "text": [
            "[10.044439401212607, -0.6805018889377564, 1.4051902156197171, -0.4113619358672329, 0.3010749649316462, -10.460543761038348]\n",
            "Prediction accuracy:  0.8666245829200108\n",
            "The y-intercept of our model is -1.9514\n",
            "\n",
            "\n",
            "Classification Report:\n",
            "\n",
            "              precision    recall  f1-score   support\n",
            "\n",
            "           0       0.98      0.85      0.91      8776\n",
            "           1       0.62      0.92      0.74      2313\n",
            "\n",
            "    accuracy                           0.87     11089\n",
            "   macro avg       0.80      0.89      0.83     11089\n",
            "weighted avg       0.90      0.87      0.88     11089\n",
            "\n",
            "\n",
            "Confusion Matrix:\n",
            "\n",
            "\tOur logistic regression model predicted the following when applied to the test data:\n",
            "\n",
            "\tIt correctly predicted 7473 of 8776 below or eqaul to 50k, \n",
            "           but incorrectly predicted 1303 below or eqaul to 50k that did not occur.\n",
            "\n",
            "\tIt correctly predicted 2137 of 2313 above 50k, \n",
            "           but incorrectly predicted 176 above 50k that did not occur.\n",
            "\n"
          ],
          "name": "stdout"
        }
      ]
    },
    {
      "cell_type": "code",
      "metadata": {
        "id": "s1HhpBps_qrt",
        "colab": {
          "base_uri": "https://localhost:8080/",
          "height": 34
        },
        "outputId": "39dd213d-6b70-4eca-975c-b87ec93a69ee"
      },
      "source": [
        "type(X_train)"
      ],
      "execution_count": null,
      "outputs": [
        {
          "output_type": "execute_result",
          "data": {
            "text/plain": [
              "pandas.core.frame.DataFrame"
            ]
          },
          "metadata": {
            "tags": []
          },
          "execution_count": 54
        }
      ]
    },
    {
      "cell_type": "code",
      "metadata": {
        "id": "pnxsvRnw_6ej",
        "colab": {
          "base_uri": "https://localhost:8080/",
          "height": 34
        },
        "outputId": "5b18b38d-a09b-4ebd-daa7-0663140c43e2"
      },
      "source": [
        "type(y_train)"
      ],
      "execution_count": null,
      "outputs": [
        {
          "output_type": "execute_result",
          "data": {
            "text/plain": [
              "pandas.core.series.Series"
            ]
          },
          "metadata": {
            "tags": []
          },
          "execution_count": 55
        }
      ]
    },
    {
      "cell_type": "code",
      "metadata": {
        "id": "T98Aa9ryNpr3",
        "colab": {
          "base_uri": "https://localhost:8080/",
          "height": 295
        },
        "outputId": "961a40cd-d016-4b52-8023-0a76b588a637"
      },
      "source": [
        "sns.barplot(x=new_df['sex'],\n",
        "            y=new_df['income'],\n",
        "            data=new_df)\n",
        "\n",
        "plt.title('Ratio of Males to Females with Income')\n",
        "plt.show()"
      ],
      "execution_count": null,
      "outputs": [
        {
          "output_type": "display_data",
          "data": {
            "image/png": "[encoded data removed]",
            "text/plain": [
              "<Figure size 432x288 with 1 Axes>"
            ]
          },
          "metadata": {
            "tags": [],
            "needs_background": "light"
          }
        }
      ]
    },
    {
      "cell_type": "code",
      "metadata": {
        "id": "tOkKSzoDQTIf",
        "colab": {
          "base_uri": "https://localhost:8080/",
          "height": 349
        },
        "outputId": "c5dcbc53-6992-4aa6-ca12-e14451710af4"
      },
      "source": [
        "fig = sns.distplot(df['age'], kde=False, bins=10)\n",
        "plt.title('Age Distribution of Dataset')\n",
        "plt.show()"
      ],
      "execution_count": null,
      "outputs": [
        {
          "output_type": "stream",
          "text": [
            "/usr/local/lib/python3.6/dist-packages/seaborn/distributions.py:2551: FutureWarning: `distplot` is a deprecated function and will be removed in a future version. Please adapt your code to use either `displot` (a figure-level function with similar flexibility) or `histplot` (an axes-level function for histograms).\n",
            "  warnings.warn(msg, FutureWarning)\n"
          ],
          "name": "stderr"
        },
        {
          "output_type": "display_data",
          "data": {
            "image/png": "[encoded data removed]",
            "text/plain": [
              "<Figure size 432x288 with 1 Axes>"
            ]
          },
          "metadata": {
            "tags": [],
            "needs_background": "light"
          }
        }
      ]
    },
    {
      "cell_type": "code",
      "metadata": {
        "id": "Rihka7duVUQx",
        "colab": {
          "base_uri": "https://localhost:8080/",
          "height": 366
        },
        "outputId": "a4dc8601-641f-40fb-ffc9-51825f5c6f33"
      },
      "source": [
        "fig = sns.distplot(df['education-num'], kde=False, bins=10)\n",
        "plt.title('Education Distribution of Dataset')\n",
        "print(0.6063397587642734 * 16)\n",
        "plt.show()\n"
      ],
      "execution_count": null,
      "outputs": [
        {
          "output_type": "stream",
          "text": [
            "9.701436140228374\n"
          ],
          "name": "stdout"
        },
        {
          "output_type": "stream",
          "text": [
            "/usr/local/lib/python3.6/dist-packages/seaborn/distributions.py:2551: FutureWarning: `distplot` is a deprecated function and will be removed in a future version. Please adapt your code to use either `displot` (a figure-level function with similar flexibility) or `histplot` (an axes-level function for histograms).\n",
            "  warnings.warn(msg, FutureWarning)\n"
          ],
          "name": "stderr"
        },
        {
          "output_type": "display_data",
          "data": {
            "image/png": "[encoded data removed]",
            "text/plain": [
              "<Figure size 432x288 with 1 Axes>"
            ]
          },
          "metadata": {
            "tags": [],
            "needs_background": "light"
          }
        }
      ]
    },
    {
      "cell_type": "code",
      "metadata": {
        "id": "IwwUJ2rhX1VD",
        "colab": {
          "base_uri": "https://localhost:8080/",
          "height": 34
        },
        "outputId": "0c89231d-4b54-48b0-87c3-dd71864503dc"
      },
      "source": [
        "df['education-num'].mean()"
      ],
      "execution_count": null,
      "outputs": [
        {
          "output_type": "execute_result",
          "data": {
            "text/plain": [
              "0.6063397587642734"
            ]
          },
          "metadata": {
            "tags": []
          },
          "execution_count": 59
        }
      ]
    },
    {
      "cell_type": "code",
      "metadata": {
        "id": "qrWnLwxmYLie",
        "colab": {
          "base_uri": "https://localhost:8080/",
          "height": 34
        },
        "outputId": "173550f9-6184-41bf-b3d9-dc33d1535665"
      },
      "source": [
        "df['hours-per-week'].mean()"
      ],
      "execution_count": null,
      "outputs": [
        {
          "output_type": "execute_result",
          "data": {
            "text/plain": [
              "0.40398523968268385"
            ]
          },
          "metadata": {
            "tags": []
          },
          "execution_count": 60
        }
      ]
    },
    {
      "cell_type": "code",
      "metadata": {
        "id": "H9dAVLeCYJjw",
        "colab": {
          "base_uri": "https://localhost:8080/",
          "height": 366
        },
        "outputId": "c3666ea6-fb06-4b98-862f-0ce68ae46fde"
      },
      "source": [
        "fig = sns.distplot(df['hours-per-week'], kde=False, bins=10)\n",
        "plt.title('Hours Worked Distribution of Dataset')\n",
        "print(99 * 0.40398523968268385)\n",
        "plt.show()"
      ],
      "execution_count": null,
      "outputs": [
        {
          "output_type": "stream",
          "text": [
            "/usr/local/lib/python3.6/dist-packages/seaborn/distributions.py:2551: FutureWarning: `distplot` is a deprecated function and will be removed in a future version. Please adapt your code to use either `displot` (a figure-level function with similar flexibility) or `histplot` (an axes-level function for histograms).\n",
            "  warnings.warn(msg, FutureWarning)\n"
          ],
          "name": "stderr"
        },
        {
          "output_type": "stream",
          "text": [
            "39.9945387285857\n"
          ],
          "name": "stdout"
        },
        {
          "output_type": "display_data",
          "data": {
            "image/png": "[encoded data removed]",
            "text/plain": [
              "<Figure size 432x288 with 1 Axes>"
            ]
          },
          "metadata": {
            "tags": [],
            "needs_background": "light"
          }
        }
      ]
    },
    {
      "cell_type": "code",
      "metadata": {
        "id": "8bPSjtQ9lm18",
        "cellView": "form",
        "colab": {
          "base_uri": "https://localhost:8080/",
          "height": 729,
          "referenced_widgets": [
            "05ea0af4b64b432a965e4ddeb1e74bbd",
            "ffce88743a334cee95fb83e04943e3b8",
            "851a30e6a6834e0c828239929be2eab8",
            "fe7b1babdb8446a8ae5b9d84edf3785a",
            "129d5e2861ad40e28b79265cba176298",
            "f41759f687784413a3fed4651d6914f8",
            "0340df33e9864fe89fc9007aa2f64de3",
            "3e217a40f7364dd79f67df48a2ecf539",
            "4226078dfa954f5eb90d661982f21c49",
            "1addfde38cca4bd5a8efcb3ccc8ec449",
            "620bd812a6aa4bc58ef64050078d01e2",
            "caa00ef9ec5641aea3fed84b81a8df7d",
            "82745dbcf2f64d9fb861c96e27a2edf5",
            "389f68308e604d899b540a00d9836c62",
            "bdd8c6ab458b454f95242b6413371d3a",
            "4f7051bdaadd4345808375455754a444",
            "d267c67490b04ea3a9e5ea06d836ace5",
            "9438a8632eaa4ccf8508ffd67a3e8c4f",
            "76cc9684012c4ad4a38fdc373288e15e",
            "f94fe4ef16b04e2a96c538cbca859952",
            "2a8204087d234dc7ab47fa1f62aa1cbd",
            "1d8839f62b2646ecb136856f7048bb07",
            "92d577047f1d4c5698d7235afcc7e750",
            "e0875db372fb4a6ba18bc546817e2f34",
            "ba277d2c31e640f7be70f06e7118c13c",
            "3873c6e5bc1b49e7b3f82227e4882fd1",
            "cbcb0c4c287f4a1eb283124cdac631cd"
          ]
        },
        "outputId": "7a063a70-4507-49f6-d6e0-499d5aee5f62"
      },
      "source": [
        "#@title Completed the exercise? \n",
        "#@markdown Click on the arrow to the left to create the response form.\n",
        "\n",
        "import sys\n",
        "if 'exercise_report_response' not in sys.modules:\n",
        "  print('Please execute the \"Getting Started\" cell at the beginning of this exercise, then rerun this cell.')\n",
        "else:\n",
        "  exercise_report_response.display_form(exercise_report_response.er_question_list)"
      ],
      "execution_count": null,
      "outputs": [
        {
          "output_type": "stream",
          "text": [
            "If this form does not display correctly in Colab, select \"Runttime\" from the menu at the top, then select \"Restart and run all\"\n",
            "Your first name:\n"
          ],
          "name": "stdout"
        },
        {
          "output_type": "display_data",
          "data": {
            "text/html": [
              "<link rel=\"stylesheet\" href=\"https://stackpath.bootstrapcdn.com/font-awesome/4.7.0/css/font-awesome.min.css\"> "
            ],
            "text/plain": [
              "<IPython.core.display.HTML object>"
            ]
          },
          "metadata": {
            "tags": []
          }
        },
        {
          "output_type": "display_data",
          "data": {
            "application/vnd.jupyter.widget-view+json": {
              "model_id": "05ea0af4b64b432a965e4ddeb1e74bbd",
              "version_minor": 0,
              "version_major": 2
            },
            "text/plain": [
              "Text(value='', placeholder='Enter your first name here')"
            ]
          },
          "metadata": {
            "tags": []
          }
        },
        {
          "output_type": "stream",
          "text": [
            "\n",
            "Your last name:\n"
          ],
          "name": "stdout"
        },
        {
          "output_type": "display_data",
          "data": {
            "text/html": [
              "<link rel=\"stylesheet\" href=\"https://stackpath.bootstrapcdn.com/font-awesome/4.7.0/css/font-awesome.min.css\"> "
            ],
            "text/plain": [
              "<IPython.core.display.HTML object>"
            ]
          },
          "metadata": {
            "tags": []
          }
        },
        {
          "output_type": "display_data",
          "data": {
            "application/vnd.jupyter.widget-view+json": {
              "model_id": "fe7b1babdb8446a8ae5b9d84edf3785a",
              "version_minor": 0,
              "version_major": 2
            },
            "text/plain": [
              "Text(value='', placeholder='Enter your last name here')"
            ]
          },
          "metadata": {
            "tags": []
          }
        },
        {
          "output_type": "stream",
          "text": [
            "\n",
            "How difficult was the exercise?\n"
          ],
          "name": "stdout"
        },
        {
          "output_type": "display_data",
          "data": {
            "text/html": [
              "<link rel=\"stylesheet\" href=\"https://stackpath.bootstrapcdn.com/font-awesome/4.7.0/css/font-awesome.min.css\"> "
            ],
            "text/plain": [
              "<IPython.core.display.HTML object>"
            ]
          },
          "metadata": {
            "tags": []
          }
        },
        {
          "output_type": "display_data",
          "data": {
            "application/vnd.jupyter.widget-view+json": {
              "model_id": "0340df33e9864fe89fc9007aa2f64de3",
              "version_minor": 0,
              "version_major": 2
            },
            "text/plain": [
              "ToggleButtons(button_style='warning', index=2, options=('Very Easy', 'Somewhat Easy', 'Neutral', 'Somewhat Dif…"
            ]
          },
          "metadata": {
            "tags": []
          }
        },
        {
          "output_type": "stream",
          "text": [
            "\n",
            "How long did it take you to complete the exercise?\n"
          ],
          "name": "stdout"
        },
        {
          "output_type": "display_data",
          "data": {
            "text/html": [
              "<link rel=\"stylesheet\" href=\"https://stackpath.bootstrapcdn.com/font-awesome/4.7.0/css/font-awesome.min.css\"> "
            ],
            "text/plain": [
              "<IPython.core.display.HTML object>"
            ]
          },
          "metadata": {
            "tags": []
          }
        },
        {
          "output_type": "display_data",
          "data": {
            "application/vnd.jupyter.widget-view+json": {
              "model_id": "1addfde38cca4bd5a8efcb3ccc8ec449",
              "version_minor": 0,
              "version_major": 2
            },
            "text/plain": [
              "ToggleButtons(button_style='warning', index=2, options=('30 min or less', '31-60 min', '61-90 min', '91-120 mi…"
            ]
          },
          "metadata": {
            "tags": []
          }
        },
        {
          "output_type": "stream",
          "text": [
            "\n",
            "What tools (or concepts) used in this exercise do you feel confident with?\n"
          ],
          "name": "stdout"
        },
        {
          "output_type": "display_data",
          "data": {
            "text/html": [
              "<link rel=\"stylesheet\" href=\"https://stackpath.bootstrapcdn.com/font-awesome/4.7.0/css/font-awesome.min.css\"> "
            ],
            "text/plain": [
              "<IPython.core.display.HTML object>"
            ]
          },
          "metadata": {
            "tags": []
          }
        },
        {
          "output_type": "display_data",
          "data": {
            "application/vnd.jupyter.widget-view+json": {
              "model_id": "82745dbcf2f64d9fb861c96e27a2edf5",
              "version_minor": 0,
              "version_major": 2
            },
            "text/plain": [
              "Textarea(value='', placeholder='Enter your response here')"
            ]
          },
          "metadata": {
            "tags": []
          }
        },
        {
          "output_type": "stream",
          "text": [
            "\n",
            "What tools (or concepts) do you still need practice with?\n"
          ],
          "name": "stdout"
        },
        {
          "output_type": "display_data",
          "data": {
            "text/html": [
              "<link rel=\"stylesheet\" href=\"https://stackpath.bootstrapcdn.com/font-awesome/4.7.0/css/font-awesome.min.css\"> "
            ],
            "text/plain": [
              "<IPython.core.display.HTML object>"
            ]
          },
          "metadata": {
            "tags": []
          }
        },
        {
          "output_type": "display_data",
          "data": {
            "application/vnd.jupyter.widget-view+json": {
              "model_id": "4f7051bdaadd4345808375455754a444",
              "version_minor": 0,
              "version_major": 2
            },
            "text/plain": [
              "Textarea(value='', placeholder='Enter your response here')"
            ]
          },
          "metadata": {
            "tags": []
          }
        },
        {
          "output_type": "stream",
          "text": [
            "\n",
            "What suggestions do you have for improving the exercise?\n"
          ],
          "name": "stdout"
        },
        {
          "output_type": "display_data",
          "data": {
            "text/html": [
              "<link rel=\"stylesheet\" href=\"https://stackpath.bootstrapcdn.com/font-awesome/4.7.0/css/font-awesome.min.css\"> "
            ],
            "text/plain": [
              "<IPython.core.display.HTML object>"
            ]
          },
          "metadata": {
            "tags": []
          }
        },
        {
          "output_type": "display_data",
          "data": {
            "application/vnd.jupyter.widget-view+json": {
              "model_id": "76cc9684012c4ad4a38fdc373288e15e",
              "version_minor": 0,
              "version_major": 2
            },
            "text/plain": [
              "Textarea(value='', placeholder='Enter your response here')"
            ]
          },
          "metadata": {
            "tags": []
          }
        },
        {
          "output_type": "stream",
          "text": [
            "\n",
            "What corrections should be made (typos. etc)?\n"
          ],
          "name": "stdout"
        },
        {
          "output_type": "display_data",
          "data": {
            "text/html": [
              "<link rel=\"stylesheet\" href=\"https://stackpath.bootstrapcdn.com/font-awesome/4.7.0/css/font-awesome.min.css\"> "
            ],
            "text/plain": [
              "<IPython.core.display.HTML object>"
            ]
          },
          "metadata": {
            "tags": []
          }
        },
        {
          "output_type": "display_data",
          "data": {
            "application/vnd.jupyter.widget-view+json": {
              "model_id": "1d8839f62b2646ecb136856f7048bb07",
              "version_minor": 0,
              "version_major": 2
            },
            "text/plain": [
              "Textarea(value='', placeholder='Enter your response here')"
            ]
          },
          "metadata": {
            "tags": []
          }
        },
        {
          "output_type": "stream",
          "text": [
            "\n",
            "Share your notebook.\n",
            "Select 'Share' at the top of the screen. Then select 'Get Link'.\n",
            "Change the Link so anyone can view it.\n",
            "Click 'Copy Link', then 'Done'. Paste the link here.\n"
          ],
          "name": "stdout"
        },
        {
          "output_type": "display_data",
          "data": {
            "text/html": [
              "<link rel=\"stylesheet\" href=\"https://stackpath.bootstrapcdn.com/font-awesome/4.7.0/css/font-awesome.min.css\"> "
            ],
            "text/plain": [
              "<IPython.core.display.HTML object>"
            ]
          },
          "metadata": {
            "tags": []
          }
        },
        {
          "output_type": "display_data",
          "data": {
            "application/vnd.jupyter.widget-view+json": {
              "model_id": "ba277d2c31e640f7be70f06e7118c13c",
              "version_minor": 0,
              "version_major": 2
            },
            "text/plain": [
              "Textarea(value='', placeholder='Enter your response here')"
            ]
          },
          "metadata": {
            "tags": []
          }
        },
        {
          "output_type": "stream",
          "text": [
            "\n"
          ],
          "name": "stdout"
        }
      ]
    },
    {
      "cell_type": "code",
      "metadata": {
        "id": "8uRWMjCknPLh"
      },
      "source": [
        ""
      ],
      "execution_count": null,
      "outputs": []
    },
    {
      "cell_type": "code",
      "metadata": {
        "id": "YW3iU6hsltxq",
        "cellView": "form",
        "colab": {
          "base_uri": "https://localhost:8080/",
          "height": 34
        },
        "outputId": "2ce4dace-9fb0-4af5-8893-2b57593fc87c"
      },
      "source": [
        "#@title Ready to Submit?\n",
        "#@markdown If you have completed the exercise and the exercise response:\n",
        "#@markdown * check the box 'Ready' box below \n",
        "#@markdown * execute this cell\n",
        "\n",
        "Ready = True #@param {type:\"boolean\"}\n",
        "\n",
        "try:\n",
        "  if Ready == True:\n",
        "    exercise_report_response.submit_exercise_response(exercise_name, exercise_report_response.er_question_list)\n",
        "\n",
        "  else:\n",
        "    print('NOT SUBMITTED!!!')\n",
        "    print('Check the ready box if you are ready to submit your response.')\n",
        "\n",
        "except:\n",
        "  print('NOT SUBMITTED!!!')\n",
        "  print('Execute the cell above to create the form.')"
      ],
      "execution_count": null,
      "outputs": [
        {
          "output_type": "stream",
          "text": [
            "Please enter your first and last name in the form above and then rerun this cell.\n"
          ],
          "name": "stdout"
        }
      ]
    }
  ]
}