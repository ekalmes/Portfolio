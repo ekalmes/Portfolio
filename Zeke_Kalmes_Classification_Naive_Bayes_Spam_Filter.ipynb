{
  "nbformat": 4,
  "nbformat_minor": 0,
  "metadata": {
    "colab": {
      "name": "Zeke Kalmes_Classification - Naive Bayes Spam Filter.ipynb",
      "provenance": [],
      "collapsed_sections": [],
      "toc_visible": true,
      "include_colab_link": true
    },
    "kernelspec": {
      "name": "python3",
      "display_name": "Python 3"
    },
    "widgets": {
      "application/vnd.jupyter.widget-state+json": {
        "97fc142d866b4cb18268a48bdece449f": {
          "model_module": "@jupyter-widgets/controls",
          "model_name": "TextModel",
          "state": {
            "_view_name": "TextView",
            "style": "IPY_MODEL_2dbc3d7583f242d180e6c17781d915ad",
            "_dom_classes": [],
            "description": "",
            "_model_name": "TextModel",
            "placeholder": "Enter your first name here",
            "_view_module": "@jupyter-widgets/controls",
            "_model_module_version": "1.5.0",
            "value": "Zeke",
            "_view_count": null,
            "disabled": false,
            "_view_module_version": "1.5.0",
            "continuous_update": true,
            "description_tooltip": null,
            "_model_module": "@jupyter-widgets/controls",
            "layout": "IPY_MODEL_f52b586f1f8342d9b4524a3a89733b91"
          },
          "model_module_version": "1.5.0"
        },
        "2dbc3d7583f242d180e6c17781d915ad": {
          "model_module": "@jupyter-widgets/controls",
          "model_name": "DescriptionStyleModel",
          "state": {
            "_view_name": "StyleView",
            "_model_name": "DescriptionStyleModel",
            "description_width": "",
            "_view_module": "@jupyter-widgets/base",
            "_model_module_version": "1.5.0",
            "_view_count": null,
            "_view_module_version": "1.2.0",
            "_model_module": "@jupyter-widgets/controls"
          },
          "model_module_version": "1.5.0"
        },
        "f52b586f1f8342d9b4524a3a89733b91": {
          "model_module": "@jupyter-widgets/base",
          "model_name": "LayoutModel",
          "state": {
            "_view_name": "LayoutView",
            "grid_template_rows": null,
            "right": null,
            "justify_content": null,
            "_view_module": "@jupyter-widgets/base",
            "overflow": null,
            "_model_module_version": "1.2.0",
            "_view_count": null,
            "flex_flow": null,
            "width": null,
            "min_width": null,
            "border": null,
            "align_items": null,
            "bottom": null,
            "_model_module": "@jupyter-widgets/base",
            "top": null,
            "grid_column": null,
            "overflow_y": null,
            "overflow_x": null,
            "grid_auto_flow": null,
            "grid_area": null,
            "grid_template_columns": null,
            "flex": null,
            "_model_name": "LayoutModel",
            "justify_items": null,
            "grid_row": null,
            "max_height": null,
            "align_content": null,
            "visibility": null,
            "align_self": null,
            "height": null,
            "min_height": null,
            "padding": null,
            "grid_auto_rows": null,
            "grid_gap": null,
            "max_width": null,
            "order": null,
            "_view_module_version": "1.2.0",
            "grid_template_areas": null,
            "object_position": null,
            "object_fit": null,
            "grid_auto_columns": null,
            "margin": null,
            "display": null,
            "left": null
          },
          "model_module_version": "1.2.0"
        },
        "bbbc76e24e88424e989dc2fe4a69cac2": {
          "model_module": "@jupyter-widgets/controls",
          "model_name": "TextModel",
          "state": {
            "_view_name": "TextView",
            "style": "IPY_MODEL_b653649d66604cd8a01a706f0f69746e",
            "_dom_classes": [],
            "description": "",
            "_model_name": "TextModel",
            "placeholder": "Enter your last name here",
            "_view_module": "@jupyter-widgets/controls",
            "_model_module_version": "1.5.0",
            "value": "Kalmes",
            "_view_count": null,
            "disabled": false,
            "_view_module_version": "1.5.0",
            "continuous_update": true,
            "description_tooltip": null,
            "_model_module": "@jupyter-widgets/controls",
            "layout": "IPY_MODEL_a07c78e24ed445cd9fab54aeaeb6a4c8"
          },
          "model_module_version": "1.5.0"
        },
        "b653649d66604cd8a01a706f0f69746e": {
          "model_module": "@jupyter-widgets/controls",
          "model_name": "DescriptionStyleModel",
          "state": {
            "_view_name": "StyleView",
            "_model_name": "DescriptionStyleModel",
            "description_width": "",
            "_view_module": "@jupyter-widgets/base",
            "_model_module_version": "1.5.0",
            "_view_count": null,
            "_view_module_version": "1.2.0",
            "_model_module": "@jupyter-widgets/controls"
          },
          "model_module_version": "1.5.0"
        },
        "a07c78e24ed445cd9fab54aeaeb6a4c8": {
          "model_module": "@jupyter-widgets/base",
          "model_name": "LayoutModel",
          "state": {
            "_view_name": "LayoutView",
            "grid_template_rows": null,
            "right": null,
            "justify_content": null,
            "_view_module": "@jupyter-widgets/base",
            "overflow": null,
            "_model_module_version": "1.2.0",
            "_view_count": null,
            "flex_flow": null,
            "width": null,
            "min_width": null,
            "border": null,
            "align_items": null,
            "bottom": null,
            "_model_module": "@jupyter-widgets/base",
            "top": null,
            "grid_column": null,
            "overflow_y": null,
            "overflow_x": null,
            "grid_auto_flow": null,
            "grid_area": null,
            "grid_template_columns": null,
            "flex": null,
            "_model_name": "LayoutModel",
            "justify_items": null,
            "grid_row": null,
            "max_height": null,
            "align_content": null,
            "visibility": null,
            "align_self": null,
            "height": null,
            "min_height": null,
            "padding": null,
            "grid_auto_rows": null,
            "grid_gap": null,
            "max_width": null,
            "order": null,
            "_view_module_version": "1.2.0",
            "grid_template_areas": null,
            "object_position": null,
            "object_fit": null,
            "grid_auto_columns": null,
            "margin": null,
            "display": null,
            "left": null
          },
          "model_module_version": "1.2.0"
        },
        "c52edf7913f8478482f8bfc41c6f9f2e": {
          "model_module": "@jupyter-widgets/controls",
          "model_name": "ToggleButtonsModel",
          "state": {
            "_options_labels": [
              "Very Easy",
              "Somewhat Easy",
              "Neutral",
              "Somewhat Difficult",
              "Very Difficult"
            ],
            "_view_name": "ToggleButtonsView",
            "style": "IPY_MODEL_cb6929febd5e4ec4b48c15b9cdc8af02",
            "_dom_classes": [],
            "description": "",
            "_model_name": "ToggleButtonsModel",
            "tooltips": [],
            "index": 3,
            "button_style": "warning",
            "_view_module": "@jupyter-widgets/controls",
            "_model_module_version": "1.5.0",
            "_view_count": null,
            "disabled": false,
            "_view_module_version": "1.5.0",
            "icons": [],
            "description_tooltip": null,
            "_model_module": "@jupyter-widgets/controls",
            "layout": "IPY_MODEL_dc7a061b3d374d65b0603cbcdfdac2e7"
          },
          "model_module_version": "1.5.0"
        },
        "cb6929febd5e4ec4b48c15b9cdc8af02": {
          "model_module": "@jupyter-widgets/controls",
          "model_name": "ToggleButtonsStyleModel",
          "state": {
            "_view_name": "StyleView",
            "button_width": "",
            "_model_name": "ToggleButtonsStyleModel",
            "description_width": "",
            "_view_module": "@jupyter-widgets/base",
            "_model_module_version": "1.5.0",
            "_view_count": null,
            "font_weight": "",
            "_view_module_version": "1.2.0",
            "_model_module": "@jupyter-widgets/controls"
          },
          "model_module_version": "1.5.0"
        },
        "dc7a061b3d374d65b0603cbcdfdac2e7": {
          "model_module": "@jupyter-widgets/base",
          "model_name": "LayoutModel",
          "state": {
            "_view_name": "LayoutView",
            "grid_template_rows": null,
            "right": null,
            "justify_content": null,
            "_view_module": "@jupyter-widgets/base",
            "overflow": null,
            "_model_module_version": "1.2.0",
            "_view_count": null,
            "flex_flow": null,
            "width": null,
            "min_width": null,
            "border": null,
            "align_items": null,
            "bottom": null,
            "_model_module": "@jupyter-widgets/base",
            "top": null,
            "grid_column": null,
            "overflow_y": null,
            "overflow_x": null,
            "grid_auto_flow": null,
            "grid_area": null,
            "grid_template_columns": null,
            "flex": null,
            "_model_name": "LayoutModel",
            "justify_items": null,
            "grid_row": null,
            "max_height": null,
            "align_content": null,
            "visibility": null,
            "align_self": null,
            "height": null,
            "min_height": null,
            "padding": null,
            "grid_auto_rows": null,
            "grid_gap": null,
            "max_width": null,
            "order": null,
            "_view_module_version": "1.2.0",
            "grid_template_areas": null,
            "object_position": null,
            "object_fit": null,
            "grid_auto_columns": null,
            "margin": null,
            "display": null,
            "left": null
          },
          "model_module_version": "1.2.0"
        },
        "1dac393e21ca4c5f990ed949ce83a2a5": {
          "model_module": "@jupyter-widgets/controls",
          "model_name": "ToggleButtonsModel",
          "state": {
            "_options_labels": [
              "30 min or less",
              "31-60 min",
              "61-90 min",
              "91-120 min",
              "More than 2 hours"
            ],
            "_view_name": "ToggleButtonsView",
            "style": "IPY_MODEL_354f9a0d86b94c3c9f8bf6cc3a13dd75",
            "_dom_classes": [],
            "description": "",
            "_model_name": "ToggleButtonsModel",
            "tooltips": [],
            "index": 3,
            "button_style": "warning",
            "_view_module": "@jupyter-widgets/controls",
            "_model_module_version": "1.5.0",
            "_view_count": null,
            "disabled": false,
            "_view_module_version": "1.5.0",
            "icons": [],
            "description_tooltip": null,
            "_model_module": "@jupyter-widgets/controls",
            "layout": "IPY_MODEL_b1c0f08d198248728e37c3d07b9f015d"
          },
          "model_module_version": "1.5.0"
        },
        "354f9a0d86b94c3c9f8bf6cc3a13dd75": {
          "model_module": "@jupyter-widgets/controls",
          "model_name": "ToggleButtonsStyleModel",
          "state": {
            "_view_name": "StyleView",
            "button_width": "",
            "_model_name": "ToggleButtonsStyleModel",
            "description_width": "",
            "_view_module": "@jupyter-widgets/base",
            "_model_module_version": "1.5.0",
            "_view_count": null,
            "font_weight": "",
            "_view_module_version": "1.2.0",
            "_model_module": "@jupyter-widgets/controls"
          },
          "model_module_version": "1.5.0"
        },
        "b1c0f08d198248728e37c3d07b9f015d": {
          "model_module": "@jupyter-widgets/base",
          "model_name": "LayoutModel",
          "state": {
            "_view_name": "LayoutView",
            "grid_template_rows": null,
            "right": null,
            "justify_content": null,
            "_view_module": "@jupyter-widgets/base",
            "overflow": null,
            "_model_module_version": "1.2.0",
            "_view_count": null,
            "flex_flow": null,
            "width": null,
            "min_width": null,
            "border": null,
            "align_items": null,
            "bottom": null,
            "_model_module": "@jupyter-widgets/base",
            "top": null,
            "grid_column": null,
            "overflow_y": null,
            "overflow_x": null,
            "grid_auto_flow": null,
            "grid_area": null,
            "grid_template_columns": null,
            "flex": null,
            "_model_name": "LayoutModel",
            "justify_items": null,
            "grid_row": null,
            "max_height": null,
            "align_content": null,
            "visibility": null,
            "align_self": null,
            "height": null,
            "min_height": null,
            "padding": null,
            "grid_auto_rows": null,
            "grid_gap": null,
            "max_width": null,
            "order": null,
            "_view_module_version": "1.2.0",
            "grid_template_areas": null,
            "object_position": null,
            "object_fit": null,
            "grid_auto_columns": null,
            "margin": null,
            "display": null,
            "left": null
          },
          "model_module_version": "1.2.0"
        },
        "566b715097f94e318c24d146d72c354c": {
          "model_module": "@jupyter-widgets/controls",
          "model_name": "TextareaModel",
          "state": {
            "_view_name": "TextareaView",
            "style": "IPY_MODEL_b78b51383aec4f1a86655dd8252a276c",
            "rows": null,
            "_dom_classes": [],
            "description": "",
            "_model_name": "TextareaModel",
            "placeholder": "Enter your response here",
            "_view_module": "@jupyter-widgets/controls",
            "_model_module_version": "1.5.0",
            "value": "data cleaning and model building",
            "_view_count": null,
            "disabled": false,
            "_view_module_version": "1.5.0",
            "continuous_update": true,
            "description_tooltip": null,
            "_model_module": "@jupyter-widgets/controls",
            "layout": "IPY_MODEL_a1a39732e64746d0944de9c6559bdc20"
          },
          "model_module_version": "1.5.0"
        },
        "b78b51383aec4f1a86655dd8252a276c": {
          "model_module": "@jupyter-widgets/controls",
          "model_name": "DescriptionStyleModel",
          "state": {
            "_view_name": "StyleView",
            "_model_name": "DescriptionStyleModel",
            "description_width": "",
            "_view_module": "@jupyter-widgets/base",
            "_model_module_version": "1.5.0",
            "_view_count": null,
            "_view_module_version": "1.2.0",
            "_model_module": "@jupyter-widgets/controls"
          },
          "model_module_version": "1.5.0"
        },
        "a1a39732e64746d0944de9c6559bdc20": {
          "model_module": "@jupyter-widgets/base",
          "model_name": "LayoutModel",
          "state": {
            "_view_name": "LayoutView",
            "grid_template_rows": null,
            "right": null,
            "justify_content": null,
            "_view_module": "@jupyter-widgets/base",
            "overflow": null,
            "_model_module_version": "1.2.0",
            "_view_count": null,
            "flex_flow": null,
            "width": null,
            "min_width": null,
            "border": null,
            "align_items": null,
            "bottom": null,
            "_model_module": "@jupyter-widgets/base",
            "top": null,
            "grid_column": null,
            "overflow_y": null,
            "overflow_x": null,
            "grid_auto_flow": null,
            "grid_area": null,
            "grid_template_columns": null,
            "flex": null,
            "_model_name": "LayoutModel",
            "justify_items": null,
            "grid_row": null,
            "max_height": null,
            "align_content": null,
            "visibility": null,
            "align_self": null,
            "height": null,
            "min_height": null,
            "padding": null,
            "grid_auto_rows": null,
            "grid_gap": null,
            "max_width": null,
            "order": null,
            "_view_module_version": "1.2.0",
            "grid_template_areas": null,
            "object_position": null,
            "object_fit": null,
            "grid_auto_columns": null,
            "margin": null,
            "display": null,
            "left": null
          },
          "model_module_version": "1.2.0"
        },
        "fc77d06a7e074b0e92ab1158f1011d50": {
          "model_module": "@jupyter-widgets/controls",
          "model_name": "TextareaModel",
          "state": {
            "_view_name": "TextareaView",
            "style": "IPY_MODEL_e50331e06bb140d1a647f00e7c669dcf",
            "rows": null,
            "_dom_classes": [],
            "description": "",
            "_model_name": "TextareaModel",
            "placeholder": "Enter your response here",
            "_view_module": "@jupyter-widgets/controls",
            "_model_module_version": "1.5.0",
            "value": "interpreting the accuracies and ",
            "_view_count": null,
            "disabled": false,
            "_view_module_version": "1.5.0",
            "continuous_update": true,
            "description_tooltip": null,
            "_model_module": "@jupyter-widgets/controls",
            "layout": "IPY_MODEL_38cebe31f1d5427a852f51e748029988"
          },
          "model_module_version": "1.5.0"
        },
        "e50331e06bb140d1a647f00e7c669dcf": {
          "model_module": "@jupyter-widgets/controls",
          "model_name": "DescriptionStyleModel",
          "state": {
            "_view_name": "StyleView",
            "_model_name": "DescriptionStyleModel",
            "description_width": "",
            "_view_module": "@jupyter-widgets/base",
            "_model_module_version": "1.5.0",
            "_view_count": null,
            "_view_module_version": "1.2.0",
            "_model_module": "@jupyter-widgets/controls"
          },
          "model_module_version": "1.5.0"
        },
        "38cebe31f1d5427a852f51e748029988": {
          "model_module": "@jupyter-widgets/base",
          "model_name": "LayoutModel",
          "state": {
            "_view_name": "LayoutView",
            "grid_template_rows": null,
            "right": null,
            "justify_content": null,
            "_view_module": "@jupyter-widgets/base",
            "overflow": null,
            "_model_module_version": "1.2.0",
            "_view_count": null,
            "flex_flow": null,
            "width": null,
            "min_width": null,
            "border": null,
            "align_items": null,
            "bottom": null,
            "_model_module": "@jupyter-widgets/base",
            "top": null,
            "grid_column": null,
            "overflow_y": null,
            "overflow_x": null,
            "grid_auto_flow": null,
            "grid_area": null,
            "grid_template_columns": null,
            "flex": null,
            "_model_name": "LayoutModel",
            "justify_items": null,
            "grid_row": null,
            "max_height": null,
            "align_content": null,
            "visibility": null,
            "align_self": null,
            "height": null,
            "min_height": null,
            "padding": null,
            "grid_auto_rows": null,
            "grid_gap": null,
            "max_width": null,
            "order": null,
            "_view_module_version": "1.2.0",
            "grid_template_areas": null,
            "object_position": null,
            "object_fit": null,
            "grid_auto_columns": null,
            "margin": null,
            "display": null,
            "left": null
          },
          "model_module_version": "1.2.0"
        },
        "3c8422667f3341d0854491231698536b": {
          "model_module": "@jupyter-widgets/controls",
          "model_name": "TextareaModel",
          "state": {
            "_view_name": "TextareaView",
            "style": "IPY_MODEL_5b675b4b031c40c8ba0bf7054f82c16e",
            "rows": null,
            "_dom_classes": [],
            "description": "",
            "_model_name": "TextareaModel",
            "placeholder": "Enter your response here",
            "_view_module": "@jupyter-widgets/controls",
            "_model_module_version": "1.5.0",
            "value": "",
            "_view_count": null,
            "disabled": false,
            "_view_module_version": "1.5.0",
            "continuous_update": true,
            "description_tooltip": null,
            "_model_module": "@jupyter-widgets/controls",
            "layout": "IPY_MODEL_56a0d9a164f94549937a833ed0bfd561"
          },
          "model_module_version": "1.5.0"
        },
        "5b675b4b031c40c8ba0bf7054f82c16e": {
          "model_module": "@jupyter-widgets/controls",
          "model_name": "DescriptionStyleModel",
          "state": {
            "_view_name": "StyleView",
            "_model_name": "DescriptionStyleModel",
            "description_width": "",
            "_view_module": "@jupyter-widgets/base",
            "_model_module_version": "1.5.0",
            "_view_count": null,
            "_view_module_version": "1.2.0",
            "_model_module": "@jupyter-widgets/controls"
          },
          "model_module_version": "1.5.0"
        },
        "56a0d9a164f94549937a833ed0bfd561": {
          "model_module": "@jupyter-widgets/base",
          "model_name": "LayoutModel",
          "state": {
            "_view_name": "LayoutView",
            "grid_template_rows": null,
            "right": null,
            "justify_content": null,
            "_view_module": "@jupyter-widgets/base",
            "overflow": null,
            "_model_module_version": "1.2.0",
            "_view_count": null,
            "flex_flow": null,
            "width": null,
            "min_width": null,
            "border": null,
            "align_items": null,
            "bottom": null,
            "_model_module": "@jupyter-widgets/base",
            "top": null,
            "grid_column": null,
            "overflow_y": null,
            "overflow_x": null,
            "grid_auto_flow": null,
            "grid_area": null,
            "grid_template_columns": null,
            "flex": null,
            "_model_name": "LayoutModel",
            "justify_items": null,
            "grid_row": null,
            "max_height": null,
            "align_content": null,
            "visibility": null,
            "align_self": null,
            "height": null,
            "min_height": null,
            "padding": null,
            "grid_auto_rows": null,
            "grid_gap": null,
            "max_width": null,
            "order": null,
            "_view_module_version": "1.2.0",
            "grid_template_areas": null,
            "object_position": null,
            "object_fit": null,
            "grid_auto_columns": null,
            "margin": null,
            "display": null,
            "left": null
          },
          "model_module_version": "1.2.0"
        },
        "b85529f9c9d1410588ddbc5b5e4a6edf": {
          "model_module": "@jupyter-widgets/controls",
          "model_name": "TextareaModel",
          "state": {
            "_view_name": "TextareaView",
            "style": "IPY_MODEL_6ad7ddf8c596421ca6cfdf930945c03e",
            "rows": null,
            "_dom_classes": [],
            "description": "",
            "_model_name": "TextareaModel",
            "placeholder": "Enter your response here",
            "_view_module": "@jupyter-widgets/controls",
            "_model_module_version": "1.5.0",
            "value": "",
            "_view_count": null,
            "disabled": false,
            "_view_module_version": "1.5.0",
            "continuous_update": true,
            "description_tooltip": null,
            "_model_module": "@jupyter-widgets/controls",
            "layout": "IPY_MODEL_6301e33e163d478da1a256c29e36eb8d"
          },
          "model_module_version": "1.5.0"
        },
        "6ad7ddf8c596421ca6cfdf930945c03e": {
          "model_module": "@jupyter-widgets/controls",
          "model_name": "DescriptionStyleModel",
          "state": {
            "_view_name": "StyleView",
            "_model_name": "DescriptionStyleModel",
            "description_width": "",
            "_view_module": "@jupyter-widgets/base",
            "_model_module_version": "1.5.0",
            "_view_count": null,
            "_view_module_version": "1.2.0",
            "_model_module": "@jupyter-widgets/controls"
          },
          "model_module_version": "1.5.0"
        },
        "6301e33e163d478da1a256c29e36eb8d": {
          "model_module": "@jupyter-widgets/base",
          "model_name": "LayoutModel",
          "state": {
            "_view_name": "LayoutView",
            "grid_template_rows": null,
            "right": null,
            "justify_content": null,
            "_view_module": "@jupyter-widgets/base",
            "overflow": null,
            "_model_module_version": "1.2.0",
            "_view_count": null,
            "flex_flow": null,
            "width": null,
            "min_width": null,
            "border": null,
            "align_items": null,
            "bottom": null,
            "_model_module": "@jupyter-widgets/base",
            "top": null,
            "grid_column": null,
            "overflow_y": null,
            "overflow_x": null,
            "grid_auto_flow": null,
            "grid_area": null,
            "grid_template_columns": null,
            "flex": null,
            "_model_name": "LayoutModel",
            "justify_items": null,
            "grid_row": null,
            "max_height": null,
            "align_content": null,
            "visibility": null,
            "align_self": null,
            "height": null,
            "min_height": null,
            "padding": null,
            "grid_auto_rows": null,
            "grid_gap": null,
            "max_width": null,
            "order": null,
            "_view_module_version": "1.2.0",
            "grid_template_areas": null,
            "object_position": null,
            "object_fit": null,
            "grid_auto_columns": null,
            "margin": null,
            "display": null,
            "left": null
          },
          "model_module_version": "1.2.0"
        },
        "f270335f667d432e896e76ffdec7f8b3": {
          "model_module": "@jupyter-widgets/controls",
          "model_name": "TextareaModel",
          "state": {
            "_view_name": "TextareaView",
            "style": "IPY_MODEL_5f2664e213364b4d9a54338524999f23",
            "rows": null,
            "_dom_classes": [],
            "description": "",
            "_model_name": "TextareaModel",
            "placeholder": "Enter your response here",
            "_view_module": "@jupyter-widgets/controls",
            "_model_module_version": "1.5.0",
            "value": "",
            "_view_count": null,
            "disabled": false,
            "_view_module_version": "1.5.0",
            "continuous_update": true,
            "description_tooltip": null,
            "_model_module": "@jupyter-widgets/controls",
            "layout": "IPY_MODEL_7e433b6d5e524ad9aa29ba66f74f172d"
          },
          "model_module_version": "1.5.0"
        },
        "5f2664e213364b4d9a54338524999f23": {
          "model_module": "@jupyter-widgets/controls",
          "model_name": "DescriptionStyleModel",
          "state": {
            "_view_name": "StyleView",
            "_model_name": "DescriptionStyleModel",
            "description_width": "",
            "_view_module": "@jupyter-widgets/base",
            "_model_module_version": "1.5.0",
            "_view_count": null,
            "_view_module_version": "1.2.0",
            "_model_module": "@jupyter-widgets/controls"
          },
          "model_module_version": "1.5.0"
        },
        "7e433b6d5e524ad9aa29ba66f74f172d": {
          "model_module": "@jupyter-widgets/base",
          "model_name": "LayoutModel",
          "state": {
            "_view_name": "LayoutView",
            "grid_template_rows": null,
            "right": null,
            "justify_content": null,
            "_view_module": "@jupyter-widgets/base",
            "overflow": null,
            "_model_module_version": "1.2.0",
            "_view_count": null,
            "flex_flow": null,
            "width": null,
            "min_width": null,
            "border": null,
            "align_items": null,
            "bottom": null,
            "_model_module": "@jupyter-widgets/base",
            "top": null,
            "grid_column": null,
            "overflow_y": null,
            "overflow_x": null,
            "grid_auto_flow": null,
            "grid_area": null,
            "grid_template_columns": null,
            "flex": null,
            "_model_name": "LayoutModel",
            "justify_items": null,
            "grid_row": null,
            "max_height": null,
            "align_content": null,
            "visibility": null,
            "align_self": null,
            "height": null,
            "min_height": null,
            "padding": null,
            "grid_auto_rows": null,
            "grid_gap": null,
            "max_width": null,
            "order": null,
            "_view_module_version": "1.2.0",
            "grid_template_areas": null,
            "object_position": null,
            "object_fit": null,
            "grid_auto_columns": null,
            "margin": null,
            "display": null,
            "left": null
          },
          "model_module_version": "1.2.0"
        }
      }
    }
  },
  "cells": [
    {
      "cell_type": "markdown",
      "metadata": {
        "id": "view-in-github",
        "colab_type": "text"
      },
      "source": [
        "<a href=\"https://colab.research.google.com/github/ekalmes/Portfolio/blob/main/Zeke_Kalmes_Classification_Naive_Bayes_Spam_Filter.ipynb\" target=\"_parent\"><img src=\"https://colab.research.google.com/assets/colab-badge.svg\" alt=\"Open In Colab\"/></a>"
      ]
    },
    {
      "cell_type": "markdown",
      "metadata": {
        "id": "qVZM-P--7yCf"
      },
      "source": [
        "# Naive Bayes Spam Filter\n",
        "Author: Brad Sheese\n",
        "\n",
        "---\n",
        "\n",
        "NOTE: If you want to save your work select the following from the menu above:\n",
        "\n",
        "**File  --> Save a copy in Drive**\n",
        "\n",
        "If you work on the copy you made all changes will be saved to Google Drive. If you do not save your own copy, you can work in 'playground mode' instead, and any changes you make will be lost after you're done. "
      ]
    },
    {
      "cell_type": "code",
      "metadata": {
        "id": "yWGo1BS0dGnV",
        "cellView": "form",
        "outputId": "8b78e063-81c3-4501-a885-6dfeb4e44318",
        "colab": {
          "base_uri": "https://localhost:8080/",
          "height": 425
        }
      },
      "source": [
        "#@title Getting started? Execute this cell first.\n",
        "#@markdown Click on the arrow to the left to execute this cell.\n",
        "\n",
        "# set exercise name here\n",
        "exercise_name = '12.0.3.0 Bayes Spam Filter'\n",
        "\n",
        "import os\n",
        "import sys\n",
        "\n",
        "tool_path = '/content/cs125_tools/'\n",
        "\n",
        "if not os.path.exists(tool_path):\n",
        "  ! git clone --quiet https://github.com/bsheese/cs125_tools.git\n",
        "\n",
        "if tool_path not in sys.path:\n",
        "  sys.path.append(tool_path)\n",
        "\n",
        "import exercise_report_response\n",
        "\n",
        "exercise_report_response.exercise_time_difficulty_report(exercise_name)"
      ],
      "execution_count": null,
      "outputs": [
        {
          "output_type": "display_data",
          "data": {
            "text/html": [
              "12.0.3.0 Bayes Spam Filter"
            ],
            "text/plain": [
              "<IPython.core.display.HTML object>"
            ]
          },
          "metadata": {
            "tags": []
          }
        },
        {
          "output_type": "display_data",
          "data": {
            "text/html": [
              "<table border=\"1\" class=\"dataframe\">\n",
              "  <thead>\n",
              "    <tr style=\"text-align: right;\">\n",
              "      <th></th>\n",
              "      <th>Time</th>\n",
              "    </tr>\n",
              "  </thead>\n",
              "  <tbody>\n",
              "    <tr>\n",
              "      <th>30 min or less</th>\n",
              "      <td>0%</td>\n",
              "    </tr>\n",
              "    <tr>\n",
              "      <th>31-60 min</th>\n",
              "      <td>0%</td>\n",
              "    </tr>\n",
              "    <tr>\n",
              "      <th>61-90 min</th>\n",
              "      <td>0%</td>\n",
              "    </tr>\n",
              "    <tr>\n",
              "      <th>91-120 min</th>\n",
              "      <td>0%</td>\n",
              "    </tr>\n",
              "    <tr>\n",
              "      <th>More than 2 hours</th>\n",
              "      <td>0%</td>\n",
              "    </tr>\n",
              "  </tbody>\n",
              "</table>"
            ],
            "text/plain": [
              "<IPython.core.display.HTML object>"
            ]
          },
          "metadata": {
            "tags": []
          }
        },
        {
          "output_type": "stream",
          "text": [
            "\n"
          ],
          "name": "stdout"
        },
        {
          "output_type": "display_data",
          "data": {
            "text/html": [
              "<table border=\"1\" class=\"dataframe\">\n",
              "  <thead>\n",
              "    <tr style=\"text-align: right;\">\n",
              "      <th></th>\n",
              "      <th>Difficulty</th>\n",
              "    </tr>\n",
              "  </thead>\n",
              "  <tbody>\n",
              "    <tr>\n",
              "      <th>Very Easy</th>\n",
              "      <td>0%</td>\n",
              "    </tr>\n",
              "    <tr>\n",
              "      <th>Somewhat Easy</th>\n",
              "      <td>0%</td>\n",
              "    </tr>\n",
              "    <tr>\n",
              "      <th>Neutral</th>\n",
              "      <td>0%</td>\n",
              "    </tr>\n",
              "    <tr>\n",
              "      <th>Somewhat Difficult</th>\n",
              "      <td>0%</td>\n",
              "    </tr>\n",
              "    <tr>\n",
              "      <th>Very Difficult</th>\n",
              "      <td>0%</td>\n",
              "    </tr>\n",
              "  </tbody>\n",
              "</table>"
            ],
            "text/plain": [
              "<IPython.core.display.HTML object>"
            ]
          },
          "metadata": {
            "tags": []
          }
        }
      ]
    },
    {
      "cell_type": "markdown",
      "metadata": {
        "id": "XL4ls_P5BYw6"
      },
      "source": [
        "# Introduction\n",
        "\n",
        "In this exercise we are going to use Naive Bayes to build a spam filter, and to compare and contrast the effectiveness of different Naive Bayes classifiers. \n",
        "\n",
        "\n"
      ]
    },
    {
      "cell_type": "markdown",
      "metadata": {
        "id": "JJR_oUdZ-PZ_"
      },
      "source": [
        "## Imports"
      ]
    },
    {
      "cell_type": "code",
      "metadata": {
        "id": "agXRsbar-VyH"
      },
      "source": [
        "# general imports\n",
        "import pandas as pd\n",
        "import seaborn as sns\n",
        "import matplotlib.pyplot as plt\n",
        "\n",
        "# import random for test/train splits\n",
        "import random\n",
        "\n",
        "# import classifiers\n",
        "from sklearn.linear_model import LogisticRegression\n",
        "from sklearn.naive_bayes import GaussianNB\n",
        "from sklearn.ensemble import RandomForestClassifier\n",
        "from sklearn.neighbors import KNeighborsClassifier\n",
        "\n",
        "# taken from https://colab.research.google.com/github/jakevdp/PythonDataScienceHandbook/blob/master/notebooks/05.05-Naive-Bayes.ipynb#scrollTo=AVvyDcMbTuqp\n",
        "from sklearn.feature_extraction.text import TfidfVectorizer\n",
        "from sklearn.naive_bayes import MultinomialNB\n",
        "from sklearn.pipeline import make_pipeline\n",
        "\n",
        "# import for cross validation\n",
        "from sklearn.model_selection import train_test_split\n",
        "\n",
        "# import metrics for assessing classification models\n",
        "from sklearn.metrics import classification_report\n",
        "from sklearn.metrics import confusion_matrix\n",
        "from sklearn.metrics import accuracy_score\n",
        "from sklearn.metrics import mean_squared_error, r2_score"
      ],
      "execution_count": null,
      "outputs": []
    },
    {
      "cell_type": "markdown",
      "metadata": {
        "id": "R5IRUcUncyVZ"
      },
      "source": [
        "## Helper Functions"
      ]
    },
    {
      "cell_type": "markdown",
      "metadata": {
        "id": "qRFa48DzwaB9"
      },
      "source": [
        "These python functions will be used in order to simplify the process when it comes time to build and analyze the accuracy of the models. "
      ]
    },
    {
      "cell_type": "code",
      "metadata": {
        "id": "7u-UqZxRc5i-"
      },
      "source": [
        "# classification_comparisons is a modded version of the fxn provided by Prof. Sheese\n",
        "# In exercise 12.0.0.2 \n",
        "def classification_comparisons(X_train, y_train, X_test, y_test, stage):\n",
        "\n",
        "  # instantiate your models\n",
        "  log = LogisticRegression(class_weight='balanced', max_iter=4000)\n",
        "  gnb = GaussianNB()\n",
        "  mnb = MultinomialNB()\n",
        "  rfc = RandomForestClassifier(n_estimators = 1500)\n",
        "\n",
        "  # fit the data\n",
        "  log.fit(X_train, y_train)\n",
        "  gnb.fit(X_train, y_train)\n",
        "  mnb.fit(X_train, y_train)\n",
        "  rfc.fit(X_train, y_train)\n",
        "\n",
        "  # make predictions\n",
        "  log_predictions = log.predict(X_test)\n",
        "  gnb_predictions = gnb.predict(X_test)\n",
        "  mnb_predictions = mnb.predict(X_test)\n",
        "  rfc_predictions = rfc.predict(X_test)\n",
        "\n",
        "  # create classfication reports\n",
        "  log_report = classification_report(y_test, log_predictions, output_dict=True)\n",
        "  gnb_report = classification_report(y_test, gnb_predictions, output_dict=True)\n",
        "  mnb_report = classification_report(y_test, mnb_predictions, output_dict=True)\n",
        "  rfc_report = classification_report(y_test, rfc_predictions, output_dict=True)\n",
        "  \n",
        "  # convert reports to dataframes\n",
        "  df_log = pd.DataFrame(log_report)\n",
        "  df_log['model'] = 'logreg'\n",
        "  \n",
        "  df_gnb = pd.DataFrame(gnb_report)\n",
        "  df_gnb['model'] = 'gnb'\n",
        "\n",
        "  df_mnb = pd.DataFrame(mnb_report)\n",
        "  df_mnb['model'] = 'mnb'\n",
        "  \n",
        "  df_rfc = pd.DataFrame(rfc_report)\n",
        "  df_rfc['model'] = 'rfc'  \n",
        "\n",
        "\n",
        "  # merge results \n",
        "  df = pd.concat([df_log, df_gnb, df_mnb, df_rfc]) \n",
        "\n",
        "  # move the model column to the front\n",
        "  df = df[['model'] + [col for col in df.columns if col != 'model']]\n",
        "  \n",
        "  # set stage\n",
        "  df['stage'] = stage\n",
        "  \n",
        "  return df\n"
      ],
      "execution_count": null,
      "outputs": []
    },
    {
      "cell_type": "markdown",
      "metadata": {
        "id": "FkR4a4MRE8p2"
      },
      "source": [
        "## Data\n",
        "\n",
        "Data is called 'spambase', hosted on the UCI machine learning database.\n",
        "\n",
        "\n",
        "From the documentation\n",
        "'''\n",
        "Sources:\n",
        "   (a) Creators: Mark Hopkins, Erik Reeber, George Forman, Jaap Suermondt\n",
        "        Hewlett-Packard Labs, 1501 Page Mill Rd., Palo Alto, CA 94304\n",
        "   (b) Donor: George Forman (gforman at nospam hpl.hp.com)  650-857-7835\n",
        "   (c) Generated: June-July 1999\n",
        "\n",
        "\n",
        "Variables:\n",
        "\n",
        "* 48 continuous real [0,100] attributes of type word_freq_WORD = percentage of words in the e-mail that match WORD, i.e. 100 * (number of times the WORD appears in the e-mail) / total number of words in e-mail.  A \"word\" in this case is any string of alphanumeric characters bounded by non-alphanumeric \n",
        "characters or end-of-string.\n",
        "\n",
        "* 6 continuous real [0,100] attributes of type char_freq_CHAR = percentage of characters in the e-mail that match CHAR,i.e. 100 * (number of CHAR occurences) / total characters in e-mail\n",
        "\n",
        "* 1 continuous real [1,...] attribute of type capital_run_length_average\n",
        "= average length of uninterrupted sequences of capital letters\n",
        "\n",
        "* 1 continuous integer [1,...] attribute of type capital_run_length_longest\n",
        "= length of longest uninterrupted sequence of capital letters\n",
        "\n",
        "* 1 continuous integer [1,...] attribute of type capital_run_length_total\n",
        "= sum of length of uninterrupted sequences of capital letters\n",
        "= total number of capital letters in the e-mail\n",
        "\n",
        "* 1 nominal {0,1} class attribute of type spam\n",
        "= denotes whether the e-mail was considered spam (1) or not (0), \n",
        "i.e. unsolicited commercial e-mail.  "
      ]
    },
    {
      "cell_type": "code",
      "metadata": {
        "id": "OCeTxJrGEFWK"
      },
      "source": [
        "# retrieve the data, build the dataframe\n",
        "df = pd.read_csv('https://archive.ics.uci.edu/ml/machine-learning-databases/spambase/spambase.data',\n",
        "                 header=None)\n",
        "\n",
        "# variable names\n",
        "col_names = ['word_freq_make', 'word_freq_address', 'word_freq_all', 'word_freq_3d', 'word_freq_our', 'word_freq_over',\n",
        " 'word_freq_remove', 'word_freq_internet', 'word_freq_order', 'word_freq_mail', 'word_freq_receive',\n",
        " 'word_freq_will', 'word_freq_people', 'word_freq_report', 'word_freq_addresses', 'word_freq_free',\n",
        " 'word_freq_business', 'word_freq_email', 'word_freq_you', 'word_freq_credit', 'word_freq_your', 'word_freq_font',\n",
        " 'word_freq_000', 'word_freq_money', 'word_freq_hp', 'word_freq_hpl', 'word_freq_george', 'word_freq_650',\n",
        " 'word_freq_lab', 'word_freq_labs', 'word_freq_telnet', 'word_freq_857', 'word_freq_data', 'word_freq_415',\n",
        " 'word_freq_85', 'word_freq_technology', 'word_freq_1999', 'word_freq_parts', 'word_freq_pm',\n",
        " 'word_freq_direct', 'word_freq_cs', 'word_freq_meeting', 'word_freq_original', 'word_freq_project',\n",
        " 'word_freq_re', 'word_freq_edu', 'word_freq_table', 'word_freq_conference', 'char_freq_semicolon',\n",
        " 'char_freq_parenthesis', 'char_freq_bracket', 'char_freq_exclamation', 'char_freq_dollarsign',\n",
        " 'char_freq_poundsign', 'capital_run_length_average', 'capital_run_length_longest', 'capital_run_length_total', 'spam']\n",
        "\n",
        "# apply variable names\n",
        "df.columns = col_names"
      ],
      "execution_count": null,
      "outputs": []
    },
    {
      "cell_type": "markdown",
      "metadata": {
        "id": "NshpT1uLL_Bi"
      },
      "source": [
        "## Instructions\n",
        "\n",
        "* Use the following classifieres to predict spam:\n",
        "  * Logistic regression\n",
        "  * Guassian Naive Bayes\n",
        "  * Multinomial Naive Bayes\n",
        "  * One other classifier of your choosing\n",
        "\n",
        "\n",
        "* Control your test-train split randomization to insure you are comparing your classifier accuracy against the same data\n",
        "* Rerun your analysis multiple times before drawing a conclusion"
      ]
    },
    {
      "cell_type": "markdown",
      "metadata": {
        "id": "tt3yqdDK32OT"
      },
      "source": [
        "## Basic Dataframe Statistics\n",
        "Here I will be looking at the dataframe to check data types, null values, and basic distributions. "
      ]
    },
    {
      "cell_type": "code",
      "metadata": {
        "id": "zolGyJUh4IO1",
        "outputId": "e32f189a-4505-45c8-8279-e8080dedab40",
        "colab": {
          "base_uri": "https://localhost:8080/"
        }
      },
      "source": [
        "df.info()"
      ],
      "execution_count": null,
      "outputs": [
        {
          "output_type": "stream",
          "text": [
            "<class 'pandas.core.frame.DataFrame'>\n",
            "RangeIndex: 4601 entries, 0 to 4600\n",
            "Data columns (total 58 columns):\n",
            " #   Column                      Non-Null Count  Dtype  \n",
            "---  ------                      --------------  -----  \n",
            " 0   word_freq_make              4601 non-null   float64\n",
            " 1   word_freq_address           4601 non-null   float64\n",
            " 2   word_freq_all               4601 non-null   float64\n",
            " 3   word_freq_3d                4601 non-null   float64\n",
            " 4   word_freq_our               4601 non-null   float64\n",
            " 5   word_freq_over              4601 non-null   float64\n",
            " 6   word_freq_remove            4601 non-null   float64\n",
            " 7   word_freq_internet          4601 non-null   float64\n",
            " 8   word_freq_order             4601 non-null   float64\n",
            " 9   word_freq_mail              4601 non-null   float64\n",
            " 10  word_freq_receive           4601 non-null   float64\n",
            " 11  word_freq_will              4601 non-null   float64\n",
            " 12  word_freq_people            4601 non-null   float64\n",
            " 13  word_freq_report            4601 non-null   float64\n",
            " 14  word_freq_addresses         4601 non-null   float64\n",
            " 15  word_freq_free              4601 non-null   float64\n",
            " 16  word_freq_business          4601 non-null   float64\n",
            " 17  word_freq_email             4601 non-null   float64\n",
            " 18  word_freq_you               4601 non-null   float64\n",
            " 19  word_freq_credit            4601 non-null   float64\n",
            " 20  word_freq_your              4601 non-null   float64\n",
            " 21  word_freq_font              4601 non-null   float64\n",
            " 22  word_freq_000               4601 non-null   float64\n",
            " 23  word_freq_money             4601 non-null   float64\n",
            " 24  word_freq_hp                4601 non-null   float64\n",
            " 25  word_freq_hpl               4601 non-null   float64\n",
            " 26  word_freq_george            4601 non-null   float64\n",
            " 27  word_freq_650               4601 non-null   float64\n",
            " 28  word_freq_lab               4601 non-null   float64\n",
            " 29  word_freq_labs              4601 non-null   float64\n",
            " 30  word_freq_telnet            4601 non-null   float64\n",
            " 31  word_freq_857               4601 non-null   float64\n",
            " 32  word_freq_data              4601 non-null   float64\n",
            " 33  word_freq_415               4601 non-null   float64\n",
            " 34  word_freq_85                4601 non-null   float64\n",
            " 35  word_freq_technology        4601 non-null   float64\n",
            " 36  word_freq_1999              4601 non-null   float64\n",
            " 37  word_freq_parts             4601 non-null   float64\n",
            " 38  word_freq_pm                4601 non-null   float64\n",
            " 39  word_freq_direct            4601 non-null   float64\n",
            " 40  word_freq_cs                4601 non-null   float64\n",
            " 41  word_freq_meeting           4601 non-null   float64\n",
            " 42  word_freq_original          4601 non-null   float64\n",
            " 43  word_freq_project           4601 non-null   float64\n",
            " 44  word_freq_re                4601 non-null   float64\n",
            " 45  word_freq_edu               4601 non-null   float64\n",
            " 46  word_freq_table             4601 non-null   float64\n",
            " 47  word_freq_conference        4601 non-null   float64\n",
            " 48  char_freq_semicolon         4601 non-null   float64\n",
            " 49  char_freq_parenthesis       4601 non-null   float64\n",
            " 50  char_freq_bracket           4601 non-null   float64\n",
            " 51  char_freq_exclamation       4601 non-null   float64\n",
            " 52  char_freq_dollarsign        4601 non-null   float64\n",
            " 53  char_freq_poundsign         4601 non-null   float64\n",
            " 54  capital_run_length_average  4601 non-null   float64\n",
            " 55  capital_run_length_longest  4601 non-null   int64  \n",
            " 56  capital_run_length_total    4601 non-null   int64  \n",
            " 57  spam                        4601 non-null   int64  \n",
            "dtypes: float64(55), int64(3)\n",
            "memory usage: 2.0 MB\n"
          ],
          "name": "stdout"
        }
      ]
    },
    {
      "cell_type": "markdown",
      "metadata": {
        "id": "hkUhM3qa4RjU"
      },
      "source": [
        "First, it is apparent that all of the variables are already of numeric types which allows them to be entered into the models. In addition, there appears to be no null values, as all of the features have the same amount of non-null values. "
      ]
    },
    {
      "cell_type": "code",
      "metadata": {
        "id": "-VsW9WY144St",
        "outputId": "c000caec-3084-4217-e30d-40fe9517b43f",
        "colab": {
          "base_uri": "https://localhost:8080/",
          "height": 1000
        }
      },
      "source": [
        "df.describe().T"
      ],
      "execution_count": null,
      "outputs": [
        {
          "output_type": "execute_result",
          "data": {
            "text/html": [
              "<div>\n",
              "<style scoped>\n",
              "    .dataframe tbody tr th:only-of-type {\n",
              "        vertical-align: middle;\n",
              "    }\n",
              "\n",
              "    .dataframe tbody tr th {\n",
              "        vertical-align: top;\n",
              "    }\n",
              "\n",
              "    .dataframe thead th {\n",
              "        text-align: right;\n",
              "    }\n",
              "</style>\n",
              "<table border=\"1\" class=\"dataframe\">\n",
              "  <thead>\n",
              "    <tr style=\"text-align: right;\">\n",
              "      <th></th>\n",
              "      <th>count</th>\n",
              "      <th>mean</th>\n",
              "      <th>std</th>\n",
              "      <th>min</th>\n",
              "      <th>25%</th>\n",
              "      <th>50%</th>\n",
              "      <th>75%</th>\n",
              "      <th>max</th>\n",
              "    </tr>\n",
              "  </thead>\n",
              "  <tbody>\n",
              "    <tr>\n",
              "      <th>word_freq_make</th>\n",
              "      <td>4601.0</td>\n",
              "      <td>0.104553</td>\n",
              "      <td>0.305358</td>\n",
              "      <td>0.0</td>\n",
              "      <td>0.000</td>\n",
              "      <td>0.000</td>\n",
              "      <td>0.000</td>\n",
              "      <td>4.540</td>\n",
              "    </tr>\n",
              "    <tr>\n",
              "      <th>word_freq_address</th>\n",
              "      <td>4601.0</td>\n",
              "      <td>0.213015</td>\n",
              "      <td>1.290575</td>\n",
              "      <td>0.0</td>\n",
              "      <td>0.000</td>\n",
              "      <td>0.000</td>\n",
              "      <td>0.000</td>\n",
              "      <td>14.280</td>\n",
              "    </tr>\n",
              "    <tr>\n",
              "      <th>word_freq_all</th>\n",
              "      <td>4601.0</td>\n",
              "      <td>0.280656</td>\n",
              "      <td>0.504143</td>\n",
              "      <td>0.0</td>\n",
              "      <td>0.000</td>\n",
              "      <td>0.000</td>\n",
              "      <td>0.420</td>\n",
              "      <td>5.100</td>\n",
              "    </tr>\n",
              "    <tr>\n",
              "      <th>word_freq_3d</th>\n",
              "      <td>4601.0</td>\n",
              "      <td>0.065425</td>\n",
              "      <td>1.395151</td>\n",
              "      <td>0.0</td>\n",
              "      <td>0.000</td>\n",
              "      <td>0.000</td>\n",
              "      <td>0.000</td>\n",
              "      <td>42.810</td>\n",
              "    </tr>\n",
              "    <tr>\n",
              "      <th>word_freq_our</th>\n",
              "      <td>4601.0</td>\n",
              "      <td>0.312223</td>\n",
              "      <td>0.672513</td>\n",
              "      <td>0.0</td>\n",
              "      <td>0.000</td>\n",
              "      <td>0.000</td>\n",
              "      <td>0.380</td>\n",
              "      <td>10.000</td>\n",
              "    </tr>\n",
              "    <tr>\n",
              "      <th>word_freq_over</th>\n",
              "      <td>4601.0</td>\n",
              "      <td>0.095901</td>\n",
              "      <td>0.273824</td>\n",
              "      <td>0.0</td>\n",
              "      <td>0.000</td>\n",
              "      <td>0.000</td>\n",
              "      <td>0.000</td>\n",
              "      <td>5.880</td>\n",
              "    </tr>\n",
              "    <tr>\n",
              "      <th>word_freq_remove</th>\n",
              "      <td>4601.0</td>\n",
              "      <td>0.114208</td>\n",
              "      <td>0.391441</td>\n",
              "      <td>0.0</td>\n",
              "      <td>0.000</td>\n",
              "      <td>0.000</td>\n",
              "      <td>0.000</td>\n",
              "      <td>7.270</td>\n",
              "    </tr>\n",
              "    <tr>\n",
              "      <th>word_freq_internet</th>\n",
              "      <td>4601.0</td>\n",
              "      <td>0.105295</td>\n",
              "      <td>0.401071</td>\n",
              "      <td>0.0</td>\n",
              "      <td>0.000</td>\n",
              "      <td>0.000</td>\n",
              "      <td>0.000</td>\n",
              "      <td>11.110</td>\n",
              "    </tr>\n",
              "    <tr>\n",
              "      <th>word_freq_order</th>\n",
              "      <td>4601.0</td>\n",
              "      <td>0.090067</td>\n",
              "      <td>0.278616</td>\n",
              "      <td>0.0</td>\n",
              "      <td>0.000</td>\n",
              "      <td>0.000</td>\n",
              "      <td>0.000</td>\n",
              "      <td>5.260</td>\n",
              "    </tr>\n",
              "    <tr>\n",
              "      <th>word_freq_mail</th>\n",
              "      <td>4601.0</td>\n",
              "      <td>0.239413</td>\n",
              "      <td>0.644755</td>\n",
              "      <td>0.0</td>\n",
              "      <td>0.000</td>\n",
              "      <td>0.000</td>\n",
              "      <td>0.160</td>\n",
              "      <td>18.180</td>\n",
              "    </tr>\n",
              "    <tr>\n",
              "      <th>word_freq_receive</th>\n",
              "      <td>4601.0</td>\n",
              "      <td>0.059824</td>\n",
              "      <td>0.201545</td>\n",
              "      <td>0.0</td>\n",
              "      <td>0.000</td>\n",
              "      <td>0.000</td>\n",
              "      <td>0.000</td>\n",
              "      <td>2.610</td>\n",
              "    </tr>\n",
              "    <tr>\n",
              "      <th>word_freq_will</th>\n",
              "      <td>4601.0</td>\n",
              "      <td>0.541702</td>\n",
              "      <td>0.861698</td>\n",
              "      <td>0.0</td>\n",
              "      <td>0.000</td>\n",
              "      <td>0.100</td>\n",
              "      <td>0.800</td>\n",
              "      <td>9.670</td>\n",
              "    </tr>\n",
              "    <tr>\n",
              "      <th>word_freq_people</th>\n",
              "      <td>4601.0</td>\n",
              "      <td>0.093930</td>\n",
              "      <td>0.301036</td>\n",
              "      <td>0.0</td>\n",
              "      <td>0.000</td>\n",
              "      <td>0.000</td>\n",
              "      <td>0.000</td>\n",
              "      <td>5.550</td>\n",
              "    </tr>\n",
              "    <tr>\n",
              "      <th>word_freq_report</th>\n",
              "      <td>4601.0</td>\n",
              "      <td>0.058626</td>\n",
              "      <td>0.335184</td>\n",
              "      <td>0.0</td>\n",
              "      <td>0.000</td>\n",
              "      <td>0.000</td>\n",
              "      <td>0.000</td>\n",
              "      <td>10.000</td>\n",
              "    </tr>\n",
              "    <tr>\n",
              "      <th>word_freq_addresses</th>\n",
              "      <td>4601.0</td>\n",
              "      <td>0.049205</td>\n",
              "      <td>0.258843</td>\n",
              "      <td>0.0</td>\n",
              "      <td>0.000</td>\n",
              "      <td>0.000</td>\n",
              "      <td>0.000</td>\n",
              "      <td>4.410</td>\n",
              "    </tr>\n",
              "    <tr>\n",
              "      <th>word_freq_free</th>\n",
              "      <td>4601.0</td>\n",
              "      <td>0.248848</td>\n",
              "      <td>0.825792</td>\n",
              "      <td>0.0</td>\n",
              "      <td>0.000</td>\n",
              "      <td>0.000</td>\n",
              "      <td>0.100</td>\n",
              "      <td>20.000</td>\n",
              "    </tr>\n",
              "    <tr>\n",
              "      <th>word_freq_business</th>\n",
              "      <td>4601.0</td>\n",
              "      <td>0.142586</td>\n",
              "      <td>0.444055</td>\n",
              "      <td>0.0</td>\n",
              "      <td>0.000</td>\n",
              "      <td>0.000</td>\n",
              "      <td>0.000</td>\n",
              "      <td>7.140</td>\n",
              "    </tr>\n",
              "    <tr>\n",
              "      <th>word_freq_email</th>\n",
              "      <td>4601.0</td>\n",
              "      <td>0.184745</td>\n",
              "      <td>0.531122</td>\n",
              "      <td>0.0</td>\n",
              "      <td>0.000</td>\n",
              "      <td>0.000</td>\n",
              "      <td>0.000</td>\n",
              "      <td>9.090</td>\n",
              "    </tr>\n",
              "    <tr>\n",
              "      <th>word_freq_you</th>\n",
              "      <td>4601.0</td>\n",
              "      <td>1.662100</td>\n",
              "      <td>1.775481</td>\n",
              "      <td>0.0</td>\n",
              "      <td>0.000</td>\n",
              "      <td>1.310</td>\n",
              "      <td>2.640</td>\n",
              "      <td>18.750</td>\n",
              "    </tr>\n",
              "    <tr>\n",
              "      <th>word_freq_credit</th>\n",
              "      <td>4601.0</td>\n",
              "      <td>0.085577</td>\n",
              "      <td>0.509767</td>\n",
              "      <td>0.0</td>\n",
              "      <td>0.000</td>\n",
              "      <td>0.000</td>\n",
              "      <td>0.000</td>\n",
              "      <td>18.180</td>\n",
              "    </tr>\n",
              "    <tr>\n",
              "      <th>word_freq_your</th>\n",
              "      <td>4601.0</td>\n",
              "      <td>0.809761</td>\n",
              "      <td>1.200810</td>\n",
              "      <td>0.0</td>\n",
              "      <td>0.000</td>\n",
              "      <td>0.220</td>\n",
              "      <td>1.270</td>\n",
              "      <td>11.110</td>\n",
              "    </tr>\n",
              "    <tr>\n",
              "      <th>word_freq_font</th>\n",
              "      <td>4601.0</td>\n",
              "      <td>0.121202</td>\n",
              "      <td>1.025756</td>\n",
              "      <td>0.0</td>\n",
              "      <td>0.000</td>\n",
              "      <td>0.000</td>\n",
              "      <td>0.000</td>\n",
              "      <td>17.100</td>\n",
              "    </tr>\n",
              "    <tr>\n",
              "      <th>word_freq_000</th>\n",
              "      <td>4601.0</td>\n",
              "      <td>0.101645</td>\n",
              "      <td>0.350286</td>\n",
              "      <td>0.0</td>\n",
              "      <td>0.000</td>\n",
              "      <td>0.000</td>\n",
              "      <td>0.000</td>\n",
              "      <td>5.450</td>\n",
              "    </tr>\n",
              "    <tr>\n",
              "      <th>word_freq_money</th>\n",
              "      <td>4601.0</td>\n",
              "      <td>0.094269</td>\n",
              "      <td>0.442636</td>\n",
              "      <td>0.0</td>\n",
              "      <td>0.000</td>\n",
              "      <td>0.000</td>\n",
              "      <td>0.000</td>\n",
              "      <td>12.500</td>\n",
              "    </tr>\n",
              "    <tr>\n",
              "      <th>word_freq_hp</th>\n",
              "      <td>4601.0</td>\n",
              "      <td>0.549504</td>\n",
              "      <td>1.671349</td>\n",
              "      <td>0.0</td>\n",
              "      <td>0.000</td>\n",
              "      <td>0.000</td>\n",
              "      <td>0.000</td>\n",
              "      <td>20.830</td>\n",
              "    </tr>\n",
              "    <tr>\n",
              "      <th>word_freq_hpl</th>\n",
              "      <td>4601.0</td>\n",
              "      <td>0.265384</td>\n",
              "      <td>0.886955</td>\n",
              "      <td>0.0</td>\n",
              "      <td>0.000</td>\n",
              "      <td>0.000</td>\n",
              "      <td>0.000</td>\n",
              "      <td>16.660</td>\n",
              "    </tr>\n",
              "    <tr>\n",
              "      <th>word_freq_george</th>\n",
              "      <td>4601.0</td>\n",
              "      <td>0.767305</td>\n",
              "      <td>3.367292</td>\n",
              "      <td>0.0</td>\n",
              "      <td>0.000</td>\n",
              "      <td>0.000</td>\n",
              "      <td>0.000</td>\n",
              "      <td>33.330</td>\n",
              "    </tr>\n",
              "    <tr>\n",
              "      <th>word_freq_650</th>\n",
              "      <td>4601.0</td>\n",
              "      <td>0.124845</td>\n",
              "      <td>0.538576</td>\n",
              "      <td>0.0</td>\n",
              "      <td>0.000</td>\n",
              "      <td>0.000</td>\n",
              "      <td>0.000</td>\n",
              "      <td>9.090</td>\n",
              "    </tr>\n",
              "    <tr>\n",
              "      <th>word_freq_lab</th>\n",
              "      <td>4601.0</td>\n",
              "      <td>0.098915</td>\n",
              "      <td>0.593327</td>\n",
              "      <td>0.0</td>\n",
              "      <td>0.000</td>\n",
              "      <td>0.000</td>\n",
              "      <td>0.000</td>\n",
              "      <td>14.280</td>\n",
              "    </tr>\n",
              "    <tr>\n",
              "      <th>word_freq_labs</th>\n",
              "      <td>4601.0</td>\n",
              "      <td>0.102852</td>\n",
              "      <td>0.456682</td>\n",
              "      <td>0.0</td>\n",
              "      <td>0.000</td>\n",
              "      <td>0.000</td>\n",
              "      <td>0.000</td>\n",
              "      <td>5.880</td>\n",
              "    </tr>\n",
              "    <tr>\n",
              "      <th>word_freq_telnet</th>\n",
              "      <td>4601.0</td>\n",
              "      <td>0.064753</td>\n",
              "      <td>0.403393</td>\n",
              "      <td>0.0</td>\n",
              "      <td>0.000</td>\n",
              "      <td>0.000</td>\n",
              "      <td>0.000</td>\n",
              "      <td>12.500</td>\n",
              "    </tr>\n",
              "    <tr>\n",
              "      <th>word_freq_857</th>\n",
              "      <td>4601.0</td>\n",
              "      <td>0.047048</td>\n",
              "      <td>0.328559</td>\n",
              "      <td>0.0</td>\n",
              "      <td>0.000</td>\n",
              "      <td>0.000</td>\n",
              "      <td>0.000</td>\n",
              "      <td>4.760</td>\n",
              "    </tr>\n",
              "    <tr>\n",
              "      <th>word_freq_data</th>\n",
              "      <td>4601.0</td>\n",
              "      <td>0.097229</td>\n",
              "      <td>0.555907</td>\n",
              "      <td>0.0</td>\n",
              "      <td>0.000</td>\n",
              "      <td>0.000</td>\n",
              "      <td>0.000</td>\n",
              "      <td>18.180</td>\n",
              "    </tr>\n",
              "    <tr>\n",
              "      <th>word_freq_415</th>\n",
              "      <td>4601.0</td>\n",
              "      <td>0.047835</td>\n",
              "      <td>0.329445</td>\n",
              "      <td>0.0</td>\n",
              "      <td>0.000</td>\n",
              "      <td>0.000</td>\n",
              "      <td>0.000</td>\n",
              "      <td>4.760</td>\n",
              "    </tr>\n",
              "    <tr>\n",
              "      <th>word_freq_85</th>\n",
              "      <td>4601.0</td>\n",
              "      <td>0.105412</td>\n",
              "      <td>0.532260</td>\n",
              "      <td>0.0</td>\n",
              "      <td>0.000</td>\n",
              "      <td>0.000</td>\n",
              "      <td>0.000</td>\n",
              "      <td>20.000</td>\n",
              "    </tr>\n",
              "    <tr>\n",
              "      <th>word_freq_technology</th>\n",
              "      <td>4601.0</td>\n",
              "      <td>0.097477</td>\n",
              "      <td>0.402623</td>\n",
              "      <td>0.0</td>\n",
              "      <td>0.000</td>\n",
              "      <td>0.000</td>\n",
              "      <td>0.000</td>\n",
              "      <td>7.690</td>\n",
              "    </tr>\n",
              "    <tr>\n",
              "      <th>word_freq_1999</th>\n",
              "      <td>4601.0</td>\n",
              "      <td>0.136953</td>\n",
              "      <td>0.423451</td>\n",
              "      <td>0.0</td>\n",
              "      <td>0.000</td>\n",
              "      <td>0.000</td>\n",
              "      <td>0.000</td>\n",
              "      <td>6.890</td>\n",
              "    </tr>\n",
              "    <tr>\n",
              "      <th>word_freq_parts</th>\n",
              "      <td>4601.0</td>\n",
              "      <td>0.013201</td>\n",
              "      <td>0.220651</td>\n",
              "      <td>0.0</td>\n",
              "      <td>0.000</td>\n",
              "      <td>0.000</td>\n",
              "      <td>0.000</td>\n",
              "      <td>8.330</td>\n",
              "    </tr>\n",
              "    <tr>\n",
              "      <th>word_freq_pm</th>\n",
              "      <td>4601.0</td>\n",
              "      <td>0.078629</td>\n",
              "      <td>0.434672</td>\n",
              "      <td>0.0</td>\n",
              "      <td>0.000</td>\n",
              "      <td>0.000</td>\n",
              "      <td>0.000</td>\n",
              "      <td>11.110</td>\n",
              "    </tr>\n",
              "    <tr>\n",
              "      <th>word_freq_direct</th>\n",
              "      <td>4601.0</td>\n",
              "      <td>0.064834</td>\n",
              "      <td>0.349916</td>\n",
              "      <td>0.0</td>\n",
              "      <td>0.000</td>\n",
              "      <td>0.000</td>\n",
              "      <td>0.000</td>\n",
              "      <td>4.760</td>\n",
              "    </tr>\n",
              "    <tr>\n",
              "      <th>word_freq_cs</th>\n",
              "      <td>4601.0</td>\n",
              "      <td>0.043667</td>\n",
              "      <td>0.361205</td>\n",
              "      <td>0.0</td>\n",
              "      <td>0.000</td>\n",
              "      <td>0.000</td>\n",
              "      <td>0.000</td>\n",
              "      <td>7.140</td>\n",
              "    </tr>\n",
              "    <tr>\n",
              "      <th>word_freq_meeting</th>\n",
              "      <td>4601.0</td>\n",
              "      <td>0.132339</td>\n",
              "      <td>0.766819</td>\n",
              "      <td>0.0</td>\n",
              "      <td>0.000</td>\n",
              "      <td>0.000</td>\n",
              "      <td>0.000</td>\n",
              "      <td>14.280</td>\n",
              "    </tr>\n",
              "    <tr>\n",
              "      <th>word_freq_original</th>\n",
              "      <td>4601.0</td>\n",
              "      <td>0.046099</td>\n",
              "      <td>0.223812</td>\n",
              "      <td>0.0</td>\n",
              "      <td>0.000</td>\n",
              "      <td>0.000</td>\n",
              "      <td>0.000</td>\n",
              "      <td>3.570</td>\n",
              "    </tr>\n",
              "    <tr>\n",
              "      <th>word_freq_project</th>\n",
              "      <td>4601.0</td>\n",
              "      <td>0.079196</td>\n",
              "      <td>0.621976</td>\n",
              "      <td>0.0</td>\n",
              "      <td>0.000</td>\n",
              "      <td>0.000</td>\n",
              "      <td>0.000</td>\n",
              "      <td>20.000</td>\n",
              "    </tr>\n",
              "    <tr>\n",
              "      <th>word_freq_re</th>\n",
              "      <td>4601.0</td>\n",
              "      <td>0.301224</td>\n",
              "      <td>1.011687</td>\n",
              "      <td>0.0</td>\n",
              "      <td>0.000</td>\n",
              "      <td>0.000</td>\n",
              "      <td>0.110</td>\n",
              "      <td>21.420</td>\n",
              "    </tr>\n",
              "    <tr>\n",
              "      <th>word_freq_edu</th>\n",
              "      <td>4601.0</td>\n",
              "      <td>0.179824</td>\n",
              "      <td>0.911119</td>\n",
              "      <td>0.0</td>\n",
              "      <td>0.000</td>\n",
              "      <td>0.000</td>\n",
              "      <td>0.000</td>\n",
              "      <td>22.050</td>\n",
              "    </tr>\n",
              "    <tr>\n",
              "      <th>word_freq_table</th>\n",
              "      <td>4601.0</td>\n",
              "      <td>0.005444</td>\n",
              "      <td>0.076274</td>\n",
              "      <td>0.0</td>\n",
              "      <td>0.000</td>\n",
              "      <td>0.000</td>\n",
              "      <td>0.000</td>\n",
              "      <td>2.170</td>\n",
              "    </tr>\n",
              "    <tr>\n",
              "      <th>word_freq_conference</th>\n",
              "      <td>4601.0</td>\n",
              "      <td>0.031869</td>\n",
              "      <td>0.285735</td>\n",
              "      <td>0.0</td>\n",
              "      <td>0.000</td>\n",
              "      <td>0.000</td>\n",
              "      <td>0.000</td>\n",
              "      <td>10.000</td>\n",
              "    </tr>\n",
              "    <tr>\n",
              "      <th>char_freq_semicolon</th>\n",
              "      <td>4601.0</td>\n",
              "      <td>0.038575</td>\n",
              "      <td>0.243471</td>\n",
              "      <td>0.0</td>\n",
              "      <td>0.000</td>\n",
              "      <td>0.000</td>\n",
              "      <td>0.000</td>\n",
              "      <td>4.385</td>\n",
              "    </tr>\n",
              "    <tr>\n",
              "      <th>char_freq_parenthesis</th>\n",
              "      <td>4601.0</td>\n",
              "      <td>0.139030</td>\n",
              "      <td>0.270355</td>\n",
              "      <td>0.0</td>\n",
              "      <td>0.000</td>\n",
              "      <td>0.065</td>\n",
              "      <td>0.188</td>\n",
              "      <td>9.752</td>\n",
              "    </tr>\n",
              "    <tr>\n",
              "      <th>char_freq_bracket</th>\n",
              "      <td>4601.0</td>\n",
              "      <td>0.016976</td>\n",
              "      <td>0.109394</td>\n",
              "      <td>0.0</td>\n",
              "      <td>0.000</td>\n",
              "      <td>0.000</td>\n",
              "      <td>0.000</td>\n",
              "      <td>4.081</td>\n",
              "    </tr>\n",
              "    <tr>\n",
              "      <th>char_freq_exclamation</th>\n",
              "      <td>4601.0</td>\n",
              "      <td>0.269071</td>\n",
              "      <td>0.815672</td>\n",
              "      <td>0.0</td>\n",
              "      <td>0.000</td>\n",
              "      <td>0.000</td>\n",
              "      <td>0.315</td>\n",
              "      <td>32.478</td>\n",
              "    </tr>\n",
              "    <tr>\n",
              "      <th>char_freq_dollarsign</th>\n",
              "      <td>4601.0</td>\n",
              "      <td>0.075811</td>\n",
              "      <td>0.245882</td>\n",
              "      <td>0.0</td>\n",
              "      <td>0.000</td>\n",
              "      <td>0.000</td>\n",
              "      <td>0.052</td>\n",
              "      <td>6.003</td>\n",
              "    </tr>\n",
              "    <tr>\n",
              "      <th>char_freq_poundsign</th>\n",
              "      <td>4601.0</td>\n",
              "      <td>0.044238</td>\n",
              "      <td>0.429342</td>\n",
              "      <td>0.0</td>\n",
              "      <td>0.000</td>\n",
              "      <td>0.000</td>\n",
              "      <td>0.000</td>\n",
              "      <td>19.829</td>\n",
              "    </tr>\n",
              "    <tr>\n",
              "      <th>capital_run_length_average</th>\n",
              "      <td>4601.0</td>\n",
              "      <td>5.191515</td>\n",
              "      <td>31.729449</td>\n",
              "      <td>1.0</td>\n",
              "      <td>1.588</td>\n",
              "      <td>2.276</td>\n",
              "      <td>3.706</td>\n",
              "      <td>1102.500</td>\n",
              "    </tr>\n",
              "    <tr>\n",
              "      <th>capital_run_length_longest</th>\n",
              "      <td>4601.0</td>\n",
              "      <td>52.172789</td>\n",
              "      <td>194.891310</td>\n",
              "      <td>1.0</td>\n",
              "      <td>6.000</td>\n",
              "      <td>15.000</td>\n",
              "      <td>43.000</td>\n",
              "      <td>9989.000</td>\n",
              "    </tr>\n",
              "    <tr>\n",
              "      <th>capital_run_length_total</th>\n",
              "      <td>4601.0</td>\n",
              "      <td>283.289285</td>\n",
              "      <td>606.347851</td>\n",
              "      <td>1.0</td>\n",
              "      <td>35.000</td>\n",
              "      <td>95.000</td>\n",
              "      <td>266.000</td>\n",
              "      <td>15841.000</td>\n",
              "    </tr>\n",
              "    <tr>\n",
              "      <th>spam</th>\n",
              "      <td>4601.0</td>\n",
              "      <td>0.394045</td>\n",
              "      <td>0.488698</td>\n",
              "      <td>0.0</td>\n",
              "      <td>0.000</td>\n",
              "      <td>0.000</td>\n",
              "      <td>1.000</td>\n",
              "      <td>1.000</td>\n",
              "    </tr>\n",
              "  </tbody>\n",
              "</table>\n",
              "</div>"
            ],
            "text/plain": [
              "                             count        mean  ...      75%        max\n",
              "word_freq_make              4601.0    0.104553  ...    0.000      4.540\n",
              "word_freq_address           4601.0    0.213015  ...    0.000     14.280\n",
              "word_freq_all               4601.0    0.280656  ...    0.420      5.100\n",
              "word_freq_3d                4601.0    0.065425  ...    0.000     42.810\n",
              "word_freq_our               4601.0    0.312223  ...    0.380     10.000\n",
              "word_freq_over              4601.0    0.095901  ...    0.000      5.880\n",
              "word_freq_remove            4601.0    0.114208  ...    0.000      7.270\n",
              "word_freq_internet          4601.0    0.105295  ...    0.000     11.110\n",
              "word_freq_order             4601.0    0.090067  ...    0.000      5.260\n",
              "word_freq_mail              4601.0    0.239413  ...    0.160     18.180\n",
              "word_freq_receive           4601.0    0.059824  ...    0.000      2.610\n",
              "word_freq_will              4601.0    0.541702  ...    0.800      9.670\n",
              "word_freq_people            4601.0    0.093930  ...    0.000      5.550\n",
              "word_freq_report            4601.0    0.058626  ...    0.000     10.000\n",
              "word_freq_addresses         4601.0    0.049205  ...    0.000      4.410\n",
              "word_freq_free              4601.0    0.248848  ...    0.100     20.000\n",
              "word_freq_business          4601.0    0.142586  ...    0.000      7.140\n",
              "word_freq_email             4601.0    0.184745  ...    0.000      9.090\n",
              "word_freq_you               4601.0    1.662100  ...    2.640     18.750\n",
              "word_freq_credit            4601.0    0.085577  ...    0.000     18.180\n",
              "word_freq_your              4601.0    0.809761  ...    1.270     11.110\n",
              "word_freq_font              4601.0    0.121202  ...    0.000     17.100\n",
              "word_freq_000               4601.0    0.101645  ...    0.000      5.450\n",
              "word_freq_money             4601.0    0.094269  ...    0.000     12.500\n",
              "word_freq_hp                4601.0    0.549504  ...    0.000     20.830\n",
              "word_freq_hpl               4601.0    0.265384  ...    0.000     16.660\n",
              "word_freq_george            4601.0    0.767305  ...    0.000     33.330\n",
              "word_freq_650               4601.0    0.124845  ...    0.000      9.090\n",
              "word_freq_lab               4601.0    0.098915  ...    0.000     14.280\n",
              "word_freq_labs              4601.0    0.102852  ...    0.000      5.880\n",
              "word_freq_telnet            4601.0    0.064753  ...    0.000     12.500\n",
              "word_freq_857               4601.0    0.047048  ...    0.000      4.760\n",
              "word_freq_data              4601.0    0.097229  ...    0.000     18.180\n",
              "word_freq_415               4601.0    0.047835  ...    0.000      4.760\n",
              "word_freq_85                4601.0    0.105412  ...    0.000     20.000\n",
              "word_freq_technology        4601.0    0.097477  ...    0.000      7.690\n",
              "word_freq_1999              4601.0    0.136953  ...    0.000      6.890\n",
              "word_freq_parts             4601.0    0.013201  ...    0.000      8.330\n",
              "word_freq_pm                4601.0    0.078629  ...    0.000     11.110\n",
              "word_freq_direct            4601.0    0.064834  ...    0.000      4.760\n",
              "word_freq_cs                4601.0    0.043667  ...    0.000      7.140\n",
              "word_freq_meeting           4601.0    0.132339  ...    0.000     14.280\n",
              "word_freq_original          4601.0    0.046099  ...    0.000      3.570\n",
              "word_freq_project           4601.0    0.079196  ...    0.000     20.000\n",
              "word_freq_re                4601.0    0.301224  ...    0.110     21.420\n",
              "word_freq_edu               4601.0    0.179824  ...    0.000     22.050\n",
              "word_freq_table             4601.0    0.005444  ...    0.000      2.170\n",
              "word_freq_conference        4601.0    0.031869  ...    0.000     10.000\n",
              "char_freq_semicolon         4601.0    0.038575  ...    0.000      4.385\n",
              "char_freq_parenthesis       4601.0    0.139030  ...    0.188      9.752\n",
              "char_freq_bracket           4601.0    0.016976  ...    0.000      4.081\n",
              "char_freq_exclamation       4601.0    0.269071  ...    0.315     32.478\n",
              "char_freq_dollarsign        4601.0    0.075811  ...    0.052      6.003\n",
              "char_freq_poundsign         4601.0    0.044238  ...    0.000     19.829\n",
              "capital_run_length_average  4601.0    5.191515  ...    3.706   1102.500\n",
              "capital_run_length_longest  4601.0   52.172789  ...   43.000   9989.000\n",
              "capital_run_length_total    4601.0  283.289285  ...  266.000  15841.000\n",
              "spam                        4601.0    0.394045  ...    1.000      1.000\n",
              "\n",
              "[58 rows x 8 columns]"
            ]
          },
          "metadata": {
            "tags": []
          },
          "execution_count": 6
        }
      ]
    },
    {
      "cell_type": "markdown",
      "metadata": {
        "id": "8AFPhEiX5KM3"
      },
      "source": [
        "It might not initially apparent what useful information this provides; however, after a second look, the IQRs show that a majority of the features have a substantial amount of zero values. This will be further analyzed in the distributions section. "
      ]
    },
    {
      "cell_type": "markdown",
      "metadata": {
        "id": "iMzGtEW81h-H"
      },
      "source": [
        "## Check Outcome\n",
        "Here I will look at the outcome variable, spam, to see how it is distributed. "
      ]
    },
    {
      "cell_type": "code",
      "metadata": {
        "id": "FmOwe4pcPAct",
        "outputId": "75cfa72a-90b1-4322-9946-10955d96b4a0",
        "colab": {
          "base_uri": "https://localhost:8080/"
        }
      },
      "source": [
        "df['spam'].value_counts()"
      ],
      "execution_count": null,
      "outputs": [
        {
          "output_type": "execute_result",
          "data": {
            "text/plain": [
              "0    2788\n",
              "1    1813\n",
              "Name: spam, dtype: int64"
            ]
          },
          "metadata": {
            "tags": []
          },
          "execution_count": 7
        }
      ]
    },
    {
      "cell_type": "markdown",
      "metadata": {
        "id": "URGLKRZx3QJR"
      },
      "source": [
        "It is seen that the spam variable is already binary coded, which is what I need. Also, there is only around a third of the emails that were flagged as spam."
      ]
    },
    {
      "cell_type": "markdown",
      "metadata": {
        "id": "pnvICAMX3mYI"
      },
      "source": [
        "## Check Duplicates\n",
        "Here I will be checking to see if there are any duplicate rows. "
      ]
    },
    {
      "cell_type": "code",
      "metadata": {
        "id": "nanlTA0g6CR7",
        "outputId": "7c1e7e4a-4558-4722-c307-b8fe6db6531c",
        "colab": {
          "base_uri": "https://localhost:8080/"
        }
      },
      "source": [
        "df.duplicated().value_counts()"
      ],
      "execution_count": null,
      "outputs": [
        {
          "output_type": "execute_result",
          "data": {
            "text/plain": [
              "False    4210\n",
              "True      391\n",
              "dtype: int64"
            ]
          },
          "metadata": {
            "tags": []
          },
          "execution_count": 8
        }
      ]
    },
    {
      "cell_type": "markdown",
      "metadata": {
        "id": "Oin_cFxh6LUz"
      },
      "source": [
        "Wow, 391 duplicated rows, that's a substantial amount. When thinking about the dataset, this probably means that there were duplicated emails counted in the dataset. Since this analysis is focused on predicting whether or not an email is spam, and not how many spam emails someone is getting, I will drop these rows as they only add noise to the models. "
      ]
    },
    {
      "cell_type": "code",
      "metadata": {
        "id": "SUsrznco6rzO",
        "outputId": "4cbe5391-7bb3-4bfb-b7d8-440cf68a4186",
        "colab": {
          "base_uri": "https://localhost:8080/"
        }
      },
      "source": [
        "print(df.shape)\n",
        "df = df.drop_duplicates()\n",
        "print(df.shape)"
      ],
      "execution_count": null,
      "outputs": [
        {
          "output_type": "stream",
          "text": [
            "(4601, 58)\n",
            "(4210, 58)\n"
          ],
          "name": "stdout"
        }
      ]
    },
    {
      "cell_type": "markdown",
      "metadata": {
        "id": "vYo8yGFs60S_"
      },
      "source": [
        "After doing some quick mental math, I can confirm that all the duplicate rows have been dropped. "
      ]
    },
    {
      "cell_type": "markdown",
      "metadata": {
        "id": "_xck3L6B69nX"
      },
      "source": [
        "## Check Distributions\n",
        "Here I will be outputting histplots and a countplot for the features and the outcome variables in order to more closely look at the distributions mentioned earlier. "
      ]
    },
    {
      "cell_type": "code",
      "metadata": {
        "id": "G3LPCXJp7Owp"
      },
      "source": [
        "# for loop to loop through all of the columns and output different graphs based on number of unique values\n",
        "# for col in df.columns:\n",
        "#   if df[col].nunique() > 2:\n",
        "#     sns.histplot(x = df[col])\n",
        "#   else:\n",
        "#     sns.countplot(x = df[col])\n",
        "#   plt.title(col)\n",
        "#   plt.show()"
      ],
      "execution_count": null,
      "outputs": []
    },
    {
      "cell_type": "markdown",
      "metadata": {
        "id": "LM9BhaUF8vAF"
      },
      "source": [
        "The conclusion from the statistics section is confirmed, there are a significant amount of zero values in all of the features. This means the logisitc regression will probably be thrown off a bit, as it relies on normal distributions, but it will not matter for either of the Naive-Bayes models or the random tree classifier model. "
      ]
    },
    {
      "cell_type": "markdown",
      "metadata": {
        "id": "C5PbMT1D-gTT"
      },
      "source": [
        "## Check Collinearity\n",
        "Here I will be correlating the variables to check for collinearity in the features. "
      ]
    },
    {
      "cell_type": "code",
      "metadata": {
        "id": "X8YJfgCp-7lx",
        "outputId": "c40af852-af5d-4575-9b2d-0a14d9cf27a6",
        "colab": {
          "base_uri": "https://localhost:8080/",
          "height": 410
        }
      },
      "source": [
        "sns.heatmap(df.corr())\n",
        "plt.title('Correlation Table of Variables')\n",
        "plt.show()"
      ],
      "execution_count": null,
      "outputs": [
        {
          "output_type": "display_data",
          "data": {
            "image/png": "[encoded data removed]",
            "text/plain": [
              "<Figure size 432x288 with 2 Axes>"
            ]
          },
          "metadata": {
            "tags": [],
            "needs_background": "light"
          }
        }
      ]
    },
    {
      "cell_type": "markdown",
      "metadata": {
        "id": "PGkTlnSV_cAw"
      },
      "source": [
        "On the outskirts, there don't appear to be any issues with collinearity. I want to take a closer look at the central region where there is more correlation."
      ]
    },
    {
      "cell_type": "code",
      "metadata": {
        "id": "og7KZ6P__s1c",
        "outputId": "22767b55-4cc7-49e7-c938-6c01c000aec3",
        "colab": {
          "base_uri": "https://localhost:8080/",
          "height": 381
        }
      },
      "source": [
        "sns.heatmap(df.iloc[:,20:40].corr())\n",
        "plt.title('Zoomed in Correlation Table of Variables')\n",
        "plt.show()"
      ],
      "execution_count": null,
      "outputs": [
        {
          "output_type": "display_data",
          "data": {
            "image/png": "[encoded data removed]",
            "text/plain": [
              "<Figure size 432x288 with 2 Axes>"
            ]
          },
          "metadata": {
            "tags": [],
            "needs_background": "light"
          }
        }
      ]
    },
    {
      "cell_type": "markdown",
      "metadata": {
        "id": "AqrRaf16AA-t"
      },
      "source": [
        "There seems to be a very high correlation between  word_freq_415 and word_freq_857."
      ]
    },
    {
      "cell_type": "code",
      "metadata": {
        "id": "oQ0HV-keASbV",
        "outputId": "c18ee118-f3fb-48ab-998c-b4b292f4968c",
        "colab": {
          "base_uri": "https://localhost:8080/",
          "height": 111
        }
      },
      "source": [
        "df[['word_freq_415', 'word_freq_857']].corr()"
      ],
      "execution_count": null,
      "outputs": [
        {
          "output_type": "execute_result",
          "data": {
            "text/html": [
              "<div>\n",
              "<style scoped>\n",
              "    .dataframe tbody tr th:only-of-type {\n",
              "        vertical-align: middle;\n",
              "    }\n",
              "\n",
              "    .dataframe tbody tr th {\n",
              "        vertical-align: top;\n",
              "    }\n",
              "\n",
              "    .dataframe thead th {\n",
              "        text-align: right;\n",
              "    }\n",
              "</style>\n",
              "<table border=\"1\" class=\"dataframe\">\n",
              "  <thead>\n",
              "    <tr style=\"text-align: right;\">\n",
              "      <th></th>\n",
              "      <th>word_freq_415</th>\n",
              "      <th>word_freq_857</th>\n",
              "    </tr>\n",
              "  </thead>\n",
              "  <tbody>\n",
              "    <tr>\n",
              "      <th>word_freq_415</th>\n",
              "      <td>1.000000</td>\n",
              "      <td>0.994875</td>\n",
              "    </tr>\n",
              "    <tr>\n",
              "      <th>word_freq_857</th>\n",
              "      <td>0.994875</td>\n",
              "      <td>1.000000</td>\n",
              "    </tr>\n",
              "  </tbody>\n",
              "</table>\n",
              "</div>"
            ],
            "text/plain": [
              "               word_freq_415  word_freq_857\n",
              "word_freq_415       1.000000       0.994875\n",
              "word_freq_857       0.994875       1.000000"
            ]
          },
          "metadata": {
            "tags": []
          },
          "execution_count": 13
        }
      ]
    },
    {
      "cell_type": "markdown",
      "metadata": {
        "id": "z5BOUqGJAbMi"
      },
      "source": [
        "Woooaaahhhhh. Way too high of a correlation. This is going to cause my models some trouble, so I need to drop one of these columns. I chose word_freq_857. "
      ]
    },
    {
      "cell_type": "code",
      "metadata": {
        "id": "pjTsW2_oAmL5",
        "outputId": "28616968-6837-439d-cfac-5ba54358942f",
        "colab": {
          "base_uri": "https://localhost:8080/"
        }
      },
      "source": [
        "# dropping redundant columns\n",
        "df = df.drop('word_freq_857', axis = 1)\n",
        "df.info()"
      ],
      "execution_count": null,
      "outputs": [
        {
          "output_type": "stream",
          "text": [
            "<class 'pandas.core.frame.DataFrame'>\n",
            "Int64Index: 4210 entries, 0 to 4600\n",
            "Data columns (total 57 columns):\n",
            " #   Column                      Non-Null Count  Dtype  \n",
            "---  ------                      --------------  -----  \n",
            " 0   word_freq_make              4210 non-null   float64\n",
            " 1   word_freq_address           4210 non-null   float64\n",
            " 2   word_freq_all               4210 non-null   float64\n",
            " 3   word_freq_3d                4210 non-null   float64\n",
            " 4   word_freq_our               4210 non-null   float64\n",
            " 5   word_freq_over              4210 non-null   float64\n",
            " 6   word_freq_remove            4210 non-null   float64\n",
            " 7   word_freq_internet          4210 non-null   float64\n",
            " 8   word_freq_order             4210 non-null   float64\n",
            " 9   word_freq_mail              4210 non-null   float64\n",
            " 10  word_freq_receive           4210 non-null   float64\n",
            " 11  word_freq_will              4210 non-null   float64\n",
            " 12  word_freq_people            4210 non-null   float64\n",
            " 13  word_freq_report            4210 non-null   float64\n",
            " 14  word_freq_addresses         4210 non-null   float64\n",
            " 15  word_freq_free              4210 non-null   float64\n",
            " 16  word_freq_business          4210 non-null   float64\n",
            " 17  word_freq_email             4210 non-null   float64\n",
            " 18  word_freq_you               4210 non-null   float64\n",
            " 19  word_freq_credit            4210 non-null   float64\n",
            " 20  word_freq_your              4210 non-null   float64\n",
            " 21  word_freq_font              4210 non-null   float64\n",
            " 22  word_freq_000               4210 non-null   float64\n",
            " 23  word_freq_money             4210 non-null   float64\n",
            " 24  word_freq_hp                4210 non-null   float64\n",
            " 25  word_freq_hpl               4210 non-null   float64\n",
            " 26  word_freq_george            4210 non-null   float64\n",
            " 27  word_freq_650               4210 non-null   float64\n",
            " 28  word_freq_lab               4210 non-null   float64\n",
            " 29  word_freq_labs              4210 non-null   float64\n",
            " 30  word_freq_telnet            4210 non-null   float64\n",
            " 31  word_freq_data              4210 non-null   float64\n",
            " 32  word_freq_415               4210 non-null   float64\n",
            " 33  word_freq_85                4210 non-null   float64\n",
            " 34  word_freq_technology        4210 non-null   float64\n",
            " 35  word_freq_1999              4210 non-null   float64\n",
            " 36  word_freq_parts             4210 non-null   float64\n",
            " 37  word_freq_pm                4210 non-null   float64\n",
            " 38  word_freq_direct            4210 non-null   float64\n",
            " 39  word_freq_cs                4210 non-null   float64\n",
            " 40  word_freq_meeting           4210 non-null   float64\n",
            " 41  word_freq_original          4210 non-null   float64\n",
            " 42  word_freq_project           4210 non-null   float64\n",
            " 43  word_freq_re                4210 non-null   float64\n",
            " 44  word_freq_edu               4210 non-null   float64\n",
            " 45  word_freq_table             4210 non-null   float64\n",
            " 46  word_freq_conference        4210 non-null   float64\n",
            " 47  char_freq_semicolon         4210 non-null   float64\n",
            " 48  char_freq_parenthesis       4210 non-null   float64\n",
            " 49  char_freq_bracket           4210 non-null   float64\n",
            " 50  char_freq_exclamation       4210 non-null   float64\n",
            " 51  char_freq_dollarsign        4210 non-null   float64\n",
            " 52  char_freq_poundsign         4210 non-null   float64\n",
            " 53  capital_run_length_average  4210 non-null   float64\n",
            " 54  capital_run_length_longest  4210 non-null   int64  \n",
            " 55  capital_run_length_total    4210 non-null   int64  \n",
            " 56  spam                        4210 non-null   int64  \n",
            "dtypes: float64(54), int64(3)\n",
            "memory usage: 1.9 MB\n"
          ],
          "name": "stdout"
        }
      ]
    },
    {
      "cell_type": "markdown",
      "metadata": {
        "id": "nTxH1EhvAy5n"
      },
      "source": [
        "Boom! Sorry word_freq_857, you are the imposter. "
      ]
    },
    {
      "cell_type": "markdown",
      "metadata": {
        "id": "QBX7HTsDBHCb"
      },
      "source": [
        "Will no null values, all duplicates dropped, collinearity addressed, and no need to scale the variables, it is time to build the models. "
      ]
    },
    {
      "cell_type": "markdown",
      "metadata": {
        "id": "trbDtpeeC87J"
      },
      "source": [
        "## Model Building and Comparisons\n",
        "Here the models will be built, and a table of the resulting accuracies from different train/test splits will be displayed using the helper function classification_comparisons. "
      ]
    },
    {
      "cell_type": "code",
      "metadata": {
        "id": "qzNpdiz2KEtB",
        "outputId": "ba8b3030-2b0d-4877-d922-e35f1b04fcb2",
        "colab": {
          "base_uri": "https://localhost:8080/"
        }
      },
      "source": [
        "# define features (X) and outcome (y)\n",
        "# drop spam from features\n",
        "X = df.drop('spam', axis = 1)\n",
        "y = df['spam']\n",
        "\n",
        "df_list = []\n",
        "# for loop to build models using random test/train splits and call helper function\n",
        "for stage in range(3):\n",
        "  rs_set = random.randint(0, 4601)\n",
        "  X_train, X_test, y_train, y_test = train_test_split(X, y, test_size=0.25, stratify=y, random_state = rs_set)\n",
        "  print('Random split set as: ', rs_set)\n",
        "  df = classification_comparisons(X_train, y_train, X_test, y_test, stage)\n",
        "  df.loc['f1-score',['model','accuracy']].set_index('model')\n",
        "  df_list.append(df)"
      ],
      "execution_count": null,
      "outputs": [
        {
          "output_type": "stream",
          "text": [
            "Random split set as:  3160\n",
            "Random split set as:  969\n",
            "Random split set as:  3536\n"
          ],
          "name": "stdout"
        }
      ]
    },
    {
      "cell_type": "code",
      "metadata": {
        "id": "wqYuyQaTLHu-",
        "outputId": "48301a2a-3bab-4cf1-a198-31da0ed0805c",
        "colab": {
          "base_uri": "https://localhost:8080/"
        }
      },
      "source": [
        "df_results = pd.concat([df_list[0], df_list[1], df_list[2]])\n",
        "df_results_grouped = df_results.reset_index().groupby(by=['model','stage']).mean()\n",
        "df_results_grouped['accuracy']"
      ],
      "execution_count": null,
      "outputs": [
        {
          "output_type": "execute_result",
          "data": {
            "text/plain": [
              "model   stage\n",
              "gnb     0        0.812915\n",
              "        1        0.836657\n",
              "        2        0.835708\n",
              "logreg  0        0.924027\n",
              "        1        0.927825\n",
              "        2        0.934473\n",
              "mnb     0        0.811966\n",
              "        1        0.805318\n",
              "        2        0.792023\n",
              "rfc     0        0.947768\n",
              "        1        0.945869\n",
              "        2        0.953466\n",
              "Name: accuracy, dtype: float64"
            ]
          },
          "metadata": {
            "tags": []
          },
          "execution_count": 21
        }
      ]
    },
    {
      "cell_type": "markdown",
      "metadata": {
        "id": "Oh-jpD4bWsPJ"
      },
      "source": [
        "A bit of a surprise here. Even without normalization, logistic regression is one of the top models in terms of accuracy. The best model according to accuracy is random forest classifiers. "
      ]
    },
    {
      "cell_type": "code",
      "metadata": {
        "id": "431Fna-zS8Ec",
        "outputId": "9a450ee2-25ec-40c5-f9a9-bdf80ff3b0a1",
        "colab": {
          "base_uri": "https://localhost:8080/",
          "height": 1000
        }
      },
      "source": [
        "df_results_grouped_2 = df_results.reset_index().groupby(by=['model'])\n",
        "df_results_grouped_2.head(100)"
      ],
      "execution_count": null,
      "outputs": [
        {
          "output_type": "execute_result",
          "data": {
            "text/html": [
              "<div>\n",
              "<style scoped>\n",
              "    .dataframe tbody tr th:only-of-type {\n",
              "        vertical-align: middle;\n",
              "    }\n",
              "\n",
              "    .dataframe tbody tr th {\n",
              "        vertical-align: top;\n",
              "    }\n",
              "\n",
              "    .dataframe thead th {\n",
              "        text-align: right;\n",
              "    }\n",
              "</style>\n",
              "<table border=\"1\" class=\"dataframe\">\n",
              "  <thead>\n",
              "    <tr style=\"text-align: right;\">\n",
              "      <th></th>\n",
              "      <th>index</th>\n",
              "      <th>model</th>\n",
              "      <th>0</th>\n",
              "      <th>1</th>\n",
              "      <th>accuracy</th>\n",
              "      <th>macro avg</th>\n",
              "      <th>weighted avg</th>\n",
              "      <th>stage</th>\n",
              "    </tr>\n",
              "  </thead>\n",
              "  <tbody>\n",
              "    <tr>\n",
              "      <th>0</th>\n",
              "      <td>precision</td>\n",
              "      <td>logreg</td>\n",
              "      <td>0.949593</td>\n",
              "      <td>0.888128</td>\n",
              "      <td>0.924027</td>\n",
              "      <td>0.918861</td>\n",
              "      <td>0.925077</td>\n",
              "      <td>0</td>\n",
              "    </tr>\n",
              "    <tr>\n",
              "      <th>1</th>\n",
              "      <td>recall</td>\n",
              "      <td>logreg</td>\n",
              "      <td>0.922591</td>\n",
              "      <td>0.926190</td>\n",
              "      <td>0.924027</td>\n",
              "      <td>0.924391</td>\n",
              "      <td>0.924027</td>\n",
              "      <td>0</td>\n",
              "    </tr>\n",
              "    <tr>\n",
              "      <th>2</th>\n",
              "      <td>f1-score</td>\n",
              "      <td>logreg</td>\n",
              "      <td>0.935897</td>\n",
              "      <td>0.906760</td>\n",
              "      <td>0.924027</td>\n",
              "      <td>0.921329</td>\n",
              "      <td>0.924276</td>\n",
              "      <td>0</td>\n",
              "    </tr>\n",
              "    <tr>\n",
              "      <th>3</th>\n",
              "      <td>support</td>\n",
              "      <td>logreg</td>\n",
              "      <td>633.000000</td>\n",
              "      <td>420.000000</td>\n",
              "      <td>0.924027</td>\n",
              "      <td>1053.000000</td>\n",
              "      <td>1053.000000</td>\n",
              "      <td>0</td>\n",
              "    </tr>\n",
              "    <tr>\n",
              "      <th>4</th>\n",
              "      <td>precision</td>\n",
              "      <td>gnb</td>\n",
              "      <td>0.943089</td>\n",
              "      <td>0.698752</td>\n",
              "      <td>0.812915</td>\n",
              "      <td>0.820921</td>\n",
              "      <td>0.845633</td>\n",
              "      <td>0</td>\n",
              "    </tr>\n",
              "    <tr>\n",
              "      <th>5</th>\n",
              "      <td>recall</td>\n",
              "      <td>gnb</td>\n",
              "      <td>0.733017</td>\n",
              "      <td>0.933333</td>\n",
              "      <td>0.812915</td>\n",
              "      <td>0.833175</td>\n",
              "      <td>0.812915</td>\n",
              "      <td>0</td>\n",
              "    </tr>\n",
              "    <tr>\n",
              "      <th>6</th>\n",
              "      <td>f1-score</td>\n",
              "      <td>gnb</td>\n",
              "      <td>0.824889</td>\n",
              "      <td>0.799185</td>\n",
              "      <td>0.812915</td>\n",
              "      <td>0.812037</td>\n",
              "      <td>0.814636</td>\n",
              "      <td>0</td>\n",
              "    </tr>\n",
              "    <tr>\n",
              "      <th>7</th>\n",
              "      <td>support</td>\n",
              "      <td>gnb</td>\n",
              "      <td>633.000000</td>\n",
              "      <td>420.000000</td>\n",
              "      <td>0.812915</td>\n",
              "      <td>1053.000000</td>\n",
              "      <td>1053.000000</td>\n",
              "      <td>0</td>\n",
              "    </tr>\n",
              "    <tr>\n",
              "      <th>8</th>\n",
              "      <td>precision</td>\n",
              "      <td>mnb</td>\n",
              "      <td>0.838258</td>\n",
              "      <td>0.770732</td>\n",
              "      <td>0.811966</td>\n",
              "      <td>0.804495</td>\n",
              "      <td>0.811325</td>\n",
              "      <td>0</td>\n",
              "    </tr>\n",
              "    <tr>\n",
              "      <th>9</th>\n",
              "      <td>recall</td>\n",
              "      <td>mnb</td>\n",
              "      <td>0.851501</td>\n",
              "      <td>0.752381</td>\n",
              "      <td>0.811966</td>\n",
              "      <td>0.801941</td>\n",
              "      <td>0.811966</td>\n",
              "      <td>0</td>\n",
              "    </tr>\n",
              "    <tr>\n",
              "      <th>10</th>\n",
              "      <td>f1-score</td>\n",
              "      <td>mnb</td>\n",
              "      <td>0.844828</td>\n",
              "      <td>0.761446</td>\n",
              "      <td>0.811966</td>\n",
              "      <td>0.803137</td>\n",
              "      <td>0.811570</td>\n",
              "      <td>0</td>\n",
              "    </tr>\n",
              "    <tr>\n",
              "      <th>11</th>\n",
              "      <td>support</td>\n",
              "      <td>mnb</td>\n",
              "      <td>633.000000</td>\n",
              "      <td>420.000000</td>\n",
              "      <td>0.811966</td>\n",
              "      <td>1053.000000</td>\n",
              "      <td>1053.000000</td>\n",
              "      <td>0</td>\n",
              "    </tr>\n",
              "    <tr>\n",
              "      <th>12</th>\n",
              "      <td>precision</td>\n",
              "      <td>rfc</td>\n",
              "      <td>0.944615</td>\n",
              "      <td>0.952854</td>\n",
              "      <td>0.947768</td>\n",
              "      <td>0.948734</td>\n",
              "      <td>0.947901</td>\n",
              "      <td>0</td>\n",
              "    </tr>\n",
              "    <tr>\n",
              "      <th>13</th>\n",
              "      <td>recall</td>\n",
              "      <td>rfc</td>\n",
              "      <td>0.969984</td>\n",
              "      <td>0.914286</td>\n",
              "      <td>0.947768</td>\n",
              "      <td>0.942135</td>\n",
              "      <td>0.947768</td>\n",
              "      <td>0</td>\n",
              "    </tr>\n",
              "    <tr>\n",
              "      <th>14</th>\n",
              "      <td>f1-score</td>\n",
              "      <td>rfc</td>\n",
              "      <td>0.957132</td>\n",
              "      <td>0.933171</td>\n",
              "      <td>0.947768</td>\n",
              "      <td>0.945152</td>\n",
              "      <td>0.947575</td>\n",
              "      <td>0</td>\n",
              "    </tr>\n",
              "    <tr>\n",
              "      <th>15</th>\n",
              "      <td>support</td>\n",
              "      <td>rfc</td>\n",
              "      <td>633.000000</td>\n",
              "      <td>420.000000</td>\n",
              "      <td>0.947768</td>\n",
              "      <td>1053.000000</td>\n",
              "      <td>1053.000000</td>\n",
              "      <td>0</td>\n",
              "    </tr>\n",
              "    <tr>\n",
              "      <th>16</th>\n",
              "      <td>precision</td>\n",
              "      <td>logreg</td>\n",
              "      <td>0.939968</td>\n",
              "      <td>0.909524</td>\n",
              "      <td>0.927825</td>\n",
              "      <td>0.924746</td>\n",
              "      <td>0.927825</td>\n",
              "      <td>1</td>\n",
              "    </tr>\n",
              "    <tr>\n",
              "      <th>17</th>\n",
              "      <td>recall</td>\n",
              "      <td>logreg</td>\n",
              "      <td>0.939968</td>\n",
              "      <td>0.909524</td>\n",
              "      <td>0.927825</td>\n",
              "      <td>0.924746</td>\n",
              "      <td>0.927825</td>\n",
              "      <td>1</td>\n",
              "    </tr>\n",
              "    <tr>\n",
              "      <th>18</th>\n",
              "      <td>f1-score</td>\n",
              "      <td>logreg</td>\n",
              "      <td>0.939968</td>\n",
              "      <td>0.909524</td>\n",
              "      <td>0.927825</td>\n",
              "      <td>0.924746</td>\n",
              "      <td>0.927825</td>\n",
              "      <td>1</td>\n",
              "    </tr>\n",
              "    <tr>\n",
              "      <th>19</th>\n",
              "      <td>support</td>\n",
              "      <td>logreg</td>\n",
              "      <td>633.000000</td>\n",
              "      <td>420.000000</td>\n",
              "      <td>0.927825</td>\n",
              "      <td>1053.000000</td>\n",
              "      <td>1053.000000</td>\n",
              "      <td>1</td>\n",
              "    </tr>\n",
              "    <tr>\n",
              "      <th>20</th>\n",
              "      <td>precision</td>\n",
              "      <td>gnb</td>\n",
              "      <td>0.954635</td>\n",
              "      <td>0.727106</td>\n",
              "      <td>0.836657</td>\n",
              "      <td>0.840871</td>\n",
              "      <td>0.863883</td>\n",
              "      <td>1</td>\n",
              "    </tr>\n",
              "    <tr>\n",
              "      <th>21</th>\n",
              "      <td>recall</td>\n",
              "      <td>gnb</td>\n",
              "      <td>0.764613</td>\n",
              "      <td>0.945238</td>\n",
              "      <td>0.836657</td>\n",
              "      <td>0.854926</td>\n",
              "      <td>0.836657</td>\n",
              "      <td>1</td>\n",
              "    </tr>\n",
              "    <tr>\n",
              "      <th>22</th>\n",
              "      <td>f1-score</td>\n",
              "      <td>gnb</td>\n",
              "      <td>0.849123</td>\n",
              "      <td>0.821946</td>\n",
              "      <td>0.836657</td>\n",
              "      <td>0.835534</td>\n",
              "      <td>0.838283</td>\n",
              "      <td>1</td>\n",
              "    </tr>\n",
              "    <tr>\n",
              "      <th>23</th>\n",
              "      <td>support</td>\n",
              "      <td>gnb</td>\n",
              "      <td>633.000000</td>\n",
              "      <td>420.000000</td>\n",
              "      <td>0.836657</td>\n",
              "      <td>1053.000000</td>\n",
              "      <td>1053.000000</td>\n",
              "      <td>1</td>\n",
              "    </tr>\n",
              "    <tr>\n",
              "      <th>24</th>\n",
              "      <td>precision</td>\n",
              "      <td>mnb</td>\n",
              "      <td>0.826220</td>\n",
              "      <td>0.770781</td>\n",
              "      <td>0.805318</td>\n",
              "      <td>0.798500</td>\n",
              "      <td>0.804107</td>\n",
              "      <td>1</td>\n",
              "    </tr>\n",
              "    <tr>\n",
              "      <th>25</th>\n",
              "      <td>recall</td>\n",
              "      <td>mnb</td>\n",
              "      <td>0.856240</td>\n",
              "      <td>0.728571</td>\n",
              "      <td>0.805318</td>\n",
              "      <td>0.792406</td>\n",
              "      <td>0.805318</td>\n",
              "      <td>1</td>\n",
              "    </tr>\n",
              "    <tr>\n",
              "      <th>26</th>\n",
              "      <td>f1-score</td>\n",
              "      <td>mnb</td>\n",
              "      <td>0.840962</td>\n",
              "      <td>0.749082</td>\n",
              "      <td>0.805318</td>\n",
              "      <td>0.795022</td>\n",
              "      <td>0.804315</td>\n",
              "      <td>1</td>\n",
              "    </tr>\n",
              "    <tr>\n",
              "      <th>27</th>\n",
              "      <td>support</td>\n",
              "      <td>mnb</td>\n",
              "      <td>633.000000</td>\n",
              "      <td>420.000000</td>\n",
              "      <td>0.805318</td>\n",
              "      <td>1053.000000</td>\n",
              "      <td>1053.000000</td>\n",
              "      <td>1</td>\n",
              "    </tr>\n",
              "    <tr>\n",
              "      <th>28</th>\n",
              "      <td>precision</td>\n",
              "      <td>rfc</td>\n",
              "      <td>0.937690</td>\n",
              "      <td>0.959494</td>\n",
              "      <td>0.945869</td>\n",
              "      <td>0.948592</td>\n",
              "      <td>0.946387</td>\n",
              "      <td>1</td>\n",
              "    </tr>\n",
              "    <tr>\n",
              "      <th>29</th>\n",
              "      <td>recall</td>\n",
              "      <td>rfc</td>\n",
              "      <td>0.974724</td>\n",
              "      <td>0.902381</td>\n",
              "      <td>0.945869</td>\n",
              "      <td>0.938552</td>\n",
              "      <td>0.945869</td>\n",
              "      <td>1</td>\n",
              "    </tr>\n",
              "    <tr>\n",
              "      <th>30</th>\n",
              "      <td>f1-score</td>\n",
              "      <td>rfc</td>\n",
              "      <td>0.955848</td>\n",
              "      <td>0.930061</td>\n",
              "      <td>0.945869</td>\n",
              "      <td>0.942955</td>\n",
              "      <td>0.945563</td>\n",
              "      <td>1</td>\n",
              "    </tr>\n",
              "    <tr>\n",
              "      <th>31</th>\n",
              "      <td>support</td>\n",
              "      <td>rfc</td>\n",
              "      <td>633.000000</td>\n",
              "      <td>420.000000</td>\n",
              "      <td>0.945869</td>\n",
              "      <td>1053.000000</td>\n",
              "      <td>1053.000000</td>\n",
              "      <td>1</td>\n",
              "    </tr>\n",
              "    <tr>\n",
              "      <th>32</th>\n",
              "      <td>precision</td>\n",
              "      <td>logreg</td>\n",
              "      <td>0.947619</td>\n",
              "      <td>0.914894</td>\n",
              "      <td>0.934473</td>\n",
              "      <td>0.931256</td>\n",
              "      <td>0.934566</td>\n",
              "      <td>2</td>\n",
              "    </tr>\n",
              "    <tr>\n",
              "      <th>33</th>\n",
              "      <td>recall</td>\n",
              "      <td>logreg</td>\n",
              "      <td>0.943128</td>\n",
              "      <td>0.921429</td>\n",
              "      <td>0.934473</td>\n",
              "      <td>0.932278</td>\n",
              "      <td>0.934473</td>\n",
              "      <td>2</td>\n",
              "    </tr>\n",
              "    <tr>\n",
              "      <th>34</th>\n",
              "      <td>f1-score</td>\n",
              "      <td>logreg</td>\n",
              "      <td>0.945368</td>\n",
              "      <td>0.918149</td>\n",
              "      <td>0.934473</td>\n",
              "      <td>0.931759</td>\n",
              "      <td>0.934512</td>\n",
              "      <td>2</td>\n",
              "    </tr>\n",
              "    <tr>\n",
              "      <th>35</th>\n",
              "      <td>support</td>\n",
              "      <td>logreg</td>\n",
              "      <td>633.000000</td>\n",
              "      <td>420.000000</td>\n",
              "      <td>0.934473</td>\n",
              "      <td>1053.000000</td>\n",
              "      <td>1053.000000</td>\n",
              "      <td>2</td>\n",
              "    </tr>\n",
              "    <tr>\n",
              "      <th>36</th>\n",
              "      <td>precision</td>\n",
              "      <td>gnb</td>\n",
              "      <td>0.969388</td>\n",
              "      <td>0.719361</td>\n",
              "      <td>0.835708</td>\n",
              "      <td>0.844374</td>\n",
              "      <td>0.869662</td>\n",
              "      <td>2</td>\n",
              "    </tr>\n",
              "    <tr>\n",
              "      <th>37</th>\n",
              "      <td>recall</td>\n",
              "      <td>gnb</td>\n",
              "      <td>0.750395</td>\n",
              "      <td>0.964286</td>\n",
              "      <td>0.835708</td>\n",
              "      <td>0.857340</td>\n",
              "      <td>0.835708</td>\n",
              "      <td>2</td>\n",
              "    </tr>\n",
              "    <tr>\n",
              "      <th>38</th>\n",
              "      <td>f1-score</td>\n",
              "      <td>gnb</td>\n",
              "      <td>0.845948</td>\n",
              "      <td>0.824008</td>\n",
              "      <td>0.835708</td>\n",
              "      <td>0.834978</td>\n",
              "      <td>0.837197</td>\n",
              "      <td>2</td>\n",
              "    </tr>\n",
              "    <tr>\n",
              "      <th>39</th>\n",
              "      <td>support</td>\n",
              "      <td>gnb</td>\n",
              "      <td>633.000000</td>\n",
              "      <td>420.000000</td>\n",
              "      <td>0.835708</td>\n",
              "      <td>1053.000000</td>\n",
              "      <td>1053.000000</td>\n",
              "      <td>2</td>\n",
              "    </tr>\n",
              "    <tr>\n",
              "      <th>40</th>\n",
              "      <td>precision</td>\n",
              "      <td>mnb</td>\n",
              "      <td>0.803519</td>\n",
              "      <td>0.770889</td>\n",
              "      <td>0.792023</td>\n",
              "      <td>0.787204</td>\n",
              "      <td>0.790504</td>\n",
              "      <td>2</td>\n",
              "    </tr>\n",
              "    <tr>\n",
              "      <th>41</th>\n",
              "      <td>recall</td>\n",
              "      <td>mnb</td>\n",
              "      <td>0.865719</td>\n",
              "      <td>0.680952</td>\n",
              "      <td>0.792023</td>\n",
              "      <td>0.773336</td>\n",
              "      <td>0.792023</td>\n",
              "      <td>2</td>\n",
              "    </tr>\n",
              "    <tr>\n",
              "      <th>42</th>\n",
              "      <td>f1-score</td>\n",
              "      <td>mnb</td>\n",
              "      <td>0.833460</td>\n",
              "      <td>0.723135</td>\n",
              "      <td>0.792023</td>\n",
              "      <td>0.778298</td>\n",
              "      <td>0.789456</td>\n",
              "      <td>2</td>\n",
              "    </tr>\n",
              "    <tr>\n",
              "      <th>43</th>\n",
              "      <td>support</td>\n",
              "      <td>mnb</td>\n",
              "      <td>633.000000</td>\n",
              "      <td>420.000000</td>\n",
              "      <td>0.792023</td>\n",
              "      <td>1053.000000</td>\n",
              "      <td>1053.000000</td>\n",
              "      <td>2</td>\n",
              "    </tr>\n",
              "    <tr>\n",
              "      <th>44</th>\n",
              "      <td>precision</td>\n",
              "      <td>rfc</td>\n",
              "      <td>0.943769</td>\n",
              "      <td>0.969620</td>\n",
              "      <td>0.953466</td>\n",
              "      <td>0.956695</td>\n",
              "      <td>0.954080</td>\n",
              "      <td>2</td>\n",
              "    </tr>\n",
              "    <tr>\n",
              "      <th>45</th>\n",
              "      <td>recall</td>\n",
              "      <td>rfc</td>\n",
              "      <td>0.981043</td>\n",
              "      <td>0.911905</td>\n",
              "      <td>0.953466</td>\n",
              "      <td>0.946474</td>\n",
              "      <td>0.953466</td>\n",
              "      <td>2</td>\n",
              "    </tr>\n",
              "    <tr>\n",
              "      <th>46</th>\n",
              "      <td>f1-score</td>\n",
              "      <td>rfc</td>\n",
              "      <td>0.962045</td>\n",
              "      <td>0.939877</td>\n",
              "      <td>0.953466</td>\n",
              "      <td>0.950961</td>\n",
              "      <td>0.953203</td>\n",
              "      <td>2</td>\n",
              "    </tr>\n",
              "    <tr>\n",
              "      <th>47</th>\n",
              "      <td>support</td>\n",
              "      <td>rfc</td>\n",
              "      <td>633.000000</td>\n",
              "      <td>420.000000</td>\n",
              "      <td>0.953466</td>\n",
              "      <td>1053.000000</td>\n",
              "      <td>1053.000000</td>\n",
              "      <td>2</td>\n",
              "    </tr>\n",
              "  </tbody>\n",
              "</table>\n",
              "</div>"
            ],
            "text/plain": [
              "        index   model           0  ...    macro avg  weighted avg  stage\n",
              "0   precision  logreg    0.949593  ...     0.918861      0.925077      0\n",
              "1      recall  logreg    0.922591  ...     0.924391      0.924027      0\n",
              "2    f1-score  logreg    0.935897  ...     0.921329      0.924276      0\n",
              "3     support  logreg  633.000000  ...  1053.000000   1053.000000      0\n",
              "4   precision     gnb    0.943089  ...     0.820921      0.845633      0\n",
              "5      recall     gnb    0.733017  ...     0.833175      0.812915      0\n",
              "6    f1-score     gnb    0.824889  ...     0.812037      0.814636      0\n",
              "7     support     gnb  633.000000  ...  1053.000000   1053.000000      0\n",
              "8   precision     mnb    0.838258  ...     0.804495      0.811325      0\n",
              "9      recall     mnb    0.851501  ...     0.801941      0.811966      0\n",
              "10   f1-score     mnb    0.844828  ...     0.803137      0.811570      0\n",
              "11    support     mnb  633.000000  ...  1053.000000   1053.000000      0\n",
              "12  precision     rfc    0.944615  ...     0.948734      0.947901      0\n",
              "13     recall     rfc    0.969984  ...     0.942135      0.947768      0\n",
              "14   f1-score     rfc    0.957132  ...     0.945152      0.947575      0\n",
              "15    support     rfc  633.000000  ...  1053.000000   1053.000000      0\n",
              "16  precision  logreg    0.939968  ...     0.924746      0.927825      1\n",
              "17     recall  logreg    0.939968  ...     0.924746      0.927825      1\n",
              "18   f1-score  logreg    0.939968  ...     0.924746      0.927825      1\n",
              "19    support  logreg  633.000000  ...  1053.000000   1053.000000      1\n",
              "20  precision     gnb    0.954635  ...     0.840871      0.863883      1\n",
              "21     recall     gnb    0.764613  ...     0.854926      0.836657      1\n",
              "22   f1-score     gnb    0.849123  ...     0.835534      0.838283      1\n",
              "23    support     gnb  633.000000  ...  1053.000000   1053.000000      1\n",
              "24  precision     mnb    0.826220  ...     0.798500      0.804107      1\n",
              "25     recall     mnb    0.856240  ...     0.792406      0.805318      1\n",
              "26   f1-score     mnb    0.840962  ...     0.795022      0.804315      1\n",
              "27    support     mnb  633.000000  ...  1053.000000   1053.000000      1\n",
              "28  precision     rfc    0.937690  ...     0.948592      0.946387      1\n",
              "29     recall     rfc    0.974724  ...     0.938552      0.945869      1\n",
              "30   f1-score     rfc    0.955848  ...     0.942955      0.945563      1\n",
              "31    support     rfc  633.000000  ...  1053.000000   1053.000000      1\n",
              "32  precision  logreg    0.947619  ...     0.931256      0.934566      2\n",
              "33     recall  logreg    0.943128  ...     0.932278      0.934473      2\n",
              "34   f1-score  logreg    0.945368  ...     0.931759      0.934512      2\n",
              "35    support  logreg  633.000000  ...  1053.000000   1053.000000      2\n",
              "36  precision     gnb    0.969388  ...     0.844374      0.869662      2\n",
              "37     recall     gnb    0.750395  ...     0.857340      0.835708      2\n",
              "38   f1-score     gnb    0.845948  ...     0.834978      0.837197      2\n",
              "39    support     gnb  633.000000  ...  1053.000000   1053.000000      2\n",
              "40  precision     mnb    0.803519  ...     0.787204      0.790504      2\n",
              "41     recall     mnb    0.865719  ...     0.773336      0.792023      2\n",
              "42   f1-score     mnb    0.833460  ...     0.778298      0.789456      2\n",
              "43    support     mnb  633.000000  ...  1053.000000   1053.000000      2\n",
              "44  precision     rfc    0.943769  ...     0.956695      0.954080      2\n",
              "45     recall     rfc    0.981043  ...     0.946474      0.953466      2\n",
              "46   f1-score     rfc    0.962045  ...     0.950961      0.953203      2\n",
              "47    support     rfc  633.000000  ...  1053.000000   1053.000000      2\n",
              "\n",
              "[48 rows x 8 columns]"
            ]
          },
          "metadata": {
            "tags": []
          },
          "execution_count": 26
        }
      ]
    },
    {
      "cell_type": "markdown",
      "metadata": {
        "id": "uuUmqM-2W_sn"
      },
      "source": [
        "This table demonstrates the precision, recall, and f1 scores for all of the models in each stage, as well as for whether or not the email was detected as spam. "
      ]
    },
    {
      "cell_type": "markdown",
      "metadata": {
        "id": "ho9ZXQtyiAcB"
      },
      "source": [
        "## Conclusion: \n",
        "In spam detection we care alot more about some kinds of errors than others. Think about what kind of error you want to miminize the most in spam detection and how what might effect your choice of classifier. Which one seems best suited for use in spam detection in your modelling? Be very explicit, why do you think its the best?"
      ]
    },
    {
      "cell_type": "code",
      "metadata": {
        "id": "SFPiDtyeix-S",
        "cellView": "form"
      },
      "source": [
        "#@title Response\n",
        "problem1 = \"The error I would like to minimize is false positives, as I don't want emails that aren't spam to be flagged as spam. When thinking about which outcome to focus on, 1 (spam) or 0 (not spam), it make sense to minimize the error of not spam in order to not accidentally put an important email into the spam folder. According to the f1 scores, random forests have the highest average f1 score for the 0 outcome over the 3 different test/train splits, therefore I assume that random forest classifiers are the best model to use. \" #@param {type:\"string\"}\n"
      ],
      "execution_count": null,
      "outputs": []
    },
    {
      "cell_type": "markdown",
      "metadata": {
        "id": "7aJfk3EFkNC5"
      },
      "source": [
        "---"
      ]
    },
    {
      "cell_type": "code",
      "metadata": {
        "id": "6z4ywHTJdbLV",
        "cellView": "form",
        "outputId": "cb723745-134b-40ab-de1c-8edd8de6e881",
        "colab": {
          "base_uri": "https://localhost:8080/",
          "height": 789,
          "referenced_widgets": [
            "97fc142d866b4cb18268a48bdece449f",
            "2dbc3d7583f242d180e6c17781d915ad",
            "f52b586f1f8342d9b4524a3a89733b91",
            "bbbc76e24e88424e989dc2fe4a69cac2",
            "b653649d66604cd8a01a706f0f69746e",
            "a07c78e24ed445cd9fab54aeaeb6a4c8",
            "c52edf7913f8478482f8bfc41c6f9f2e",
            "cb6929febd5e4ec4b48c15b9cdc8af02",
            "dc7a061b3d374d65b0603cbcdfdac2e7",
            "1dac393e21ca4c5f990ed949ce83a2a5",
            "354f9a0d86b94c3c9f8bf6cc3a13dd75",
            "b1c0f08d198248728e37c3d07b9f015d",
            "566b715097f94e318c24d146d72c354c",
            "b78b51383aec4f1a86655dd8252a276c",
            "a1a39732e64746d0944de9c6559bdc20",
            "fc77d06a7e074b0e92ab1158f1011d50",
            "e50331e06bb140d1a647f00e7c669dcf",
            "38cebe31f1d5427a852f51e748029988",
            "3c8422667f3341d0854491231698536b",
            "5b675b4b031c40c8ba0bf7054f82c16e",
            "56a0d9a164f94549937a833ed0bfd561",
            "b85529f9c9d1410588ddbc5b5e4a6edf",
            "6ad7ddf8c596421ca6cfdf930945c03e",
            "6301e33e163d478da1a256c29e36eb8d",
            "f270335f667d432e896e76ffdec7f8b3",
            "5f2664e213364b4d9a54338524999f23",
            "7e433b6d5e524ad9aa29ba66f74f172d"
          ]
        }
      },
      "source": [
        "#@title Completed the exercise? \n",
        "#@markdown Click on the arrow to the left to create the response form.\n",
        "\n",
        "import sys\n",
        "if 'exercise_report_response' not in sys.modules:\n",
        "  print('Please execute the \"Getting Started\" cell at the beginning of this exercise, then rerun this cell.')\n",
        "else:\n",
        "  exercise_report_response.display_form(exercise_report_response.er_question_list)"
      ],
      "execution_count": null,
      "outputs": [
        {
          "output_type": "stream",
          "text": [
            "If this form does not display correctly in Colab, select \"Runttime\" from the menu at the top, then select \"Restart and run all\"\n",
            "Your first name:\n"
          ],
          "name": "stdout"
        },
        {
          "output_type": "display_data",
          "data": {
            "text/html": [
              "<link rel=\"stylesheet\" href=\"https://stackpath.bootstrapcdn.com/font-awesome/4.7.0/css/font-awesome.min.css\"> "
            ],
            "text/plain": [
              "<IPython.core.display.HTML object>"
            ]
          },
          "metadata": {
            "tags": []
          }
        },
        {
          "output_type": "display_data",
          "data": {
            "application/vnd.jupyter.widget-view+json": {
              "model_id": "97fc142d866b4cb18268a48bdece449f",
              "version_minor": 0,
              "version_major": 2
            },
            "text/plain": [
              "Text(value='Zeke', placeholder='Enter your first name here')"
            ]
          },
          "metadata": {
            "tags": []
          }
        },
        {
          "output_type": "stream",
          "text": [
            "\n",
            "Your last name:\n"
          ],
          "name": "stdout"
        },
        {
          "output_type": "display_data",
          "data": {
            "text/html": [
              "<link rel=\"stylesheet\" href=\"https://stackpath.bootstrapcdn.com/font-awesome/4.7.0/css/font-awesome.min.css\"> "
            ],
            "text/plain": [
              "<IPython.core.display.HTML object>"
            ]
          },
          "metadata": {
            "tags": []
          }
        },
        {
          "output_type": "display_data",
          "data": {
            "application/vnd.jupyter.widget-view+json": {
              "model_id": "bbbc76e24e88424e989dc2fe4a69cac2",
              "version_minor": 0,
              "version_major": 2
            },
            "text/plain": [
              "Text(value='Kalmes', placeholder='Enter your last name here')"
            ]
          },
          "metadata": {
            "tags": []
          }
        },
        {
          "output_type": "stream",
          "text": [
            "\n",
            "How difficult was the exercise?\n"
          ],
          "name": "stdout"
        },
        {
          "output_type": "display_data",
          "data": {
            "text/html": [
              "<link rel=\"stylesheet\" href=\"https://stackpath.bootstrapcdn.com/font-awesome/4.7.0/css/font-awesome.min.css\"> "
            ],
            "text/plain": [
              "<IPython.core.display.HTML object>"
            ]
          },
          "metadata": {
            "tags": []
          }
        },
        {
          "output_type": "display_data",
          "data": {
            "application/vnd.jupyter.widget-view+json": {
              "model_id": "c52edf7913f8478482f8bfc41c6f9f2e",
              "version_minor": 0,
              "version_major": 2
            },
            "text/plain": [
              "ToggleButtons(button_style='warning', index=3, options=('Very Easy', 'Somewhat Easy', 'Neutral', 'Somewhat Dif…"
            ]
          },
          "metadata": {
            "tags": []
          }
        },
        {
          "output_type": "stream",
          "text": [
            "\n",
            "How long did it take you to complete the exercise?\n"
          ],
          "name": "stdout"
        },
        {
          "output_type": "display_data",
          "data": {
            "text/html": [
              "<link rel=\"stylesheet\" href=\"https://stackpath.bootstrapcdn.com/font-awesome/4.7.0/css/font-awesome.min.css\"> "
            ],
            "text/plain": [
              "<IPython.core.display.HTML object>"
            ]
          },
          "metadata": {
            "tags": []
          }
        },
        {
          "output_type": "display_data",
          "data": {
            "application/vnd.jupyter.widget-view+json": {
              "model_id": "1dac393e21ca4c5f990ed949ce83a2a5",
              "version_minor": 0,
              "version_major": 2
            },
            "text/plain": [
              "ToggleButtons(button_style='warning', index=3, options=('30 min or less', '31-60 min', '61-90 min', '91-120 mi…"
            ]
          },
          "metadata": {
            "tags": []
          }
        },
        {
          "output_type": "stream",
          "text": [
            "\n",
            "What tools (or concepts) used in this exercise do you feel confident with?\n"
          ],
          "name": "stdout"
        },
        {
          "output_type": "display_data",
          "data": {
            "text/html": [
              "<link rel=\"stylesheet\" href=\"https://stackpath.bootstrapcdn.com/font-awesome/4.7.0/css/font-awesome.min.css\"> "
            ],
            "text/plain": [
              "<IPython.core.display.HTML object>"
            ]
          },
          "metadata": {
            "tags": []
          }
        },
        {
          "output_type": "display_data",
          "data": {
            "application/vnd.jupyter.widget-view+json": {
              "model_id": "566b715097f94e318c24d146d72c354c",
              "version_minor": 0,
              "version_major": 2
            },
            "text/plain": [
              "Textarea(value='cleaning the data and building the models', placeholder='Enter your response here')"
            ]
          },
          "metadata": {
            "tags": []
          }
        },
        {
          "output_type": "stream",
          "text": [
            "\n",
            "What tools (or concepts) do you still need practice with?\n"
          ],
          "name": "stdout"
        },
        {
          "output_type": "display_data",
          "data": {
            "text/html": [
              "<link rel=\"stylesheet\" href=\"https://stackpath.bootstrapcdn.com/font-awesome/4.7.0/css/font-awesome.min.css\"> "
            ],
            "text/plain": [
              "<IPython.core.display.HTML object>"
            ]
          },
          "metadata": {
            "tags": []
          }
        },
        {
          "output_type": "display_data",
          "data": {
            "application/vnd.jupyter.widget-view+json": {
              "model_id": "fc77d06a7e074b0e92ab1158f1011d50",
              "version_minor": 0,
              "version_major": 2
            },
            "text/plain": [
              "Textarea(value='the output table gave me some trouble but after some tweaking it got better. Also interpreting…"
            ]
          },
          "metadata": {
            "tags": []
          }
        },
        {
          "output_type": "stream",
          "text": [
            "\n",
            "What suggestions do you have for improving the exercise?\n"
          ],
          "name": "stdout"
        },
        {
          "output_type": "display_data",
          "data": {
            "text/html": [
              "<link rel=\"stylesheet\" href=\"https://stackpath.bootstrapcdn.com/font-awesome/4.7.0/css/font-awesome.min.css\"> "
            ],
            "text/plain": [
              "<IPython.core.display.HTML object>"
            ]
          },
          "metadata": {
            "tags": []
          }
        },
        {
          "output_type": "display_data",
          "data": {
            "application/vnd.jupyter.widget-view+json": {
              "model_id": "3c8422667f3341d0854491231698536b",
              "version_minor": 0,
              "version_major": 2
            },
            "text/plain": [
              "Textarea(value='none ', placeholder='Enter your response here')"
            ]
          },
          "metadata": {
            "tags": []
          }
        },
        {
          "output_type": "stream",
          "text": [
            "\n",
            "What corrections should be made (typos. etc)?\n"
          ],
          "name": "stdout"
        },
        {
          "output_type": "display_data",
          "data": {
            "text/html": [
              "<link rel=\"stylesheet\" href=\"https://stackpath.bootstrapcdn.com/font-awesome/4.7.0/css/font-awesome.min.css\"> "
            ],
            "text/plain": [
              "<IPython.core.display.HTML object>"
            ]
          },
          "metadata": {
            "tags": []
          }
        },
        {
          "output_type": "display_data",
          "data": {
            "application/vnd.jupyter.widget-view+json": {
              "model_id": "b85529f9c9d1410588ddbc5b5e4a6edf",
              "version_minor": 0,
              "version_major": 2
            },
            "text/plain": [
              "Textarea(value=\"In spam detection we care alot more about some kinds of errors than others. Think about what k…"
            ]
          },
          "metadata": {
            "tags": []
          }
        },
        {
          "output_type": "stream",
          "text": [
            "\n",
            "Share your notebook.\n",
            "Select 'Share' at the top of the screen. Then select 'Get Link'.\n",
            "Change the Link so anyone can view it.\n",
            "Click 'Copy Link', then 'Done'. Paste the link here.\n"
          ],
          "name": "stdout"
        },
        {
          "output_type": "display_data",
          "data": {
            "text/html": [
              "<link rel=\"stylesheet\" href=\"https://stackpath.bootstrapcdn.com/font-awesome/4.7.0/css/font-awesome.min.css\"> "
            ],
            "text/plain": [
              "<IPython.core.display.HTML object>"
            ]
          },
          "metadata": {
            "tags": []
          }
        },
        {
          "output_type": "display_data",
          "data": {
            "application/vnd.jupyter.widget-view+json": {
              "model_id": "f270335f667d432e896e76ffdec7f8b3",
              "version_minor": 0,
              "version_major": 2
            },
            "text/plain": [
              "Textarea(value='https://colab.research.google.com/drive/1HmDyswz_TyVFRexMpnX4YZTquiJ_srvG?usp=sharing', placeh…"
            ]
          },
          "metadata": {
            "tags": []
          }
        },
        {
          "output_type": "stream",
          "text": [
            "\n"
          ],
          "name": "stdout"
        }
      ]
    },
    {
      "cell_type": "code",
      "metadata": {
        "id": "6YzNdeDbda7G",
        "cellView": "form",
        "outputId": "d4db3aa1-52c4-4299-d2b3-ca9519170a2c",
        "colab": {
          "base_uri": "https://localhost:8080/"
        }
      },
      "source": [
        "#@title Ready to Submit?\n",
        "#@markdown If you have completed the exercise and the exercise response:\n",
        "#@markdown * check the box 'Ready' box below \n",
        "#@markdown * execute this cell\n",
        "\n",
        "Ready = False #@param {type:\"boolean\"}\n",
        "\n",
        "try:\n",
        "  if Ready == True:\n",
        "    exercise_report_response.submit_exercise_response(exercise_name, exercise_report_response.er_question_list)\n",
        "\n",
        "  else:\n",
        "    print('NOT SUBMITTED!!!')\n",
        "    print('Check the ready box if you are ready to submit your response.')\n",
        "\n",
        "except:\n",
        "  print('NOT SUBMITTED!!!')\n",
        "  print('Execute the cell above to create the form.')"
      ],
      "execution_count": null,
      "outputs": [
        {
          "output_type": "stream",
          "text": [
            "NOT SUBMITTED!!!\n",
            "Check the ready box if you are ready to submit your response.\n"
          ],
          "name": "stdout"
        }
      ]
    }
  ]
}